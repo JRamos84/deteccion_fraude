{
  "nbformat": 4,
  "nbformat_minor": 0,
  "metadata": {
    "colab": {
      "provenance": [],
      "authorship_tag": "ABX9TyMnEoaFblCXpCXE24/q+QGB",
      "include_colab_link": true
    },
    "kernelspec": {
      "name": "python3",
      "display_name": "Python 3"
    },
    "language_info": {
      "name": "python"
    }
  },
  "cells": [
    {
      "cell_type": "markdown",
      "metadata": {
        "id": "view-in-github",
        "colab_type": "text"
      },
      "source": [
        "<a href=\"https://colab.research.google.com/github/JRamos84/deteccion_fraude/blob/main/02_Data_Cleaning_and_Preprocessing_selection_feature.ipynb\" target=\"_parent\"><img src=\"https://colab.research.google.com/assets/colab-badge.svg\" alt=\"Open In Colab\"/></a>"
      ]
    },
    {
      "cell_type": "markdown",
      "source": [
        "## 02 Data Cleaning and Preprocessing\n",
        "**Objetivo**: Limpiar y preprocesar los datos para que estén listos para el modelado.\n",
        "**Contenido**:\n",
        "- Manejo de valores nulos.\n",
        "- Creación de nuevas características (feature engineering).\n",
        "- Conversión de tipos de datos.\n",
        "- Codificación de variables categóricas.\n",
        "- Normalización y estandarización de las variables.\n"
      ],
      "metadata": {
        "id": "ha3ahSIYvJeu"
      }
    },
    {
      "cell_type": "code",
      "source": [
        "# Librerías\n",
        "import os\n",
        "import pandas as pd\n",
        "import numpy as np\n",
        "from sklearn.model_selection import train_test_split\n",
        "import seaborn as sns\n",
        "import matplotlib.pyplot as plt\n",
        "import missingno as msno\n",
        "import numpy as np\n",
        "from scipy import stats\n",
        "import datetime\n",
        "import warnings\n",
        "from sklearn.preprocessing import LabelEncoder\n",
        "from sklearn.preprocessing import MinMaxScaler\n",
        "from sklearn.decomposition import PCA\n",
        "from imblearn.under_sampling import RandomUnderSampler\n",
        "warnings.filterwarnings('ignore')"
      ],
      "metadata": {
        "id": "lmeLgll5vql1"
      },
      "execution_count": 228,
      "outputs": []
    },
    {
      "cell_type": "code",
      "source": [
        "def reduce_mem_usage(df, verbose=True):\n",
        "    \"\"\"\n",
        "    Reduce el uso de memoria de un DataFrame de pandas cambiando los tipos de datos de las columnas numéricas\n",
        "    a tipos más eficientes sin perder información.\n",
        "\n",
        "    Parameters:\n",
        "    df (pd.DataFrame): El DataFrame a optimizar.\n",
        "    verbose (bool): Si es True, imprime el uso de memoria antes y después de la optimización.\n",
        "\n",
        "    Returns:\n",
        "    pd.DataFrame: El DataFrame optimizado.\n",
        "    \"\"\"\n",
        "    # Obtener el uso inicial de memoria\n",
        "    start_mem = df.memory_usage(deep=True).sum() / 1024**2\n",
        "\n",
        "    numerics = ['int16', 'int32', 'int64', 'float16', 'float32', 'float64']\n",
        "\n",
        "    for col in df.columns:\n",
        "        col_type = df[col].dtypes\n",
        "        if col_type in numerics:\n",
        "            c_min = df[col].min()\n",
        "            c_max = df[col].max()\n",
        "\n",
        "            # Optimización para tipos de datos enteros\n",
        "            if pd.api.types.is_integer_dtype(df[col]):\n",
        "                if c_min >= np.iinfo(np.int8).min and c_max <= np.iinfo(np.int8).max:\n",
        "                    df[col] = df[col].astype(np.int8)\n",
        "                elif c_min >= np.iinfo(np.int16).min and c_max <= np.iinfo(np.int16).max:\n",
        "                    df[col] = df[col].astype(np.int16)\n",
        "                elif c_min >= np.iinfo(np.int32).min and c_max <= np.iinfo(np.int32).max:\n",
        "                    df[col] = df[col].astype(np.int32)\n",
        "                elif c_min >= np.iinfo(np.int64).min and c_max <= np.iinfo(np.int64).max:\n",
        "                    df[col] = df[col].astype(np.int64)\n",
        "\n",
        "            # Optimización para tipos de datos flotantes\n",
        "            else:\n",
        "                if c_min >= np.finfo(np.float16).min and c_max <= np.finfo(np.float16).max:\n",
        "                    df[col] = df[col].astype(np.float16)\n",
        "                elif c_min >= np.finfo(np.float32).min and c_max <= np.finfo(np.float32).max:\n",
        "                    df[col] = df[col].astype(np.float32)\n",
        "                else:\n",
        "                    df[col] = df[col].astype(np.float64)\n",
        "\n",
        "    # Obtener el uso final de memoria\n",
        "    end_mem = df.memory_usage(deep=True).sum() / 1024**2\n",
        "    if verbose:\n",
        "        print(f'Mem. usage decreased to {end_mem:.2f} Mb ({100 * (start_mem - end_mem) / start_mem:.1f}% reduction)')\n",
        "\n",
        "    return df"
      ],
      "metadata": {
        "id": "D4ew9EtFvn2g"
      },
      "execution_count": 229,
      "outputs": []
    },
    {
      "cell_type": "code",
      "source": [
        "## Importamos las librerias a usar\n",
        "from google.colab import drive\n",
        "drive.mount('/content/drive')\n",
        "data_dir = '/content/drive/MyDrive/cursos-analisis-datos/data-science/proyecto/propuestas/propuesta1/ieee-fraud-detection'"
      ],
      "metadata": {
        "colab": {
          "base_uri": "https://localhost:8080/"
        },
        "id": "WYgQkCUGvHZ1",
        "outputId": "7b863e32-5f7e-493f-f7f4-6be5888d3437"
      },
      "execution_count": 230,
      "outputs": [
        {
          "output_type": "stream",
          "name": "stdout",
          "text": [
            "Drive already mounted at /content/drive; to attempt to forcibly remount, call drive.mount(\"/content/drive\", force_remount=True).\n"
          ]
        }
      ]
    },
    {
      "cell_type": "code",
      "source": [
        "\n",
        "## Cargamos los dataset de train_transaction y train_identity\n",
        "df_transaction_train = pd.read_csv(data_dir + '/train_transaction.csv')\n",
        "df_identity_train = pd.read_csv(data_dir + '/train_identity.csv')\n",
        "## Reducimos los tamaños de los dataset cambiando los tipos de los datos de las columnas\n",
        "df_transaction_train = reduce_mem_usage(df_transaction_train)\n",
        "df_identity_train = reduce_mem_usage(df_identity_train)"
      ],
      "metadata": {
        "colab": {
          "base_uri": "https://localhost:8080/"
        },
        "id": "xmCKf4pavhlr",
        "outputId": "2efb4a42-ff73-43af-b04f-aef94e81d937"
      },
      "execution_count": 231,
      "outputs": [
        {
          "output_type": "stream",
          "name": "stdout",
          "text": [
            "Mem. usage decreased to 867.89 Mb (58.7% reduction)\n",
            "Mem. usage decreased to 138.38 Mb (12.2% reduction)\n"
          ]
        }
      ]
    },
    {
      "cell_type": "code",
      "source": [
        "\n",
        "# Combinar los datasets\n",
        "dataset = pd.merge(df_transaction_train, df_identity_train, on='TransactionID', how='left')\n"
      ],
      "metadata": {
        "id": "1tTBpZ94vv_a"
      },
      "execution_count": 232,
      "outputs": []
    },
    {
      "cell_type": "markdown",
      "source": [
        "## Consideración principales del análisis de EDA"
      ],
      "metadata": {
        "id": "9mdnQAfuv7Sw"
      }
    },
    {
      "cell_type": "markdown",
      "source": [
        "### Manejo de valores nulos"
      ],
      "metadata": {
        "id": "MUSl5uZowTwP"
      }
    },
    {
      "cell_type": "markdown",
      "source": [
        "- Usaremos las columnas que no superen el 50 de los valores nulos"
      ],
      "metadata": {
        "id": "QkeZSZ3nwqMs"
      }
    },
    {
      "cell_type": "code",
      "source": [
        "null_percentages = (dataset.isnull().sum() / len(dataset)) * 100\n",
        "null_percentages[null_percentages < 50].sort_values(ascending=False)"
      ],
      "metadata": {
        "colab": {
          "base_uri": "https://localhost:8080/"
        },
        "id": "SsMt4KlPv19R",
        "outputId": "5ba9bdcf-4db4-4403-f095-0799f3fac4c2"
      },
      "execution_count": 233,
      "outputs": [
        {
          "output_type": "execute_result",
          "data": {
            "text/plain": [
              "M4               47.658753\n",
              "D2               47.549192\n",
              "V1               47.293494\n",
              "V10              47.293494\n",
              "D11              47.293494\n",
              "                   ...    \n",
              "C12               0.000000\n",
              "C13               0.000000\n",
              "C14               0.000000\n",
              "isFraud           0.000000\n",
              "TransactionID     0.000000\n",
              "Length: 220, dtype: float64"
            ]
          },
          "metadata": {},
          "execution_count": 233
        }
      ]
    },
    {
      "cell_type": "code",
      "source": [
        "col_util = null_percentages[null_percentages < 50].index.to_list()"
      ],
      "metadata": {
        "id": "dtNf-tDsxRHR"
      },
      "execution_count": 234,
      "outputs": []
    },
    {
      "cell_type": "code",
      "source": [
        "dataset = dataset[col_util]\n",
        "dataset.shape"
      ],
      "metadata": {
        "colab": {
          "base_uri": "https://localhost:8080/"
        },
        "id": "ncDgrUhMxcNV",
        "outputId": "209defcd-eca2-4794-db2a-8342ec30d68b"
      },
      "execution_count": 235,
      "outputs": [
        {
          "output_type": "execute_result",
          "data": {
            "text/plain": [
              "(590540, 220)"
            ]
          },
          "metadata": {},
          "execution_count": 235
        }
      ]
    },
    {
      "cell_type": "code",
      "source": [
        "## Eliminamos las filas nulas\n",
        "dataset.dropna(inplace=True)\n",
        "dataset.shape"
      ],
      "metadata": {
        "colab": {
          "base_uri": "https://localhost:8080/"
        },
        "id": "gG9_vjxgxij-",
        "outputId": "58df3450-a1be-4c90-eaaa-ff2823479184"
      },
      "execution_count": 236,
      "outputs": [
        {
          "output_type": "execute_result",
          "data": {
            "text/plain": [
              "(76416, 220)"
            ]
          },
          "metadata": {},
          "execution_count": 236
        }
      ]
    },
    {
      "cell_type": "markdown",
      "source": [
        "- La cantidad de registro dismuyo considerablemente luego de la elimación de las columnas y las filas con datos nulos"
      ],
      "metadata": {
        "id": "KDiDJ7zTyFnE"
      }
    },
    {
      "cell_type": "markdown",
      "source": [
        "### Rango de TransactionAMT y Aplicación del Logaritmo"
      ],
      "metadata": {
        "id": "kV4nCNkyygzq"
      }
    },
    {
      "cell_type": "markdown",
      "source": [
        "- Basado en el análisis EDA elinamos los registro con valores en TransactionAMT superior a 5192"
      ],
      "metadata": {
        "id": "jt5xmIC2ymcz"
      }
    },
    {
      "cell_type": "code",
      "source": [
        "dataset = dataset[dataset['TransactionAmt'] < 5192]"
      ],
      "metadata": {
        "id": "6GSEYKI3ylgY"
      },
      "execution_count": 237,
      "outputs": []
    },
    {
      "cell_type": "code",
      "source": [
        "dataset['TransactionAmt'] = np.log(dataset['TransactionAmt'])"
      ],
      "metadata": {
        "id": "SFzkMdR-2xBt"
      },
      "execution_count": 238,
      "outputs": []
    },
    {
      "cell_type": "markdown",
      "source": [
        "####Convertiendo 'TransactionDT' en unidades de tiempo"
      ],
      "metadata": {
        "id": "k3Gv6x1fzEi-"
      }
    },
    {
      "cell_type": "code",
      "source": [
        "\n",
        "# Suponiendo que dataset tiene las columnas 'TransactionDT'\n",
        "START_DATE = '2017-12-01'\n",
        "startdate = datetime.datetime.strptime(START_DATE, \"%Y-%m-%d\")\n",
        "\n",
        "# Convertir 'TransactionDT' a formato datetime\n",
        "dataset['Date'] = dataset['TransactionDT'].apply(lambda x: startdate + datetime.timedelta(seconds=x))\n",
        "\n",
        "# Verificar y asegurarse de que 'Date' sea de tipo datetime\n",
        "dataset['Date'] = pd.to_datetime(dataset['Date'])\n",
        "\n",
        "# Crear un DataFrame con las nuevas columnas a agregar\n",
        "new_columns = pd.DataFrame({\n",
        "    '_Weekdays': dataset['Date'].dt.dayofweek,\n",
        "    '_Hours': dataset['Date'].dt.hour,\n",
        "    '_Days': dataset['Date'].dt.day\n",
        "})\n",
        "\n",
        "# Unir todas las columnas al DataFrame original\n",
        "dataset = pd.concat([dataset, new_columns], axis=1)\n",
        "\n",
        "# Convertir las nuevas columnas a tipo 'object' si es necesario\n",
        "dataset['_Weekdays'] = dataset['_Weekdays'].astype('object')\n",
        "dataset['_Hours'] = dataset['_Hours'].astype('object')\n",
        "dataset['_Days'] = dataset['_Days'].astype('object')\n",
        "\n",
        "# Eliminar las columnas innecesarias\n",
        "dataset.drop(['Date', 'TransactionDT'], axis=1, inplace=True)\n",
        "\n",
        "# Mostrar los primeros 3 registros del DataFrame modificado\n",
        "print(dataset.head(3))"
      ],
      "metadata": {
        "colab": {
          "base_uri": "https://localhost:8080/"
        },
        "id": "BCXCjMG8zJBr",
        "outputId": "48250cf6-64a9-4729-b799-4cac70168bf2"
      },
      "execution_count": 239,
      "outputs": [
        {
          "output_type": "stream",
          "name": "stdout",
          "text": [
            "    TransactionID  isFraud  TransactionAmt ProductCD  card1  card2  card3  \\\n",
            "9         2987009        0        4.761719         W  17399  111.0  150.0   \n",
            "36        2987036        0        4.343750         W   4806  490.0  150.0   \n",
            "41        2987041        0        6.652344         W   9002  453.0  150.0   \n",
            "\n",
            "         card4  card5  card6  ...  V315  V316 V317  V318   V319   V320   V321  \\\n",
            "9   mastercard  224.0  debit  ...   0.0   0.0  0.0   0.0    0.0    0.0    0.0   \n",
            "36        visa  226.0  debit  ...   0.0   0.0  0.0   0.0    0.0    0.0    0.0   \n",
            "41        visa  226.0  debit  ...   0.0   0.0  0.0   0.0  774.0  774.0  774.0   \n",
            "\n",
            "    _Weekdays  _Hours  _Days  \n",
            "9           5       0      2  \n",
            "36          5       0      2  \n",
            "41          5       0      2  \n",
            "\n",
            "[3 rows x 222 columns]\n"
          ]
        }
      ]
    },
    {
      "cell_type": "markdown",
      "source": [
        "### Mapping emails"
      ],
      "metadata": {
        "id": "i4_RBzBNz4XW"
      }
    },
    {
      "cell_type": "code",
      "source": [
        "#https://www.kaggle.com/code/kabure/extensive-eda-and-modeling-xgb-hyperopt?scriptVersionId=18427966&cellId=116\n",
        "emails = {'gmail': 'google', 'att.net': 'att', 'twc.com': 'spectrum',\n",
        "          'scranton.edu': 'other', 'optonline.net': 'other', 'hotmail.co.uk': 'microsoft',\n",
        "          'comcast.net': 'other', 'yahoo.com.mx': 'yahoo', 'yahoo.fr': 'yahoo',\n",
        "          'yahoo.es': 'yahoo', 'charter.net': 'spectrum', 'live.com': 'microsoft',\n",
        "          'aim.com': 'aol', 'hotmail.de': 'microsoft', 'centurylink.net': 'centurylink',\n",
        "          'gmail.com': 'google', 'me.com': 'apple', 'earthlink.net': 'other', 'gmx.de': 'other',\n",
        "          'web.de': 'other', 'cfl.rr.com': 'other', 'hotmail.com': 'microsoft',\n",
        "          'protonmail.com': 'other', 'hotmail.fr': 'microsoft', 'windstream.net': 'other',\n",
        "          'outlook.es': 'microsoft', 'yahoo.co.jp': 'yahoo', 'yahoo.de': 'yahoo',\n",
        "          'servicios-ta.com': 'other', 'netzero.net': 'other', 'suddenlink.net': 'other',\n",
        "          'roadrunner.com': 'other', 'sc.rr.com': 'other', 'live.fr': 'microsoft',\n",
        "          'verizon.net': 'yahoo', 'msn.com': 'microsoft', 'q.com': 'centurylink',\n",
        "          'prodigy.net.mx': 'att', 'frontier.com': 'yahoo', 'anonymous.com': 'other',\n",
        "          'rocketmail.com': 'yahoo', 'sbcglobal.net': 'att', 'frontiernet.net': 'yahoo',\n",
        "          'ymail.com': 'yahoo', 'outlook.com': 'microsoft', 'mail.com': 'other',\n",
        "          'bellsouth.net': 'other', 'embarqmail.com': 'centurylink', 'cableone.net': 'other',\n",
        "          'hotmail.es': 'microsoft', 'mac.com': 'apple', 'yahoo.co.uk': 'yahoo', 'netzero.com': 'other',\n",
        "          'yahoo.com': 'yahoo', 'live.com.mx': 'microsoft', 'ptd.net': 'other', 'cox.net': 'other',\n",
        "          'aol.com': 'aol', 'juno.com': 'other', 'icloud.com': 'apple'}\n",
        "\n",
        "us_emails = ['gmail', 'net', 'edu']\n",
        "\n",
        "# https://www.kaggle.com/c/ieee-fraud-detection/discussion/100499#latest-579654\n",
        "#for c in ['P_emaildomain', 'R_emaildomain']:\n",
        "for c in ['P_emaildomain']:\n",
        "    dataset[c + '_bin'] = dataset[c].map(emails)\n",
        "    dataset[c + '_suffix'] = dataset[c].map(lambda x: str(x).split('.')[-1])\n",
        "    dataset[c + '_suffix'] = dataset[c + '_suffix'].map(lambda x: x if str(x) not in us_emails else 'us')\n",
        "\n",
        "## Elimaamos las columnas 'P_emaildomain', 'R_emaildomain'\n",
        "dataset.drop(['P_emaildomain'], axis=1, inplace=True)\n",
        "### IMPORTANTE  'R_emaildomain' fue sacada del analisis debido a que tiene un elavado cantidad de valores nulos\n"
      ],
      "metadata": {
        "id": "wvI7212Bz8jL"
      },
      "execution_count": 240,
      "outputs": []
    },
    {
      "cell_type": "markdown",
      "source": [
        "## Separamos datos características (X) y variable objetivo (y)"
      ],
      "metadata": {
        "id": "iR__r4m17fDR"
      }
    },
    {
      "cell_type": "code",
      "source": [
        "X = dataset.drop('isFraud', axis=1)  # features\n",
        "y = dataset['isFraud']  # target"
      ],
      "metadata": {
        "id": "nJbiGC6o7hMq"
      },
      "execution_count": 241,
      "outputs": []
    },
    {
      "cell_type": "markdown",
      "source": [
        "## División de los Datos en Conjuntos de Entrenamiento y Prueba"
      ],
      "metadata": {
        "id": "MIwyOaeJhwbV"
      }
    },
    {
      "cell_type": "markdown",
      "source": [
        "### Criterios para la División de Datos\n",
        "\n",
        "#### Entrenamiento (Training Set):\n",
        "- Representa el 70% del conjunto de datos.\n",
        "- Se utiliza para ajustar el modelo.\n",
        "\n",
        "#### Validación (Validation Set):\n",
        "- Representa el 15% del conjunto de datos.\n",
        "- Se utiliza para ajustar los hiperparámetros y prevenir el sobreajuste.\n",
        "\n",
        "#### Prueba (Test Set):\n",
        "- Representa el 15% del conjunto de datos.\n",
        "- Se utiliza para evaluar el rendimiento final del modelo.\n"
      ],
      "metadata": {
        "id": "tKw1PQZch2Mo"
      }
    },
    {
      "cell_type": "code",
      "source": [
        "from sklearn.model_selection import train_test_split\n",
        "\n",
        "# Dividir los datos en conjunto de entrenamiento y conjunto temporal (que se dividirá en validación y prueba)\n",
        "X_train, X_temp, y_train, y_temp = train_test_split(X, y, test_size=0.3, stratify=y, random_state=42)\n",
        "\n",
        "# Dividir el conjunto temporal en conjunto de validación y conjunto de prueba\n",
        "X_val, X_test, y_val, y_test = train_test_split(X_temp, y_temp, test_size=0.5, stratify=y_temp, random_state=42)\n",
        "\n",
        "# Mostrar las formas de los conjuntos de datos para asegurarse de que la estratificación se realizó correctamente\n",
        "print(\"Forma del conjunto de entrenamiento:\", X_train.shape, y_train.shape)\n",
        "print(\"Forma del conjunto de validación:\", X_val.shape, y_val.shape)\n",
        "print(\"Forma del conjunto de prueba:\", X_test.shape, y_test.shape)"
      ],
      "metadata": {
        "id": "9nbOzPQ3hx23",
        "outputId": "6fcc92a8-cdfe-489b-c483-6c83606f059a",
        "colab": {
          "base_uri": "https://localhost:8080/"
        }
      },
      "execution_count": 242,
      "outputs": [
        {
          "output_type": "stream",
          "name": "stdout",
          "text": [
            "Forma del conjunto de entrenamiento: (53491, 222) (53491,)\n",
            "Forma del conjunto de validación: (11462, 222) (11462,)\n",
            "Forma del conjunto de prueba: (11463, 222) (11463,)\n"
          ]
        }
      ]
    },
    {
      "cell_type": "code",
      "source": [
        "num_cols = X.select_dtypes(include='number').columns.tolist()\n",
        "cat_cols = X.select_dtypes(include=['object']).columns.tolist()"
      ],
      "metadata": {
        "id": "emJMwt-D4z1L"
      },
      "execution_count": 243,
      "outputs": []
    },
    {
      "cell_type": "markdown",
      "source": [
        "### Codificación de variables categóricas.\n"
      ],
      "metadata": {
        "id": "IZdNX1Ndifpn"
      }
    },
    {
      "cell_type": "code",
      "source": [
        "X_train.shape, X_val.shape, X_test.shape"
      ],
      "metadata": {
        "id": "wu-yJbAKkwye",
        "outputId": "5d9982f5-83a9-4b48-fd20-73ed931883e4",
        "colab": {
          "base_uri": "https://localhost:8080/"
        }
      },
      "execution_count": 244,
      "outputs": [
        {
          "output_type": "execute_result",
          "data": {
            "text/plain": [
              "((53491, 222), (11462, 222), (11463, 222))"
            ]
          },
          "metadata": {},
          "execution_count": 244
        }
      ]
    },
    {
      "cell_type": "code",
      "source": [
        "X_train.select_dtypes(include=['object']).nunique()"
      ],
      "metadata": {
        "id": "GGQiFZznmulz",
        "outputId": "289a71e9-e9fe-4235-f6bf-6b26b9bc0af9",
        "colab": {
          "base_uri": "https://localhost:8080/"
        }
      },
      "execution_count": 245,
      "outputs": [
        {
          "output_type": "execute_result",
          "data": {
            "text/plain": [
              "ProductCD                1\n",
              "card4                    3\n",
              "card6                    2\n",
              "M1                       2\n",
              "M2                       2\n",
              "M3                       2\n",
              "M4                       3\n",
              "M6                       2\n",
              "_Weekdays                7\n",
              "_Hours                  24\n",
              "_Days                   31\n",
              "P_emaildomain_bin        9\n",
              "P_emaildomain_suffix     4\n",
              "dtype: int64"
            ]
          },
          "metadata": {},
          "execution_count": 245
        }
      ]
    },
    {
      "cell_type": "code",
      "source": [
        "\n",
        "# Copiar los DataFrames originales para evitar modificaciones directas\n",
        "X_train_encoded = X_train.copy()\n",
        "X_val_encoded = X_val.copy()\n",
        "X_test_encoded = X_test.copy()\n",
        "\n",
        "# Crear un codificador de etiquetas con manejo de etiquetas nuevas\n",
        "class SafeLabelEncoder(LabelEncoder):\n",
        "    def fit(self, y):\n",
        "        super().fit(y)\n",
        "        self.classes_ = np.append(self.classes_, '<unknown>')  # Agregar una clase para etiquetas nuevas\n",
        "\n",
        "    def transform(self, y):\n",
        "        y_transformed = super().transform(y)\n",
        "        # Mapear etiquetas nuevas a una categoría desconocida (por ejemplo, -1)\n",
        "        y_transformed[y_transformed == -1] = len(self.classes_) - 1\n",
        "        return y_transformed\n",
        "\n",
        "# Inicializar SafeLabelEncoder\n",
        "lbl = SafeLabelEncoder()\n",
        "\n",
        "# Ajustar LabelEncoder con el conjunto de entrenamiento\n",
        "for col in cat_cols:\n",
        "    lbl.fit(X_train[col].astype(str))\n",
        "\n",
        "    # Codificar columnas categóricas en el conjunto de entrenamiento\n",
        "    X_train_encoded[col] = lbl.transform(X_train[col].astype(str))\n",
        "\n",
        "    # Codificar columnas categóricas en el conjunto de validación y conjunto de prueba\n",
        "    X_val_encoded[col] = lbl.transform(X_val[col].astype(str))\n",
        "    X_test_encoded[col] = lbl.transform(X_test[col].astype(str))\n",
        "\n",
        "# Mostrar los primeros registros de X_train_encoded después de la transformación\n",
        "print(\"Primeros registros de X_train_encoded:\")\n",
        "print(X_train_encoded.head())\n",
        "\n",
        "# Mostrar los primeros registros de X_val_encoded después de la transformación\n",
        "print(\"\\nPrimeros registros de X_val_encoded:\")\n",
        "print(X_val_encoded.head())\n",
        "\n",
        "# Mostrar los primeros registros de X_test_encoded después de la transformación\n",
        "print(\"\\nPrimeros registros de X_test_encoded:\")\n",
        "print(X_test_encoded.head())\n",
        "\n",
        "# Reconstruir los conjuntos de entrenamiento, validación y prueba finales con todas las columnas\n",
        "X_train_final = pd.concat([X_train.drop(cat_cols, axis=1), X_train_encoded], axis=1)\n",
        "X_val_final = pd.concat([X_val.drop(cat_cols, axis=1), X_val_encoded], axis=1)\n",
        "X_test_final = pd.concat([X_test.drop(cat_cols, axis=1), X_test_encoded], axis=1)\n",
        "\n",
        "# Mostrar las formas de los conjuntos finales para verificar\n",
        "print(\"\\nForma del conjunto de entrenamiento final:\", X_train_final.shape, y_train.shape)\n",
        "print(\"Forma del conjunto de validación final:\", X_val_final.shape, y_val.shape)\n",
        "print(\"Forma del conjunto de prueba final:\", X_test_final.shape, y_test.shape)"
      ],
      "metadata": {
        "colab": {
          "base_uri": "https://localhost:8080/"
        },
        "id": "AmoznGGE1zTo",
        "outputId": "7a5d7252-c9c6-494b-9135-c2d33b624f2e"
      },
      "execution_count": 246,
      "outputs": [
        {
          "output_type": "stream",
          "name": "stdout",
          "text": [
            "Primeros registros de X_train_encoded:\n",
            "        TransactionID  TransactionAmt  ProductCD  card1  card2  card3  card4  \\\n",
            "266380        3253380        4.078125          0   7207  111.0  150.0      2   \n",
            "538195        3525195        4.523438          0   3277  111.0  150.0      2   \n",
            "168758        3155758        4.078125          0   6019  583.0  150.0      2   \n",
            "574091        3561091        5.304688          0  15521  321.0  150.0      2   \n",
            "476330        3463330        5.078125          0  17602  555.0  150.0      2   \n",
            "\n",
            "        card5  card6  addr1  ...  V317  V318  V319   V320  V321  _Weekdays  \\\n",
            "266380  226.0      1  204.0  ...   0.0   0.0   0.0    0.0   0.0          1   \n",
            "538195  226.0      1  231.0  ...   0.0   0.0   0.0  234.0   0.0          0   \n",
            "168758  226.0      0  299.0  ...   0.0   0.0   0.0    0.0   0.0          3   \n",
            "574091  226.0      1  337.0  ...   0.0   0.0   0.0    0.0   0.0          5   \n",
            "476330  226.0      1  123.0  ...   0.0   0.0   0.0    0.0   0.0          6   \n",
            "\n",
            "        _Hours  _Days  P_emaildomain_bin  P_emaildomain_suffix  \n",
            "266380       9      4                  8                     0  \n",
            "538195       1      5                  5                     0  \n",
            "168758      14      2                  6                     3  \n",
            "574091       7     18                  8                     0  \n",
            "476330       9     14                  8                     0  \n",
            "\n",
            "[5 rows x 222 columns]\n",
            "\n",
            "Primeros registros de X_val_encoded:\n",
            "        TransactionID  TransactionAmt  ProductCD  card1  card2  card3  card4  \\\n",
            "379937        3366937        3.525391          0   5033  269.0  150.0      1   \n",
            "325423        3312423        4.761719          0   2471  543.0  150.0      1   \n",
            "103105        3090105        4.761719          0   5033  269.0  150.0      1   \n",
            "134080        3121080        5.140625          0   4436  174.0  150.0      2   \n",
            "459784        3446784        3.525391          0   8431  269.0  150.0      1   \n",
            "\n",
            "        card5  card6  addr1  ...   V317   V318  V319  V320  V321  _Weekdays  \\\n",
            "379937  224.0      1  327.0  ...    0.0    0.0   0.0   0.0   0.0          1   \n",
            "325423  224.0      1  181.0  ...  117.0  117.0   0.0   0.0   0.0          5   \n",
            "103105  224.0      1  264.0  ...    0.0    0.0   0.0   0.0   0.0          6   \n",
            "134080  226.0      1  184.0  ...    0.0    0.0   0.0   0.0   0.0          6   \n",
            "459784  224.0      1  251.0  ...    0.0    0.0   0.0   0.0   0.0          0   \n",
            "\n",
            "        _Hours  _Days  P_emaildomain_bin  P_emaildomain_suffix  \n",
            "379937      16     12                  4                     0  \n",
            "325423      14     22                  8                     0  \n",
            "103105      13     16                  4                     0  \n",
            "134080      15     24                  4                     0  \n",
            "459784       8      7                  8                     0  \n",
            "\n",
            "[5 rows x 222 columns]\n",
            "\n",
            "Primeros registros de X_test_encoded:\n",
            "        TransactionID  TransactionAmt  ProductCD  card1  card2  card3  card4  \\\n",
            "36703         3023703        5.140625          0  17913  321.0  150.0      2   \n",
            "339927        3326927        5.933594          0   5809  555.0  150.0      2   \n",
            "489488        3476488        3.044922          0   2803  100.0  150.0      2   \n",
            "234191        3221191        3.664062          0  17868  148.0  150.0      2   \n",
            "476103        3463103        4.726562          0  12260  236.0  150.0      2   \n",
            "\n",
            "        card5  card6  addr1  ...   V317  V318  V319  V320  V321  _Weekdays  \\\n",
            "36703   226.0      1  264.0  ...  425.5   0.0   0.0   0.0   0.0          0   \n",
            "339927  226.0      1  325.0  ...    0.0   0.0   0.0   0.0   0.0          2   \n",
            "489488  226.0      1  204.0  ...    0.0   0.0   0.0   0.0   0.0          4   \n",
            "234191  226.0      1  472.0  ...    0.0   0.0   0.0   0.0   0.0          5   \n",
            "476103  226.0      1  204.0  ...    0.0   0.0   0.0   0.0   0.0          6   \n",
            "\n",
            "        _Hours  _Days  P_emaildomain_bin  P_emaildomain_suffix  \n",
            "36703        7      2                  1                     0  \n",
            "339927      13     28                  0                     0  \n",
            "489488      10     19                  5                     0  \n",
            "234191       1     22                  8                     0  \n",
            "476103       8     14                  4                     0  \n",
            "\n",
            "[5 rows x 222 columns]\n",
            "\n",
            "Forma del conjunto de entrenamiento final: (53491, 431) (53491,)\n",
            "Forma del conjunto de validación final: (11462, 431) (11462,)\n",
            "Forma del conjunto de prueba final: (11463, 431) (11463,)\n"
          ]
        }
      ]
    },
    {
      "cell_type": "markdown",
      "source": [
        "### Normalización y estandarización de las variables."
      ],
      "metadata": {
        "id": "9FwrNODMijRf"
      }
    },
    {
      "cell_type": "code",
      "source": [
        "scaler_min_max = MinMaxScaler()\n",
        "X_train_final[num_cols] = scaler_min_max.fit_transform(X_train_final[num_cols])\n",
        "X_test_final[num_cols] = scaler_min_max.transform(X_test_final[num_cols])\n",
        "X_val_final[num_cols] = scaler_min_max.transform(X_val_final[num_cols])\n",
        "\n"
      ],
      "metadata": {
        "id": "5VxDYi5T4ag7"
      },
      "execution_count": 247,
      "outputs": []
    },
    {
      "cell_type": "code",
      "source": [
        "X_train.shape"
      ],
      "metadata": {
        "id": "1sg4zKnWr69n",
        "outputId": "854dbfba-ac07-4c92-b330-718a7cc176e0",
        "colab": {
          "base_uri": "https://localhost:8080/"
        }
      },
      "execution_count": 248,
      "outputs": [
        {
          "output_type": "execute_result",
          "data": {
            "text/plain": [
              "(53491, 222)"
            ]
          },
          "metadata": {},
          "execution_count": 248
        }
      ]
    },
    {
      "cell_type": "markdown",
      "source": [
        "### Aplicación de PCA"
      ],
      "metadata": {
        "id": "JCa_gX8QiohK"
      }
    },
    {
      "cell_type": "code",
      "source": [
        "pca = PCA(n_components=0.95)  # Mantener el 95% de la varianza explicada\n",
        "X_train_pca = pca.fit_transform(X_train_final)\n",
        "X_val_pca = pca.transform(X_val_final)\n",
        "X_test_pca = pca.transform(X_test_final)"
      ],
      "metadata": {
        "id": "GF7RBly3ioPy"
      },
      "execution_count": 249,
      "outputs": []
    },
    {
      "cell_type": "code",
      "source": [
        "# Número de componentes principales seleccionados\n",
        "n_components = pca.n_components_\n",
        "print(f'Número de componentes principales seleccionados: {n_components}')"
      ],
      "metadata": {
        "id": "iBxJmNmbe1N1",
        "outputId": "07e0ffd1-01a7-40e2-b22d-ff3a900aa820",
        "colab": {
          "base_uri": "https://localhost:8080/"
        }
      },
      "execution_count": 250,
      "outputs": [
        {
          "output_type": "stream",
          "name": "stdout",
          "text": [
            "Número de componentes principales seleccionados: 4\n"
          ]
        }
      ]
    },
    {
      "cell_type": "code",
      "source": [
        "# Guardar X y y en archivos CSV\n",
        "\n",
        "#dir_data_processed = '../data/processed'\n",
        "dir_data_processed = '/content/drive/MyDrive/cursos-analisis-datos/data-science/proyecto/propuestas/propuesta1/ieee-fraud-detection/processed'\n",
        "ruta_archivo_X_train = os.path.join(dir_data_processed, 'X__train_procesados.csv')\n",
        "ruta_archivo_X_test = os.path.join(dir_data_processed, 'X_test_procesados.csv')\n",
        "ruta_archivo_X_val = os.path.join(dir_data_processed, 'X_val_procesados.csv')\n",
        "\n",
        "ruta_archivo_y_train = os.path.join(dir_data_processed, 'y_train_procesados.csv')\n",
        "ruta_archivo_y_test = os.path.join(dir_data_processed, 'y_test_procesados.csv')\n",
        "ruta_archivo_y_val = os.path.join(dir_data_processed, 'y_val_procesados.csv')\n",
        "\n",
        "\n",
        "X_train_final.to_csv(ruta_archivo_X_train, index=False, encoding='utf-8')\n",
        "X_val_final.to_csv(ruta_archivo_X_val, index=False, encoding='utf-8')\n",
        "X_test_final.to_csv(ruta_archivo_X_test, index=False, encoding='utf-8')\n",
        "\n",
        "y_train.to_csv(ruta_archivo_y_train, index=False, encoding='utf-8')\n",
        "y_val.to_csv(ruta_archivo_y_val, index=False, encoding='utf-8')\n",
        "y_test.to_csv(ruta_archivo_y_test, index=False, encoding='utf-8')\n",
        "\n"
      ],
      "metadata": {
        "id": "IIZFPqz38eNG"
      },
      "execution_count": 251,
      "outputs": []
    },
    {
      "cell_type": "code",
      "source": [
        "y_train.shape"
      ],
      "metadata": {
        "id": "xklfde6BwqFf",
        "outputId": "8b9ba722-ff5f-42ac-a4b2-c3c44f6268f3",
        "colab": {
          "base_uri": "https://localhost:8080/"
        }
      },
      "execution_count": 252,
      "outputs": [
        {
          "output_type": "execute_result",
          "data": {
            "text/plain": [
              "(53491,)"
            ]
          },
          "metadata": {},
          "execution_count": 252
        }
      ]
    }
  ]
}
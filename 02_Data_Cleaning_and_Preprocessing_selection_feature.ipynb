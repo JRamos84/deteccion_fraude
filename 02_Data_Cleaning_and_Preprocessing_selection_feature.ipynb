{
  "nbformat": 4,
  "nbformat_minor": 0,
  "metadata": {
    "colab": {
      "provenance": [],
      "authorship_tag": "ABX9TyPD18jLP0tamjkLryKJRdfG",
      "include_colab_link": true
    },
    "kernelspec": {
      "name": "python3",
      "display_name": "Python 3"
    },
    "language_info": {
      "name": "python"
    }
  },
  "cells": [
    {
      "cell_type": "markdown",
      "metadata": {
        "id": "view-in-github",
        "colab_type": "text"
      },
      "source": [
        "<a href=\"https://colab.research.google.com/github/JRamos84/deteccion_fraude/blob/main/02_Data_Cleaning_and_Preprocessing_selection_feature.ipynb\" target=\"_parent\"><img src=\"https://colab.research.google.com/assets/colab-badge.svg\" alt=\"Open In Colab\"/></a>"
      ]
    },
    {
      "cell_type": "markdown",
      "source": [
        "## 02 Data Cleaning and Preprocessing\n",
        "**Objetivo**: Limpiar y preprocesar los datos para que estén listos para el modelado.\n",
        "**Contenido**:\n",
        "- Manejo de valores nulos.\n",
        "- Creación de nuevas características (feature engineering).\n",
        "- Conversión de tipos de datos.\n",
        "- Codificación de variables categóricas.\n",
        "- Normalización y estandarización de las variables.\n"
      ],
      "metadata": {
        "id": "ha3ahSIYvJeu"
      }
    },
    {
      "cell_type": "code",
      "source": [
        "# Librerías\n",
        "import os\n",
        "import pandas as pd\n",
        "import numpy as np\n",
        "from sklearn.model_selection import train_test_split\n",
        "import seaborn as sns\n",
        "import matplotlib.pyplot as plt\n",
        "import missingno as msno\n",
        "import numpy as np\n",
        "from scipy import stats\n",
        "import datetime\n",
        "import warnings\n",
        "from sklearn.preprocessing import LabelEncoder\n",
        "from sklearn.preprocessing import MinMaxScaler\n",
        "from sklearn.decomposition import PCA\n",
        "from imblearn.under_sampling import RandomUnderSampler\n",
        "warnings.filterwarnings('ignore')"
      ],
      "metadata": {
        "id": "lmeLgll5vql1"
      },
      "execution_count": 188,
      "outputs": []
    },
    {
      "cell_type": "code",
      "source": [
        "def reduce_mem_usage(df, verbose=True):\n",
        "    \"\"\"\n",
        "    Reduce el uso de memoria de un DataFrame de pandas cambiando los tipos de datos de las columnas numéricas\n",
        "    a tipos más eficientes sin perder información.\n",
        "\n",
        "    Parameters:\n",
        "    df (pd.DataFrame): El DataFrame a optimizar.\n",
        "    verbose (bool): Si es True, imprime el uso de memoria antes y después de la optimización.\n",
        "\n",
        "    Returns:\n",
        "    pd.DataFrame: El DataFrame optimizado.\n",
        "    \"\"\"\n",
        "    # Obtener el uso inicial de memoria\n",
        "    start_mem = df.memory_usage(deep=True).sum() / 1024**2\n",
        "\n",
        "    numerics = ['int16', 'int32', 'int64', 'float16', 'float32', 'float64']\n",
        "\n",
        "    for col in df.columns:\n",
        "        col_type = df[col].dtypes\n",
        "        if col_type in numerics:\n",
        "            c_min = df[col].min()\n",
        "            c_max = df[col].max()\n",
        "\n",
        "            # Optimización para tipos de datos enteros\n",
        "            if pd.api.types.is_integer_dtype(df[col]):\n",
        "                if c_min >= np.iinfo(np.int8).min and c_max <= np.iinfo(np.int8).max:\n",
        "                    df[col] = df[col].astype(np.int8)\n",
        "                elif c_min >= np.iinfo(np.int16).min and c_max <= np.iinfo(np.int16).max:\n",
        "                    df[col] = df[col].astype(np.int16)\n",
        "                elif c_min >= np.iinfo(np.int32).min and c_max <= np.iinfo(np.int32).max:\n",
        "                    df[col] = df[col].astype(np.int32)\n",
        "                elif c_min >= np.iinfo(np.int64).min and c_max <= np.iinfo(np.int64).max:\n",
        "                    df[col] = df[col].astype(np.int64)\n",
        "\n",
        "            # Optimización para tipos de datos flotantes\n",
        "            else:\n",
        "                if c_min >= np.finfo(np.float16).min and c_max <= np.finfo(np.float16).max:\n",
        "                    df[col] = df[col].astype(np.float16)\n",
        "                elif c_min >= np.finfo(np.float32).min and c_max <= np.finfo(np.float32).max:\n",
        "                    df[col] = df[col].astype(np.float32)\n",
        "                else:\n",
        "                    df[col] = df[col].astype(np.float64)\n",
        "\n",
        "    # Obtener el uso final de memoria\n",
        "    end_mem = df.memory_usage(deep=True).sum() / 1024**2\n",
        "    if verbose:\n",
        "        print(f'Mem. usage decreased to {end_mem:.2f} Mb ({100 * (start_mem - end_mem) / start_mem:.1f}% reduction)')\n",
        "\n",
        "    return df"
      ],
      "metadata": {
        "id": "D4ew9EtFvn2g"
      },
      "execution_count": 189,
      "outputs": []
    },
    {
      "cell_type": "code",
      "source": [
        "## Importamos las librerias a usar\n",
        "from google.colab import drive\n",
        "drive.mount('/content/drive')\n",
        "data_dir = '/content/drive/MyDrive/cursos-analisis-datos/data-science/proyecto/propuestas/propuesta1/ieee-fraud-detection'"
      ],
      "metadata": {
        "colab": {
          "base_uri": "https://localhost:8080/"
        },
        "id": "WYgQkCUGvHZ1",
        "outputId": "c5917bf1-35a4-43e8-f56f-be30fa394bfb"
      },
      "execution_count": 190,
      "outputs": [
        {
          "output_type": "stream",
          "name": "stdout",
          "text": [
            "Drive already mounted at /content/drive; to attempt to forcibly remount, call drive.mount(\"/content/drive\", force_remount=True).\n"
          ]
        }
      ]
    },
    {
      "cell_type": "code",
      "source": [
        "\n",
        "## Cargamos los dataset de train_transaction y train_identity\n",
        "df_transaction_train = pd.read_csv(data_dir + '/train_transaction.csv')\n",
        "df_identity_train = pd.read_csv(data_dir + '/train_identity.csv')\n",
        "## Reducimos los tamaños de los dataset cambiando los tipos de los datos de las columnas\n",
        "df_transaction_train = reduce_mem_usage(df_transaction_train)\n",
        "df_identity_train = reduce_mem_usage(df_identity_train)"
      ],
      "metadata": {
        "colab": {
          "base_uri": "https://localhost:8080/"
        },
        "id": "xmCKf4pavhlr",
        "outputId": "8976cfb7-5c7f-4a99-e1fd-43d736fa4b00"
      },
      "execution_count": 191,
      "outputs": [
        {
          "output_type": "stream",
          "name": "stdout",
          "text": [
            "Mem. usage decreased to 867.89 Mb (58.7% reduction)\n",
            "Mem. usage decreased to 138.38 Mb (12.2% reduction)\n"
          ]
        }
      ]
    },
    {
      "cell_type": "code",
      "source": [
        "\n",
        "# Combinar los datasets\n",
        "data = pd.merge(df_transaction_train, df_identity_train, on='TransactionID', how='left')\n"
      ],
      "metadata": {
        "id": "1tTBpZ94vv_a"
      },
      "execution_count": 192,
      "outputs": []
    },
    {
      "cell_type": "code",
      "source": [
        "dataset = data.copy()"
      ],
      "metadata": {
        "id": "TqhlN02WQ2NR"
      },
      "execution_count": 193,
      "outputs": []
    },
    {
      "cell_type": "markdown",
      "source": [
        "## Consideración principales del análisis de EDA"
      ],
      "metadata": {
        "id": "9mdnQAfuv7Sw"
      }
    },
    {
      "cell_type": "markdown",
      "source": [
        "### Manejo de valores nulos"
      ],
      "metadata": {
        "id": "MUSl5uZowTwP"
      }
    },
    {
      "cell_type": "markdown",
      "source": [
        "- Usaremos las columnas que no superen el 50 de los valores nulos"
      ],
      "metadata": {
        "id": "QkeZSZ3nwqMs"
      }
    },
    {
      "cell_type": "code",
      "source": [
        "null_percentages = (dataset.isnull().sum() / len(dataset)) * 100\n",
        "null_percentages[null_percentages < 50].sort_values(ascending=False)"
      ],
      "metadata": {
        "colab": {
          "base_uri": "https://localhost:8080/"
        },
        "id": "SsMt4KlPv19R",
        "outputId": "ced9124d-ac82-44cd-fd0d-49ef3d418106"
      },
      "execution_count": 194,
      "outputs": [
        {
          "output_type": "execute_result",
          "data": {
            "text/plain": [
              "M4               47.658753\n",
              "D2               47.549192\n",
              "V1               47.293494\n",
              "V10              47.293494\n",
              "D11              47.293494\n",
              "                   ...    \n",
              "C12               0.000000\n",
              "C13               0.000000\n",
              "C14               0.000000\n",
              "isFraud           0.000000\n",
              "TransactionID     0.000000\n",
              "Length: 220, dtype: float64"
            ]
          },
          "metadata": {},
          "execution_count": 194
        }
      ]
    },
    {
      "cell_type": "code",
      "source": [
        "col_util = null_percentages[null_percentages < 20].index.to_list()"
      ],
      "metadata": {
        "id": "dtNf-tDsxRHR"
      },
      "execution_count": 195,
      "outputs": []
    },
    {
      "cell_type": "code",
      "source": [
        "dataset = dataset[col_util]\n",
        "dataset.shape"
      ],
      "metadata": {
        "colab": {
          "base_uri": "https://localhost:8080/"
        },
        "id": "ncDgrUhMxcNV",
        "outputId": "f12e86a3-fe44-40ab-8353-c107f4e43861"
      },
      "execution_count": 196,
      "outputs": [
        {
          "output_type": "execute_result",
          "data": {
            "text/plain": [
              "(590540, 182)"
            ]
          },
          "metadata": {},
          "execution_count": 196
        }
      ]
    },
    {
      "cell_type": "code",
      "source": [
        "## Eliminamos las filas nulas\n",
        "dataset.dropna(inplace=True)\n",
        "dataset.shape"
      ],
      "metadata": {
        "colab": {
          "base_uri": "https://localhost:8080/"
        },
        "id": "gG9_vjxgxij-",
        "outputId": "48b397ae-c8eb-456e-d2c5-5955303aba17"
      },
      "execution_count": 197,
      "outputs": [
        {
          "output_type": "execute_result",
          "data": {
            "text/plain": [
              "(346886, 182)"
            ]
          },
          "metadata": {},
          "execution_count": 197
        }
      ]
    },
    {
      "cell_type": "markdown",
      "source": [
        "- La cantidad de registro dismuyo considerablemente luego de la elimación de las columnas y las filas con datos nulos"
      ],
      "metadata": {
        "id": "KDiDJ7zTyFnE"
      }
    },
    {
      "cell_type": "markdown",
      "source": [
        "### Rango de TransactionAMT y Aplicación del Logaritmo"
      ],
      "metadata": {
        "id": "kV4nCNkyygzq"
      }
    },
    {
      "cell_type": "markdown",
      "source": [
        "- Basado en el análisis EDA elinamos los registro con valores en TransactionAMT superior a 5192"
      ],
      "metadata": {
        "id": "jt5xmIC2ymcz"
      }
    },
    {
      "cell_type": "code",
      "source": [
        "dataset = dataset[dataset['TransactionAmt'] < 5192]"
      ],
      "metadata": {
        "id": "6GSEYKI3ylgY"
      },
      "execution_count": 198,
      "outputs": []
    },
    {
      "cell_type": "code",
      "source": [
        "dataset['TransactionAmt'] = np.log(dataset['TransactionAmt'])"
      ],
      "metadata": {
        "id": "SFzkMdR-2xBt"
      },
      "execution_count": 199,
      "outputs": []
    },
    {
      "cell_type": "markdown",
      "source": [
        "####Convertiendo 'TransactionDT' en unidades de tiempo"
      ],
      "metadata": {
        "id": "k3Gv6x1fzEi-"
      }
    },
    {
      "cell_type": "code",
      "source": [
        "\n",
        "# Suponiendo que dataset tiene las columnas 'TransactionDT'\n",
        "START_DATE = '2017-12-01'\n",
        "startdate = datetime.datetime.strptime(START_DATE, \"%Y-%m-%d\")\n",
        "\n",
        "# Convertir 'TransactionDT' a formato datetime\n",
        "dataset['Date'] = dataset['TransactionDT'].apply(lambda x: startdate + datetime.timedelta(seconds=x))\n",
        "\n",
        "# Verificar y asegurarse de que 'Date' sea de tipo datetime\n",
        "dataset['Date'] = pd.to_datetime(dataset['Date'])\n",
        "\n",
        "# Crear un DataFrame con las nuevas columnas a agregar\n",
        "new_columns = pd.DataFrame({\n",
        "    '_Weekdays': dataset['Date'].dt.dayofweek,\n",
        "    '_Hours': dataset['Date'].dt.hour,\n",
        "    '_Days': dataset['Date'].dt.day\n",
        "})\n",
        "\n",
        "# Unir todas las columnas al DataFrame original\n",
        "dataset = pd.concat([dataset, new_columns], axis=1)\n",
        "\n",
        "# Convertir las nuevas columnas a tipo 'object' si es necesario\n",
        "dataset['_Weekdays'] = dataset['_Weekdays'].astype('object')\n",
        "dataset['_Hours'] = dataset['_Hours'].astype('object')\n",
        "dataset['_Days'] = dataset['_Days'].astype('object')\n",
        "\n",
        "# Eliminar las columnas innecesarias\n",
        "dataset.drop(['Date', 'TransactionDT'], axis=1, inplace=True)\n",
        "\n",
        "# Mostrar los primeros 3 registros del DataFrame modificado\n",
        "print(dataset.head(3))"
      ],
      "metadata": {
        "colab": {
          "base_uri": "https://localhost:8080/"
        },
        "id": "BCXCjMG8zJBr",
        "outputId": "23817554-4560-4ccb-9dcf-68ac36f20412"
      },
      "execution_count": 200,
      "outputs": [
        {
          "output_type": "stream",
          "name": "stdout",
          "text": [
            "   TransactionID  isFraud  TransactionAmt ProductCD  card1  card2  card3  \\\n",
            "1        2987001        0        3.367188         W   2755  404.0  150.0   \n",
            "2        2987002        0        4.078125         W   4663  490.0  150.0   \n",
            "3        2987003        0        3.912109         W  18132  567.0  150.0   \n",
            "\n",
            "        card4  card5   card6  ...  V315  V316    V317   V318  V319  V320  \\\n",
            "1  mastercard  102.0  credit  ...   0.0   0.0     0.0    0.0   0.0   0.0   \n",
            "2        visa  166.0   debit  ...   0.0   0.0     0.0    0.0   0.0   0.0   \n",
            "3  mastercard  117.0   debit  ...   0.0  50.0  1404.0  790.0   0.0   0.0   \n",
            "\n",
            "   V321  _Weekdays  _Hours  _Days  \n",
            "1   0.0          5       0      2  \n",
            "2   0.0          5       0      2  \n",
            "3   0.0          5       0      2  \n",
            "\n",
            "[3 rows x 184 columns]\n"
          ]
        }
      ]
    },
    {
      "cell_type": "markdown",
      "source": [
        "### Mapping emails"
      ],
      "metadata": {
        "id": "i4_RBzBNz4XW"
      }
    },
    {
      "cell_type": "code",
      "source": [
        "#https://www.kaggle.com/code/kabure/extensive-eda-and-modeling-xgb-hyperopt?scriptVersionId=18427966&cellId=116\n",
        "emails = {'gmail': 'google', 'att.net': 'att', 'twc.com': 'spectrum',\n",
        "          'scranton.edu': 'other', 'optonline.net': 'other', 'hotmail.co.uk': 'microsoft',\n",
        "          'comcast.net': 'other', 'yahoo.com.mx': 'yahoo', 'yahoo.fr': 'yahoo',\n",
        "          'yahoo.es': 'yahoo', 'charter.net': 'spectrum', 'live.com': 'microsoft',\n",
        "          'aim.com': 'aol', 'hotmail.de': 'microsoft', 'centurylink.net': 'centurylink',\n",
        "          'gmail.com': 'google', 'me.com': 'apple', 'earthlink.net': 'other', 'gmx.de': 'other',\n",
        "          'web.de': 'other', 'cfl.rr.com': 'other', 'hotmail.com': 'microsoft',\n",
        "          'protonmail.com': 'other', 'hotmail.fr': 'microsoft', 'windstream.net': 'other',\n",
        "          'outlook.es': 'microsoft', 'yahoo.co.jp': 'yahoo', 'yahoo.de': 'yahoo',\n",
        "          'servicios-ta.com': 'other', 'netzero.net': 'other', 'suddenlink.net': 'other',\n",
        "          'roadrunner.com': 'other', 'sc.rr.com': 'other', 'live.fr': 'microsoft',\n",
        "          'verizon.net': 'yahoo', 'msn.com': 'microsoft', 'q.com': 'centurylink',\n",
        "          'prodigy.net.mx': 'att', 'frontier.com': 'yahoo', 'anonymous.com': 'other',\n",
        "          'rocketmail.com': 'yahoo', 'sbcglobal.net': 'att', 'frontiernet.net': 'yahoo',\n",
        "          'ymail.com': 'yahoo', 'outlook.com': 'microsoft', 'mail.com': 'other',\n",
        "          'bellsouth.net': 'other', 'embarqmail.com': 'centurylink', 'cableone.net': 'other',\n",
        "          'hotmail.es': 'microsoft', 'mac.com': 'apple', 'yahoo.co.uk': 'yahoo', 'netzero.com': 'other',\n",
        "          'yahoo.com': 'yahoo', 'live.com.mx': 'microsoft', 'ptd.net': 'other', 'cox.net': 'other',\n",
        "          'aol.com': 'aol', 'juno.com': 'other', 'icloud.com': 'apple'}\n",
        "\n",
        "us_emails = ['gmail', 'net', 'edu']\n",
        "\n",
        "# https://www.kaggle.com/c/ieee-fraud-detection/discussion/100499#latest-579654\n",
        "#for c in ['P_emaildomain', 'R_emaildomain']:\n",
        "for c in ['P_emaildomain']:\n",
        "    dataset[c + '_bin'] = dataset[c].map(emails)\n",
        "    dataset[c + '_suffix'] = dataset[c].map(lambda x: str(x).split('.')[-1])\n",
        "    dataset[c + '_suffix'] = dataset[c + '_suffix'].map(lambda x: x if str(x) not in us_emails else 'us')\n",
        "\n",
        "## Elimaamos las columnas 'P_emaildomain', 'R_emaildomain'\n",
        "dataset.drop(['P_emaildomain'], axis=1, inplace=True)\n",
        "### IMPORTANTE  'R_emaildomain' fue sacada del analisis debido a que tiene un elavado cantidad de valores nulos\n"
      ],
      "metadata": {
        "id": "wvI7212Bz8jL"
      },
      "execution_count": 201,
      "outputs": []
    },
    {
      "cell_type": "markdown",
      "source": [
        "## Separamos datos características (X) y variable objetivo (y)"
      ],
      "metadata": {
        "id": "iR__r4m17fDR"
      }
    },
    {
      "cell_type": "code",
      "source": [
        "X = dataset.drop('isFraud', axis=1)  # features\n",
        "y = dataset['isFraud']  # target"
      ],
      "metadata": {
        "id": "nJbiGC6o7hMq"
      },
      "execution_count": 202,
      "outputs": []
    },
    {
      "cell_type": "markdown",
      "source": [
        "## División de los Datos en Conjuntos de Entrenamiento y Prueba"
      ],
      "metadata": {
        "id": "MIwyOaeJhwbV"
      }
    },
    {
      "cell_type": "markdown",
      "source": [
        "### Criterios para la División de Datos\n",
        "\n",
        "#### Entrenamiento (Training Set):\n",
        "- Representa el 70% del conjunto de datos.\n",
        "- Se utiliza para ajustar el modelo.\n",
        "\n",
        "#### Validación (Validation Set):\n",
        "- Representa el 15% del conjunto de datos.\n",
        "- Se utiliza para ajustar los hiperparámetros y prevenir el sobreajuste.\n",
        "\n",
        "#### Prueba (Test Set):\n",
        "- Representa el 15% del conjunto de datos.\n",
        "- Se utiliza para evaluar el rendimiento final del modelo.\n"
      ],
      "metadata": {
        "id": "tKw1PQZch2Mo"
      }
    },
    {
      "cell_type": "code",
      "source": [
        "X.shape, y.shape"
      ],
      "metadata": {
        "id": "gOaUcWdtR1BL",
        "outputId": "b1bd4b6b-7841-43ba-bd7c-796a1d9549f1",
        "colab": {
          "base_uri": "https://localhost:8080/"
        }
      },
      "execution_count": 203,
      "outputs": [
        {
          "output_type": "execute_result",
          "data": {
            "text/plain": [
              "((346874, 184), (346874,))"
            ]
          },
          "metadata": {},
          "execution_count": 203
        }
      ]
    },
    {
      "cell_type": "code",
      "source": [
        "from sklearn.model_selection import train_test_split\n",
        "\n",
        "# Dividir los datos en conjunto de entrenamiento y conjunto temporal (que se dividirá en validación y prueba)\n",
        "X_train, X_temp, y_train, y_temp = train_test_split(X, y, test_size=0.3, stratify=y, random_state=42)\n",
        "\n",
        "# Dividir el conjunto temporal en conjunto de validación y conjunto de prueba\n",
        "X_val, X_test, y_val, y_test = train_test_split(X_temp, y_temp, test_size=0.5, stratify=y_temp, random_state=42)\n",
        "\n",
        "# Mostrar las formas de los conjuntos de datos para asegurarse de que la estratificación se realizó correctamente\n",
        "print(\"Forma del conjunto de entrenamiento:\", X_train.shape, y_train.shape)\n",
        "print(\"Forma del conjunto de validación:\", X_val.shape, y_val.shape)\n",
        "print(\"Forma del conjunto de prueba:\", X_test.shape, y_test.shape)"
      ],
      "metadata": {
        "id": "9nbOzPQ3hx23",
        "outputId": "694c6f6e-ece5-4d88-d220-a32bcb46ce62",
        "colab": {
          "base_uri": "https://localhost:8080/"
        }
      },
      "execution_count": 204,
      "outputs": [
        {
          "output_type": "stream",
          "name": "stdout",
          "text": [
            "Forma del conjunto de entrenamiento: (242811, 184) (242811,)\n",
            "Forma del conjunto de validación: (52031, 184) (52031,)\n",
            "Forma del conjunto de prueba: (52032, 184) (52032,)\n"
          ]
        }
      ]
    },
    {
      "cell_type": "code",
      "source": [
        "num_cols = X.select_dtypes(include='number').columns.tolist()\n",
        "cat_cols = X.select_dtypes(include=['object']).columns.tolist()"
      ],
      "metadata": {
        "id": "emJMwt-D4z1L"
      },
      "execution_count": 205,
      "outputs": []
    },
    {
      "cell_type": "markdown",
      "source": [
        "### Codificación de variables categóricas.\n"
      ],
      "metadata": {
        "id": "IZdNX1Ndifpn"
      }
    },
    {
      "cell_type": "code",
      "source": [
        "X_train.shape, X_val.shape, X_test.shape"
      ],
      "metadata": {
        "id": "wu-yJbAKkwye",
        "outputId": "ffd033d5-92e6-4d2b-cd88-33ee0c3f64e5",
        "colab": {
          "base_uri": "https://localhost:8080/"
        }
      },
      "execution_count": 206,
      "outputs": [
        {
          "output_type": "execute_result",
          "data": {
            "text/plain": [
              "((242811, 184), (52031, 184), (52032, 184))"
            ]
          },
          "metadata": {},
          "execution_count": 206
        }
      ]
    },
    {
      "cell_type": "code",
      "source": [
        "X_train.select_dtypes(include=['object']).nunique()"
      ],
      "metadata": {
        "id": "GGQiFZznmulz",
        "outputId": "6b3904fe-9b1d-46c2-9a8e-855c7a449a97",
        "colab": {
          "base_uri": "https://localhost:8080/"
        }
      },
      "execution_count": 207,
      "outputs": [
        {
          "output_type": "execute_result",
          "data": {
            "text/plain": [
              "ProductCD                4\n",
              "card4                    4\n",
              "card6                    3\n",
              "_Weekdays                7\n",
              "_Hours                  24\n",
              "_Days                   31\n",
              "P_emaildomain_bin        9\n",
              "P_emaildomain_suffix     7\n",
              "dtype: int64"
            ]
          },
          "metadata": {},
          "execution_count": 207
        }
      ]
    },
    {
      "cell_type": "code",
      "source": [
        "\n",
        "# Copiar los DataFrames originales para evitar modificaciones directas\n",
        "X_train_encoded = X_train.copy()\n",
        "X_val_encoded = X_val.copy()\n",
        "X_test_encoded = X_test.copy()\n",
        "\n",
        "# Crear un codificador de etiquetas con manejo de etiquetas nuevas\n",
        "class SafeLabelEncoder(LabelEncoder):\n",
        "    def fit(self, y):\n",
        "        super().fit(y)\n",
        "        self.classes_ = np.append(self.classes_, '<unknown>')  # Agregar una clase para etiquetas nuevas\n",
        "\n",
        "    def transform(self, y):\n",
        "        y_transformed = super().transform(y)\n",
        "        # Mapear etiquetas nuevas a una categoría desconocida (por ejemplo, -1)\n",
        "        y_transformed[y_transformed == -1] = len(self.classes_) - 1\n",
        "        return y_transformed\n",
        "\n",
        "# Inicializar SafeLabelEncoder\n",
        "lbl = SafeLabelEncoder()\n",
        "\n",
        "# Ajustar LabelEncoder con el conjunto de entrenamiento\n",
        "for col in cat_cols:\n",
        "    lbl.fit(X_train[col].astype(str))\n",
        "\n",
        "    # Codificar columnas categóricas en el conjunto de entrenamiento\n",
        "    X_train_encoded[col] = lbl.transform(X_train[col].astype(str))\n",
        "\n",
        "    # Codificar columnas categóricas en el conjunto de validación y conjunto de prueba\n",
        "    X_val_encoded[col] = lbl.transform(X_val[col].astype(str))\n",
        "    X_test_encoded[col] = lbl.transform(X_test[col].astype(str))\n",
        "\n",
        "# Mostrar los primeros registros de X_train_encoded después de la transformación\n",
        "print(\"Primeros registros de X_train_encoded:\")\n",
        "print(X_train_encoded.head())\n",
        "\n",
        "# Mostrar los primeros registros de X_val_encoded después de la transformación\n",
        "print(\"\\nPrimeros registros de X_val_encoded:\")\n",
        "print(X_val_encoded.head())\n",
        "\n",
        "# Mostrar los primeros registros de X_test_encoded después de la transformación\n",
        "print(\"\\nPrimeros registros de X_test_encoded:\")\n",
        "print(X_test_encoded.head())\n",
        "\n",
        "# Reconstruir los conjuntos de entrenamiento, validación y prueba finales con todas las columnas\n",
        "X_train_final = pd.concat([X_train.drop(cat_cols, axis=1), X_train_encoded], axis=1)\n",
        "X_val_final = pd.concat([X_val.drop(cat_cols, axis=1), X_val_encoded], axis=1)\n",
        "X_test_final = pd.concat([X_test.drop(cat_cols, axis=1), X_test_encoded], axis=1)\n",
        "\n",
        "# Mostrar las formas de los conjuntos finales para verificar\n",
        "print(\"\\nForma del conjunto de entrenamiento final:\", X_train_final.shape, y_train.shape)\n",
        "print(\"Forma del conjunto de validación final:\", X_val_final.shape, y_val.shape)\n",
        "print(\"Forma del conjunto de prueba final:\", X_test_final.shape, y_test.shape)"
      ],
      "metadata": {
        "colab": {
          "base_uri": "https://localhost:8080/"
        },
        "id": "AmoznGGE1zTo",
        "outputId": "f7ef2052-cb2e-434f-eb20-f28713f84446"
      },
      "execution_count": 208,
      "outputs": [
        {
          "output_type": "stream",
          "name": "stdout",
          "text": [
            "Primeros registros de X_train_encoded:\n",
            "        TransactionID  TransactionAmt  ProductCD  card1  card2  card3  card4  \\\n",
            "249325        3236325        3.968750          3  12577  268.0  150.0      3   \n",
            "450425        3437425        4.476562          3  16630  242.0  150.0      3   \n",
            "208066        3195066        4.078125          3   1917  174.0  150.0      3   \n",
            "535394        3522394        6.496094          3   1444  490.0  150.0      3   \n",
            "292258        3279258        4.371094          3   2300  412.0  150.0      3   \n",
            "\n",
            "        card5  card6  addr1  ...  V317  V318  V319  V320  V321  _Weekdays  \\\n",
            "249325  166.0      1  205.0  ...   0.0   0.0   0.0   0.0   0.0          2   \n",
            "450425  166.0      1  264.0  ...   0.0   0.0   0.0   0.0   0.0          3   \n",
            "208066  195.0      1  330.0  ...   0.0   0.0   0.0   0.0   0.0          3   \n",
            "535394  166.0      1  299.0  ...   0.0   0.0   0.0   0.0   0.0          6   \n",
            "292258  226.0      1  494.0  ...   0.0   0.0   0.0   0.0   0.0          3   \n",
            "\n",
            "        _Hours  _Days  P_emaildomain_bin  P_emaildomain_suffix  \n",
            "249325      11     28                  8                     0  \n",
            "450425      15      3                  4                     0  \n",
            "208066       7     17                  4                     0  \n",
            "535394       1      4                  4                     0  \n",
            "292258       5     14                  8                     0  \n",
            "\n",
            "[5 rows x 184 columns]\n",
            "\n",
            "Primeros registros de X_val_encoded:\n",
            "        TransactionID  TransactionAmt  ProductCD  card1  card2  card3  card4  \\\n",
            "467989        3454989        3.794922          3  17188  321.0  150.0      3   \n",
            "264803        3251803        4.734375          3   6530  206.0  150.0      2   \n",
            "131327        3118327        3.367188          3  16485  174.0  150.0      3   \n",
            "225508        3212508        4.058594          3  12695  490.0  150.0      3   \n",
            "585537        3572537        4.664062          3   3508  514.0  150.0      2   \n",
            "\n",
            "        card5  card6  addr1  ...  V317  V318  V319  V320  V321  _Weekdays  \\\n",
            "467989  226.0      1  299.0  ...   0.0   0.0   0.0   0.0   0.0          3   \n",
            "264803  166.0      1  205.0  ...   0.0   0.0   0.0   0.0   0.0          1   \n",
            "131327  226.0      1  330.0  ...   0.0   0.0   0.0   0.0   0.0          6   \n",
            "225508  226.0      1  325.0  ...   0.0   0.0   0.0   0.0   0.0          2   \n",
            "585537  224.0      1  494.0  ...   0.0   0.0   0.0   0.0   0.0          3   \n",
            "\n",
            "        _Hours  _Days  P_emaildomain_bin  P_emaildomain_suffix  \n",
            "467989       8     10                  8                     0  \n",
            "264803       0      4                  5                     0  \n",
            "131327       1     24                  0                     0  \n",
            "225508       9     24                  8                     0  \n",
            "585537      17     24                  4                     0  \n",
            "\n",
            "[5 rows x 184 columns]\n",
            "\n",
            "Primeros registros de X_test_encoded:\n",
            "        TransactionID  TransactionAmt  ProductCD  card1  card2  card3  card4  \\\n",
            "178433        3165433        4.078125          3   7919  194.0  150.0      2   \n",
            "448134        3435134        4.605469          3   4436  174.0  150.0      3   \n",
            "154224        3141224        5.421875          3  15066  170.0  150.0      2   \n",
            "206916        3193916        4.679688          3  15185  332.0  150.0      3   \n",
            "67597         3054597        4.859375          3   6542  174.0  150.0      3   \n",
            "\n",
            "        card5  card6  addr1  ...  V317  V318  V319  V320  V321  _Weekdays  \\\n",
            "178433  202.0      1  476.0  ...   0.0   0.0   0.0   0.0   0.0          6   \n",
            "448134  226.0      1  494.0  ...   0.0   0.0   0.0   0.0   0.0          3   \n",
            "154224  102.0      0  264.0  ...   0.0   0.0   0.0   0.0   0.0          5   \n",
            "206916  226.0      1  264.0  ...   0.0   0.0   0.0   0.0   0.0          3   \n",
            "67597   226.0      1  324.0  ...  68.5  68.5   0.0   0.0   0.0          0   \n",
            "\n",
            "        _Hours  _Days  P_emaildomain_bin  P_emaildomain_suffix  \n",
            "178433      16      5                  8                     0  \n",
            "448134       0      3                  4                     0  \n",
            "154224      14     27                  8                     0  \n",
            "206916       0     17                  8                     0  \n",
            "67597       10      9                  5                     0  \n",
            "\n",
            "[5 rows x 184 columns]\n",
            "\n",
            "Forma del conjunto de entrenamiento final: (242811, 360) (242811,)\n",
            "Forma del conjunto de validación final: (52031, 360) (52031,)\n",
            "Forma del conjunto de prueba final: (52032, 360) (52032,)\n"
          ]
        }
      ]
    },
    {
      "cell_type": "markdown",
      "source": [
        "### Normalización y estandarización de las variables."
      ],
      "metadata": {
        "id": "9FwrNODMijRf"
      }
    },
    {
      "cell_type": "code",
      "source": [
        "scaler_min_max = MinMaxScaler()\n",
        "X_train_final[num_cols] = scaler_min_max.fit_transform(X_train_final[num_cols])\n",
        "X_test_final[num_cols] = scaler_min_max.transform(X_test_final[num_cols])\n",
        "X_val_final[num_cols] = scaler_min_max.transform(X_val_final[num_cols])\n",
        "\n"
      ],
      "metadata": {
        "id": "5VxDYi5T4ag7"
      },
      "execution_count": 209,
      "outputs": []
    },
    {
      "cell_type": "code",
      "source": [
        "X_train.shape"
      ],
      "metadata": {
        "id": "1sg4zKnWr69n",
        "outputId": "680a8f19-6582-4c2e-ec75-e454cf342afe",
        "colab": {
          "base_uri": "https://localhost:8080/"
        }
      },
      "execution_count": 210,
      "outputs": [
        {
          "output_type": "execute_result",
          "data": {
            "text/plain": [
              "(242811, 184)"
            ]
          },
          "metadata": {},
          "execution_count": 210
        }
      ]
    },
    {
      "cell_type": "markdown",
      "source": [
        "### Aplicación de PCA"
      ],
      "metadata": {
        "id": "JCa_gX8QiohK"
      }
    },
    {
      "cell_type": "code",
      "source": [
        "pca = PCA(n_components=0.95)  # Mantener el 95% de la varianza explicada\n",
        "X_train_pca = pca.fit_transform(X_train_final)\n",
        "X_val_pca = pca.transform(X_val_final)\n",
        "X_test_pca = pca.transform(X_test_final)"
      ],
      "metadata": {
        "id": "GF7RBly3ioPy"
      },
      "execution_count": 211,
      "outputs": []
    },
    {
      "cell_type": "code",
      "source": [
        "# Número de componentes principales seleccionados\n",
        "n_components = pca.n_components_\n",
        "print(f'Número de componentes principales seleccionados: {n_components}')"
      ],
      "metadata": {
        "id": "iBxJmNmbe1N1",
        "outputId": "79696836-1134-4101-9c3b-951c95fa8690",
        "colab": {
          "base_uri": "https://localhost:8080/"
        }
      },
      "execution_count": 212,
      "outputs": [
        {
          "output_type": "stream",
          "name": "stdout",
          "text": [
            "Número de componentes principales seleccionados: 4\n"
          ]
        }
      ]
    },
    {
      "cell_type": "markdown",
      "source": [],
      "metadata": {
        "id": "6lgY0SsTLZLN"
      }
    },
    {
      "cell_type": "code",
      "source": [
        "X_train_final.shape"
      ],
      "metadata": {
        "id": "0u7RmVNQL52f",
        "outputId": "0d0a2fd1-4799-40ef-8844-1451b8c2ca74",
        "colab": {
          "base_uri": "https://localhost:8080/"
        }
      },
      "execution_count": 213,
      "outputs": [
        {
          "output_type": "execute_result",
          "data": {
            "text/plain": [
              "(242811, 360)"
            ]
          },
          "metadata": {},
          "execution_count": 213
        }
      ]
    },
    {
      "cell_type": "code",
      "source": [
        "covar_matrix = PCA(n_components=X_train_final.shape[1])\n",
        "covar_matrix.fit(X_train_final)"
      ],
      "metadata": {
        "id": "c9XWpJf9Lkij",
        "outputId": "850c9d0e-5c8a-43c9-f291-bf3ebbe2bdf4",
        "colab": {
          "base_uri": "https://localhost:8080/",
          "height": 75
        }
      },
      "execution_count": 214,
      "outputs": [
        {
          "output_type": "execute_result",
          "data": {
            "text/plain": [
              "PCA(n_components=360)"
            ],
            "text/html": [
              "<style>#sk-container-id-7 {color: black;background-color: white;}#sk-container-id-7 pre{padding: 0;}#sk-container-id-7 div.sk-toggleable {background-color: white;}#sk-container-id-7 label.sk-toggleable__label {cursor: pointer;display: block;width: 100%;margin-bottom: 0;padding: 0.3em;box-sizing: border-box;text-align: center;}#sk-container-id-7 label.sk-toggleable__label-arrow:before {content: \"▸\";float: left;margin-right: 0.25em;color: #696969;}#sk-container-id-7 label.sk-toggleable__label-arrow:hover:before {color: black;}#sk-container-id-7 div.sk-estimator:hover label.sk-toggleable__label-arrow:before {color: black;}#sk-container-id-7 div.sk-toggleable__content {max-height: 0;max-width: 0;overflow: hidden;text-align: left;background-color: #f0f8ff;}#sk-container-id-7 div.sk-toggleable__content pre {margin: 0.2em;color: black;border-radius: 0.25em;background-color: #f0f8ff;}#sk-container-id-7 input.sk-toggleable__control:checked~div.sk-toggleable__content {max-height: 200px;max-width: 100%;overflow: auto;}#sk-container-id-7 input.sk-toggleable__control:checked~label.sk-toggleable__label-arrow:before {content: \"▾\";}#sk-container-id-7 div.sk-estimator input.sk-toggleable__control:checked~label.sk-toggleable__label {background-color: #d4ebff;}#sk-container-id-7 div.sk-label input.sk-toggleable__control:checked~label.sk-toggleable__label {background-color: #d4ebff;}#sk-container-id-7 input.sk-hidden--visually {border: 0;clip: rect(1px 1px 1px 1px);clip: rect(1px, 1px, 1px, 1px);height: 1px;margin: -1px;overflow: hidden;padding: 0;position: absolute;width: 1px;}#sk-container-id-7 div.sk-estimator {font-family: monospace;background-color: #f0f8ff;border: 1px dotted black;border-radius: 0.25em;box-sizing: border-box;margin-bottom: 0.5em;}#sk-container-id-7 div.sk-estimator:hover {background-color: #d4ebff;}#sk-container-id-7 div.sk-parallel-item::after {content: \"\";width: 100%;border-bottom: 1px solid gray;flex-grow: 1;}#sk-container-id-7 div.sk-label:hover label.sk-toggleable__label {background-color: #d4ebff;}#sk-container-id-7 div.sk-serial::before {content: \"\";position: absolute;border-left: 1px solid gray;box-sizing: border-box;top: 0;bottom: 0;left: 50%;z-index: 0;}#sk-container-id-7 div.sk-serial {display: flex;flex-direction: column;align-items: center;background-color: white;padding-right: 0.2em;padding-left: 0.2em;position: relative;}#sk-container-id-7 div.sk-item {position: relative;z-index: 1;}#sk-container-id-7 div.sk-parallel {display: flex;align-items: stretch;justify-content: center;background-color: white;position: relative;}#sk-container-id-7 div.sk-item::before, #sk-container-id-7 div.sk-parallel-item::before {content: \"\";position: absolute;border-left: 1px solid gray;box-sizing: border-box;top: 0;bottom: 0;left: 50%;z-index: -1;}#sk-container-id-7 div.sk-parallel-item {display: flex;flex-direction: column;z-index: 1;position: relative;background-color: white;}#sk-container-id-7 div.sk-parallel-item:first-child::after {align-self: flex-end;width: 50%;}#sk-container-id-7 div.sk-parallel-item:last-child::after {align-self: flex-start;width: 50%;}#sk-container-id-7 div.sk-parallel-item:only-child::after {width: 0;}#sk-container-id-7 div.sk-dashed-wrapped {border: 1px dashed gray;margin: 0 0.4em 0.5em 0.4em;box-sizing: border-box;padding-bottom: 0.4em;background-color: white;}#sk-container-id-7 div.sk-label label {font-family: monospace;font-weight: bold;display: inline-block;line-height: 1.2em;}#sk-container-id-7 div.sk-label-container {text-align: center;}#sk-container-id-7 div.sk-container {/* jupyter's `normalize.less` sets `[hidden] { display: none; }` but bootstrap.min.css set `[hidden] { display: none !important; }` so we also need the `!important` here to be able to override the default hidden behavior on the sphinx rendered scikit-learn.org. See: https://github.com/scikit-learn/scikit-learn/issues/21755 */display: inline-block !important;position: relative;}#sk-container-id-7 div.sk-text-repr-fallback {display: none;}</style><div id=\"sk-container-id-7\" class=\"sk-top-container\"><div class=\"sk-text-repr-fallback\"><pre>PCA(n_components=360)</pre><b>In a Jupyter environment, please rerun this cell to show the HTML representation or trust the notebook. <br />On GitHub, the HTML representation is unable to render, please try loading this page with nbviewer.org.</b></div><div class=\"sk-container\" hidden><div class=\"sk-item\"><div class=\"sk-estimator sk-toggleable\"><input class=\"sk-toggleable__control sk-hidden--visually\" id=\"sk-estimator-id-7\" type=\"checkbox\" checked><label for=\"sk-estimator-id-7\" class=\"sk-toggleable__label sk-toggleable__label-arrow\">PCA</label><div class=\"sk-toggleable__content\"><pre>PCA(n_components=360)</pre></div></div></div></div></div>"
            ]
          },
          "metadata": {},
          "execution_count": 214
        }
      ]
    },
    {
      "cell_type": "code",
      "source": [
        "\n",
        "# Genera el gráfico de la varianza explicada acumulada\n",
        "plt.figure(figsize=(10, 6))\n",
        "plt.plot(range(1, len(pca.explained_variance_ratio_) + 1),\n",
        "         np.cumsum(pca.explained_variance_ratio_), marker='o', linestyle='--', color='b')\n",
        "plt.ylabel('Varianza explicada')\n",
        "plt.xlabel('Componentes principales')\n",
        "plt.title('Varianza explicada por cada componente principal')\n",
        "\n",
        "# Agrega etiquetas a cada punto del gráfico\n",
        "for i, value in enumerate(np.cumsum(pca.explained_variance_ratio_)):\n",
        "    plt.text(i + 1, value, f'{value:.2f}', ha='center', va='bottom')\n",
        "\n",
        "# Ajusta los límites del eje x para mostrar todos los componentes\n",
        "plt.xlim(1, len(pca.explained_variance_ratio_))\n",
        "plt.ylim(0, 1)  # La varianza explicada acumulada estará entre 0 y 1\n",
        "\n",
        "# Muestra el gráfico\n",
        "plt.grid(True)\n",
        "plt.savefig('nulo_menor_10.png', format='png')\n",
        "plt.show()"
      ],
      "metadata": {
        "id": "UH8tyZnDMD1c",
        "outputId": "89e7fb58-6878-4312-b540-5eef641d04f7",
        "colab": {
          "base_uri": "https://localhost:8080/",
          "height": 564
        }
      },
      "execution_count": 215,
      "outputs": [
        {
          "output_type": "display_data",
          "data": {
            "text/plain": [
              "<Figure size 1000x600 with 1 Axes>"
            ],
            "image/png": "[encoded data removed]"
          },
          "metadata": {}
        }
      ]
    },
    {
      "cell_type": "markdown",
      "source": [
        "\n",
        "\n",
        "\n",
        "Se probó ajustando el porcentaje de valores permitidos por columna para maximizar la cantidad de columnas utilizadas en el análisis de componentes principales (PCA). Los resultados mostraron que el número máximo de componentes principales (PCA) obtenidos es de 4 cuando se permiten columnas con hasta un 20% de valores faltantes:\n",
        "\n",
        "- Columnas con menos del 10% de valores faltantes: 3 componentes\n",
        "- Columnas con menos del 20% de valores faltantes: 4 componentes\n",
        "- Columnas con menos del 50% de valores faltantes: 4 componentes\n",
        "- Columnas con menos del 60% de valores faltantes: 4 componentes\n",
        "\n",
        "Se observó que la máxima varianza se logra con un número reducido de componentes principales, lo cual indica que gran parte de la información se puede capturar eficientemente con pocos componentes.\n",
        "\n",
        "Por lo tanto vamos a trabajas con columnas que no tengan más del 20 de valores nulos."
      ],
      "metadata": {
        "id": "S7eRVl5qStFK"
      }
    },
    {
      "cell_type": "code",
      "source": [
        "# Guardar X y y en archivos CSV\n",
        "\n",
        "#dir_data_processed = '../data/processed'\n",
        "dir_data_processed = '/content/drive/MyDrive/cursos-analisis-datos/data-science/proyecto/propuestas/propuesta1/ieee-fraud-detection/processed'\n",
        "ruta_archivo_X_train = os.path.join(dir_data_processed, 'X__train_procesados.csv')\n",
        "ruta_archivo_X_test = os.path.join(dir_data_processed, 'X_test_procesados.csv')\n",
        "ruta_archivo_X_val = os.path.join(dir_data_processed, 'X_val_procesados.csv')\n",
        "\n",
        "ruta_archivo_y_train = os.path.join(dir_data_processed, 'y_train_procesados.csv')\n",
        "ruta_archivo_y_test = os.path.join(dir_data_processed, 'y_test_procesados.csv')\n",
        "ruta_archivo_y_val = os.path.join(dir_data_processed, 'y_val_procesados.csv')\n",
        "\n",
        "\n",
        "X_train_final.to_csv(ruta_archivo_X_train, index=False, encoding='utf-8')\n",
        "X_val_final.to_csv(ruta_archivo_X_val, index=False, encoding='utf-8')\n",
        "X_test_final.to_csv(ruta_archivo_X_test, index=False, encoding='utf-8')\n",
        "\n",
        "y_train.to_csv(ruta_archivo_y_train, index=False, encoding='utf-8')\n",
        "y_val.to_csv(ruta_archivo_y_val, index=False, encoding='utf-8')\n",
        "y_test.to_csv(ruta_archivo_y_test, index=False, encoding='utf-8')\n",
        "\n"
      ],
      "metadata": {
        "id": "IIZFPqz38eNG"
      },
      "execution_count": 216,
      "outputs": []
    },
    {
      "cell_type": "code",
      "source": [
        "y_train.shape"
      ],
      "metadata": {
        "id": "xklfde6BwqFf",
        "outputId": "cadd8100-b25d-47c4-9ffa-5661dee5d9df",
        "colab": {
          "base_uri": "https://localhost:8080/"
        }
      },
      "execution_count": 217,
      "outputs": [
        {
          "output_type": "execute_result",
          "data": {
            "text/plain": [
              "(242811,)"
            ]
          },
          "metadata": {},
          "execution_count": 217
        }
      ]
    }
  ]
}
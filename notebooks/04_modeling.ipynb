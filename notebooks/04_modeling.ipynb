{
  "cells": [
    {
      "cell_type": "markdown",
      "metadata": {
        "id": "view-in-github",
        "colab_type": "text"
      },
      "source": [
        "<a href=\"https://colab.research.google.com/github/JRamos84/deteccion_fraude/blob/main/notebooks/04_modeling.ipynb\" target=\"_parent\"><img src=\"https://colab.research.google.com/assets/colab-badge.svg\" alt=\"Open In Colab\"/></a>"
      ]
    },
    {
      "cell_type": "markdown",
      "metadata": {
        "id": "vSXYXGue95ek"
      },
      "source": [
        "\n",
        "## 04 Modeling\n",
        "**Objetivo**: Construir y evaluar modelos de clasificación.\n",
        "**Contenido**:\n",
        "\n",
        "- Carga y preparación de los datos\n",
        "- División de los datos en conjuntos de entrenamiento y prueba\n",
        "- Entrenamiento de modelos\n",
        "- Evaluación de los modelos\n",
        "- Comparación de resultados"
      ]
    },
    {
      "cell_type": "code",
      "execution_count": 15,
      "metadata": {
        "id": "E_Cd8Scv95en"
      },
      "outputs": [],
      "source": [
        "##  Importación de Librerías\n",
        "import os\n",
        "import pandas as pd\n",
        "import numpy as np\n",
        "from sklearn.model_selection import train_test_split\n",
        "from sklearn.linear_model import LogisticRegression\n",
        "from sklearn.ensemble import RandomForestClassifier\n",
        "from sklearn.metrics import accuracy_score, confusion_matrix, classification_report, roc_auc_score\n",
        "from imblearn.under_sampling import RandomUnderSampler\n",
        "\n",
        "\n",
        "from sklearn.model_selection import cross_val_score\n",
        "from sklearn.model_selection import StratifiedKFold\n",
        "from sklearn.linear_model import LogisticRegression\n",
        "from sklearn.svm import SVC\n",
        "from sklearn.tree import DecisionTreeClassifier\n",
        "from sklearn.ensemble import RandomForestClassifier\n",
        "from sklearn.ensemble import GradientBoostingClassifier\n",
        "from sklearn.neural_network import MLPClassifier\n",
        "import xgboost as xgb\n",
        "from sklearn.decomposition import PCA\n",
        "from sklearn.neighbors import KNeighborsClassifier\n",
        "from sklearn.naive_bayes import GaussianNB\n",
        "from sklearn.model_selection import cross_val_predict\n",
        "from sklearn.metrics import accuracy_score, confusion_matrix, classification_report, roc_auc_score\n",
        "from sklearn.model_selection import cross_val_score, StratifiedKFold\n",
        "from sklearn.model_selection import train_test_split\n",
        "from sklearn.metrics import accuracy_score, confusion_matrix, classification_report, roc_auc_score\n",
        "\n",
        "\n",
        "import matplotlib.pyplot as plt\n",
        "import seaborn as sns"
      ]
    },
    {
      "cell_type": "code",
      "source": [
        "\n",
        "def train_and_evaluate_model(model, X_train, y_train, X_val, y_val, cv=5):\n",
        "    # Asegúrate de que y_train y y_val sean vectores unidimensionales\n",
        "    y_train = np.ravel(y_train)\n",
        "    y_val = np.ravel(y_val)\n",
        "\n",
        "    # Entrenar y evaluar el modelo con validación cruzada\n",
        "    y_pred = cross_val_predict(model, X_train, y_train, cv=cv)\n",
        "\n",
        "    # Calcular las métricas\n",
        "    accuracy = accuracy_score(y_train, y_pred)\n",
        "    roc_auc = roc_auc_score(y_train, y_pred)\n",
        "\n",
        "    # Imprimir las métricas promediadas\n",
        "    print(f'Accuracy (CV): {accuracy:.4f}')\n",
        "    print(f'ROC AUC (CV): {roc_auc:.4f}')\n",
        "\n",
        "    # Imprimir el reporte de clasificación\n",
        "    print('Classification Report (CV):')\n",
        "    print(classification_report(y_train, y_pred))\n",
        "\n",
        "    # Mostrar la matriz de confusión promediada\n",
        "    conf_matrix = confusion_matrix(y_train, y_pred)\n",
        "    plt.figure(figsize=(8, 6))\n",
        "    sns.heatmap(conf_matrix, annot=True, fmt='d', cmap='Blues')\n",
        "    plt.title('Average Confusion Matrix (CV)')\n",
        "    plt.xlabel('Predicted')\n",
        "    plt.ylabel('Actual')\n",
        "    plt.show()\n",
        "\n",
        "\n",
        "def train_xgboost_model(X_train, y_train, X_val, y_val, params, num_rounds=100, threshold=0.5):\n",
        "    # Convertir datos a DMatrix (formato optimizado para XGBoost)\n",
        "    dtrain = xgb.DMatrix(X_train, label=y_train)\n",
        "    dval = xgb.DMatrix(X_val, label=y_val)\n",
        "\n",
        "    # Entrenar el modelo\n",
        "    model = xgb.train(params, dtrain, num_rounds)\n",
        "\n",
        "    # Predecir probabilidades en el conjunto de validación\n",
        "    y_pred_proba = model.predict(dval)\n",
        "\n",
        "    # Convertir probabilidades a etiquetas binarias\n",
        "    y_pred_binary = [1 if p > threshold else 0 for p in y_pred_proba]\n",
        "\n",
        "    # Calcular la precisión en el conjunto de validación\n",
        "    accuracy = accuracy_score(y_val, y_pred_binary)\n",
        "    print(f'Precisión en el conjunto de validación (Accuracy): {accuracy:.2f}')\n",
        "\n",
        "    # Calcular el área bajo la curva ROC (ROC AUC)\n",
        "    roc_auc = roc_auc_score(y_val, y_pred_proba)\n",
        "    print(f'Área bajo la curva ROC (ROC AUC): {roc_auc:.2f}')\n",
        "\n",
        "    # Imprimir el reporte de clasificación en el conjunto de validación\n",
        "    print('Classification Report (Validation):')\n",
        "    print(classification_report(y_val, y_pred_binary))\n",
        "\n",
        "    # Mostrar la matriz de confusión en el conjunto de validación\n",
        "    conf_matrix = confusion_matrix(y_val, y_pred_binary)\n",
        "    plt.figure(figsize=(8, 6))\n",
        "    sns.heatmap(conf_matrix, annot=True, fmt='d', cmap='Blues')\n",
        "    plt.title('Matriz de Confusión (Validation)')\n",
        "    plt.xlabel('Predicted')\n",
        "    plt.ylabel('Actual')\n",
        "    plt.show()\n",
        "\n",
        "# Ejemplo de uso:\n",
        "params = {\n",
        "    'eta': 0.0001,\n",
        "    'objective': 'binary:logistic',\n",
        "    'eval_metric': ['logloss', 'auc']\n",
        "}\n",
        "\n",
        "train_xgboost_model(X_train_resampled, y_train_resampled, X_val, y_val, params)"
      ],
      "metadata": {
        "id": "3pbnpLEdRtN-"
      },
      "execution_count": 16,
      "outputs": []
    },
    {
      "cell_type": "code",
      "source": [
        "## Importamos las librerias a usar\n",
        "from google.colab import drive\n",
        "drive.mount('/content/drive')\n",
        "data_dir = '/content/drive/MyDrive/cursos-analisis-datos/data-science/proyecto/propuestas/propuesta1/ieee-fraud-detection'\n"
      ],
      "metadata": {
        "id": "c_QACNQ--Ipl",
        "outputId": "7ea347cb-4a38-4e10-c2d7-1f8c0bd1b802",
        "colab": {
          "base_uri": "https://localhost:8080/"
        }
      },
      "execution_count": 17,
      "outputs": [
        {
          "output_type": "stream",
          "name": "stdout",
          "text": [
            "Drive already mounted at /content/drive; to attempt to forcibly remount, call drive.mount(\"/content/drive\", force_remount=True).\n"
          ]
        }
      ]
    },
    {
      "cell_type": "markdown",
      "metadata": {
        "id": "IAqeD-ec95ep"
      },
      "source": [
        "## Carga y Preparación de los Datos"
      ]
    },
    {
      "cell_type": "code",
      "execution_count": 18,
      "metadata": {
        "id": "SVhaBBql95eq"
      },
      "outputs": [],
      "source": [
        "# Guardar X y y en archivos CSV\n",
        "\n",
        "#dir_data_processed = '../data/processed'\n",
        "dir_data_processed = '/content/drive/MyDrive/cursos-analisis-datos/data-science/proyecto/propuestas/propuesta1/ieee-fraud-detection/processed'\n",
        "ruta_archivo_X_train = os.path.join(dir_data_processed, 'X__train_procesados.csv')\n",
        "ruta_archivo_X_test = os.path.join(dir_data_processed, 'X_test_procesados.csv')\n",
        "ruta_archivo_X_val = os.path.join(dir_data_processed, 'X_val_procesados.csv')\n",
        "\n",
        "ruta_archivo_y_train = os.path.join(dir_data_processed, 'y_train_procesados.csv')\n",
        "ruta_archivo_y_test = os.path.join(dir_data_processed, 'y_test_procesados.csv')\n",
        "ruta_archivo_y_val = os.path.join(dir_data_processed, 'y_val_procesados.csv')\n",
        "\n",
        "\n",
        "X_train_final= pd.read_csv(ruta_archivo_X_train)\n",
        "X_val_final= pd.read_csv(ruta_archivo_X_val)\n",
        "X_test_final= pd.read_csv(ruta_archivo_X_test)\n",
        "\n",
        "y_train_final= pd.read_csv(ruta_archivo_y_train)\n",
        "y_val_final= pd.read_csv(ruta_archivo_y_val)\n",
        "y_test_final= pd.read_csv(ruta_archivo_y_test)\n",
        "\n"
      ]
    },
    {
      "cell_type": "code",
      "execution_count": 19,
      "metadata": {
        "id": "AIyaIS-d95eq",
        "outputId": "cf3f39d7-6da3-4d39-8605-6463d5067446",
        "colab": {
          "base_uri": "https://localhost:8080/"
        }
      },
      "outputs": [
        {
          "output_type": "stream",
          "name": "stdout",
          "text": [
            "(242811, 360)\n",
            "(52031, 360)\n",
            "(52032, 360)\n",
            "(242811, 1)\n",
            "(52031, 1)\n",
            "(52032, 1)\n"
          ]
        }
      ],
      "source": [
        "print(X_train_final.shape)\n",
        "print(X_val_final.shape)\n",
        "print(X_test_final.shape)\n",
        "\n",
        "print(y_train_final.shape)\n",
        "print(y_val_final.shape)\n",
        "print(y_test_final.shape)"
      ]
    },
    {
      "cell_type": "markdown",
      "source": [
        "### Selección de un Subconjunto Estratificado"
      ],
      "metadata": {
        "id": "d9MyulltVc31"
      }
    },
    {
      "cell_type": "code",
      "source": [
        "# Definir la fracción del conjunto de datos para preentrenamiento\n",
        "fraction = 0.01\n",
        "y = np.ravel(y_train_final)\n",
        "\n",
        "# Dividir el conjunto de datos para obtener el subconjunto estratificado\n",
        "X_pretrain, _, y_pretrain, _ = train_test_split(X_train_final, y, train_size=fraction, stratify=y, random_state=42)\n",
        "\n",
        "# Verificar las proporciones de las clases\n",
        "print(\"Proporción de clases en el conjunto original:\", np.bincount(y) / len(y))\n",
        "print(\"Proporción de clases en el subconjunto de preentrenamiento:\", np.bincount(y_pretrain) / len(y_pretrain))\n",
        "print(f\"Tamaño del subconjunto de preentrenamiento: {len(y_pretrain)} muestras\")"
      ],
      "metadata": {
        "id": "hzu4yQowVimg",
        "outputId": "db1f5587-4c71-44c5-ee91-896e33f5517f",
        "colab": {
          "base_uri": "https://localhost:8080/"
        }
      },
      "execution_count": 28,
      "outputs": [
        {
          "output_type": "stream",
          "name": "stdout",
          "text": [
            "Proporción de clases en el conjunto original: [0.97999267 0.02000733]\n",
            "Proporción de clases en el subconjunto de preentrenamiento: [0.97981878 0.02018122]\n",
            "Tamaño del subconjunto de preentrenamiento: 2428 muestras\n"
          ]
        }
      ]
    },
    {
      "cell_type": "markdown",
      "source": [
        "### Comparación de modelos de entrenamiento"
      ],
      "metadata": {
        "id": "2ckgL4sWWhcd"
      }
    },
    {
      "cell_type": "code",
      "source": [
        "\n",
        "# Definir los modelos\n",
        "models = {\n",
        "    \"Logistic Regression\": LogisticRegression(max_iter=10000, random_state=42),\n",
        "    \"Random Forest\": RandomForestClassifier(random_state=42),\n",
        "    \"KNN\": KNeighborsClassifier(),\n",
        "    \"Naive Bayes\": GaussianNB()\n",
        "}\n",
        "\n",
        "# Evaluar cada modelo con validación cruzada\n",
        "for name, model in models.items():\n",
        "    # Calcular Accuracy\n",
        "    accuracy_scores = cross_val_score(model, X_pretrain, np.ravel(y_pretrain), cv=5, scoring='accuracy')\n",
        "\n",
        "    # Calcular ROC AUC\n",
        "    roc_auc_scores = cross_val_score(model, X_pretrain, np.ravel(y_pretrain), cv=5, scoring='roc_auc')\n",
        "\n",
        "    # Imprimir resultados\n",
        "    print(f\"{name}:\")\n",
        "    print(f\"  Accuracy: {accuracy_scores.mean():.4f} ± {accuracy_scores.std():.4f}\")\n",
        "    print(f\"  ROC AUC: {roc_auc_scores.mean():.4f} ± {roc_auc_scores.std():.4f}\")\n"
      ],
      "metadata": {
        "id": "9JcsGLeGWrZU"
      },
      "execution_count": null,
      "outputs": []
    },
    {
      "cell_type": "markdown",
      "source": [
        "### Uso de la Validación Cruzada para Determinar el Número de Componentes en PCA"
      ],
      "metadata": {
        "id": "tHwSM6atO0Xh"
      }
    },
    {
      "cell_type": "code",
      "source": [
        "\n",
        "# Número máximo de componentes principales (puede ser el número de características)\n",
        "max_components = X_train_final.shape[1]\n",
        "\n",
        "# Inicializar la validación cruzada estratificada\n",
        "cv = StratifiedKFold(n_splits=3, shuffle=True, random_state=42)\n",
        "\n",
        "# Inicializar el modelo de clasificación\n",
        "classifier = RandomForestClassifier(random_state=42)\n",
        "\n",
        "# Array para almacenar los scores de validación cruzada\n",
        "cv_scores = []\n",
        "\n",
        "# Realizar PCA y validación cruzada para diferentes números de componentes\n",
        "for n_components in range(1, max_components + 1):\n",
        "    # Aplicar PCA\n",
        "    pca = PCA(n_components=n_components)\n",
        "    X_pca = pca.fit_transform(X_pretrain)\n",
        "\n",
        "    # Evaluar el modelo con validación cruzada\n",
        "    scores = cross_val_score(classifier, X_pca, np.ravel(y_pretrain), cv=cv, scoring='accuracy')\n",
        "\n",
        "    # Guardar el promedio de los scores\n",
        "    cv_scores.append(scores.mean())\n",
        "\n",
        "# Determinar el número óptimo de componentes\n",
        "optimal_components = np.argmax(cv_scores) + 1\n",
        "print(f'Número óptimo de componentes: {optimal_components}')\n",
        "print(f'Score de validación cruzada con {optimal_components} componentes: {cv_scores[optimal_components - 1]}')\n",
        "\n",
        "# Graficar los scores de validación cruzada\n",
        "import matplotlib.pyplot as plt\n",
        "\n",
        "plt.figure(figsize=(10, 6))\n",
        "plt.plot(range(1, max_components + 1), cv_scores, marker='o', linestyle='--')\n",
        "plt.xlabel('Número de Componentes')\n",
        "plt.ylabel('Accuracy')\n",
        "plt.title('Validación Cruzada para PCA y Clasificación Binaria')\n",
        "plt.show()"
      ],
      "metadata": {
        "id": "oQufYzeuP4s3"
      },
      "execution_count": null,
      "outputs": []
    },
    {
      "cell_type": "markdown",
      "metadata": {
        "id": "aA5IXhZo95er"
      },
      "source": [
        "## Preparación de los Datos para Balanceo y Análisis de Componentes Principales (PCA)"
      ]
    },
    {
      "cell_type": "code",
      "execution_count": 10,
      "metadata": {
        "id": "dZot-ziC95et",
        "outputId": "20c6d904-f0f7-4330-9699-fd09f12e2755",
        "colab": {
          "base_uri": "https://localhost:8080/"
        }
      },
      "outputs": [
        {
          "output_type": "execute_result",
          "data": {
            "text/plain": [
              "((9716, 360), (9716, 1))"
            ]
          },
          "metadata": {},
          "execution_count": 10
        }
      ],
      "source": [
        "## Balanceo sin PCA\n",
        "undersampler = RandomUnderSampler(random_state=42)\n",
        "X_train_B, y_train_B = undersampler.fit_resample(X_train_final, y_train_final)\n",
        "# Mostrar la distribución de clases después del submuestreo\n",
        "X_train_B.shape,y_train_B.shape"
      ]
    },
    {
      "cell_type": "code",
      "source": [
        "y_train_B.value_counts()"
      ],
      "metadata": {
        "id": "KHx1oYJ2Q1B_"
      },
      "execution_count": null,
      "outputs": []
    },
    {
      "cell_type": "code",
      "source": [
        "## sin balanceo con PCA\n",
        "pca = PCA(n_components=0.95)  # Mantener el 95% de la varianza explicada\n",
        "X_train_pca = pca.fit_transform(X_train_final)\n",
        "X_val_pca = pca.transform(X_val_final)\n"
      ],
      "metadata": {
        "id": "cJInTQmbOw-n"
      },
      "execution_count": null,
      "outputs": []
    },
    {
      "cell_type": "code",
      "execution_count": null,
      "metadata": {
        "id": "ncR2SfP695et",
        "outputId": "d904b7aa-45eb-4535-9716-bb2087db83e5",
        "colab": {
          "base_uri": "https://localhost:8080/"
        }
      },
      "outputs": [
        {
          "output_type": "execute_result",
          "data": {
            "text/plain": [
              "isFraud\n",
              "0          51581\n",
              "1           1910\n",
              "Name: count, dtype: int64"
            ]
          },
          "metadata": {},
          "execution_count": 36
        }
      ],
      "source": [
        "## Balanceo y pca\n",
        "## sin balanceo con PCA\n",
        "pca = PCA(n_components=0.95)  # Mantener el 95% de la varianza explicada\n",
        "X_train_pca_B = pca.fit_transform(X_train_B)\n",
        "X_val_pca_B = pca.transform(X_val_final)\n",
        "\n"
      ]
    },
    {
      "cell_type": "markdown",
      "source": [
        "### Entrenamiento con Random Forest"
      ],
      "metadata": {
        "id": "0eK8lsMrZUDZ"
      }
    },
    {
      "cell_type": "code",
      "source": [],
      "metadata": {
        "id": "Kdtf63fuZXJr"
      },
      "execution_count": null,
      "outputs": []
    },
    {
      "cell_type": "markdown",
      "source": [
        "### Entrenamiento Con Xbgboost"
      ],
      "metadata": {
        "id": "OkcRJ-S7ZbYB"
      }
    },
    {
      "cell_type": "markdown",
      "metadata": {
        "id": "0V0adXD695eu"
      },
      "source": [
        "## Comparación de modelos"
      ]
    },
    {
      "cell_type": "code",
      "source": [
        "\n",
        "feature_importance = rf_clf.feature_importances_\n",
        "\n",
        "# Obtener nombres de las características\n",
        "feature_names = X_train_resampled.columns\n",
        "\n",
        "# Crear un DataFrame para visualización\n",
        "feature_importance_df = pd.DataFrame({'Feature': feature_names, 'Importance': feature_importance})\n",
        "\n",
        "# Ordenar por importancia de forma descendente\n",
        "feature_importance_df = feature_importance_df.sort_values(by='Importance', ascending=False)\n",
        "\n",
        "# Visualizar las 10 características más importantes\n",
        "plt.figure(figsize=(10, 8))\n",
        "sns.barplot(x='Importance', y='Feature', data=feature_importance_df.head(40), palette='viridis')\n",
        "plt.xlabel('Importance')\n",
        "plt.ylabel('Feature')\n",
        "plt.title('Top 10 Feature Importances')\n",
        "plt.show()"
      ],
      "metadata": {
        "id": "3-eKi_Op_KOt",
        "outputId": "e382fbe3-b002-40e0-b23d-88d266e6ab76",
        "colab": {
          "base_uri": "https://localhost:8080/",
          "height": 810
        }
      },
      "execution_count": null,
      "outputs": [
        {
          "output_type": "stream",
          "name": "stderr",
          "text": [
            "<ipython-input-41-633638b5d695>:14: FutureWarning: \n",
            "\n",
            "Passing `palette` without assigning `hue` is deprecated and will be removed in v0.14.0. Assign the `y` variable to `hue` and set `legend=False` for the same effect.\n",
            "\n",
            "  sns.barplot(x='Importance', y='Feature', data=feature_importance_df.head(40), palette='viridis')\n"
          ]
        },
        {
          "output_type": "display_data",
          "data": {
            "text/plain": [
              "<Figure size 1000x800 with 1 Axes>"
            ],
            "image/png": "[encoded data removed]"
          },
          "metadata": {}
        }
      ]
    },
    {
      "cell_type": "markdown",
      "metadata": {
        "id": "ueSniuMj95e0"
      },
      "source": [
        "Se puede observar que el rendimiento varía según el rango de TransactionAmt tanto para los modelos de Random Forest como para XGBoost."
      ]
    },
    {
      "cell_type": "markdown",
      "metadata": {
        "id": "I1au_uTQ95e0"
      },
      "source": [
        "## Conclusión\n",
        "-   Se separaron los datos procesados en conjuntos de entrenamiento, validación y prueba.\n",
        "-   Los datos de entrenamiento fueron balanceados utilizando submuestreo (undersampling).\n",
        "-   Se entrenaron tres modelos diferentes de clasificación supervisada: Logistic Regression, Random Forest y XGBoost, evaluando métricas clave para la clasificación binaria de fraude y no fraude.\n",
        "-   El modelo de Random Forest obtuvo las mejores métricas con un AUC de 0.74, seguido por XGBoost con un AUC de 0.64 y Logistic Regression con un AUC de 0.56. Aunque la exactitud (accuracy) de XGBoost fue mayor que la de Random Forest, el AUC es una métrica más relevante para evaluar la capacidad del modelo para distinguir entre eventos fraudulentos y no fraudulentos.\n",
        "- AUC y Recall: En problemas de fraude, el AUC y el recall de la clase fraudulenta son cruciales. Un alto recall para la clase de fraude significa que el modelo detecta la mayoría de los casos de fraude, lo cual es vital en este contexto.\n",
        "    - Recall (Sensibilidad o Recall):\n",
        "    El recall para la clase \"No Fraude\" es moderado, lo que significa que el modelo identifica correctamente el 73% de los casos de no fraude. Para la clase \"Fraude\", el recall es sorprendentemente alto (0.77), indicando que el modelo detecta una buena cantidad de los casos de fraude, aunque con baja precisión.\n",
        "- Se puede observar que el rendimiento varía según el rango de TransactionAmt tanto para los modelos de Random Forest como para XGBoost.  \n",
        "### Resultados\n",
        "\n",
        "| Modelo              | AUC  | Accuracy |\n",
        "|---------------------|------|----------|\n",
        "| Random Forest       | 0.74 | 0.72     |\n",
        "| XGBoost             | 0.64 | 0.76     |\n",
        "| Logistic Regression | 0.56 | 0.69     |\n",
        "\n",
        "**Nota:** El AUC (Área Bajo la Curva ROC) es especialmente importante en la detección de fraude, ya que mide la capacidad del modelo para separar correctamente las clases de fraude y no fraude. Aunque XGBoost mostró una mayor exactitud, el modelo de Random Forest fue superior en términos de AUC, lo que indica una mejor discriminación entre eventos fraudulentos y no fraudulentos.\n"
      ]
    }
  ],
  "metadata": {
    "kernelspec": {
      "display_name": "venv",
      "language": "python",
      "name": "python3"
    },
    "language_info": {
      "codemirror_mode": {
        "name": "ipython",
        "version": 3
      },
      "file_extension": ".py",
      "mimetype": "text/x-python",
      "name": "python",
      "nbconvert_exporter": "python",
      "pygments_lexer": "ipython3",
      "version": "3.11.7"
    },
    "colab": {
      "provenance": [],
      "include_colab_link": true
    }
  },
  "nbformat": 4,
  "nbformat_minor": 0
}
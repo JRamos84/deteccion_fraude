{
 "cells": [
  {
   "cell_type": "markdown",
   "metadata": {},
   "source": [
    "\n",
    "## 04 Modeling\n",
    "**Objetivo**: Construir y evaluar modelos de clasificación.\n",
    "**Contenido**:\n",
    "\n",
    "- Carga y preparación de los datos\n",
    "- División de los datos en conjuntos de entrenamiento y prueba\n",
    "- Entrenamiento de modelos\n",
    "- Evaluación de los modelos\n",
    "- Comparación de resultados"
   ]
  },
  {
   "cell_type": "code",
   "execution_count": 21,
   "metadata": {},
   "outputs": [],
   "source": [
    "##  Importación de Librerías\n",
    "import os\n",
    "import pandas as pd\n",
    "import numpy as np\n",
    "from sklearn.model_selection import train_test_split\n",
    "from sklearn.linear_model import LogisticRegression\n",
    "from sklearn.ensemble import RandomForestClassifier\n",
    "from sklearn.metrics import accuracy_score, confusion_matrix, classification_report, roc_auc_score\n",
    "from imblearn.under_sampling import RandomUnderSampler\n",
    "\n",
    "\n",
    "from sklearn.model_selection import cross_val_score\n",
    "from sklearn.model_selection import StratifiedKFold \n",
    "from sklearn.linear_model import LogisticRegression\n",
    "from sklearn.svm import SVC\n",
    "from sklearn.tree import DecisionTreeClassifier\n",
    "from sklearn.ensemble import RandomForestClassifier\n",
    "from sklearn.ensemble import GradientBoostingClassifier\n",
    "from sklearn.neural_network import MLPClassifier\n",
    "import xgboost as xgb\n",
    "\n",
    "\n",
    "\n",
    "import matplotlib.pyplot as plt\n",
    "import seaborn as sns"
   ]
  },
  {
   "cell_type": "markdown",
   "metadata": {},
   "source": [
    "## Carga y Preparación de los Datos"
   ]
  },
  {
   "cell_type": "code",
   "execution_count": 22,
   "metadata": {},
   "outputs": [],
   "source": [
    "\n",
    "dir_data_processed = '../data/processed'\n",
    "ruta_archivo_X = os.path.join(dir_data_processed, 'datos_procesados.csv')\n",
    "X = pd.read_csv(ruta_archivo_X)\n",
    "\n",
    "ruta_archivo_y = os.path.join(dir_data_processed, 'target.csv')\n",
    "y = pd.read_csv(ruta_archivo_y )\n"
   ]
  },
  {
   "cell_type": "code",
   "execution_count": 23,
   "metadata": {},
   "outputs": [
    {
     "data": {
      "text/plain": [
       "((432668, 21), (432668, 1))"
      ]
     },
     "execution_count": 23,
     "metadata": {},
     "output_type": "execute_result"
    }
   ],
   "source": [
    "X.shape , y.shape"
   ]
  },
  {
   "cell_type": "markdown",
   "metadata": {},
   "source": [
    "## División de los Datos en Conjuntos de Entrenamiento y Prueba"
   ]
  },
  {
   "cell_type": "markdown",
   "metadata": {},
   "source": [
    "### Criterios para la División de Datos\n",
    "\n",
    "#### Entrenamiento (Training Set):\n",
    "- Representa el 70% del conjunto de datos.\n",
    "- Se utiliza para ajustar el modelo.\n",
    "\n",
    "#### Validación (Validation Set):\n",
    "- Representa el 15% del conjunto de datos.\n",
    "- Se utiliza para ajustar los hiperparámetros y prevenir el sobreajuste.\n",
    "\n",
    "#### Prueba (Test Set):\n",
    "- Representa el 15% del conjunto de datos.\n",
    "- Se utiliza para evaluar el rendimiento final del modelo.\n"
   ]
  },
  {
   "cell_type": "code",
   "execution_count": 24,
   "metadata": {},
   "outputs": [
    {
     "name": "stdout",
     "output_type": "stream",
     "text": [
      "Forma del conjunto de entrenamiento: (302867, 21) (302867, 1)\n",
      "Forma del conjunto de validación: (64900, 21) (64900, 1)\n",
      "Forma del conjunto de prueba: (64901, 21) (64901, 1)\n"
     ]
    }
   ],
   "source": [
    "# Dividir los datos en conjunto de entrenamiento y conjunto temporal (que se dividirá en validación y prueba)\n",
    "X_train, X_temp, y_train, y_temp = train_test_split(X, y, test_size=0.3, random_state=42)\n",
    "\n",
    "# Dividir el conjunto temporal en conjunto de validación y conjunto de prueba\n",
    "X_val, X_test, y_val, y_test = train_test_split(X_temp, y_temp, test_size=0.5, random_state=42)\n",
    "\n",
    "# Mostrar las formas de los conjuntos de datos para asegurarse de que la división se realizó correctamente\n",
    "print(\"Forma del conjunto de entrenamiento:\", X_train.shape, y_train.shape)\n",
    "print(\"Forma del conjunto de validación:\", X_val.shape, y_val.shape)\n",
    "print(\"Forma del conjunto de prueba:\", X_test.shape, y_test.shape)\n"
   ]
  },
  {
   "cell_type": "markdown",
   "metadata": {},
   "source": [
    "## Balancear Datos aplicar Submuestreo (Undersampling)"
   ]
  },
  {
   "cell_type": "code",
   "execution_count": 25,
   "metadata": {},
   "outputs": [
    {
     "data": {
      "text/plain": [
       "((14604, 21), (14604, 1))"
      ]
     },
     "execution_count": 25,
     "metadata": {},
     "output_type": "execute_result"
    }
   ],
   "source": [
    "undersampler = RandomUnderSampler(random_state=42)\n",
    "X_train_resampled, y_train_resampled = undersampler.fit_resample(X_train, y_train)\n",
    "\n",
    "# Mostrar la distribución de clases después del submuestreo\n",
    "X_train_resampled.shape,y_train_resampled.shape"
   ]
  },
  {
   "cell_type": "code",
   "execution_count": 26,
   "metadata": {},
   "outputs": [
    {
     "data": {
      "text/plain": [
       "isFraud\n",
       "0          7302\n",
       "1          7302\n",
       "Name: count, dtype: int64"
      ]
     },
     "execution_count": 26,
     "metadata": {},
     "output_type": "execute_result"
    }
   ],
   "source": [
    "y_train_resampled.value_counts()"
   ]
  },
  {
   "cell_type": "markdown",
   "metadata": {},
   "source": [
    "## Entrenamiento de Modelos"
   ]
  },
  {
   "cell_type": "markdown",
   "metadata": {},
   "source": [
    "###  Modelo de Regresión Logística"
   ]
  },
  {
   "cell_type": "code",
   "execution_count": 27,
   "metadata": {},
   "outputs": [
    {
     "name": "stderr",
     "output_type": "stream",
     "text": [
      "/home/joseph/Documents/proyecto-portafolio/deteccion_fraude/venv/lib/python3.11/site-packages/sklearn/utils/validation.py:1310: DataConversionWarning: A column-vector y was passed when a 1d array was expected. Please change the shape of y to (n_samples, ), for example using ravel().\n",
      "  y = column_or_1d(y, warn=True)\n"
     ]
    },
    {
     "name": "stdout",
     "output_type": "stream",
     "text": [
      "Logistic Regression Accuracy: 0.7242681047765793\n",
      "ROC AUC Score: 0.6130686531309288\n"
     ]
    }
   ],
   "source": [
    "# Entrenar el modelo\n",
    "log_reg = LogisticRegression()\n",
    "log_reg.fit(X_train_resampled, y_train_resampled)\n",
    "\n",
    "# Predicciones y evaluación\n",
    "y_pred_log_reg = log_reg.predict(X_val)\n",
    "print('Logistic Regression Accuracy:', accuracy_score(y_val, y_pred_log_reg))\n",
    "print('ROC AUC Score:', roc_auc_score(y_val, y_pred_log_reg))\n"
   ]
  },
  {
   "cell_type": "code",
   "execution_count": 28,
   "metadata": {},
   "outputs": [
    {
     "name": "stdout",
     "output_type": "stream",
     "text": [
      "Scores de validación cruzada (Accuracy): [0.59910989 0.61759671 0.61451558 0.60047929 0.61232877]\n",
      "Precisión media (Accuracy): 0.61\n",
      "Scores de validación cruzada (ROC AUC): [0.6305486  0.65167506 0.65288834 0.63828866 0.64350957]\n",
      "ROC AUC medio: 0.64\n"
     ]
    }
   ],
   "source": [
    "\n",
    "y = np.ravel(y_train_resampled)\n",
    "\n",
    "# Crear un clasificador\n",
    "log_reg_cv = LogisticRegression()\n",
    "\n",
    "# Realizar validación cruzada con scoring de 'accuracy'\n",
    "cv_scores_accuracy = cross_val_score(log_reg_cv, X_train_resampled, y, cv=5, scoring='accuracy')\n",
    "\n",
    "# Realizar validación cruzada con scoring de 'roc_auc'\n",
    "cv_scores_roc_auc = cross_val_score(log_reg_cv, X_train_resampled, y, cv=5, scoring='roc_auc')\n",
    "\n",
    "# Mostrar resultados\n",
    "print(f'Scores de validación cruzada (Accuracy): {cv_scores_accuracy}')\n",
    "print(f'Precisión media (Accuracy): {cv_scores_accuracy.mean():.2f}')\n",
    "\n",
    "print(f'Scores de validación cruzada (ROC AUC): {cv_scores_roc_auc}')\n",
    "print(f'ROC AUC medio: {cv_scores_roc_auc.mean():.2f}')"
   ]
  },
  {
   "cell_type": "markdown",
   "metadata": {},
   "source": [
    "### Modelo de Bosque Aleatorio"
   ]
  },
  {
   "cell_type": "code",
   "execution_count": 29,
   "metadata": {},
   "outputs": [
    {
     "name": "stderr",
     "output_type": "stream",
     "text": [
      "/home/joseph/Documents/proyecto-portafolio/deteccion_fraude/venv/lib/python3.11/site-packages/sklearn/base.py:1473: DataConversionWarning: A column-vector y was passed when a 1d array was expected. Please change the shape of y to (n_samples,), for example using ravel().\n",
      "  return fit_method(estimator, *args, **kwargs)\n"
     ]
    },
    {
     "name": "stdout",
     "output_type": "stream",
     "text": [
      "Random Forest Accuracy: 0.7640369799691834\n",
      "ROC AUC Score: 0.775136218310986\n"
     ]
    }
   ],
   "source": [
    "# Entrenar el modelo\n",
    "rf_clf = RandomForestClassifier()\n",
    "rf_clf.fit(X_train_resampled, y_train_resampled)\n",
    "\n",
    "# Predicciones y evaluación\n",
    "y_pred_rf = rf_clf.predict(X_val)\n",
    "print('Random Forest Accuracy:', accuracy_score(y_val, y_pred_rf))\n",
    "print('ROC AUC Score:', roc_auc_score(y_val, y_pred_rf))\n"
   ]
  },
  {
   "cell_type": "code",
   "execution_count": 30,
   "metadata": {},
   "outputs": [
    {
     "name": "stdout",
     "output_type": "stream",
     "text": [
      "Scores de validación cruzada (Accuracy): [0.7586443  0.77199589 0.77404998 0.75693256 0.76232877]\n",
      "Precisión media (Accuracy): 0.76\n",
      "Scores de validación cruzada (ROC AUC): [0.84257475 0.86043384 0.85250813 0.83939317 0.84303035]\n",
      "ROC AUC medio: 0.85\n"
     ]
    }
   ],
   "source": [
    "\n",
    "y = np.ravel(y_train_resampled)\n",
    "\n",
    "# Crear un clasificador\n",
    "rf_clf_cv = RandomForestClassifier()\n",
    "\n",
    "# Realizar validación cruzada con scoring de 'accuracy'\n",
    "cv_scores_accuracy = cross_val_score(rf_clf_cv, X_train_resampled, y, cv=5, scoring='accuracy')\n",
    "\n",
    "# Realizar validación cruzada con scoring de 'roc_auc'\n",
    "cv_scores_roc_auc = cross_val_score(rf_clf_cv, X_train_resampled, y, cv=5, scoring='roc_auc')\n",
    "\n",
    "# Mostrar resultados\n",
    "print(f'Scores de validación cruzada (Accuracy): {cv_scores_accuracy}')\n",
    "print(f'Precisión media (Accuracy): {cv_scores_accuracy.mean():.2f}')\n",
    "\n",
    "print(f'Scores de validación cruzada (ROC AUC): {cv_scores_roc_auc}')\n",
    "print(f'ROC AUC medio: {cv_scores_roc_auc.mean():.2f}')"
   ]
  },
  {
   "cell_type": "markdown",
   "metadata": {},
   "source": [
    "## Modelo xgboost"
   ]
  },
  {
   "cell_type": "code",
   "execution_count": 31,
   "metadata": {},
   "outputs": [
    {
     "name": "stdout",
     "output_type": "stream",
     "text": [
      "Precisión en el conjunto de prueba (Accuracy): 0.75\n",
      "Área bajo la curva ROC (ROC AUC): 0.70\n"
     ]
    }
   ],
   "source": [
    "\n",
    "\n",
    "# Convertir datos a DMatrix (formato optimizado para XGBoost)\n",
    "dtrain = xgb.DMatrix(X_train_resampled, label=y_train_resampled)\n",
    "dval = xgb.DMatrix(X_val, label=y_val)\n",
    "\n",
    "#\n",
    "# Definir parámetros del modelo\n",
    "params = {\n",
    "   #'max_depth': 100,         # Profundidad máxima del árbol\n",
    "    'eta': 0.0001,             # Tasa de aprendizaje (learning rate)\n",
    "    'objective': 'binary:logistic',  # Función objetivo (clasificación binaria)\n",
    "    'eval_metric': ['logloss', 'auc']  # Métricas de evaluación\n",
    "}\n",
    "\n",
    "# Entrenar el modelo\n",
    "num_rounds = 100  # Número de iteraciones (boosting rounds)\n",
    "model = xgb.train(params, dtrain, num_rounds)\n",
    "\n",
    "# Predecir probabilidades en el conjunto de prueba\n",
    "y_pred_proba = model.predict(dval)\n",
    "\n",
    "# Convertir probabilidades a etiquetas binarias\n",
    "y_pred_binary = [1 if p > 0.5 else 0 for p in y_pred_proba]\n",
    "\n",
    "# Calcular la precisión en el conjunto de prueba\n",
    "accuracy = accuracy_score(y_val, y_pred_binary)\n",
    "print(f'Precisión en el conjunto de prueba (Accuracy): {accuracy:.2f}')\n",
    "\n",
    "# Calcular el área bajo la curva ROC (ROC AUC)\n",
    "roc_auc = roc_auc_score(y_val, y_pred_proba)\n",
    "print(f'Área bajo la curva ROC (ROC AUC): {roc_auc:.2f}')"
   ]
  },
  {
   "cell_type": "markdown",
   "metadata": {},
   "source": [
    "## Evaluación de los Modelos"
   ]
  },
  {
   "cell_type": "markdown",
   "metadata": {},
   "source": [
    "### Evaluación de Regresión Logística"
   ]
  },
  {
   "cell_type": "code",
   "execution_count": 32,
   "metadata": {},
   "outputs": [
    {
     "name": "stdout",
     "output_type": "stream",
     "text": [
      "Logistic Regression Classification Report:\n",
      "              precision    recall  f1-score   support\n",
      "\n",
      "           0       0.98      0.73      0.84     63324\n",
      "           1       0.04      0.50      0.08      1576\n",
      "\n",
      "    accuracy                           0.72     64900\n",
      "   macro avg       0.51      0.61      0.46     64900\n",
      "weighted avg       0.96      0.72      0.82     64900\n",
      "\n"
     ]
    },
    {
     "data": {
      "image/png": "[encoded data removed]",
      "text/plain": [
       "<Figure size 640x480 with 2 Axes>"
      ]
     },
     "metadata": {},
     "output_type": "display_data"
    }
   ],
   "source": [
    "# Reporte de clasificación\n",
    "print('Logistic Regression Classification Report:')\n",
    "print(classification_report(y_val, y_pred_log_reg))\n",
    "\n",
    "# Matriz de confusión\n",
    "conf_matrix_log_reg = confusion_matrix(y_val, y_pred_log_reg)\n",
    "sns.heatmap(conf_matrix_log_reg, annot=True, fmt='d', cmap='Blues')\n",
    "plt.title('Logistic Regression Confusion Matrix')\n",
    "plt.xlabel('Predicted')\n",
    "plt.ylabel('Actual')\n",
    "plt.show()\n"
   ]
  },
  {
   "cell_type": "markdown",
   "metadata": {},
   "source": [
    "### Evaluación del Modelo de Bosque Aleatorio"
   ]
  },
  {
   "cell_type": "code",
   "execution_count": 33,
   "metadata": {},
   "outputs": [
    {
     "name": "stdout",
     "output_type": "stream",
     "text": [
      "Random Forest Classification Report:\n",
      "              precision    recall  f1-score   support\n",
      "\n",
      "           0       0.99      0.76      0.86     63324\n",
      "           1       0.08      0.79      0.14      1576\n",
      "\n",
      "    accuracy                           0.76     64900\n",
      "   macro avg       0.53      0.78      0.50     64900\n",
      "weighted avg       0.97      0.76      0.85     64900\n",
      "\n"
     ]
    },
    {
     "data": {
      "image/png": "[encoded data removed]",
      "text/plain": [
       "<Figure size 640x480 with 2 Axes>"
      ]
     },
     "metadata": {},
     "output_type": "display_data"
    }
   ],
   "source": [
    "# Reporte de clasificación\n",
    "print('Random Forest Classification Report:')\n",
    "print(classification_report(y_val, y_pred_rf))\n",
    "\n",
    "# Matriz de confusión\n",
    "conf_matrix_rf = confusion_matrix(y_val, y_pred_rf)\n",
    "sns.heatmap(conf_matrix_rf, annot=True, fmt='d', cmap='Blues')\n",
    "plt.title('Random Forest Confusion Matrix')\n",
    "plt.xlabel('Predicted')\n",
    "plt.ylabel('Actual')\n",
    "plt.show()\n"
   ]
  },
  {
   "cell_type": "markdown",
   "metadata": {},
   "source": [
    "### Evaluación del Modelo de Xgboost"
   ]
  },
  {
   "cell_type": "code",
   "execution_count": 34,
   "metadata": {},
   "outputs": [
    {
     "name": "stdout",
     "output_type": "stream",
     "text": [
      "Random Forest Classification Report:\n",
      "              precision    recall  f1-score   support\n",
      "\n",
      "           0       0.99      0.76      0.86     63324\n",
      "           1       0.08      0.79      0.14      1576\n",
      "\n",
      "    accuracy                           0.76     64900\n",
      "   macro avg       0.53      0.78      0.50     64900\n",
      "weighted avg       0.97      0.76      0.85     64900\n",
      "\n"
     ]
    },
    {
     "data": {
      "image/png": "[encoded data removed]",
      "text/plain": [
       "<Figure size 640x480 with 2 Axes>"
      ]
     },
     "metadata": {},
     "output_type": "display_data"
    }
   ],
   "source": [
    "# Reporte de clasificación\n",
    "print('Random Forest Classification Report:')\n",
    "print(classification_report(y_val, y_pred_rf))\n",
    "\n",
    "# Matriz de confusión\n",
    "conf_matrix_rf = confusion_matrix(y_val, y_pred_binary)\n",
    "sns.heatmap(conf_matrix_rf, annot=True, fmt='d', cmap='Blues')\n",
    "plt.title('Random Forest Confusion Matrix')\n",
    "plt.xlabel('Predicted')\n",
    "plt.ylabel('Actual')\n",
    "plt.show()\n"
   ]
  },
  {
   "cell_type": "markdown",
   "metadata": {},
   "source": [
    "### Comparación de Resultados"
   ]
  },
  {
   "cell_type": "code",
   "execution_count": 35,
   "metadata": {},
   "outputs": [
    {
     "name": "stdout",
     "output_type": "stream",
     "text": [
      "                 Model  Accuracy  ROC AUC Score\n",
      "1        Random Forest  0.764037       0.775136\n",
      "2              Xgboost  0.754099       0.640730\n",
      "0  Logistic Regression  0.724268       0.613069\n"
     ]
    },
    {
     "data": {
      "image/png": "[encoded data removed]",
      "text/plain": [
       "<Figure size 1000x600 with 1 Axes>"
      ]
     },
     "metadata": {},
     "output_type": "display_data"
    }
   ],
   "source": [
    "# Comparación de métricas\n",
    "models = ['Logistic Regression', 'Random Forest','Xgboost']\n",
    "accuracy = [accuracy_score(y_val, y_pred_log_reg), accuracy_score(y_val, y_pred_rf), accuracy_score(y_val, y_pred_binary)]\n",
    "roc_auc = [roc_auc_score(y_val, y_pred_log_reg), roc_auc_score(y_val, y_pred_rf),roc_auc_score(y_val, y_pred_binary)]\n",
    "\n",
    "comparison_df = pd.DataFrame({'Model': models, 'Accuracy': accuracy, 'ROC AUC Score': roc_auc})\n",
    "print(comparison_df.sort_values(by='ROC AUC Score',ascending=False))\n",
    "\n",
    "# Visualización de la comparación\n",
    "comparison_df.set_index('Model').plot(kind='bar', figsize=(10, 6))\n",
    "plt.title('Model Comparison')\n",
    "plt.ylabel('Score')\n",
    "plt.show()\n"
   ]
  },
  {
   "cell_type": "markdown",
   "metadata": {},
   "source": [
    "##  Entrenar los modelos separando por rango de 'TransactionAmt_Range'"
   ]
  },
  {
   "cell_type": "code",
   "execution_count": 38,
   "metadata": {},
   "outputs": [],
   "source": [
    "# # Entrenar el modelo\n",
    "# def entrenar_por_rango_TransactionAmt_Range(X_train,y_train,X_val,y_val,range):\n",
    "#     #rf_clf = RandomForestClassifier(max_depth=10,n_estimators=100,max_features='sqrt',min_samples_leaf=2,min_samples_split=2,bootstrap=True,random_state=42)\n",
    "#     rf_clf = RandomForestClassifier(n_estimators=20, max_depth=40, min_samples_leaf=2,random_state=42)\n",
    "#     X_train_range = X_train[X_train['TransactionAmt_Range'] == range]\n",
    "#     y_train_range = y_train[X_train['TransactionAmt_Range'] == range]\n",
    "#     rf_clf.fit( X_train_range, y_train_range)\n",
    "    \n",
    "#     # Predicciones y evaluación\n",
    "#     X_val_range = X_val[X_val['TransactionAmt_Range'] == range]\n",
    "#     y_val_range = y_val[X_val['TransactionAmt_Range'] == range]\n",
    "#     y_pred_rf = rf_clf.predict(X_val_range)\n",
    "#     print('Random Forest Accuracy:', accuracy_score(y_val_range, y_pred_rf))\n",
    "#     print('ROC AUC Score:', roc_auc_score(y_val_range, y_pred_rf))\n",
    "# range = [0.0,1.0,2.0,3.0]\n",
    "\n",
    "# for i in range:\n",
    "#     print(i)\n",
    "#     entrenar_por_rango_TransactionAmt_Range(X_train_resampled,y_train_resampled,X_val,y_val,i)"
   ]
  },
  {
   "cell_type": "code",
   "execution_count": 40,
   "metadata": {},
   "outputs": [],
   "source": [
    "# def entrenar_por_rango_TransactionAmt_Range_xgboost(X_train,y_train,X_val,y_val,range):\n",
    "#     X_train_range = X_train[X_train['TransactionAmt_Range'] == range]\n",
    "#     y_train_range = y_train[X_train['TransactionAmt_Range'] == range]\n",
    "#     X_val_range = X_val[X_val['TransactionAmt_Range'] == range]\n",
    "#     y_val_range = y_val[X_val['TransactionAmt_Range'] == range]\n",
    "\n",
    "#     # Convertir datos a DMatrix (formato optimizado para XGBoost)\n",
    "#     dtrain = xgb.DMatrix(X_train_range, label=y_train_range)\n",
    "#     dval = xgb.DMatrix(X_val_range, label=y_val_range)\n",
    "\n",
    "#     #\n",
    "#     # Definir parámetros del modelo\n",
    "#     params = {\n",
    "#        'max_depth': 10,         # Profundidad máxima del árbol\n",
    "#         'eta': 0.2,             # Tasa de aprendizaje (learning rate)\n",
    "#         'objective': 'binary:logistic',  # Función objetivo (clasificación binaria)\n",
    "#         'eval_metric': ['logloss', 'auc']  # Métricas de evaluación\n",
    "#     }\n",
    "\n",
    "#     # Entrenar el modelo\n",
    "#     num_rounds = 100  # Número de iteraciones (boosting rounds)\n",
    "#     model = xgb.train(params, dtrain, num_rounds)\n",
    "\n",
    "#     # Predecir probabilidades en el conjunto de prueba\n",
    "#     y_pred_proba = model.predict(dval)\n",
    "\n",
    "#     # Convertir probabilidades a etiquetas binarias\n",
    "#     y_pred_binary = [1 if p > 0.5 else 0 for p in y_pred_proba]\n",
    "\n",
    "#     # Calcular la precisión en el conjunto de prueba\n",
    "#     accuracy = accuracy_score(y_val_range, y_pred_binary)\n",
    "#     print(f'Precisión en el conjunto de prueba (Accuracy): {accuracy:.2f}')\n",
    "\n",
    "#     # Calcular el área bajo la curva ROC (ROC AUC)\n",
    "#     roc_auc = roc_auc_score(y_val_range, y_pred_proba)\n",
    "#     print(f'Área bajo la curva ROC (ROC AUC): {roc_auc:.2f}')\n",
    "    \n",
    "# for i in range:\n",
    "#     print(i)\n",
    "#     entrenar_por_rango_TransactionAmt_Range_xgboost(X_train_resampled,y_train_resampled,X_val,y_val,i)"
   ]
  },
  {
   "cell_type": "markdown",
   "metadata": {},
   "source": [
    "Se puede observar que el rendimiento varía según el rango de TransactionAmt tanto para los modelos de Random Forest como para XGBoost."
   ]
  },
  {
   "cell_type": "markdown",
   "metadata": {},
   "source": [
    "## Conclusión\n",
    "-   Se separaron los datos procesados en conjuntos de entrenamiento, validación y prueba.\n",
    "-   Los datos de entrenamiento fueron balanceados utilizando submuestreo (undersampling).\n",
    "-   Se entrenaron tres modelos diferentes de clasificación supervisada: Logistic Regression, Random Forest y XGBoost, evaluando métricas clave para la clasificación binaria de fraude y no fraude.\n",
    "-   El modelo de Random Forest obtuvo las mejores métricas con un AUC de 0.74, seguido por XGBoost con un AUC de 0.64 y Logistic Regression con un AUC de 0.56. Aunque la exactitud (accuracy) de XGBoost fue mayor que la de Random Forest, el AUC es una métrica más relevante para evaluar la capacidad del modelo para distinguir entre eventos fraudulentos y no fraudulentos.\n",
    "- AUC y Recall: En problemas de fraude, el AUC y el recall de la clase fraudulenta son cruciales. Un alto recall para la clase de fraude significa que el modelo detecta la mayoría de los casos de fraude, lo cual es vital en este contexto.\n",
    "    - Recall (Sensibilidad o Recall):\n",
    "    El recall para la clase \"No Fraude\" es moderado, lo que significa que el modelo identifica correctamente el 73% de los casos de no fraude. Para la clase \"Fraude\", el recall es sorprendentemente alto (0.77), indicando que el modelo detecta una buena cantidad de los casos de fraude, aunque con baja precisión. \n",
    "- Se puede observar que el rendimiento varía según el rango de TransactionAmt tanto para los modelos de Random Forest como para XGBoost.  \n",
    "### Resultados\n",
    "\n",
    "| Modelo              | AUC  | Accuracy |\n",
    "|---------------------|------|----------|\n",
    "| Random Forest       | 0.74 | 0.72     |\n",
    "| XGBoost             | 0.64 | 0.76     |\n",
    "| Logistic Regression | 0.56 | 0.69     |\n",
    "\n",
    "**Nota:** El AUC (Área Bajo la Curva ROC) es especialmente importante en la detección de fraude, ya que mide la capacidad del modelo para separar correctamente las clases de fraude y no fraude. Aunque XGBoost mostró una mayor exactitud, el modelo de Random Forest fue superior en términos de AUC, lo que indica una mejor discriminación entre eventos fraudulentos y no fraudulentos.\n"
   ]
  },
  {
   "cell_type": "code",
   "execution_count": null,
   "metadata": {},
   "outputs": [],
   "source": [
    "# Guardar X y y en archivos CSV\n",
    "\n",
    "dir_data_processed = '../data/processed'\n",
    "ruta_archivo_X = os.path.join(dir_data_processed, 'X_train_resampled.csv')\n",
    "X_train_resampled.to_csv(ruta_archivo_X, index=False, encoding='utf-8')\n",
    "\n",
    "ruta_archivo_y = os.path.join(dir_data_processed, 'y_train_resampled.csv')\n",
    "y_train_resampled.to_csv(ruta_archivo_y, index=False, encoding='utf-8')\n",
    "\n",
    "ruta_archivo_X = os.path.join(dir_data_processed, 'X_val.csv')\n",
    "X_val.to_csv(ruta_archivo_X, index=False, encoding='utf-8')\n",
    "\n",
    "ruta_archivo_y = os.path.join(dir_data_processed, 'y_val.csv')\n",
    "y_val.to_csv(ruta_archivo_y, index=False, encoding='utf-8')\n",
    "\n",
    "\n",
    "ruta_archivo_X = os.path.join(dir_data_processed, 'X_test.csv')\n",
    "X_test.to_csv(ruta_archivo_X, index=False, encoding='utf-8')\n",
    "\n",
    "ruta_archivo_y = os.path.join(dir_data_processed, 'y_test.csv')\n",
    "y_test.to_csv(ruta_archivo_y, index=False, encoding='utf-8')\n",
    "\n",
    "\n",
    "\n"
   ]
  }
 ],
 "metadata": {
  "kernelspec": {
   "display_name": "venv",
   "language": "python",
   "name": "python3"
  },
  "language_info": {
   "codemirror_mode": {
    "name": "ipython",
    "version": 3
   },
   "file_extension": ".py",
   "mimetype": "text/x-python",
   "name": "python",
   "nbconvert_exporter": "python",
   "pygments_lexer": "ipython3",
   "version": "3.11.7"
  }
 },
 "nbformat": 4,
 "nbformat_minor": 2
}

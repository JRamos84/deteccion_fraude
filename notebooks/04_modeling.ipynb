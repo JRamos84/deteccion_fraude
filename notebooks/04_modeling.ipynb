{
  "cells": [
    {
      "cell_type": "markdown",
      "metadata": {
        "id": "YbsgzIp8bhqo"
      },
      "source": [
        "\n",
        "## 04 Modeling\n",
        "**Objetivo**: Construir y evaluar modelos de clasificación.\n",
        "**Contenido**:\n",
        "\n",
        "- Carga y preparación de los datos\n",
        "- División de los datos en conjuntos de entrenamiento y prueba\n",
        "- Entrenamiento de modelos\n",
        "- Evaluación de los modelos\n",
        "- Comparación de resultados"
      ]
    },
    {
      "cell_type": "code",
      "execution_count": 1,
      "metadata": {
        "id": "Zjz6zLO-bhqr"
      },
      "outputs": [],
      "source": [
        "##  Importación de Librerías\n",
        "import os\n",
        "import pandas as pd\n",
        "import numpy as np\n",
        "from sklearn.model_selection import train_test_split\n",
        "from sklearn.linear_model import LogisticRegression\n",
        "from sklearn.ensemble import RandomForestClassifier\n",
        "from sklearn.metrics import accuracy_score, confusion_matrix, classification_report, roc_auc_score\n",
        "from imblearn.under_sampling import RandomUnderSampler\n",
        "\n",
        "\n",
        "from sklearn.model_selection import cross_val_score\n",
        "from sklearn.model_selection import StratifiedKFold\n",
        "from sklearn.linear_model import LogisticRegression\n",
        "from sklearn.svm import SVC\n",
        "from sklearn.tree import DecisionTreeClassifier\n",
        "from sklearn.ensemble import RandomForestClassifier\n",
        "from sklearn.ensemble import GradientBoostingClassifier\n",
        "from sklearn.neural_network import MLPClassifier\n",
        "import xgboost as xgb\n",
        "\n",
        "\n",
        "\n",
        "import matplotlib.pyplot as plt\n",
        "import seaborn as sns"
      ]
    },
    {
      "cell_type": "code",
      "source": [
        "## Importamos las librerias a usar\n",
        "from google.colab import drive\n",
        "drive.mount('/content/drive')\n",
        "data_dir = '/content/drive/MyDrive/cursos-analisis-datos/data-science/proyecto/propuestas/propuesta1/ieee-fraud-detection'\n",
        ""
      ],
      "metadata": {
        "id": "Y-0l4DhEbsja",
        "outputId": "3de940c8-b5a9-4626-a345-6cecb7d16db9",
        "colab": {
          "base_uri": "https://localhost:8080/"
        }
      },
      "execution_count": 2,
      "outputs": [
        {
          "output_type": "stream",
          "name": "stdout",
          "text": [
            "Mounted at /content/drive\n"
          ]
        }
      ]
    },
    {
      "cell_type": "markdown",
      "metadata": {
        "id": "1hdIFI2Kbhqu"
      },
      "source": [
        "## Carga y Preparación de los Datos"
      ]
    },
    {
      "cell_type": "code",
      "execution_count": 12,
      "metadata": {
        "id": "CTIC41bLbhqv"
      },
      "outputs": [],
      "source": [
        "\n",
        "#dir_data_processed = '../data/processed'\n",
        "dir_data_processed = '/content/drive/MyDrive/cursos-analisis-datos/data-science/proyecto/propuestas/propuesta1/ieee-fraud-detection/processed'\n",
        "ruta_archivo_X = os.path.join(dir_data_processed, 'datos_procesados.csv')\n",
        "X = pd.read_csv(ruta_archivo_X)\n",
        "\n",
        "ruta_archivo_y = os.path.join(dir_data_processed, 'target.csv')\n",
        "y = pd.read_csv(ruta_archivo_y )\n"
      ]
    },
    {
      "cell_type": "code",
      "execution_count": 4,
      "metadata": {
        "id": "RGRCU-t6bhqv",
        "outputId": "0204c012-ee6b-4b67-f02b-9352835c9ad6",
        "colab": {
          "base_uri": "https://localhost:8080/"
        }
      },
      "outputs": [
        {
          "output_type": "execute_result",
          "data": {
            "text/plain": [
              "((57801, 120), (57801, 1))"
            ]
          },
          "metadata": {},
          "execution_count": 4
        }
      ],
      "source": [
        "X.shape , y.shape"
      ]
    },
    {
      "cell_type": "markdown",
      "metadata": {
        "id": "R9ZXLCCmbhqw"
      },
      "source": [
        "## División de los Datos en Conjuntos de Entrenamiento y Prueba"
      ]
    },
    {
      "cell_type": "markdown",
      "metadata": {
        "id": "Gs51oedXbhqx"
      },
      "source": [
        "### Criterios para la División de Datos\n",
        "\n",
        "#### Entrenamiento (Training Set):\n",
        "- Representa el 70% del conjunto de datos.\n",
        "- Se utiliza para ajustar el modelo.\n",
        "\n",
        "#### Validación (Validation Set):\n",
        "- Representa el 15% del conjunto de datos.\n",
        "- Se utiliza para ajustar los hiperparámetros y prevenir el sobreajuste.\n",
        "\n",
        "#### Prueba (Test Set):\n",
        "- Representa el 15% del conjunto de datos.\n",
        "- Se utiliza para evaluar el rendimiento final del modelo.\n"
      ]
    },
    {
      "cell_type": "code",
      "execution_count": 5,
      "metadata": {
        "id": "1AaLAlhIbhqx",
        "outputId": "5dd74f2f-5d4b-424e-ef1a-4d2e3ff55635",
        "colab": {
          "base_uri": "https://localhost:8080/"
        }
      },
      "outputs": [
        {
          "output_type": "stream",
          "name": "stdout",
          "text": [
            "Forma del conjunto de entrenamiento: (40460, 120) (40460, 1)\n",
            "Forma del conjunto de validación: (8670, 120) (8670, 1)\n",
            "Forma del conjunto de prueba: (8671, 120) (8671, 1)\n"
          ]
        }
      ],
      "source": [
        "# Dividir los datos en conjunto de entrenamiento y conjunto temporal (que se dividirá en validación y prueba)\n",
        "X_train, X_temp, y_train, y_temp = train_test_split(X, y, test_size=0.3, random_state=42)\n",
        "\n",
        "# Dividir el conjunto temporal en conjunto de validación y conjunto de prueba\n",
        "X_val, X_test, y_val, y_test = train_test_split(X_temp, y_temp, test_size=0.5, random_state=42)\n",
        "\n",
        "# Mostrar las formas de los conjuntos de datos para asegurarse de que la división se realizó correctamente\n",
        "print(\"Forma del conjunto de entrenamiento:\", X_train.shape, y_train.shape)\n",
        "print(\"Forma del conjunto de validación:\", X_val.shape, y_val.shape)\n",
        "print(\"Forma del conjunto de prueba:\", X_test.shape, y_test.shape)\n"
      ]
    },
    {
      "cell_type": "markdown",
      "metadata": {
        "id": "aUaZwrO3bhqy"
      },
      "source": [
        "## Balancear Datos aplicar Submuestreo (Undersampling)"
      ]
    },
    {
      "cell_type": "code",
      "execution_count": 6,
      "metadata": {
        "id": "YCHnH9-Gbhqy",
        "outputId": "0ee90b78-efab-4a64-d23f-b5044f9a843e",
        "colab": {
          "base_uri": "https://localhost:8080/"
        }
      },
      "outputs": [
        {
          "output_type": "execute_result",
          "data": {
            "text/plain": [
              "((2774, 120), (2774, 1))"
            ]
          },
          "metadata": {},
          "execution_count": 6
        }
      ],
      "source": [
        "undersampler = RandomUnderSampler(random_state=42)\n",
        "X_train_resampled, y_train_resampled = undersampler.fit_resample(X_train, y_train)\n",
        "\n",
        "# Mostrar la distribución de clases después del submuestreo\n",
        "X_train_resampled.shape,y_train_resampled.shape"
      ]
    },
    {
      "cell_type": "code",
      "execution_count": 10,
      "metadata": {
        "id": "18H4-lKObhqz",
        "outputId": "8bcc790b-af58-40e9-93c2-0e7ed7f1997e",
        "colab": {
          "base_uri": "https://localhost:8080/"
        }
      },
      "outputs": [
        {
          "output_type": "execute_result",
          "data": {
            "text/plain": [
              "isFraud\n",
              "0          1387\n",
              "1          1387\n",
              "Name: count, dtype: int64"
            ]
          },
          "metadata": {},
          "execution_count": 10
        }
      ],
      "source": [
        "y_train_resampled.value_counts()"
      ]
    },
    {
      "cell_type": "code",
      "execution_count": 13,
      "metadata": {
        "id": "xVrjdYAsbhqz"
      },
      "outputs": [],
      "source": [
        "# Guardar X y y en archivos CSV\n",
        "\n",
        "dir_data_processed\n",
        "ruta_archivo_X = os.path.join(dir_data_processed, 'X_train_resampled.csv')\n",
        "X_train_resampled.to_csv(ruta_archivo_X, index=False, encoding='utf-8')\n",
        "\n",
        "ruta_archivo_y = os.path.join(dir_data_processed, 'y_train_resampled.csv')\n",
        "y_train_resampled.to_csv(ruta_archivo_y, index=False, encoding='utf-8')\n",
        "\n",
        "ruta_archivo_X = os.path.join(dir_data_processed, 'X_val.csv')\n",
        "X_val.to_csv(ruta_archivo_X, index=False, encoding='utf-8')\n",
        "\n",
        "ruta_archivo_y = os.path.join(dir_data_processed, 'y_val.csv')\n",
        "y_val.to_csv(ruta_archivo_y, index=False, encoding='utf-8')\n",
        "\n",
        "\n",
        "ruta_archivo_X = os.path.join(dir_data_processed, 'X_test.csv')\n",
        "X_test.to_csv(ruta_archivo_X, index=False, encoding='utf-8')\n",
        "\n",
        "ruta_archivo_y = os.path.join(dir_data_processed, 'y_test.csv')\n",
        "y_test.to_csv(ruta_archivo_y, index=False, encoding='utf-8')\n",
        "\n",
        "\n",
        "\n"
      ]
    },
    {
      "cell_type": "markdown",
      "metadata": {
        "id": "DDQWQGqBbhq0"
      },
      "source": [
        "## Entrenamiento de Modelos"
      ]
    },
    {
      "cell_type": "markdown",
      "metadata": {
        "id": "JWpE-Ogabhq0"
      },
      "source": [
        "###  Modelo de Regresión Logística"
      ]
    },
    {
      "cell_type": "code",
      "execution_count": 14,
      "metadata": {
        "id": "bUjaTaUtbhq0"
      },
      "outputs": [],
      "source": [
        "# # Entrenar el modelo\n",
        "# log_reg = LogisticRegression()\n",
        "# log_reg.fit(X_train_resampled, y_train_resampled)\n",
        "\n",
        "# # Predicciones y evaluación\n",
        "# y_pred_log_reg = log_reg.predict(X_val)\n",
        "# print('Logistic Regression Accuracy:', accuracy_score(y_val, y_pred_log_reg))\n",
        "# print('ROC AUC Score:', roc_auc_score(y_val, y_pred_log_reg))\n"
      ]
    },
    {
      "cell_type": "code",
      "execution_count": 15,
      "metadata": {
        "id": "cu-0wc8Ubhq0",
        "outputId": "a2b62af7-700d-45e9-a1cb-bcb473e3c4a4",
        "colab": {
          "base_uri": "https://localhost:8080/"
        }
      },
      "outputs": [
        {
          "output_type": "stream",
          "name": "stdout",
          "text": [
            "Scores de validación cruzada (Accuracy): [0.61261261 0.58918919 0.58018018 0.5981982  0.59566787]\n",
            "Precisión media (Accuracy): 0.60\n",
            "Scores de validación cruzada (ROC AUC): [0.69184219 0.64959873 0.64907929 0.65644236 0.66642339]\n",
            "ROC AUC medio: 0.66\n"
          ]
        }
      ],
      "source": [
        "\n",
        "y = np.ravel(y_train_resampled)\n",
        "\n",
        "# Crear un clasificador\n",
        "log_reg_cv = LogisticRegression()\n",
        "\n",
        "# Realizar validación cruzada con scoring de 'accuracy'\n",
        "cv_scores_accuracy = cross_val_score(log_reg_cv, X_train_resampled, y, cv=5, scoring='accuracy')\n",
        "\n",
        "# Realizar validación cruzada con scoring de 'roc_auc'\n",
        "cv_scores_roc_auc = cross_val_score(log_reg_cv, X_train_resampled, y, cv=5, scoring='roc_auc')\n",
        "\n",
        "# Mostrar resultados\n",
        "print(f'Scores de validación cruzada (Accuracy): {cv_scores_accuracy}')\n",
        "print(f'Precisión media (Accuracy): {cv_scores_accuracy.mean():.2f}')\n",
        "\n",
        "print(f'Scores de validación cruzada (ROC AUC): {cv_scores_roc_auc}')\n",
        "print(f'ROC AUC medio: {cv_scores_roc_auc.mean():.2f}')"
      ]
    },
    {
      "cell_type": "markdown",
      "metadata": {
        "id": "M8M_eBPfbhq1"
      },
      "source": [
        "### Modelo de Bosque Aleatorio"
      ]
    },
    {
      "cell_type": "code",
      "execution_count": 16,
      "metadata": {
        "id": "IihqUnC1bhq1",
        "outputId": "8d629d81-96db-4e6c-b93e-7fec286b804a",
        "colab": {
          "base_uri": "https://localhost:8080/"
        }
      },
      "outputs": [
        {
          "output_type": "stream",
          "name": "stderr",
          "text": [
            "<ipython-input-16-a85e3288333d>:3: DataConversionWarning: A column-vector y was passed when a 1d array was expected. Please change the shape of y to (n_samples,), for example using ravel().\n",
            "  rf_clf.fit(X_train_resampled, y_train_resampled)\n"
          ]
        },
        {
          "output_type": "stream",
          "name": "stdout",
          "text": [
            "Random Forest Accuracy: 0.7824682814302192\n",
            "ROC AUC Score: 0.7929095850901808\n"
          ]
        }
      ],
      "source": [
        "# Entrenar el modelo\n",
        "rf_clf = RandomForestClassifier()\n",
        "rf_clf.fit(X_train_resampled, y_train_resampled)\n",
        "\n",
        "# Predicciones y evaluación\n",
        "y_pred_rf = rf_clf.predict(X_val)\n",
        "print('Random Forest Accuracy:', accuracy_score(y_val, y_pred_rf))\n",
        "print('ROC AUC Score:', roc_auc_score(y_val, y_pred_rf))\n"
      ]
    },
    {
      "cell_type": "code",
      "execution_count": 17,
      "metadata": {
        "id": "nR1GfPVxbhq1",
        "outputId": "f8d76a18-5751-4d31-edf1-c9cfa7ec7575",
        "colab": {
          "base_uri": "https://localhost:8080/"
        }
      },
      "outputs": [
        {
          "output_type": "stream",
          "name": "stdout",
          "text": [
            "Scores de validación cruzada (Accuracy): [0.76936937 0.78918919 0.78378378 0.76936937 0.76173285]\n",
            "Precisión media (Accuracy): 0.77\n",
            "Scores de validación cruzada (ROC AUC): [0.83752565 0.86844532 0.85919928 0.85885515 0.84378788]\n",
            "ROC AUC medio: 0.85\n"
          ]
        }
      ],
      "source": [
        "\n",
        "y = np.ravel(y_train_resampled)\n",
        "\n",
        "# Crear un clasificador\n",
        "rf_clf_cv = RandomForestClassifier()\n",
        "\n",
        "# Realizar validación cruzada con scoring de 'accuracy'\n",
        "cv_scores_accuracy = cross_val_score(rf_clf_cv, X_train_resampled, y, cv=5, scoring='accuracy')\n",
        "\n",
        "# Realizar validación cruzada con scoring de 'roc_auc'\n",
        "cv_scores_roc_auc = cross_val_score(rf_clf_cv, X_train_resampled, y, cv=5, scoring='roc_auc')\n",
        "\n",
        "# Mostrar resultados\n",
        "print(f'Scores de validación cruzada (Accuracy): {cv_scores_accuracy}')\n",
        "print(f'Precisión media (Accuracy): {cv_scores_accuracy.mean():.2f}')\n",
        "\n",
        "print(f'Scores de validación cruzada (ROC AUC): {cv_scores_roc_auc}')\n",
        "print(f'ROC AUC medio: {cv_scores_roc_auc.mean():.2f}')"
      ]
    },
    {
      "cell_type": "markdown",
      "metadata": {
        "id": "n82RW-Ngbhq2"
      },
      "source": [
        "## Modelo xgboost"
      ]
    },
    {
      "cell_type": "code",
      "execution_count": 18,
      "metadata": {
        "id": "l4ueQWdabhq2"
      },
      "outputs": [],
      "source": [
        "\n",
        "\n",
        "# # Convertir datos a DMatrix (formato optimizado para XGBoost)\n",
        "# dtrain = xgb.DMatrix(X_train_resampled, label=y_train_resampled)\n",
        "# dval = xgb.DMatrix(X_val, label=y_val)\n",
        "\n",
        "# #\n",
        "# # Definir parámetros del modelo\n",
        "# params = {\n",
        "#    #'max_depth': 100,         # Profundidad máxima del árbol\n",
        "#     'eta': 0.0001,             # Tasa de aprendizaje (learning rate)\n",
        "#     'objective': 'binary:logistic',  # Función objetivo (clasificación binaria)\n",
        "#     'eval_metric': ['logloss', 'auc']  # Métricas de evaluación\n",
        "# }\n",
        "\n",
        "# # Entrenar el modelo\n",
        "# num_rounds = 100  # Número de iteraciones (boosting rounds)\n",
        "# model = xgb.train(params, dtrain, num_rounds)\n",
        "\n",
        "# # Predecir probabilidades en el conjunto de prueba\n",
        "# y_pred_proba = model.predict(dval)\n",
        "\n",
        "# # Convertir probabilidades a etiquetas binarias\n",
        "# y_pred_binary = [1 if p > 0.5 else 0 for p in y_pred_proba]\n",
        "\n",
        "# # Calcular la precisión en el conjunto de prueba\n",
        "# accuracy = accuracy_score(y_val, y_pred_binary)\n",
        "# print(f'Precisión en el conjunto de prueba (Accuracy): {accuracy:.2f}')\n",
        "\n",
        "# # Calcular el área bajo la curva ROC (ROC AUC)\n",
        "# roc_auc = roc_auc_score(y_val, y_pred_proba)\n",
        "# print(f'Área bajo la curva ROC (ROC AUC): {roc_auc:.2f}')"
      ]
    },
    {
      "cell_type": "markdown",
      "metadata": {
        "id": "OfHRdvYobhq2"
      },
      "source": [
        "## Evaluación de los Modelos"
      ]
    },
    {
      "cell_type": "markdown",
      "metadata": {
        "id": "ZoPdk-E9bhq3"
      },
      "source": [
        "### Evaluación de Regresión Logística"
      ]
    },
    {
      "cell_type": "code",
      "execution_count": 19,
      "metadata": {
        "id": "an5JJrn9bhq3"
      },
      "outputs": [],
      "source": [
        "# # Reporte de clasificación\n",
        "# print('Logistic Regression Classification Report:')\n",
        "# print(classification_report(y_val, y_pred_log_reg))\n",
        "\n",
        "# # Matriz de confusión\n",
        "# conf_matrix_log_reg = confusion_matrix(y_val, y_pred_log_reg)\n",
        "# sns.heatmap(conf_matrix_log_reg, annot=True, fmt='d', cmap='Blues')\n",
        "# plt.title('Logistic Regression Confusion Matrix')\n",
        "# plt.xlabel('Predicted')\n",
        "# plt.ylabel('Actual')\n",
        "# # plt.show()\n"
      ]
    },
    {
      "cell_type": "markdown",
      "metadata": {
        "id": "jCV8J0_Hbhq3"
      },
      "source": [
        "### Evaluación del Modelo de Bosque Aleatorio"
      ]
    },
    {
      "cell_type": "code",
      "execution_count": 20,
      "metadata": {
        "id": "GFLy2x4Nbhq3",
        "outputId": "3e6e5d29-ab8b-44ad-d931-cc27f39e67ac",
        "colab": {
          "base_uri": "https://localhost:8080/",
          "height": 646
        }
      },
      "outputs": [
        {
          "output_type": "stream",
          "name": "stdout",
          "text": [
            "Random Forest Classification Report:\n",
            "              precision    recall  f1-score   support\n",
            "\n",
            "           0       0.99      0.78      0.87      8338\n",
            "           1       0.13      0.80      0.22       332\n",
            "\n",
            "    accuracy                           0.78      8670\n",
            "   macro avg       0.56      0.79      0.55      8670\n",
            "weighted avg       0.96      0.78      0.85      8670\n",
            "\n"
          ]
        },
        {
          "output_type": "display_data",
          "data": {
            "text/plain": [
              "<Figure size 640x480 with 2 Axes>"
            ],
            "image/png": "[encoded data removed]"
          },
          "metadata": {}
        }
      ],
      "source": [
        "# Reporte de clasificación\n",
        "print('Random Forest Classification Report:')\n",
        "print(classification_report(y_val, y_pred_rf))\n",
        "\n",
        "# Matriz de confusión\n",
        "conf_matrix_rf = confusion_matrix(y_val, y_pred_rf)\n",
        "sns.heatmap(conf_matrix_rf, annot=True, fmt='d', cmap='Blues')\n",
        "plt.title('Random Forest Confusion Matrix')\n",
        "plt.xlabel('Predicted')\n",
        "plt.ylabel('Actual')\n",
        "plt.show()\n"
      ]
    },
    {
      "cell_type": "markdown",
      "metadata": {
        "id": "gm2eKxUcbhq4"
      },
      "source": [
        "### Evaluación del Modelo de Xgboost"
      ]
    },
    {
      "cell_type": "code",
      "execution_count": 21,
      "metadata": {
        "id": "WxI5XphJbhq4"
      },
      "outputs": [],
      "source": [
        "# # Reporte de clasificación\n",
        "# print('Random Forest Classification Report:')\n",
        "# print(classification_report(y_val, y_pred_rf))\n",
        "\n",
        "# # Matriz de confusión\n",
        "# conf_matrix_rf = confusion_matrix(y_val, y_pred_binary)\n",
        "# sns.heatmap(conf_matrix_rf, annot=True, fmt='d', cmap='Blues')\n",
        "# plt.title('Random Forest Confusion Matrix')\n",
        "# plt.xlabel('Predicted')\n",
        "# plt.ylabel('Actual')\n",
        "# plt.show()\n"
      ]
    },
    {
      "cell_type": "markdown",
      "metadata": {
        "id": "3d0kok3Dbhq4"
      },
      "source": [
        "### Comparación de Resultados"
      ]
    },
    {
      "cell_type": "code",
      "execution_count": 22,
      "metadata": {
        "id": "dikjsWQxbhq5",
        "outputId": "e64721df-e6b1-4ad3-a895-83e830ed913f",
        "colab": {
          "base_uri": "https://localhost:8080/",
          "height": 690
        }
      },
      "outputs": [
        {
          "output_type": "stream",
          "name": "stdout",
          "text": [
            "           Model  Accuracy  ROC AUC Score\n",
            "0  Random Forest  0.782468        0.79291\n"
          ]
        },
        {
          "output_type": "display_data",
          "data": {
            "text/plain": [
              "<Figure size 1000x600 with 1 Axes>"
            ],
            "image/png": "[encoded data removed]"
          },
          "metadata": {}
        }
      ],
      "source": [
        "# Comparación de métricas\n",
        "models = ['Random Forest']\n",
        "accuracy = [accuracy_score(y_val, y_pred_rf)]\n",
        "roc_auc = [roc_auc_score(y_val, y_pred_rf)]\n",
        "\n",
        "comparison_df = pd.DataFrame({'Model': models, 'Accuracy': accuracy, 'ROC AUC Score': roc_auc})\n",
        "print(comparison_df.sort_values(by='ROC AUC Score',ascending=False))\n",
        "\n",
        "# Visualización de la comparación\n",
        "comparison_df.set_index('Model').plot(kind='bar', figsize=(10, 6))\n",
        "plt.title('Model Comparison')\n",
        "plt.ylabel('Score')\n",
        "plt.show()\n"
      ]
    },
    {
      "cell_type": "markdown",
      "metadata": {
        "id": "bAEh8eUxbhq5"
      },
      "source": [
        "Se puede observar que el rendimiento varía según el rango de TransactionAmt tanto para los modelos de Random Forest como para XGBoost."
      ]
    },
    {
      "cell_type": "markdown",
      "metadata": {
        "id": "kdW9NOhhbhq5"
      },
      "source": [
        "## Conclusión\n",
        "-   Se separaron los datos procesados en conjuntos de entrenamiento, validación y prueba.\n",
        "-   Los datos de entrenamiento fueron balanceados utilizando submuestreo (undersampling).\n",
        "-   Se entrenaron tres modelos diferentes de clasificación supervisada: Logistic Regression, Random Forest y XGBoost, evaluando métricas clave para la clasificación binaria de fraude y no fraude.\n",
        "-   El modelo de Random Forest obtuvo las mejores métricas con un AUC de 0.74, seguido por XGBoost con un AUC de 0.64 y Logistic Regression con un AUC de 0.56. Aunque la exactitud (accuracy) de XGBoost fue mayor que la de Random Forest, el AUC es una métrica más relevante para evaluar la capacidad del modelo para distinguir entre eventos fraudulentos y no fraudulentos.\n",
        "- AUC y Recall: En problemas de fraude, el AUC y el recall de la clase fraudulenta son cruciales. Un alto recall para la clase de fraude significa que el modelo detecta la mayoría de los casos de fraude, lo cual es vital en este contexto.\n",
        "    - Recall (Sensibilidad o Recall):\n",
        "    El recall para la clase \"No Fraude\" es moderado, lo que significa que el modelo identifica correctamente el 73% de los casos de no fraude. Para la clase \"Fraude\", el recall es sorprendentemente alto (0.77), indicando que el modelo detecta una buena cantidad de los casos de fraude, aunque con baja precisión.\n",
        "- Se puede observar que el rendimiento varía según el rango de TransactionAmt tanto para los modelos de Random Forest como para XGBoost.  \n",
        "### Resultados\n",
        "\n",
        "| Modelo              | AUC  | Accuracy |\n",
        "|---------------------|------|----------|\n",
        "| Random Forest       | 0.74 | 0.72     |\n",
        "| XGBoost             | 0.64 | 0.76     |\n",
        "| Logistic Regression | 0.56 | 0.69     |\n",
        "\n",
        "**Nota:** El AUC (Área Bajo la Curva ROC) es especialmente importante en la detección de fraude, ya que mide la capacidad del modelo para separar correctamente las clases de fraude y no fraude. Aunque XGBoost mostró una mayor exactitud, el modelo de Random Forest fue superior en términos de AUC, lo que indica una mejor discriminación entre eventos fraudulentos y no fraudulentos.\n"
      ]
    }
  ],
  "metadata": {
    "kernelspec": {
      "display_name": "venv",
      "language": "python",
      "name": "python3"
    },
    "language_info": {
      "codemirror_mode": {
        "name": "ipython",
        "version": 3
      },
      "file_extension": ".py",
      "mimetype": "text/x-python",
      "name": "python",
      "nbconvert_exporter": "python",
      "pygments_lexer": "ipython3",
      "version": "3.11.7"
    },
    "colab": {
      "provenance": [],
      "toc_visible": true
    }
  },
  "nbformat": 4,
  "nbformat_minor": 0
}
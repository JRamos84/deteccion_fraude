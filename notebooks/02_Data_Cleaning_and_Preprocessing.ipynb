{
  "cells": [
    {
      "cell_type": "markdown",
      "metadata": {
        "id": "2fBP70MjXBz5"
      },
      "source": [
        "## 02 Data Cleaning and Preprocessing\n",
        "**Objetivo**: Limpiar y preprocesar los datos para que estén listos para el modelado.\n",
        "**Contenido**:\n",
        "- Manejo de valores nulos.\n",
        "- Creación de nuevas características (feature engineering).\n",
        "- Conversión de tipos de datos.\n",
        "- Codificación de variables categóricas.\n",
        "- Normalización y estandarización de las variables.\n",
        "\n"
      ]
    },
    {
      "cell_type": "code",
      "execution_count": 1,
      "metadata": {
        "id": "O9Lnuh-rXBz_"
      },
      "outputs": [],
      "source": [
        "## Librerías\n",
        "import os\n",
        "import pandas as pd\n",
        "from sklearn.model_selection import train_test_split\n",
        "import seaborn as sns\n",
        "import matplotlib.pyplot as plt\n",
        "import missingno as msno\n",
        "import numpy as np\n",
        "from sklearn.preprocessing import OneHotEncoder\n",
        "from sklearn.preprocessing import StandardScaler\n",
        "from sklearn.preprocessing import OrdinalEncoder\n",
        "\n",
        "from sklearn.preprocessing import MinMaxScaler\n",
        "from sklearn.preprocessing import OneHotEncoder, MinMaxScaler, StandardScaler, RobustScaler\n",
        "import os"
      ]
    },
    {
      "cell_type": "code",
      "source": [
        "#!pip install category_encoders"
      ],
      "metadata": {
        "id": "lFjHUs6zYIEU"
      },
      "execution_count": 2,
      "outputs": []
    },
    {
      "cell_type": "code",
      "source": [
        "## Importamos las librerias a usar\n",
        "from google.colab import drive\n",
        "drive.mount('/content/drive')\n",
        "data_dir = '/content/drive/MyDrive/cursos-analisis-datos/data-science/proyecto/propuestas/propuesta1/ieee-fraud-detection'\n",
        ""
      ],
      "metadata": {
        "id": "aJSn8sY6XHyb",
        "outputId": "11929e0b-04c4-4506-e49c-a07fc6c69228",
        "colab": {
          "base_uri": "https://localhost:8080/"
        }
      },
      "execution_count": 3,
      "outputs": [
        {
          "output_type": "stream",
          "name": "stdout",
          "text": [
            "Drive already mounted at /content/drive; to attempt to forcibly remount, call drive.mount(\"/content/drive\", force_remount=True).\n"
          ]
        }
      ]
    },
    {
      "cell_type": "markdown",
      "metadata": {
        "id": "2mQmlEAqXB0D"
      },
      "source": [
        "##  Cargamos los Dataset"
      ]
    },
    {
      "cell_type": "markdown",
      "metadata": {
        "id": "lzJfxSAhXB0E"
      },
      "source": [
        "- Trabajaremos exclusivamente con el dataset de entrenamiento \"train_transaction\" para obtener tanto los datos de entrenamiento como los de validación. De este dataset solo tomaremos el 10 % del total de los registro."
      ]
    },
    {
      "cell_type": "markdown",
      "source": [],
      "metadata": {
        "id": "gFdu8MAXXRqy"
      }
    },
    {
      "cell_type": "code",
      "execution_count": 4,
      "metadata": {
        "id": "GzUShlBkXB0F"
      },
      "outputs": [],
      "source": [
        "select_col_transaction = 'TransactionID,isFraud,TransactionDT,TransactionAmt,ProductCD,card1,card2,card3,card4,card5,card6,addr1,addr2,dist1,dist2,P_emaildomain,R_emaildomain,C1,C2,C3,C4,C5,C6,C7,C8,C9,C10,C11,C12,C13,C14,D1,D2,D3,D4,D5,D6,D7,D8,D9,D10,D11,D12,D13,D14,D15,M1,M2,M3,M4,M5,M6,M7,M8,M9'.split(',')\n",
        "select_col_identity = 'TransactionID,id_01,id_02,id_03,id_04,id_05,id_06,id_07,id_08,id_09,id_10,id_11,id_12,id_13,id_14,id_15,id_16,id_17,id_18,id_19,id_20,id_21,id_22,id_23,id_24,id_25,id_26,id_27,id_28,id_29,id_30,id_31,id_32,id_33,id_34,id_35,id_36,id_37,id_38,DeviceType,DeviceInfo'.split(',')\n",
        "select_col_transaction_test = 'TransactionID,TransactionDT,TransactionAmt,ProductCD,card1,card2,card3,card4,card5,card6,addr1,addr2,dist1,dist2,P_emaildomain,R_emaildomain,C1,C2,C3,C4,C5,C6,C7,C8,C9,C10,C11,C12,C13,C14,D1,D2,D3,D4,D5,D6,D7,D8,D9,D10,D11,D12,D13,D14,D15,M1,M2,M3,M4,M5,M6,M7,M8,M9'.split(',')\n",
        "#select_col_identity_test ='TransactionID,id-01,id-02,id-03,id-04,id-05,id-06,id-07,id-08,id-09,id-10,id-11,id-12,id-13,id-14,id-15,id-16,id-17,id-18,id-19,id-20,id-21,id-22,id-23,id-24,id-25,id-26,id-27,id-28,id-29,id-30,id-31,id-32,id-33,id-34,id-35,id-36,id-37,id-38,DeviceType,DeviceInfo'.split(',')"
      ]
    },
    {
      "cell_type": "code",
      "source": [
        "col_range_10 =  ['TransactionID', 'isFraud', 'TransactionDT', 'TransactionAmt', 'ProductCD', 'card1', 'card2', 'card3', 'card4', 'card5', 'card6', 'C1', 'C2', 'C3', 'C4', 'C5', 'C6', 'C7', 'C8', 'C9', 'C10', 'C11', 'C12', 'C13', 'C14', 'D1', 'V95', 'V96', 'V97', 'V98', 'V99', 'V100', 'V101', 'V102', 'V103', 'V104', 'V105', 'V106', 'V107', 'V108', 'V109', 'V110', 'V111', 'V112', 'V113', 'V114', 'V115', 'V116', 'V117', 'V118', 'V119', 'V120', 'V121', 'V122', 'V123', 'V124', 'V125', 'V126', 'V127', 'V128', 'V129', 'V130', 'V131', 'V132', 'V133', 'V134', 'V135', 'V136', 'V137', 'V279', 'V280', 'V281', 'V282', 'V283', 'V284', 'V285', 'V286', 'V287', 'V288', 'V289', 'V290', 'V291', 'V292', 'V293', 'V294', 'V295', 'V296', 'V297', 'V298', 'V299', 'V300', 'V301', 'V302', 'V303', 'V304', 'V305', 'V306', 'V307', 'V308', 'V309', 'V310', 'V311', 'V312', 'V313', 'V314', 'V315', 'V316', 'V317', 'V318', 'V319', 'V320', 'V321']"
      ],
      "metadata": {
        "id": "z473yj31XPiu"
      },
      "execution_count": 5,
      "outputs": []
    },
    {
      "cell_type": "markdown",
      "metadata": {
        "id": "RY4LYOzuXB0F"
      },
      "source": [
        "### Selección de porción del Dataset de entrenamiento con Muestreo Estratificado\n",
        "\n"
      ]
    },
    {
      "cell_type": "code",
      "execution_count": 6,
      "metadata": {
        "id": "oRZS19aUXB0G",
        "outputId": "703410ef-f078-429e-b4cd-64e2360804da",
        "colab": {
          "base_uri": "https://localhost:8080/"
        }
      },
      "outputs": [
        {
          "output_type": "stream",
          "name": "stdout",
          "text": [
            "<class 'pandas.core.frame.DataFrame'>\n",
            "Index: 59054 entries, 294161 to 404259\n",
            "Columns: 112 entries, TransactionID to V321\n",
            "dtypes: float64(105), int64(4), object(3)\n",
            "memory usage: 50.9+ MB\n"
          ]
        }
      ],
      "source": [
        "#data_dir = '../data/raw/ieee-fraud-detection'\n",
        "\n",
        "## dataset de entrenamiento\n",
        "seed = 42\n",
        "# Cargar los datos\n",
        "df_transaction_train = pd.read_csv(data_dir + '/train_transaction.csv', usecols=col_range_10)\n",
        "#df_identity_train = pd.read_csv(data_dir + '/train_identity.csv', usecols=select_col_identity)\n",
        "\n",
        "# Combinar los datasets\n",
        "#dataset = pd.merge(df_transaction_train, df_identity_train, on='TransactionID', how='left')\n",
        "dataset = df_transaction_train.copy()\n",
        "# Realizar el muestreo estratificado\n",
        "train_data, _ = train_test_split(dataset, stratify=dataset['isFraud'], test_size=0.9, random_state=seed)\n",
        "\n",
        "# Mostrar la información del dataset resultante\n",
        "train_data.info()"
      ]
    },
    {
      "cell_type": "markdown",
      "metadata": {
        "id": "eXnN0vlpXB0I"
      },
      "source": [
        "### Armamos un nuevo dataset con las columnas más relevantes"
      ]
    },
    {
      "cell_type": "code",
      "execution_count": 7,
      "metadata": {
        "id": "t3N1M68BXB0J"
      },
      "outputs": [],
      "source": [
        "# data = data[['isFraud', 'TransactionDT', 'TransactionAmt',\n",
        "#        'ProductCD','addr1', 'addr2', 'dist1', 'dist2', 'P_emaildomain', 'R_emaildomain',\n",
        "#        'DeviceType', 'DeviceInfo','card1', 'card2', 'card3', 'card4', 'card5', 'card6','C1', 'C2', 'C3', 'C4', 'C5', 'C6', 'C7', 'C8', 'C9', 'C10', 'C11',\n",
        "#        'C12', 'C13', 'C14',]].copy()\n",
        "data = train_data.copy()"
      ]
    },
    {
      "cell_type": "markdown",
      "metadata": {
        "id": "E32h7y_wXB0J"
      },
      "source": [
        "## Manejo de valores nulos"
      ]
    },
    {
      "cell_type": "markdown",
      "metadata": {
        "id": "ec6dsmNyXB0K"
      },
      "source": [
        "- Basándonos en el análisis exploratorio de datos (EDA) realizado previamente, eliminamos las columnas que contienen más del 80% de valores nulos.\n",
        "- Eliminamos las filas con valores nulos debido a que tenemos suficientes cantidad de registros"
      ]
    },
    {
      "cell_type": "code",
      "execution_count": 8,
      "metadata": {
        "id": "9IR09G6QXB0K"
      },
      "outputs": [],
      "source": [
        "#data.drop(['DeviceType','R_emaildomain','DeviceInfo','dist1','dist2'], axis=1,inplace=True)"
      ]
    },
    {
      "cell_type": "code",
      "execution_count": 9,
      "metadata": {
        "id": "f_xwms6xXB0L"
      },
      "outputs": [],
      "source": [
        "data.dropna(inplace=True)"
      ]
    },
    {
      "cell_type": "code",
      "execution_count": 10,
      "metadata": {
        "id": "0lmUbaEzXB0L",
        "outputId": "867dd4e8-ce3d-4f61-b157-15a73d930d18",
        "colab": {
          "base_uri": "https://localhost:8080/"
        }
      },
      "outputs": [
        {
          "output_type": "execute_result",
          "data": {
            "text/plain": [
              "TransactionID     0\n",
              "isFraud           0\n",
              "TransactionDT     0\n",
              "TransactionAmt    0\n",
              "ProductCD         0\n",
              "                 ..\n",
              "V317              0\n",
              "V318              0\n",
              "V319              0\n",
              "V320              0\n",
              "V321              0\n",
              "Length: 112, dtype: int64"
            ]
          },
          "metadata": {},
          "execution_count": 10
        }
      ],
      "source": [
        "data.isnull().sum()"
      ]
    },
    {
      "cell_type": "code",
      "execution_count": 11,
      "metadata": {
        "id": "y_MUL6ETXB0M",
        "outputId": "993825b5-8e43-4cd3-d8e8-e3f44ba8b17d",
        "colab": {
          "base_uri": "https://localhost:8080/"
        }
      },
      "outputs": [
        {
          "output_type": "stream",
          "name": "stdout",
          "text": [
            "TransactionID    0.0\n",
            "V291             0.0\n",
            "V290             0.0\n",
            "V289             0.0\n",
            "V288             0.0\n",
            "V287             0.0\n",
            "V286             0.0\n",
            "V285             0.0\n",
            "V284             0.0\n",
            "V283             0.0\n",
            "V282             0.0\n",
            "V281             0.0\n",
            "V292             0.0\n",
            "V280             0.0\n",
            "V137             0.0\n",
            "V136             0.0\n",
            "V135             0.0\n",
            "V134             0.0\n",
            "V133             0.0\n",
            "V132             0.0\n",
            "V131             0.0\n",
            "V130             0.0\n",
            "V129             0.0\n",
            "V128             0.0\n",
            "V127             0.0\n",
            "V279             0.0\n",
            "V126             0.0\n",
            "V293             0.0\n",
            "V295             0.0\n",
            "V319             0.0\n",
            "dtype: float64\n"
          ]
        }
      ],
      "source": [
        "null_percentages = (data.isnull().sum() / len(data)) * 100\n",
        "print(round(null_percentages,2).sort_values(ascending=True).head(30))"
      ]
    },
    {
      "cell_type": "code",
      "execution_count": 12,
      "metadata": {
        "id": "iryS9Y5dXB0N",
        "outputId": "e6f5877f-12f8-46e0-9756-556a910a853a",
        "colab": {
          "base_uri": "https://localhost:8080/"
        }
      },
      "outputs": [
        {
          "output_type": "execute_result",
          "data": {
            "text/plain": [
              "(57801, 112)"
            ]
          },
          "metadata": {},
          "execution_count": 12
        }
      ],
      "source": [
        "data.shape"
      ]
    },
    {
      "cell_type": "markdown",
      "metadata": {
        "id": "gRNaewcwXB0N"
      },
      "source": [
        "## Conversión de datos"
      ]
    },
    {
      "cell_type": "markdown",
      "metadata": {
        "id": "fYw_YPOkXB0N"
      },
      "source": [
        "No es necesatio convertir los tipos de datos, debido a que son adecuado al tipo de datos que ya tienen."
      ]
    },
    {
      "cell_type": "code",
      "execution_count": 13,
      "metadata": {
        "id": "TxRMvk5bXB0O",
        "outputId": "648ad89c-9790-4825-a918-5bfcea43afd2",
        "colab": {
          "base_uri": "https://localhost:8080/"
        }
      },
      "outputs": [
        {
          "output_type": "execute_result",
          "data": {
            "text/plain": [
              "TransactionID       int64\n",
              "isFraud             int64\n",
              "TransactionDT       int64\n",
              "TransactionAmt    float64\n",
              "ProductCD          object\n",
              "                   ...   \n",
              "V317              float64\n",
              "V318              float64\n",
              "V319              float64\n",
              "V320              float64\n",
              "V321              float64\n",
              "Length: 112, dtype: object"
            ]
          },
          "metadata": {},
          "execution_count": 13
        }
      ],
      "source": [
        "data.dtypes"
      ]
    },
    {
      "cell_type": "markdown",
      "metadata": {
        "id": "BoislewBXB0O"
      },
      "source": [
        "## Separamos datos características (X) y variable objetivo (y)"
      ]
    },
    {
      "cell_type": "code",
      "execution_count": 14,
      "metadata": {
        "id": "wtoYXYFuXB0P"
      },
      "outputs": [],
      "source": [
        "X = data.drop('isFraud', axis=1)  # features\n",
        "y = data['isFraud']  # target"
      ]
    },
    {
      "cell_type": "markdown",
      "metadata": {
        "id": "eZW6IFSiXB0P"
      },
      "source": [
        "## Creación de nuevas características (feature engineering)."
      ]
    },
    {
      "cell_type": "code",
      "execution_count": 15,
      "metadata": {
        "id": "IjmJVt3WXB0P"
      },
      "outputs": [],
      "source": [
        "\n",
        "# # Calcular los cuartiles y el IQR\n",
        "# Q1 = np.percentile(X['TransactionAmt'], 25)\n",
        "# Q3 = np.percentile(X['TransactionAmt'], 75)\n",
        "# IQR = Q3 - Q1\n",
        "\n",
        "# # Definir los umbrales para valores atípicos\n",
        "# lower_bound = Q1 - 1.5 * IQR\n",
        "# upper_bound = Q3 + 1.5 * IQR\n",
        "\n",
        "# # Función para clasificar los valores en rangos\n",
        "# def classify_transaction_amt(value):\n",
        "#     if value < lower_bound:\n",
        "#         return 'Muy bajo'\n",
        "#     elif lower_bound <= value < Q1:\n",
        "#         return 'Bajo'\n",
        "#     elif Q1 <= value < Q3:\n",
        "#         return 'Medio'\n",
        "#     elif Q3 <= value < upper_bound:\n",
        "#         return 'Alto'\n",
        "#     else:\n",
        "#         return 'Muy alto'\n",
        "\n",
        "# # Aplicar la función de clasificación a la columna\n",
        "# X['TransactionAmt_Range'] = X['TransactionAmt'].apply(classify_transaction_amt)\n",
        "\n",
        "\n",
        "# # Mostrar algunos resultados\n",
        "# print(X['TransactionAmt_Range'].value_counts())\n"
      ]
    },
    {
      "cell_type": "markdown",
      "metadata": {
        "id": "2IrIz4cHXB0Q"
      },
      "source": [
        "### Eliminamos la columna 'TransactionAmt' por la conclusiones obtenidas en EDA"
      ]
    },
    {
      "cell_type": "code",
      "execution_count": 16,
      "metadata": {
        "id": "yQpvhOpXXB0Q"
      },
      "outputs": [],
      "source": [
        "#X.drop('TransactionAmt', axis=1, inplace=True)"
      ]
    },
    {
      "cell_type": "markdown",
      "metadata": {
        "id": "XKMaDmsxXB0Q"
      },
      "source": [
        "### Juntar addr1 y addr2\n",
        "\n",
        "- addr1 representa una región dentro de un país, mientras que addr2 corresponde al código de país. Combinar estas variables podría capturar de manera más efectiva la relación geográfica entre regiones y países en el modelo."
      ]
    },
    {
      "cell_type": "code",
      "execution_count": 17,
      "metadata": {
        "id": "hEORqeFbXB0R"
      },
      "outputs": [],
      "source": [
        "# X['addr1'] = X['addr1'].astype('int').astype('str')\n",
        "# X['addr2'] = X['addr2'].astype('int').astype('str')\n",
        "\n",
        "# # Concatenar addr1 y addr2 en una nueva columna addr_combined usando +\n",
        "# X['addr_combined'] = X['addr1'] + '_' + X['addr2']"
      ]
    },
    {
      "cell_type": "code",
      "execution_count": 18,
      "metadata": {
        "id": "tVgRYRxMXB0R"
      },
      "outputs": [],
      "source": [
        "# X.columns"
      ]
    },
    {
      "cell_type": "code",
      "execution_count": 19,
      "metadata": {
        "id": "zD15NuIpXB0R"
      },
      "outputs": [],
      "source": [
        "# ## Eliminamos addr1 y addr2 de X\n",
        "# X.drop(['addr1', 'addr2'],axis=1, inplace=True)"
      ]
    },
    {
      "cell_type": "markdown",
      "metadata": {
        "id": "OXOUqgcMXB0S"
      },
      "source": [
        "### Codificación de variables categóricas"
      ]
    },
    {
      "cell_type": "code",
      "execution_count": 20,
      "metadata": {
        "id": "5XbaBIiMXB0S",
        "outputId": "c7b31d07-492f-4f2a-d3b2-785135de6517",
        "colab": {
          "base_uri": "https://localhost:8080/"
        }
      },
      "outputs": [
        {
          "output_type": "execute_result",
          "data": {
            "text/plain": [
              "TransactionID       int64\n",
              "TransactionDT       int64\n",
              "TransactionAmt    float64\n",
              "ProductCD          object\n",
              "card1               int64\n",
              "                   ...   \n",
              "V317              float64\n",
              "V318              float64\n",
              "V319              float64\n",
              "V320              float64\n",
              "V321              float64\n",
              "Length: 111, dtype: object"
            ]
          },
          "metadata": {},
          "execution_count": 20
        }
      ],
      "source": [
        "X.dtypes"
      ]
    },
    {
      "cell_type": "code",
      "execution_count": 21,
      "metadata": {
        "id": "r3fpthjDXB0S"
      },
      "outputs": [],
      "source": [
        "# Identificar tipos de datos\n",
        "data_types = X.dtypes\n",
        "\n",
        "# Filtrar y contar variables numéricas y categóricas\n",
        "num_vars = data_types[data_types != 'object']  # Variables numéricas\n",
        "cat_vars = data_types[data_types == 'object']  # Variables categóricas\n",
        "num_vars_names = num_vars.index.tolist()\n",
        "cat_vars_names = cat_vars.index.tolist()"
      ]
    },
    {
      "cell_type": "code",
      "execution_count": 22,
      "metadata": {
        "id": "reWlQpLRXB0T",
        "outputId": "f554096c-afd9-4c34-f7f1-be97ca73d1f7",
        "colab": {
          "base_uri": "https://localhost:8080/"
        }
      },
      "outputs": [
        {
          "output_type": "stream",
          "name": "stdout",
          "text": [
            "Columna: ProductCD, el número de variables es: 5\n",
            "Columna: card4, el número de variables es: 4\n",
            "Columna: card6, el número de variables es: 3\n"
          ]
        }
      ],
      "source": [
        "for columna in cat_vars_names :\n",
        "    print(f\"Columna: {columna}, el número de variables es: {X[columna].nunique()}\")"
      ]
    },
    {
      "cell_type": "markdown",
      "metadata": {
        "id": "dffu44VaXB0U"
      },
      "source": [
        "Debido a que cada columna tiene diferentes tipos de categorías, aplicaremos según sea adecuada a cada cado.\n",
        "- ProductCD (4 categorías):\n",
        "    - One-Hot Encoding: Como ProductCD tiene un número pequeño y fijo de categorías (4 en total), el one-hot encoding es una opción adecuada.\n",
        "\n",
        "- TransactionAmt_Range (4 categorías):\n",
        "    - Dado que TransactionAmt_Range tiene un orden natural o ordinal con 4 categorías, el ordinal encoding es apropiado. Asigna valores numéricos secuenciales a cada categoría.\n",
        "- P_emaildomain (56 categorías) y  addr_combined:\n",
        "    - Hashing Trick o Binary Encoding:  Dado que P_emaildomain tiene muchas categorías (56), el one-hot encoding puede generar demasiadas columnas y aumentar la complejidad. binary encoding podrían ser más eficientes.\n"
      ]
    },
    {
      "cell_type": "code",
      "source": [
        "X.select_dtypes(include=['object']).nunique()"
      ],
      "metadata": {
        "id": "u1Vm3UNLX-q_",
        "outputId": "db021c76-5a25-48cd-fcc3-56f620e519a2",
        "colab": {
          "base_uri": "https://localhost:8080/"
        }
      },
      "execution_count": 24,
      "outputs": [
        {
          "output_type": "execute_result",
          "data": {
            "text/plain": [
              "ProductCD    5\n",
              "card4        4\n",
              "card6        3\n",
              "dtype: int64"
            ]
          },
          "metadata": {},
          "execution_count": 24
        }
      ]
    },
    {
      "cell_type": "code",
      "execution_count": 25,
      "metadata": {
        "id": "_CGwgOvNXB0U"
      },
      "outputs": [],
      "source": [
        "def one_hot_encode(df, columns):\n",
        "    encoder = OneHotEncoder()\n",
        "    encoded = encoder.fit_transform(df[columns])\n",
        "    encoded_df = pd.DataFrame(encoded.toarray(),\n",
        "                              columns=encoder.get_feature_names_out(columns),\n",
        "                              index=df.index)\n",
        "    df = df.drop(columns, axis=1)\n",
        "    return pd.concat([df, encoded_df], axis=1)\n",
        "\n",
        "def binary_encode(df, columns):\n",
        "    encoder = ce.BinaryEncoder(cols=columns)\n",
        "    encoded = encoder.fit_transform(df[columns])\n",
        "    df = df.drop(columns, axis=1)\n",
        "    return pd.concat([df, encoded], axis=1)\n",
        "\n",
        "# Codificación One-Hot para ProductCD, card4 y card6\n",
        "X = one_hot_encode(X, ['ProductCD', 'card4', 'card6'])\n",
        "\n",
        "# # Codificación BinaryEncoder para P_emaildomain\n",
        "# X = binary_encode(X, ['P_emaildomain'])\n",
        "\n",
        "# # Codificación BinaryEncoder para addr_combined\n",
        "# X = binary_encode(X, ['addr_combined'])\n"
      ]
    },
    {
      "cell_type": "code",
      "execution_count": null,
      "metadata": {
        "id": "HsQ6xHFLXB0U"
      },
      "outputs": [],
      "source": [
        "X.columns"
      ]
    },
    {
      "cell_type": "markdown",
      "metadata": {
        "id": "sqeaT1l7XB0V"
      },
      "source": [
        "## Normalización y estandarización de las variables."
      ]
    },
    {
      "cell_type": "markdown",
      "metadata": {
        "id": "gcWo2UHZXB0V"
      },
      "source": [
        "- Basados en el anális EDA la columna 'TransactionDT' tiene una distribución casi uniforme por lo tanto la normalización Min-Max ajusta los valores de una característica a un rango específico, típicamente entre 0 y 1. Es útil cuando deseas mantener la distribución de los datos pero ajustarla a una escala uniforme."
      ]
    },
    {
      "cell_type": "code",
      "execution_count": 38,
      "metadata": {
        "id": "2ap_lXrIXB0W",
        "outputId": "f489115d-0a87-426b-f6b1-d5d663f632c5",
        "colab": {
          "base_uri": "https://localhost:8080/",
          "height": 424
        }
      },
      "outputs": [
        {
          "output_type": "execute_result",
          "data": {
            "text/plain": [
              "        TransactionID  TransactionDT  TransactionAmt  card1  card2  card3  \\\n",
              "294161        3281161        7257076          40.000  16659  170.0  150.0   \n",
              "467048        3454048       12019989          46.417  11201  103.0  185.0   \n",
              "34825         3021825         855320          75.000   8131  583.0  150.0   \n",
              "374859        3361859        9335149          38.950   7508  321.0  150.0   \n",
              "545712        3532712       14406961          26.500  16132  111.0  150.0   \n",
              "...               ...            ...             ...    ...    ...    ...   \n",
              "460423        3447423       11829608         131.000   9500  321.0  150.0   \n",
              "364785        3351785        9059347          77.000  14382  595.0  150.0   \n",
              "157056        3144056        3270520          50.000   8378  499.0  150.0   \n",
              "523532        3510532       13743340         213.000  12559  555.0  150.0   \n",
              "404259        3391259       10197493        1264.950   1929  181.0  150.0   \n",
              "\n",
              "        card5     C1     C2   C3  ...        V312  V313  V314  V315  V316  \\\n",
              "294161  226.0    2.0    1.0  0.0  ...    0.000000   0.0   0.0   0.0  80.0   \n",
              "467048  226.0    2.0    2.0  0.0  ...    0.000000   0.0   0.0   0.0   0.0   \n",
              "34825   224.0    1.0    1.0  0.0  ...    0.000000   0.0   0.0   0.0   0.0   \n",
              "374859  226.0  103.0  102.0  0.0  ...  311.950012   0.0   0.0   0.0   0.0   \n",
              "545712  226.0    1.0    1.0  0.0  ...    0.000000   0.0   0.0   0.0   0.0   \n",
              "...       ...    ...    ...  ...  ...         ...   ...   ...   ...   ...   \n",
              "460423  226.0    3.0    3.0  0.0  ...  131.000000   0.0   0.0   0.0   0.0   \n",
              "364785  195.0    1.0    1.0  0.0  ...  160.500000   0.0   0.0   0.0   0.0   \n",
              "157056  226.0    2.0    2.0  0.0  ...    0.000000   0.0   0.0   0.0   0.0   \n",
              "523532  226.0    2.0    1.0  0.0  ...    0.000000   0.0   0.0   0.0   0.0   \n",
              "404259  226.0    1.0    1.0  0.0  ...    0.000000   0.0   0.0   0.0   0.0   \n",
              "\n",
              "        V317  V318  V319  V320  V321  \n",
              "294161  80.0  80.0   0.0   0.0   0.0  \n",
              "467048   0.0   0.0   0.0   0.0   0.0  \n",
              "34825    0.0   0.0   0.0   0.0   0.0  \n",
              "374859   0.0   0.0   0.0   0.0   0.0  \n",
              "545712   0.0   0.0   0.0   0.0   0.0  \n",
              "...      ...   ...   ...   ...   ...  \n",
              "460423   0.0   0.0   0.0   0.0   0.0  \n",
              "364785   0.0   0.0   0.0   0.0   0.0  \n",
              "157056   0.0   0.0   0.0   0.0   0.0  \n",
              "523532   0.0   0.0   0.0   0.0   0.0  \n",
              "404259   0.0   0.0   0.0   0.0   0.0  \n",
              "\n",
              "[57801 rows x 108 columns]"
            ],
            "text/html": [
              "\n",
              "  <div id=\"df-a8a243b7-1e9f-4829-9ca2-f456ebafdf88\" class=\"colab-df-container\">\n",
              "    <div>\n",
              "<style scoped>\n",
              "    .dataframe tbody tr th:only-of-type {\n",
              "        vertical-align: middle;\n",
              "    }\n",
              "\n",
              "    .dataframe tbody tr th {\n",
              "        vertical-align: top;\n",
              "    }\n",
              "\n",
              "    .dataframe thead th {\n",
              "        text-align: right;\n",
              "    }\n",
              "</style>\n",
              "<table border=\"1\" class=\"dataframe\">\n",
              "  <thead>\n",
              "    <tr style=\"text-align: right;\">\n",
              "      <th></th>\n",
              "      <th>TransactionID</th>\n",
              "      <th>TransactionDT</th>\n",
              "      <th>TransactionAmt</th>\n",
              "      <th>card1</th>\n",
              "      <th>card2</th>\n",
              "      <th>card3</th>\n",
              "      <th>card5</th>\n",
              "      <th>C1</th>\n",
              "      <th>C2</th>\n",
              "      <th>C3</th>\n",
              "      <th>...</th>\n",
              "      <th>V312</th>\n",
              "      <th>V313</th>\n",
              "      <th>V314</th>\n",
              "      <th>V315</th>\n",
              "      <th>V316</th>\n",
              "      <th>V317</th>\n",
              "      <th>V318</th>\n",
              "      <th>V319</th>\n",
              "      <th>V320</th>\n",
              "      <th>V321</th>\n",
              "    </tr>\n",
              "  </thead>\n",
              "  <tbody>\n",
              "    <tr>\n",
              "      <th>294161</th>\n",
              "      <td>3281161</td>\n",
              "      <td>7257076</td>\n",
              "      <td>40.000</td>\n",
              "      <td>16659</td>\n",
              "      <td>170.0</td>\n",
              "      <td>150.0</td>\n",
              "      <td>226.0</td>\n",
              "      <td>2.0</td>\n",
              "      <td>1.0</td>\n",
              "      <td>0.0</td>\n",
              "      <td>...</td>\n",
              "      <td>0.000000</td>\n",
              "      <td>0.0</td>\n",
              "      <td>0.0</td>\n",
              "      <td>0.0</td>\n",
              "      <td>80.0</td>\n",
              "      <td>80.0</td>\n",
              "      <td>80.0</td>\n",
              "      <td>0.0</td>\n",
              "      <td>0.0</td>\n",
              "      <td>0.0</td>\n",
              "    </tr>\n",
              "    <tr>\n",
              "      <th>467048</th>\n",
              "      <td>3454048</td>\n",
              "      <td>12019989</td>\n",
              "      <td>46.417</td>\n",
              "      <td>11201</td>\n",
              "      <td>103.0</td>\n",
              "      <td>185.0</td>\n",
              "      <td>226.0</td>\n",
              "      <td>2.0</td>\n",
              "      <td>2.0</td>\n",
              "      <td>0.0</td>\n",
              "      <td>...</td>\n",
              "      <td>0.000000</td>\n",
              "      <td>0.0</td>\n",
              "      <td>0.0</td>\n",
              "      <td>0.0</td>\n",
              "      <td>0.0</td>\n",
              "      <td>0.0</td>\n",
              "      <td>0.0</td>\n",
              "      <td>0.0</td>\n",
              "      <td>0.0</td>\n",
              "      <td>0.0</td>\n",
              "    </tr>\n",
              "    <tr>\n",
              "      <th>34825</th>\n",
              "      <td>3021825</td>\n",
              "      <td>855320</td>\n",
              "      <td>75.000</td>\n",
              "      <td>8131</td>\n",
              "      <td>583.0</td>\n",
              "      <td>150.0</td>\n",
              "      <td>224.0</td>\n",
              "      <td>1.0</td>\n",
              "      <td>1.0</td>\n",
              "      <td>0.0</td>\n",
              "      <td>...</td>\n",
              "      <td>0.000000</td>\n",
              "      <td>0.0</td>\n",
              "      <td>0.0</td>\n",
              "      <td>0.0</td>\n",
              "      <td>0.0</td>\n",
              "      <td>0.0</td>\n",
              "      <td>0.0</td>\n",
              "      <td>0.0</td>\n",
              "      <td>0.0</td>\n",
              "      <td>0.0</td>\n",
              "    </tr>\n",
              "    <tr>\n",
              "      <th>374859</th>\n",
              "      <td>3361859</td>\n",
              "      <td>9335149</td>\n",
              "      <td>38.950</td>\n",
              "      <td>7508</td>\n",
              "      <td>321.0</td>\n",
              "      <td>150.0</td>\n",
              "      <td>226.0</td>\n",
              "      <td>103.0</td>\n",
              "      <td>102.0</td>\n",
              "      <td>0.0</td>\n",
              "      <td>...</td>\n",
              "      <td>311.950012</td>\n",
              "      <td>0.0</td>\n",
              "      <td>0.0</td>\n",
              "      <td>0.0</td>\n",
              "      <td>0.0</td>\n",
              "      <td>0.0</td>\n",
              "      <td>0.0</td>\n",
              "      <td>0.0</td>\n",
              "      <td>0.0</td>\n",
              "      <td>0.0</td>\n",
              "    </tr>\n",
              "    <tr>\n",
              "      <th>545712</th>\n",
              "      <td>3532712</td>\n",
              "      <td>14406961</td>\n",
              "      <td>26.500</td>\n",
              "      <td>16132</td>\n",
              "      <td>111.0</td>\n",
              "      <td>150.0</td>\n",
              "      <td>226.0</td>\n",
              "      <td>1.0</td>\n",
              "      <td>1.0</td>\n",
              "      <td>0.0</td>\n",
              "      <td>...</td>\n",
              "      <td>0.000000</td>\n",
              "      <td>0.0</td>\n",
              "      <td>0.0</td>\n",
              "      <td>0.0</td>\n",
              "      <td>0.0</td>\n",
              "      <td>0.0</td>\n",
              "      <td>0.0</td>\n",
              "      <td>0.0</td>\n",
              "      <td>0.0</td>\n",
              "      <td>0.0</td>\n",
              "    </tr>\n",
              "    <tr>\n",
              "      <th>...</th>\n",
              "      <td>...</td>\n",
              "      <td>...</td>\n",
              "      <td>...</td>\n",
              "      <td>...</td>\n",
              "      <td>...</td>\n",
              "      <td>...</td>\n",
              "      <td>...</td>\n",
              "      <td>...</td>\n",
              "      <td>...</td>\n",
              "      <td>...</td>\n",
              "      <td>...</td>\n",
              "      <td>...</td>\n",
              "      <td>...</td>\n",
              "      <td>...</td>\n",
              "      <td>...</td>\n",
              "      <td>...</td>\n",
              "      <td>...</td>\n",
              "      <td>...</td>\n",
              "      <td>...</td>\n",
              "      <td>...</td>\n",
              "      <td>...</td>\n",
              "    </tr>\n",
              "    <tr>\n",
              "      <th>460423</th>\n",
              "      <td>3447423</td>\n",
              "      <td>11829608</td>\n",
              "      <td>131.000</td>\n",
              "      <td>9500</td>\n",
              "      <td>321.0</td>\n",
              "      <td>150.0</td>\n",
              "      <td>226.0</td>\n",
              "      <td>3.0</td>\n",
              "      <td>3.0</td>\n",
              "      <td>0.0</td>\n",
              "      <td>...</td>\n",
              "      <td>131.000000</td>\n",
              "      <td>0.0</td>\n",
              "      <td>0.0</td>\n",
              "      <td>0.0</td>\n",
              "      <td>0.0</td>\n",
              "      <td>0.0</td>\n",
              "      <td>0.0</td>\n",
              "      <td>0.0</td>\n",
              "      <td>0.0</td>\n",
              "      <td>0.0</td>\n",
              "    </tr>\n",
              "    <tr>\n",
              "      <th>364785</th>\n",
              "      <td>3351785</td>\n",
              "      <td>9059347</td>\n",
              "      <td>77.000</td>\n",
              "      <td>14382</td>\n",
              "      <td>595.0</td>\n",
              "      <td>150.0</td>\n",
              "      <td>195.0</td>\n",
              "      <td>1.0</td>\n",
              "      <td>1.0</td>\n",
              "      <td>0.0</td>\n",
              "      <td>...</td>\n",
              "      <td>160.500000</td>\n",
              "      <td>0.0</td>\n",
              "      <td>0.0</td>\n",
              "      <td>0.0</td>\n",
              "      <td>0.0</td>\n",
              "      <td>0.0</td>\n",
              "      <td>0.0</td>\n",
              "      <td>0.0</td>\n",
              "      <td>0.0</td>\n",
              "      <td>0.0</td>\n",
              "    </tr>\n",
              "    <tr>\n",
              "      <th>157056</th>\n",
              "      <td>3144056</td>\n",
              "      <td>3270520</td>\n",
              "      <td>50.000</td>\n",
              "      <td>8378</td>\n",
              "      <td>499.0</td>\n",
              "      <td>150.0</td>\n",
              "      <td>226.0</td>\n",
              "      <td>2.0</td>\n",
              "      <td>2.0</td>\n",
              "      <td>0.0</td>\n",
              "      <td>...</td>\n",
              "      <td>0.000000</td>\n",
              "      <td>0.0</td>\n",
              "      <td>0.0</td>\n",
              "      <td>0.0</td>\n",
              "      <td>0.0</td>\n",
              "      <td>0.0</td>\n",
              "      <td>0.0</td>\n",
              "      <td>0.0</td>\n",
              "      <td>0.0</td>\n",
              "      <td>0.0</td>\n",
              "    </tr>\n",
              "    <tr>\n",
              "      <th>523532</th>\n",
              "      <td>3510532</td>\n",
              "      <td>13743340</td>\n",
              "      <td>213.000</td>\n",
              "      <td>12559</td>\n",
              "      <td>555.0</td>\n",
              "      <td>150.0</td>\n",
              "      <td>226.0</td>\n",
              "      <td>2.0</td>\n",
              "      <td>1.0</td>\n",
              "      <td>0.0</td>\n",
              "      <td>...</td>\n",
              "      <td>0.000000</td>\n",
              "      <td>0.0</td>\n",
              "      <td>0.0</td>\n",
              "      <td>0.0</td>\n",
              "      <td>0.0</td>\n",
              "      <td>0.0</td>\n",
              "      <td>0.0</td>\n",
              "      <td>0.0</td>\n",
              "      <td>0.0</td>\n",
              "      <td>0.0</td>\n",
              "    </tr>\n",
              "    <tr>\n",
              "      <th>404259</th>\n",
              "      <td>3391259</td>\n",
              "      <td>10197493</td>\n",
              "      <td>1264.950</td>\n",
              "      <td>1929</td>\n",
              "      <td>181.0</td>\n",
              "      <td>150.0</td>\n",
              "      <td>226.0</td>\n",
              "      <td>1.0</td>\n",
              "      <td>1.0</td>\n",
              "      <td>0.0</td>\n",
              "      <td>...</td>\n",
              "      <td>0.000000</td>\n",
              "      <td>0.0</td>\n",
              "      <td>0.0</td>\n",
              "      <td>0.0</td>\n",
              "      <td>0.0</td>\n",
              "      <td>0.0</td>\n",
              "      <td>0.0</td>\n",
              "      <td>0.0</td>\n",
              "      <td>0.0</td>\n",
              "      <td>0.0</td>\n",
              "    </tr>\n",
              "  </tbody>\n",
              "</table>\n",
              "<p>57801 rows × 108 columns</p>\n",
              "</div>\n",
              "    <div class=\"colab-df-buttons\">\n",
              "\n",
              "  <div class=\"colab-df-container\">\n",
              "    <button class=\"colab-df-convert\" onclick=\"convertToInteractive('df-a8a243b7-1e9f-4829-9ca2-f456ebafdf88')\"\n",
              "            title=\"Convert this dataframe to an interactive table.\"\n",
              "            style=\"display:none;\">\n",
              "\n",
              "  <svg xmlns=\"http://www.w3.org/2000/svg\" height=\"24px\" viewBox=\"0 -960 960 960\">\n",
              "    <path d=\"M120-120v-720h720v720H120Zm60-500h600v-160H180v160Zm220 220h160v-160H400v160Zm0 220h160v-160H400v160ZM180-400h160v-160H180v160Zm440 0h160v-160H620v160ZM180-180h160v-160H180v160Zm440 0h160v-160H620v160Z\"/>\n",
              "  </svg>\n",
              "    </button>\n",
              "\n",
              "  <style>\n",
              "    .colab-df-container {\n",
              "      display:flex;\n",
              "      gap: 12px;\n",
              "    }\n",
              "\n",
              "    .colab-df-convert {\n",
              "      background-color: #E8F0FE;\n",
              "      border: none;\n",
              "      border-radius: 50%;\n",
              "      cursor: pointer;\n",
              "      display: none;\n",
              "      fill: #1967D2;\n",
              "      height: 32px;\n",
              "      padding: 0 0 0 0;\n",
              "      width: 32px;\n",
              "    }\n",
              "\n",
              "    .colab-df-convert:hover {\n",
              "      background-color: #E2EBFA;\n",
              "      box-shadow: 0px 1px 2px rgba(60, 64, 67, 0.3), 0px 1px 3px 1px rgba(60, 64, 67, 0.15);\n",
              "      fill: #174EA6;\n",
              "    }\n",
              "\n",
              "    .colab-df-buttons div {\n",
              "      margin-bottom: 4px;\n",
              "    }\n",
              "\n",
              "    [theme=dark] .colab-df-convert {\n",
              "      background-color: #3B4455;\n",
              "      fill: #D2E3FC;\n",
              "    }\n",
              "\n",
              "    [theme=dark] .colab-df-convert:hover {\n",
              "      background-color: #434B5C;\n",
              "      box-shadow: 0px 1px 3px 1px rgba(0, 0, 0, 0.15);\n",
              "      filter: drop-shadow(0px 1px 2px rgba(0, 0, 0, 0.3));\n",
              "      fill: #FFFFFF;\n",
              "    }\n",
              "  </style>\n",
              "\n",
              "    <script>\n",
              "      const buttonEl =\n",
              "        document.querySelector('#df-a8a243b7-1e9f-4829-9ca2-f456ebafdf88 button.colab-df-convert');\n",
              "      buttonEl.style.display =\n",
              "        google.colab.kernel.accessAllowed ? 'block' : 'none';\n",
              "\n",
              "      async function convertToInteractive(key) {\n",
              "        const element = document.querySelector('#df-a8a243b7-1e9f-4829-9ca2-f456ebafdf88');\n",
              "        const dataTable =\n",
              "          await google.colab.kernel.invokeFunction('convertToInteractive',\n",
              "                                                    [key], {});\n",
              "        if (!dataTable) return;\n",
              "\n",
              "        const docLinkHtml = 'Like what you see? Visit the ' +\n",
              "          '<a target=\"_blank\" href=https://colab.research.google.com/notebooks/data_table.ipynb>data table notebook</a>'\n",
              "          + ' to learn more about interactive tables.';\n",
              "        element.innerHTML = '';\n",
              "        dataTable['output_type'] = 'display_data';\n",
              "        await google.colab.output.renderOutput(dataTable, element);\n",
              "        const docLink = document.createElement('div');\n",
              "        docLink.innerHTML = docLinkHtml;\n",
              "        element.appendChild(docLink);\n",
              "      }\n",
              "    </script>\n",
              "  </div>\n",
              "\n",
              "\n",
              "<div id=\"df-47600e0d-6b37-47e8-8eca-6883a77d4e39\">\n",
              "  <button class=\"colab-df-quickchart\" onclick=\"quickchart('df-47600e0d-6b37-47e8-8eca-6883a77d4e39')\"\n",
              "            title=\"Suggest charts\"\n",
              "            style=\"display:none;\">\n",
              "\n",
              "<svg xmlns=\"http://www.w3.org/2000/svg\" height=\"24px\"viewBox=\"0 0 24 24\"\n",
              "     width=\"24px\">\n",
              "    <g>\n",
              "        <path d=\"M19 3H5c-1.1 0-2 .9-2 2v14c0 1.1.9 2 2 2h14c1.1 0 2-.9 2-2V5c0-1.1-.9-2-2-2zM9 17H7v-7h2v7zm4 0h-2V7h2v10zm4 0h-2v-4h2v4z\"/>\n",
              "    </g>\n",
              "</svg>\n",
              "  </button>\n",
              "\n",
              "<style>\n",
              "  .colab-df-quickchart {\n",
              "      --bg-color: #E8F0FE;\n",
              "      --fill-color: #1967D2;\n",
              "      --hover-bg-color: #E2EBFA;\n",
              "      --hover-fill-color: #174EA6;\n",
              "      --disabled-fill-color: #AAA;\n",
              "      --disabled-bg-color: #DDD;\n",
              "  }\n",
              "\n",
              "  [theme=dark] .colab-df-quickchart {\n",
              "      --bg-color: #3B4455;\n",
              "      --fill-color: #D2E3FC;\n",
              "      --hover-bg-color: #434B5C;\n",
              "      --hover-fill-color: #FFFFFF;\n",
              "      --disabled-bg-color: #3B4455;\n",
              "      --disabled-fill-color: #666;\n",
              "  }\n",
              "\n",
              "  .colab-df-quickchart {\n",
              "    background-color: var(--bg-color);\n",
              "    border: none;\n",
              "    border-radius: 50%;\n",
              "    cursor: pointer;\n",
              "    display: none;\n",
              "    fill: var(--fill-color);\n",
              "    height: 32px;\n",
              "    padding: 0;\n",
              "    width: 32px;\n",
              "  }\n",
              "\n",
              "  .colab-df-quickchart:hover {\n",
              "    background-color: var(--hover-bg-color);\n",
              "    box-shadow: 0 1px 2px rgba(60, 64, 67, 0.3), 0 1px 3px 1px rgba(60, 64, 67, 0.15);\n",
              "    fill: var(--button-hover-fill-color);\n",
              "  }\n",
              "\n",
              "  .colab-df-quickchart-complete:disabled,\n",
              "  .colab-df-quickchart-complete:disabled:hover {\n",
              "    background-color: var(--disabled-bg-color);\n",
              "    fill: var(--disabled-fill-color);\n",
              "    box-shadow: none;\n",
              "  }\n",
              "\n",
              "  .colab-df-spinner {\n",
              "    border: 2px solid var(--fill-color);\n",
              "    border-color: transparent;\n",
              "    border-bottom-color: var(--fill-color);\n",
              "    animation:\n",
              "      spin 1s steps(1) infinite;\n",
              "  }\n",
              "\n",
              "  @keyframes spin {\n",
              "    0% {\n",
              "      border-color: transparent;\n",
              "      border-bottom-color: var(--fill-color);\n",
              "      border-left-color: var(--fill-color);\n",
              "    }\n",
              "    20% {\n",
              "      border-color: transparent;\n",
              "      border-left-color: var(--fill-color);\n",
              "      border-top-color: var(--fill-color);\n",
              "    }\n",
              "    30% {\n",
              "      border-color: transparent;\n",
              "      border-left-color: var(--fill-color);\n",
              "      border-top-color: var(--fill-color);\n",
              "      border-right-color: var(--fill-color);\n",
              "    }\n",
              "    40% {\n",
              "      border-color: transparent;\n",
              "      border-right-color: var(--fill-color);\n",
              "      border-top-color: var(--fill-color);\n",
              "    }\n",
              "    60% {\n",
              "      border-color: transparent;\n",
              "      border-right-color: var(--fill-color);\n",
              "    }\n",
              "    80% {\n",
              "      border-color: transparent;\n",
              "      border-right-color: var(--fill-color);\n",
              "      border-bottom-color: var(--fill-color);\n",
              "    }\n",
              "    90% {\n",
              "      border-color: transparent;\n",
              "      border-bottom-color: var(--fill-color);\n",
              "    }\n",
              "  }\n",
              "</style>\n",
              "\n",
              "  <script>\n",
              "    async function quickchart(key) {\n",
              "      const quickchartButtonEl =\n",
              "        document.querySelector('#' + key + ' button');\n",
              "      quickchartButtonEl.disabled = true;  // To prevent multiple clicks.\n",
              "      quickchartButtonEl.classList.add('colab-df-spinner');\n",
              "      try {\n",
              "        const charts = await google.colab.kernel.invokeFunction(\n",
              "            'suggestCharts', [key], {});\n",
              "      } catch (error) {\n",
              "        console.error('Error during call to suggestCharts:', error);\n",
              "      }\n",
              "      quickchartButtonEl.classList.remove('colab-df-spinner');\n",
              "      quickchartButtonEl.classList.add('colab-df-quickchart-complete');\n",
              "    }\n",
              "    (() => {\n",
              "      let quickchartButtonEl =\n",
              "        document.querySelector('#df-47600e0d-6b37-47e8-8eca-6883a77d4e39 button');\n",
              "      quickchartButtonEl.style.display =\n",
              "        google.colab.kernel.accessAllowed ? 'block' : 'none';\n",
              "    })();\n",
              "  </script>\n",
              "</div>\n",
              "\n",
              "    </div>\n",
              "  </div>\n"
            ],
            "application/vnd.google.colaboratory.intrinsic+json": {
              "type": "dataframe"
            }
          },
          "metadata": {},
          "execution_count": 38
        }
      ],
      "source": [
        "X[num_vars.index.tolist()]"
      ]
    },
    {
      "cell_type": "code",
      "source": [
        "V = [ 'V95', 'V96', 'V97', 'V98', 'V99', 'V100', 'V101', 'V102', 'V103', 'V104', 'V105', 'V106', 'V107', 'V108', 'V109', 'V110', 'V111', 'V112', 'V113', 'V114', 'V115', 'V116', 'V117', 'V118', 'V119', 'V120', 'V121', 'V122', 'V123', 'V124', 'V125', 'V126', 'V127', 'V128', 'V129', 'V130', 'V131', 'V132', 'V133', 'V134', 'V135', 'V136', 'V137', 'V279', 'V280', 'V281', 'V282', 'V283', 'V284', 'V285', 'V286', 'V287', 'V288', 'V289', 'V290', 'V291', 'V292', 'V293', 'V294', 'V295', 'V296', 'V297', 'V298', 'V299', 'V300', 'V301', 'V302', 'V303', 'V304', 'V305', 'V306', 'V307', 'V308', 'V309', 'V310', 'V311', 'V312', 'V313', 'V314', 'V315', 'V316', 'V317', 'V318', 'V319', 'V320', 'V321']"
      ],
      "metadata": {
        "id": "fhkW-EN6aMTi"
      },
      "execution_count": 40,
      "outputs": []
    },
    {
      "cell_type": "code",
      "execution_count": 41,
      "metadata": {
        "id": "hO9HYkiXXB0Y"
      },
      "outputs": [],
      "source": [
        "# Aplicar MinMaxScaler a las columnas específicas\n",
        "scaler_min_max = MinMaxScaler()\n",
        "X[['TransactionDT', 'card1', 'card2', 'card3', 'card5']] = scaler_min_max.fit_transform(X[['TransactionDT', 'card1', 'card2', 'card3', 'card5']])\n",
        "\n",
        "\n",
        "# Aplicar RobustScaler a 'TransactionAmt'\n",
        "scaler_robust = RobustScaler()\n",
        "X[['TransactionAmt','C1', 'C2', 'C3', 'C4', 'C5', 'C6', 'C7', 'C8', 'C9', 'C10', 'C11',\n",
        "       'C12', 'C13', 'C14']] = scaler_robust.fit_transform(X[['TransactionAmt','C1', 'C2', 'C3', 'C4', 'C5', 'C6', 'C7', 'C8', 'C9', 'C10', 'C11',\n",
        "       'C12', 'C13', 'C14']])\n",
        "\n",
        "# Aplicar StandardScaler a 'dist1'\n",
        "scaler_standard = StandardScaler()\n",
        "X[V] = scaler_standard.fit_transform(X[V])\n"
      ]
    },
    {
      "cell_type": "code",
      "execution_count": 42,
      "metadata": {
        "id": "fFupdGTEXB0Y",
        "outputId": "fb2f94fe-0c69-4765-cc0b-587d0590cb32",
        "colab": {
          "base_uri": "https://localhost:8080/",
          "height": 273
        }
      },
      "outputs": [
        {
          "output_type": "execute_result",
          "data": {
            "text/plain": [
              "        TransactionID  TransactionDT  TransactionAmt     card1  card2  \\\n",
              "294161        3281161       0.456027       -0.347349  0.900155  0.140   \n",
              "467048        3454048       0.758933       -0.269141  0.586243  0.006   \n",
              "34825         3021825       0.048896        0.079220  0.409674  0.966   \n",
              "374859        3361859       0.588186       -0.360146  0.373843  0.442   \n",
              "545712        3532712       0.910736       -0.511883  0.869845  0.022   \n",
              "\n",
              "           card3     card5    C1    C2   C3  ...  ProductCD_R  ProductCD_S  \\\n",
              "294161  0.387597  0.919708   0.5   0.0  0.0  ...          0.0          0.0   \n",
              "467048  0.658915  0.919708   0.5   0.5  0.0  ...          0.0          0.0   \n",
              "34825   0.387597  0.905109   0.0   0.0  0.0  ...          0.0          0.0   \n",
              "374859  0.387597  0.919708  51.0  50.5  0.0  ...          0.0          0.0   \n",
              "545712  0.387597  0.919708   0.0   0.0  0.0  ...          0.0          0.0   \n",
              "\n",
              "        ProductCD_W  card4_american express  card4_discover  card4_mastercard  \\\n",
              "294161          0.0                     0.0             0.0               0.0   \n",
              "467048          0.0                     0.0             0.0               0.0   \n",
              "34825           0.0                     0.0             0.0               1.0   \n",
              "374859          1.0                     0.0             0.0               0.0   \n",
              "545712          1.0                     0.0             0.0               0.0   \n",
              "\n",
              "        card4_visa  card6_credit  card6_debit  card6_debit or credit  \n",
              "294161         1.0           1.0          0.0                    0.0  \n",
              "467048         1.0           0.0          1.0                    0.0  \n",
              "34825          0.0           1.0          0.0                    0.0  \n",
              "374859         1.0           0.0          1.0                    0.0  \n",
              "545712         1.0           0.0          1.0                    0.0  \n",
              "\n",
              "[5 rows x 120 columns]"
            ],
            "text/html": [
              "\n",
              "  <div id=\"df-388b7b93-b9bc-44d6-8dce-2d45130c38a1\" class=\"colab-df-container\">\n",
              "    <div>\n",
              "<style scoped>\n",
              "    .dataframe tbody tr th:only-of-type {\n",
              "        vertical-align: middle;\n",
              "    }\n",
              "\n",
              "    .dataframe tbody tr th {\n",
              "        vertical-align: top;\n",
              "    }\n",
              "\n",
              "    .dataframe thead th {\n",
              "        text-align: right;\n",
              "    }\n",
              "</style>\n",
              "<table border=\"1\" class=\"dataframe\">\n",
              "  <thead>\n",
              "    <tr style=\"text-align: right;\">\n",
              "      <th></th>\n",
              "      <th>TransactionID</th>\n",
              "      <th>TransactionDT</th>\n",
              "      <th>TransactionAmt</th>\n",
              "      <th>card1</th>\n",
              "      <th>card2</th>\n",
              "      <th>card3</th>\n",
              "      <th>card5</th>\n",
              "      <th>C1</th>\n",
              "      <th>C2</th>\n",
              "      <th>C3</th>\n",
              "      <th>...</th>\n",
              "      <th>ProductCD_R</th>\n",
              "      <th>ProductCD_S</th>\n",
              "      <th>ProductCD_W</th>\n",
              "      <th>card4_american express</th>\n",
              "      <th>card4_discover</th>\n",
              "      <th>card4_mastercard</th>\n",
              "      <th>card4_visa</th>\n",
              "      <th>card6_credit</th>\n",
              "      <th>card6_debit</th>\n",
              "      <th>card6_debit or credit</th>\n",
              "    </tr>\n",
              "  </thead>\n",
              "  <tbody>\n",
              "    <tr>\n",
              "      <th>294161</th>\n",
              "      <td>3281161</td>\n",
              "      <td>0.456027</td>\n",
              "      <td>-0.347349</td>\n",
              "      <td>0.900155</td>\n",
              "      <td>0.140</td>\n",
              "      <td>0.387597</td>\n",
              "      <td>0.919708</td>\n",
              "      <td>0.5</td>\n",
              "      <td>0.0</td>\n",
              "      <td>0.0</td>\n",
              "      <td>...</td>\n",
              "      <td>0.0</td>\n",
              "      <td>0.0</td>\n",
              "      <td>0.0</td>\n",
              "      <td>0.0</td>\n",
              "      <td>0.0</td>\n",
              "      <td>0.0</td>\n",
              "      <td>1.0</td>\n",
              "      <td>1.0</td>\n",
              "      <td>0.0</td>\n",
              "      <td>0.0</td>\n",
              "    </tr>\n",
              "    <tr>\n",
              "      <th>467048</th>\n",
              "      <td>3454048</td>\n",
              "      <td>0.758933</td>\n",
              "      <td>-0.269141</td>\n",
              "      <td>0.586243</td>\n",
              "      <td>0.006</td>\n",
              "      <td>0.658915</td>\n",
              "      <td>0.919708</td>\n",
              "      <td>0.5</td>\n",
              "      <td>0.5</td>\n",
              "      <td>0.0</td>\n",
              "      <td>...</td>\n",
              "      <td>0.0</td>\n",
              "      <td>0.0</td>\n",
              "      <td>0.0</td>\n",
              "      <td>0.0</td>\n",
              "      <td>0.0</td>\n",
              "      <td>0.0</td>\n",
              "      <td>1.0</td>\n",
              "      <td>0.0</td>\n",
              "      <td>1.0</td>\n",
              "      <td>0.0</td>\n",
              "    </tr>\n",
              "    <tr>\n",
              "      <th>34825</th>\n",
              "      <td>3021825</td>\n",
              "      <td>0.048896</td>\n",
              "      <td>0.079220</td>\n",
              "      <td>0.409674</td>\n",
              "      <td>0.966</td>\n",
              "      <td>0.387597</td>\n",
              "      <td>0.905109</td>\n",
              "      <td>0.0</td>\n",
              "      <td>0.0</td>\n",
              "      <td>0.0</td>\n",
              "      <td>...</td>\n",
              "      <td>0.0</td>\n",
              "      <td>0.0</td>\n",
              "      <td>0.0</td>\n",
              "      <td>0.0</td>\n",
              "      <td>0.0</td>\n",
              "      <td>1.0</td>\n",
              "      <td>0.0</td>\n",
              "      <td>1.0</td>\n",
              "      <td>0.0</td>\n",
              "      <td>0.0</td>\n",
              "    </tr>\n",
              "    <tr>\n",
              "      <th>374859</th>\n",
              "      <td>3361859</td>\n",
              "      <td>0.588186</td>\n",
              "      <td>-0.360146</td>\n",
              "      <td>0.373843</td>\n",
              "      <td>0.442</td>\n",
              "      <td>0.387597</td>\n",
              "      <td>0.919708</td>\n",
              "      <td>51.0</td>\n",
              "      <td>50.5</td>\n",
              "      <td>0.0</td>\n",
              "      <td>...</td>\n",
              "      <td>0.0</td>\n",
              "      <td>0.0</td>\n",
              "      <td>1.0</td>\n",
              "      <td>0.0</td>\n",
              "      <td>0.0</td>\n",
              "      <td>0.0</td>\n",
              "      <td>1.0</td>\n",
              "      <td>0.0</td>\n",
              "      <td>1.0</td>\n",
              "      <td>0.0</td>\n",
              "    </tr>\n",
              "    <tr>\n",
              "      <th>545712</th>\n",
              "      <td>3532712</td>\n",
              "      <td>0.910736</td>\n",
              "      <td>-0.511883</td>\n",
              "      <td>0.869845</td>\n",
              "      <td>0.022</td>\n",
              "      <td>0.387597</td>\n",
              "      <td>0.919708</td>\n",
              "      <td>0.0</td>\n",
              "      <td>0.0</td>\n",
              "      <td>0.0</td>\n",
              "      <td>...</td>\n",
              "      <td>0.0</td>\n",
              "      <td>0.0</td>\n",
              "      <td>1.0</td>\n",
              "      <td>0.0</td>\n",
              "      <td>0.0</td>\n",
              "      <td>0.0</td>\n",
              "      <td>1.0</td>\n",
              "      <td>0.0</td>\n",
              "      <td>1.0</td>\n",
              "      <td>0.0</td>\n",
              "    </tr>\n",
              "  </tbody>\n",
              "</table>\n",
              "<p>5 rows × 120 columns</p>\n",
              "</div>\n",
              "    <div class=\"colab-df-buttons\">\n",
              "\n",
              "  <div class=\"colab-df-container\">\n",
              "    <button class=\"colab-df-convert\" onclick=\"convertToInteractive('df-388b7b93-b9bc-44d6-8dce-2d45130c38a1')\"\n",
              "            title=\"Convert this dataframe to an interactive table.\"\n",
              "            style=\"display:none;\">\n",
              "\n",
              "  <svg xmlns=\"http://www.w3.org/2000/svg\" height=\"24px\" viewBox=\"0 -960 960 960\">\n",
              "    <path d=\"M120-120v-720h720v720H120Zm60-500h600v-160H180v160Zm220 220h160v-160H400v160Zm0 220h160v-160H400v160ZM180-400h160v-160H180v160Zm440 0h160v-160H620v160ZM180-180h160v-160H180v160Zm440 0h160v-160H620v160Z\"/>\n",
              "  </svg>\n",
              "    </button>\n",
              "\n",
              "  <style>\n",
              "    .colab-df-container {\n",
              "      display:flex;\n",
              "      gap: 12px;\n",
              "    }\n",
              "\n",
              "    .colab-df-convert {\n",
              "      background-color: #E8F0FE;\n",
              "      border: none;\n",
              "      border-radius: 50%;\n",
              "      cursor: pointer;\n",
              "      display: none;\n",
              "      fill: #1967D2;\n",
              "      height: 32px;\n",
              "      padding: 0 0 0 0;\n",
              "      width: 32px;\n",
              "    }\n",
              "\n",
              "    .colab-df-convert:hover {\n",
              "      background-color: #E2EBFA;\n",
              "      box-shadow: 0px 1px 2px rgba(60, 64, 67, 0.3), 0px 1px 3px 1px rgba(60, 64, 67, 0.15);\n",
              "      fill: #174EA6;\n",
              "    }\n",
              "\n",
              "    .colab-df-buttons div {\n",
              "      margin-bottom: 4px;\n",
              "    }\n",
              "\n",
              "    [theme=dark] .colab-df-convert {\n",
              "      background-color: #3B4455;\n",
              "      fill: #D2E3FC;\n",
              "    }\n",
              "\n",
              "    [theme=dark] .colab-df-convert:hover {\n",
              "      background-color: #434B5C;\n",
              "      box-shadow: 0px 1px 3px 1px rgba(0, 0, 0, 0.15);\n",
              "      filter: drop-shadow(0px 1px 2px rgba(0, 0, 0, 0.3));\n",
              "      fill: #FFFFFF;\n",
              "    }\n",
              "  </style>\n",
              "\n",
              "    <script>\n",
              "      const buttonEl =\n",
              "        document.querySelector('#df-388b7b93-b9bc-44d6-8dce-2d45130c38a1 button.colab-df-convert');\n",
              "      buttonEl.style.display =\n",
              "        google.colab.kernel.accessAllowed ? 'block' : 'none';\n",
              "\n",
              "      async function convertToInteractive(key) {\n",
              "        const element = document.querySelector('#df-388b7b93-b9bc-44d6-8dce-2d45130c38a1');\n",
              "        const dataTable =\n",
              "          await google.colab.kernel.invokeFunction('convertToInteractive',\n",
              "                                                    [key], {});\n",
              "        if (!dataTable) return;\n",
              "\n",
              "        const docLinkHtml = 'Like what you see? Visit the ' +\n",
              "          '<a target=\"_blank\" href=https://colab.research.google.com/notebooks/data_table.ipynb>data table notebook</a>'\n",
              "          + ' to learn more about interactive tables.';\n",
              "        element.innerHTML = '';\n",
              "        dataTable['output_type'] = 'display_data';\n",
              "        await google.colab.output.renderOutput(dataTable, element);\n",
              "        const docLink = document.createElement('div');\n",
              "        docLink.innerHTML = docLinkHtml;\n",
              "        element.appendChild(docLink);\n",
              "      }\n",
              "    </script>\n",
              "  </div>\n",
              "\n",
              "\n",
              "<div id=\"df-e2168512-22d1-40d5-b75d-f86fcd01d54d\">\n",
              "  <button class=\"colab-df-quickchart\" onclick=\"quickchart('df-e2168512-22d1-40d5-b75d-f86fcd01d54d')\"\n",
              "            title=\"Suggest charts\"\n",
              "            style=\"display:none;\">\n",
              "\n",
              "<svg xmlns=\"http://www.w3.org/2000/svg\" height=\"24px\"viewBox=\"0 0 24 24\"\n",
              "     width=\"24px\">\n",
              "    <g>\n",
              "        <path d=\"M19 3H5c-1.1 0-2 .9-2 2v14c0 1.1.9 2 2 2h14c1.1 0 2-.9 2-2V5c0-1.1-.9-2-2-2zM9 17H7v-7h2v7zm4 0h-2V7h2v10zm4 0h-2v-4h2v4z\"/>\n",
              "    </g>\n",
              "</svg>\n",
              "  </button>\n",
              "\n",
              "<style>\n",
              "  .colab-df-quickchart {\n",
              "      --bg-color: #E8F0FE;\n",
              "      --fill-color: #1967D2;\n",
              "      --hover-bg-color: #E2EBFA;\n",
              "      --hover-fill-color: #174EA6;\n",
              "      --disabled-fill-color: #AAA;\n",
              "      --disabled-bg-color: #DDD;\n",
              "  }\n",
              "\n",
              "  [theme=dark] .colab-df-quickchart {\n",
              "      --bg-color: #3B4455;\n",
              "      --fill-color: #D2E3FC;\n",
              "      --hover-bg-color: #434B5C;\n",
              "      --hover-fill-color: #FFFFFF;\n",
              "      --disabled-bg-color: #3B4455;\n",
              "      --disabled-fill-color: #666;\n",
              "  }\n",
              "\n",
              "  .colab-df-quickchart {\n",
              "    background-color: var(--bg-color);\n",
              "    border: none;\n",
              "    border-radius: 50%;\n",
              "    cursor: pointer;\n",
              "    display: none;\n",
              "    fill: var(--fill-color);\n",
              "    height: 32px;\n",
              "    padding: 0;\n",
              "    width: 32px;\n",
              "  }\n",
              "\n",
              "  .colab-df-quickchart:hover {\n",
              "    background-color: var(--hover-bg-color);\n",
              "    box-shadow: 0 1px 2px rgba(60, 64, 67, 0.3), 0 1px 3px 1px rgba(60, 64, 67, 0.15);\n",
              "    fill: var(--button-hover-fill-color);\n",
              "  }\n",
              "\n",
              "  .colab-df-quickchart-complete:disabled,\n",
              "  .colab-df-quickchart-complete:disabled:hover {\n",
              "    background-color: var(--disabled-bg-color);\n",
              "    fill: var(--disabled-fill-color);\n",
              "    box-shadow: none;\n",
              "  }\n",
              "\n",
              "  .colab-df-spinner {\n",
              "    border: 2px solid var(--fill-color);\n",
              "    border-color: transparent;\n",
              "    border-bottom-color: var(--fill-color);\n",
              "    animation:\n",
              "      spin 1s steps(1) infinite;\n",
              "  }\n",
              "\n",
              "  @keyframes spin {\n",
              "    0% {\n",
              "      border-color: transparent;\n",
              "      border-bottom-color: var(--fill-color);\n",
              "      border-left-color: var(--fill-color);\n",
              "    }\n",
              "    20% {\n",
              "      border-color: transparent;\n",
              "      border-left-color: var(--fill-color);\n",
              "      border-top-color: var(--fill-color);\n",
              "    }\n",
              "    30% {\n",
              "      border-color: transparent;\n",
              "      border-left-color: var(--fill-color);\n",
              "      border-top-color: var(--fill-color);\n",
              "      border-right-color: var(--fill-color);\n",
              "    }\n",
              "    40% {\n",
              "      border-color: transparent;\n",
              "      border-right-color: var(--fill-color);\n",
              "      border-top-color: var(--fill-color);\n",
              "    }\n",
              "    60% {\n",
              "      border-color: transparent;\n",
              "      border-right-color: var(--fill-color);\n",
              "    }\n",
              "    80% {\n",
              "      border-color: transparent;\n",
              "      border-right-color: var(--fill-color);\n",
              "      border-bottom-color: var(--fill-color);\n",
              "    }\n",
              "    90% {\n",
              "      border-color: transparent;\n",
              "      border-bottom-color: var(--fill-color);\n",
              "    }\n",
              "  }\n",
              "</style>\n",
              "\n",
              "  <script>\n",
              "    async function quickchart(key) {\n",
              "      const quickchartButtonEl =\n",
              "        document.querySelector('#' + key + ' button');\n",
              "      quickchartButtonEl.disabled = true;  // To prevent multiple clicks.\n",
              "      quickchartButtonEl.classList.add('colab-df-spinner');\n",
              "      try {\n",
              "        const charts = await google.colab.kernel.invokeFunction(\n",
              "            'suggestCharts', [key], {});\n",
              "      } catch (error) {\n",
              "        console.error('Error during call to suggestCharts:', error);\n",
              "      }\n",
              "      quickchartButtonEl.classList.remove('colab-df-spinner');\n",
              "      quickchartButtonEl.classList.add('colab-df-quickchart-complete');\n",
              "    }\n",
              "    (() => {\n",
              "      let quickchartButtonEl =\n",
              "        document.querySelector('#df-e2168512-22d1-40d5-b75d-f86fcd01d54d button');\n",
              "      quickchartButtonEl.style.display =\n",
              "        google.colab.kernel.accessAllowed ? 'block' : 'none';\n",
              "    })();\n",
              "  </script>\n",
              "</div>\n",
              "\n",
              "    </div>\n",
              "  </div>\n"
            ],
            "application/vnd.google.colaboratory.intrinsic+json": {
              "type": "dataframe",
              "variable_name": "X"
            }
          },
          "metadata": {},
          "execution_count": 42
        }
      ],
      "source": [
        "X.head()"
      ]
    },
    {
      "cell_type": "code",
      "execution_count": 43,
      "metadata": {
        "id": "lT4rNpySXB0Y"
      },
      "outputs": [],
      "source": [
        "# Guardar X y y en archivos CSV\n",
        "\n",
        "#dir_data_processed = '../data/processed'\n",
        "dir_data_processed = '/content/drive/MyDrive/cursos-analisis-datos/data-science/proyecto/propuestas/propuesta1/ieee-fraud-detection/processed'\n",
        "ruta_archivo_X = os.path.join(dir_data_processed, 'datos_procesados.csv')\n",
        "X.to_csv(ruta_archivo_X, index=False, encoding='utf-8')\n",
        "\n",
        "ruta_archivo_y = os.path.join(dir_data_processed, 'target.csv')\n",
        "y.to_csv(ruta_archivo_y, index=False, encoding='utf-8')\n",
        "\n"
      ]
    },
    {
      "cell_type": "markdown",
      "metadata": {
        "id": "mAtcSYkKXB0Z"
      },
      "source": [
        "## Conclusión\n",
        "\n",
        "En este proyecto de Data Science, el proceso de limpieza y preprocesamiento de datos ha sido fundamental para preparar nuestros datos antes de aplicar modelos de aprendizaje automático. A continuación, se detallan las principales etapas y decisiones tomadas durante este proceso:\n",
        "\n",
        "1. **Selección Estratégica del Dataset**: Se cargó el dataset completo y se seleccionó estratégicamente una porción del 10%, utilizando muestreo estratificado para asegurar representatividad y evitar sesgos en nuestros modelos.\n",
        "\n",
        "2. **Selección de Características Relevantes**: Se llevó a cabo la selección de las columnas más relevantes para nuestro análisis y modelos, descartando aquellas que no contribuían significativamente a la predicción del target.\n",
        "\n",
        "3. **Manejo de Valores Nulos**: Se eliminaron aquellas columnas que contenían un alto porcentaje (mayor al 80%) de valores nulos, así como las filas con un porcentaje bajo de valores nulos para garantizar la integridad de los datos restantes.\n",
        "\n",
        "4. **Separación de Variables**: Se realizó una clara separación entre las variables características (`X`) y el target (`y`), asegurando que estuvieran correctamente definidas para el entrenamiento de los modelos.\n",
        "\n",
        "5. **Ingeniería de Características**: Basados en un análisis exploratorio de datos (EDA), se reemplazó la columna `TransactionAmt` por `TransactionAmt_Range`, una variable categórica que agrupa los valores en rangos como \"muy bajo\", \"bajo\", \"medio\", \"alto\" y \"muy alto\". Esta transformación facilita el manejo de variables con amplios rangos de valores, evitando posibles complicaciones durante el entrenamiento de los modelos.\n",
        "\n",
        "6. **Combinación de Variables**: Se combinaron las columnas `addr1` y `addr2` en una sola columna (`addr_combined`), reduciendo así la dimensionalidad del dataset sin perder información relevante.\n",
        "\n",
        "7. **Codificación de Variables Categóricas**: Se aplicaron técnicas adecuadas de codificación a las variables categóricas según su naturaleza, como codificación one-hot y binary encoding, para prepararlas para su uso en los modelos de aprendizaje automático.\n",
        "\n",
        "8. **Normalización de Variables Numéricas**: Se normalizaron las variables numéricas para asegurar que todas estuvieran en la misma escala, lo cual es crucial para modelos que se basan en la distancia o magnitud de los atributos.\n",
        "\n",
        "En resumen, el proceso de limpieza y preprocesamiento de datos realizado ha permitido transformar el dataset inicial en un formato apto y optimizado para la construcción de modelos predictivos. Estas etapas son fundamentales para asegurar la calidad de los resultados obtenidos y facilitar la interpretación y aplicación de los modelos en la práctica.\n"
      ]
    },
    {
      "cell_type": "code",
      "execution_count": null,
      "metadata": {
        "id": "H0oqaFXWXB0Z"
      },
      "outputs": [],
      "source": []
    }
  ],
  "metadata": {
    "kernelspec": {
      "display_name": "venv",
      "language": "python",
      "name": "python3"
    },
    "language_info": {
      "codemirror_mode": {
        "name": "ipython",
        "version": 3
      },
      "file_extension": ".py",
      "mimetype": "text/x-python",
      "name": "python",
      "nbconvert_exporter": "python",
      "pygments_lexer": "ipython3",
      "version": "3.11.7"
    },
    "colab": {
      "provenance": []
    }
  },
  "nbformat": 4,
  "nbformat_minor": 0
}
{
  "cells": [
    {
      "cell_type": "markdown",
      "metadata": {
        "id": "g6pvKZPLBwxF"
      },
      "source": [
        "## 02 Data Cleaning and Preprocessing\n",
        "**Objetivo**: Limpiar y preprocesar los datos para que estén listos para el modelado.\n",
        "**Contenido**:\n",
        "- Manejo de valores nulos.\n",
        "- Creación de nuevas características (feature engineering).\n",
        "- Conversión de tipos de datos.\n",
        "- Codificación de variables categóricas.\n",
        "- Normalización y estandarización de las variables.\n",
        "\n"
      ]
    },
    {
      "cell_type": "code",
      "source": [
        "#!pip install category_encoders"
      ],
      "metadata": {
        "id": "l-4yW3IKDW5i",
        "outputId": "289e06c1-95cc-4444-806c-51f047c013dd",
        "colab": {
          "base_uri": "https://localhost:8080/"
        }
      },
      "execution_count": 2,
      "outputs": [
        {
          "output_type": "stream",
          "name": "stdout",
          "text": [
            "Collecting category_encoders\n",
            "  Downloading category_encoders-2.6.3-py2.py3-none-any.whl (81 kB)\n",
            "\u001b[?25l     \u001b[90m━━━━━━━━━━━━━━━━━━━━━━━━━━━━━━━━━━━━━━━━\u001b[0m \u001b[32m0.0/81.9 kB\u001b[0m \u001b[31m?\u001b[0m eta \u001b[36m-:--:--\u001b[0m\r\u001b[2K     \u001b[90m━━━━━━━━━━━━━━━━━━━━━━━━━━━━━━━━━━━━━━━━\u001b[0m \u001b[32m81.9/81.9 kB\u001b[0m \u001b[31m3.5 MB/s\u001b[0m eta \u001b[36m0:00:00\u001b[0m\n",
            "\u001b[?25hRequirement already satisfied: numpy>=1.14.0 in /usr/local/lib/python3.10/dist-packages (from category_encoders) (1.25.2)\n",
            "Requirement already satisfied: scikit-learn>=0.20.0 in /usr/local/lib/python3.10/dist-packages (from category_encoders) (1.2.2)\n",
            "Requirement already satisfied: scipy>=1.0.0 in /usr/local/lib/python3.10/dist-packages (from category_encoders) (1.11.4)\n",
            "Requirement already satisfied: statsmodels>=0.9.0 in /usr/local/lib/python3.10/dist-packages (from category_encoders) (0.14.2)\n",
            "Requirement already satisfied: pandas>=1.0.5 in /usr/local/lib/python3.10/dist-packages (from category_encoders) (2.0.3)\n",
            "Requirement already satisfied: patsy>=0.5.1 in /usr/local/lib/python3.10/dist-packages (from category_encoders) (0.5.6)\n",
            "Requirement already satisfied: python-dateutil>=2.8.2 in /usr/local/lib/python3.10/dist-packages (from pandas>=1.0.5->category_encoders) (2.8.2)\n",
            "Requirement already satisfied: pytz>=2020.1 in /usr/local/lib/python3.10/dist-packages (from pandas>=1.0.5->category_encoders) (2023.4)\n",
            "Requirement already satisfied: tzdata>=2022.1 in /usr/local/lib/python3.10/dist-packages (from pandas>=1.0.5->category_encoders) (2024.1)\n",
            "Requirement already satisfied: six in /usr/local/lib/python3.10/dist-packages (from patsy>=0.5.1->category_encoders) (1.16.0)\n",
            "Requirement already satisfied: joblib>=1.1.1 in /usr/local/lib/python3.10/dist-packages (from scikit-learn>=0.20.0->category_encoders) (1.4.2)\n",
            "Requirement already satisfied: threadpoolctl>=2.0.0 in /usr/local/lib/python3.10/dist-packages (from scikit-learn>=0.20.0->category_encoders) (3.5.0)\n",
            "Requirement already satisfied: packaging>=21.3 in /usr/local/lib/python3.10/dist-packages (from statsmodels>=0.9.0->category_encoders) (24.1)\n",
            "Installing collected packages: category_encoders\n",
            "Successfully installed category_encoders-2.6.3\n"
          ]
        }
      ]
    },
    {
      "cell_type": "code",
      "execution_count": 3,
      "metadata": {
        "id": "7NapRFjmBwxI"
      },
      "outputs": [],
      "source": [
        "## Librerías\n",
        "import os\n",
        "import pandas as pd\n",
        "from sklearn.model_selection import train_test_split\n",
        "import seaborn as sns\n",
        "import matplotlib.pyplot as plt\n",
        "import missingno as msno\n",
        "import numpy as np\n",
        "from sklearn.preprocessing import OneHotEncoder\n",
        "from sklearn.preprocessing import StandardScaler\n",
        "from sklearn.preprocessing import OrdinalEncoder\n",
        "import category_encoders as ce\n",
        "from sklearn.preprocessing import MinMaxScaler\n",
        "from sklearn.preprocessing import OneHotEncoder, MinMaxScaler, StandardScaler, RobustScaler\n",
        "import os"
      ]
    },
    {
      "cell_type": "code",
      "source": [
        "## Importamos las librerias a usar\n",
        "from google.colab import drive\n",
        "drive.mount('/content/drive')\n",
        "data_dir = '/content/drive/MyDrive/cursos-analisis-datos/data-science/proyecto/propuestas/propuesta1/ieee-fraud-detection'\n"
      ],
      "metadata": {
        "id": "UTAQ-8ASDVxI",
        "outputId": "484736eb-ddd6-4b6a-fba6-19c5fab8b4dd",
        "colab": {
          "base_uri": "https://localhost:8080/"
        }
      },
      "execution_count": 4,
      "outputs": [
        {
          "output_type": "stream",
          "name": "stdout",
          "text": [
            "Mounted at /content/drive\n"
          ]
        }
      ]
    },
    {
      "cell_type": "markdown",
      "metadata": {
        "id": "X5f5waLEBwxM"
      },
      "source": [
        "##  Cargamos los Dataset"
      ]
    },
    {
      "cell_type": "markdown",
      "metadata": {
        "id": "oIL0s6kpBwxN"
      },
      "source": [
        "- Trabajaremos exclusivamente con el dataset de entrenamiento \"train_transaction\" para obtener tanto los datos de entrenamiento como los de validación. De este dataset solo tomaremos el 10 % del total de los registro."
      ]
    },
    {
      "cell_type": "code",
      "execution_count": null,
      "metadata": {
        "id": "LMX8vqTJBwxO"
      },
      "outputs": [],
      "source": [
        "select_col_transaction = 'TransactionID,isFraud,TransactionDT,TransactionAmt,ProductCD,card1,card2,card3,card4,card5,card6,addr1,addr2,dist1,dist2,P_emaildomain,R_emaildomain,C1,C2,C3,C4,C5,C6,C7,C8,C9,C10,C11,C12,C13,C14,D1,D2,D3,D4,D5,D6,D7,D8,D9,D10,D11,D12,D13,D14,D15,M1,M2,M3,M4,M5,M6,M7,M8,M9'.split(',')\n",
        "select_col_identity = 'TransactionID,id_01,id_02,id_03,id_04,id_05,id_06,id_07,id_08,id_09,id_10,id_11,id_12,id_13,id_14,id_15,id_16,id_17,id_18,id_19,id_20,id_21,id_22,id_23,id_24,id_25,id_26,id_27,id_28,id_29,id_30,id_31,id_32,id_33,id_34,id_35,id_36,id_37,id_38,DeviceType,DeviceInfo'.split(',')\n",
        "data_dir = '../data/raw/ieee-fraud-detection'"
      ]
    },
    {
      "cell_type": "code",
      "source": [
        "col_selection_feature_cat_orig = ['card4', 'card6', 'M2', 'M3', 'M3','M6', 'M6', 'P_emaildomain', 'V135', 'V319', 'V137', 'V321', 'V129', 'V132', 'V309', 'V136', 'V316',\n",
        "'V320','isFraud']\n",
        "col_selection_feature_catg_num=['V135', 'V319', 'V137', 'V321', 'V129', 'V132', 'V309', 'V136', 'V316',\n",
        "'V320']\n",
        "\n",
        "col_selection_feature_num = ['V313', 'V134', 'V318', 'V315', 'V306', 'D2', 'V317', 'V128', 'V308','V307']\n"
      ],
      "metadata": {
        "id": "fxNdjprGCizF"
      },
      "execution_count": 62,
      "outputs": []
    },
    {
      "cell_type": "code",
      "source": [],
      "metadata": {
        "id": "hePESBsjDm0H"
      },
      "execution_count": 62,
      "outputs": []
    },
    {
      "cell_type": "markdown",
      "metadata": {
        "id": "_fPj-tCKBwxP"
      },
      "source": [
        "### Selección de porción del Dataset de entrenamiento con Muestreo Estratificado\n",
        "\n"
      ]
    },
    {
      "cell_type": "code",
      "execution_count": 63,
      "metadata": {
        "id": "AYbbMcO-BwxP",
        "outputId": "7c7346a0-e404-45a4-a025-420aa5ec5269",
        "colab": {
          "base_uri": "https://localhost:8080/"
        }
      },
      "outputs": [
        {
          "output_type": "stream",
          "name": "stdout",
          "text": [
            "<class 'pandas.core.frame.DataFrame'>\n",
            "Index: 59054 entries, 294161 to 404259\n",
            "Data columns (total 27 columns):\n",
            " #   Column         Non-Null Count  Dtype  \n",
            "---  ------         --------------  -----  \n",
            " 0   isFraud        59054 non-null  int64  \n",
            " 1   card4          58896 non-null  object \n",
            " 2   card6          58896 non-null  object \n",
            " 3   P_emaildomain  49586 non-null  object \n",
            " 4   D2             30944 non-null  float64\n",
            " 5   M2             31817 non-null  object \n",
            " 6   M3             31817 non-null  object \n",
            " 7   M6             42075 non-null  object \n",
            " 8   V128           59023 non-null  float64\n",
            " 9   V129           59023 non-null  float64\n",
            " 10  V132           59023 non-null  float64\n",
            " 11  V134           59023 non-null  float64\n",
            " 12  V135           59023 non-null  float64\n",
            " 13  V136           59023 non-null  float64\n",
            " 14  V137           59023 non-null  float64\n",
            " 15  V306           59053 non-null  float64\n",
            " 16  V307           59053 non-null  float64\n",
            " 17  V308           59053 non-null  float64\n",
            " 18  V309           59053 non-null  float64\n",
            " 19  V313           58914 non-null  float64\n",
            " 20  V315           58914 non-null  float64\n",
            " 21  V316           59053 non-null  float64\n",
            " 22  V317           59053 non-null  float64\n",
            " 23  V318           59053 non-null  float64\n",
            " 24  V319           59053 non-null  float64\n",
            " 25  V320           59053 non-null  float64\n",
            " 26  V321           59053 non-null  float64\n",
            "dtypes: float64(20), int64(1), object(6)\n",
            "memory usage: 12.6+ MB\n"
          ]
        }
      ],
      "source": [
        "#data_dir = '../data/raw/ieee-fraud-detection'\n",
        "\n",
        "## dataset de entrenamiento\n",
        "seed = 42\n",
        "# Cargar los datos\n",
        "df_transaction_train = pd.read_csv(data_dir + '/train_transaction.csv', usecols=col_selection_feature_cat_orig + col_selection_feature_catg_num+col_selection_feature_num)\n",
        "#df_transaction_train = pd.read_csv(data_dir + '/train_transaction.csv', usecols=select_col_transaction\n",
        "#df_identity_train = pd.read_csv(data_dir + '/train_identity.csv', usecols=select_col_identity)\n",
        "\n",
        "# Combinar los datasets\n",
        "#dataset = pd.merge(df_transaction_train, df_identity_train, on='TransactionID', how='left')\n",
        "dataset = df_transaction_train.copy()\n",
        "# Realizar el muestreo estratificado\n",
        "train_data, _ = train_test_split(dataset, stratify=dataset['isFraud'], test_size=0.9, random_state=seed)\n",
        "\n",
        "# Mostrar la información del dataset resultante\n",
        "train_data.info()"
      ]
    },
    {
      "cell_type": "code",
      "source": [
        "data = train_data.copy()"
      ],
      "metadata": {
        "id": "onkborxxEOgT"
      },
      "execution_count": 64,
      "outputs": []
    },
    {
      "cell_type": "markdown",
      "metadata": {
        "id": "oNJn0hPpBwxS"
      },
      "source": [
        "## Manejo de valores nulos"
      ]
    },
    {
      "cell_type": "code",
      "execution_count": 65,
      "metadata": {
        "id": "A_-IE8uFBwxU"
      },
      "outputs": [],
      "source": [
        "data.dropna(inplace=True)"
      ]
    },
    {
      "cell_type": "code",
      "execution_count": 66,
      "metadata": {
        "id": "atmhBc7yBwxV",
        "outputId": "821a360e-1cf4-43ce-c18d-52042d19b75a",
        "colab": {
          "base_uri": "https://localhost:8080/"
        }
      },
      "outputs": [
        {
          "output_type": "execute_result",
          "data": {
            "text/plain": [
              "isFraud          0\n",
              "card4            0\n",
              "card6            0\n",
              "P_emaildomain    0\n",
              "D2               0\n",
              "M2               0\n",
              "M3               0\n",
              "M6               0\n",
              "V128             0\n",
              "V129             0\n",
              "V132             0\n",
              "V134             0\n",
              "V135             0\n",
              "V136             0\n",
              "V137             0\n",
              "V306             0\n",
              "V307             0\n",
              "V308             0\n",
              "V309             0\n",
              "V313             0\n",
              "V315             0\n",
              "V316             0\n",
              "V317             0\n",
              "V318             0\n",
              "V319             0\n",
              "V320             0\n",
              "V321             0\n",
              "dtype: int64"
            ]
          },
          "metadata": {},
          "execution_count": 66
        }
      ],
      "source": [
        "data.isnull().sum()"
      ]
    },
    {
      "cell_type": "code",
      "execution_count": 67,
      "metadata": {
        "id": "gyA_YKAVBwxV",
        "outputId": "04eb0761-e558-4118-d1f8-fd401a7b48c9",
        "colab": {
          "base_uri": "https://localhost:8080/"
        }
      },
      "outputs": [
        {
          "output_type": "stream",
          "name": "stdout",
          "text": [
            "isFraud          0.0\n",
            "V319             0.0\n",
            "V318             0.0\n",
            "V317             0.0\n",
            "V316             0.0\n",
            "V315             0.0\n",
            "V313             0.0\n",
            "V309             0.0\n",
            "V308             0.0\n",
            "V307             0.0\n",
            "V306             0.0\n",
            "V137             0.0\n",
            "V320             0.0\n",
            "V136             0.0\n",
            "V134             0.0\n",
            "V132             0.0\n",
            "V129             0.0\n",
            "V128             0.0\n",
            "M6               0.0\n",
            "M3               0.0\n",
            "M2               0.0\n",
            "D2               0.0\n",
            "P_emaildomain    0.0\n",
            "card6            0.0\n",
            "card4            0.0\n",
            "V135             0.0\n",
            "V321             0.0\n",
            "dtype: float64\n"
          ]
        }
      ],
      "source": [
        "null_percentages = (data.isnull().sum() / len(data)) * 100\n",
        "print(round(null_percentages,2).sort_values(ascending=True).head(30))"
      ]
    },
    {
      "cell_type": "code",
      "execution_count": 68,
      "metadata": {
        "id": "S9MxsH1BBwxW",
        "outputId": "a76ce66a-7500-4a84-f7d4-c152071fc490",
        "colab": {
          "base_uri": "https://localhost:8080/"
        }
      },
      "outputs": [
        {
          "output_type": "execute_result",
          "data": {
            "text/plain": [
              "(14819, 27)"
            ]
          },
          "metadata": {},
          "execution_count": 68
        }
      ],
      "source": [
        "data.shape"
      ]
    },
    {
      "cell_type": "markdown",
      "metadata": {
        "id": "Jc65y4ikBwxW"
      },
      "source": [
        "## Conversión de datos"
      ]
    },
    {
      "cell_type": "markdown",
      "metadata": {
        "id": "BU246dQFBwxX"
      },
      "source": [
        "No es necesatio convertir los tipos de datos, debido a que son adecuado al tipo de datos que ya tienen."
      ]
    },
    {
      "cell_type": "code",
      "execution_count": 69,
      "metadata": {
        "id": "UrBR0KndBwxX",
        "outputId": "b40c7dba-f3cc-41ea-be30-ebb30b22db71",
        "colab": {
          "base_uri": "https://localhost:8080/"
        }
      },
      "outputs": [
        {
          "output_type": "execute_result",
          "data": {
            "text/plain": [
              "isFraud            int64\n",
              "card4             object\n",
              "card6             object\n",
              "P_emaildomain     object\n",
              "D2               float64\n",
              "M2                object\n",
              "M3                object\n",
              "M6                object\n",
              "V128             float64\n",
              "V129             float64\n",
              "V132             float64\n",
              "V134             float64\n",
              "V135             float64\n",
              "V136             float64\n",
              "V137             float64\n",
              "V306             float64\n",
              "V307             float64\n",
              "V308             float64\n",
              "V309             float64\n",
              "V313             float64\n",
              "V315             float64\n",
              "V316             float64\n",
              "V317             float64\n",
              "V318             float64\n",
              "V319             float64\n",
              "V320             float64\n",
              "V321             float64\n",
              "dtype: object"
            ]
          },
          "metadata": {},
          "execution_count": 69
        }
      ],
      "source": [
        "data.dtypes"
      ]
    },
    {
      "cell_type": "markdown",
      "metadata": {
        "id": "5YpfBSX1BwxY"
      },
      "source": [
        "## Separamos datos características (X) y variable objetivo (y)"
      ]
    },
    {
      "cell_type": "code",
      "execution_count": 70,
      "metadata": {
        "id": "G6DMlmIVBwxY"
      },
      "outputs": [],
      "source": [
        "X = data.drop('isFraud', axis=1)  # features\n",
        "y = data['isFraud']  # target"
      ]
    },
    {
      "cell_type": "markdown",
      "metadata": {
        "id": "KK-M2tTbBwxc"
      },
      "source": [
        "### Codificación de variables categóricas"
      ]
    },
    {
      "cell_type": "code",
      "execution_count": 71,
      "metadata": {
        "id": "q7UInei3Bwxd",
        "outputId": "d5cea602-d28e-4ffd-9852-c7bb06e9de15",
        "colab": {
          "base_uri": "https://localhost:8080/"
        }
      },
      "outputs": [
        {
          "output_type": "execute_result",
          "data": {
            "text/plain": [
              "card4             object\n",
              "card6             object\n",
              "P_emaildomain     object\n",
              "D2               float64\n",
              "M2                object\n",
              "M3                object\n",
              "M6                object\n",
              "V128             float64\n",
              "V129             float64\n",
              "V132             float64\n",
              "V134             float64\n",
              "V135             float64\n",
              "V136             float64\n",
              "V137             float64\n",
              "V306             float64\n",
              "V307             float64\n",
              "V308             float64\n",
              "V309             float64\n",
              "V313             float64\n",
              "V315             float64\n",
              "V316             float64\n",
              "V317             float64\n",
              "V318             float64\n",
              "V319             float64\n",
              "V320             float64\n",
              "V321             float64\n",
              "dtype: object"
            ]
          },
          "metadata": {},
          "execution_count": 71
        }
      ],
      "source": [
        "X.dtypes"
      ]
    },
    {
      "cell_type": "code",
      "execution_count": 72,
      "metadata": {
        "id": "qxqVH5UeBwxd"
      },
      "outputs": [],
      "source": [
        "# Identificar tipos de datos\n",
        "data_types = X.dtypes\n",
        "\n",
        "# Filtrar y contar variables numéricas y categóricas\n",
        "num_vars = data_types[data_types != 'object']  # Variables numéricas\n",
        "cat_vars = data_types[data_types == 'object']  # Variables categóricas\n",
        "num_vars_names = num_vars.index.tolist()\n",
        "cat_vars_names = cat_vars.index.tolist()"
      ]
    },
    {
      "cell_type": "code",
      "source": [],
      "metadata": {
        "id": "bMBygPF2EwjH"
      },
      "execution_count": 72,
      "outputs": []
    },
    {
      "cell_type": "code",
      "execution_count": 73,
      "metadata": {
        "id": "RWqL0Sp0Bwxe",
        "outputId": "42b4b241-1bf8-4506-820b-39e3a7407e84",
        "colab": {
          "base_uri": "https://localhost:8080/"
        }
      },
      "outputs": [
        {
          "output_type": "stream",
          "name": "stdout",
          "text": [
            "Columna: card4, el número de variables es: 3\n",
            "Columna: card6, el número de variables es: 2\n",
            "Columna: P_emaildomain, el número de variables es: 44\n",
            "Columna: M2, el número de variables es: 2\n",
            "Columna: M3, el número de variables es: 2\n",
            "Columna: M6, el número de variables es: 2\n"
          ]
        }
      ],
      "source": [
        "for columna in cat_vars_names :\n",
        "    print(f\"Columna: {columna}, el número de variables es: {X[columna].nunique()}\")"
      ]
    },
    {
      "cell_type": "code",
      "source": [
        "for columna in col_selection_feature_catg_num:\n",
        "    print(f\"Columna: {columna}, el número de variables es: {X[columna].nunique()}\")"
      ],
      "metadata": {
        "id": "qanaef4SE1ZB",
        "outputId": "6ecd7704-a790-4be6-812f-037186ff39be",
        "colab": {
          "base_uri": "https://localhost:8080/"
        }
      },
      "execution_count": 74,
      "outputs": [
        {
          "output_type": "stream",
          "name": "stdout",
          "text": [
            "Columna: V135, el número de variables es: 264\n",
            "Columna: V319, el número de variables es: 296\n",
            "Columna: V137, el número de variables es: 343\n",
            "Columna: V321, el número de variables es: 396\n",
            "Columna: V129, el número de variables es: 363\n",
            "Columna: V132, el número de variables es: 368\n",
            "Columna: V309, el número de variables es: 426\n",
            "Columna: V136, el número de variables es: 506\n",
            "Columna: V316, el número de variables es: 452\n",
            "Columna: V320, el número de variables es: 574\n"
          ]
        }
      ]
    },
    {
      "cell_type": "code",
      "source": [],
      "metadata": {
        "id": "QLvKoiZ1GYXR"
      },
      "execution_count": 74,
      "outputs": []
    },
    {
      "cell_type": "code",
      "execution_count": 75,
      "metadata": {
        "id": "VfkDNEu1Bwxf"
      },
      "outputs": [],
      "source": [
        "def one_hot_encode(df, columns):\n",
        "    encoder = OneHotEncoder()\n",
        "    encoded = encoder.fit_transform(df[columns])\n",
        "    encoded_df = pd.DataFrame(encoded.toarray(),\n",
        "                              columns=encoder.get_feature_names_out(columns),\n",
        "                              index=df.index)\n",
        "    df = df.drop(columns, axis=1)\n",
        "    return pd.concat([df, encoded_df], axis=1)\n",
        "\n",
        "def binary_encode(df, columns):\n",
        "    encoder = ce.BinaryEncoder(cols=columns)\n",
        "    encoded = encoder.fit_transform(df[columns])\n",
        "    df = df.drop(columns, axis=1)\n",
        "    return pd.concat([df, encoded], axis=1)\n",
        "\n",
        "# Codificación One-Hot para ProductCD, card4 y card6\n",
        "X = one_hot_encode(X, [ 'card4', 'card6','M2', 'M3','M6'])\n",
        "\n",
        "# Codificación BinaryEncoder para P_emaildomain\n",
        "cat_vars_binary = ['P_emaildomain'] + col_selection_feature_catg_num\n",
        "X = binary_encode(X, cat_vars_binary)\n",
        "\n",
        "\n"
      ]
    },
    {
      "cell_type": "code",
      "execution_count": 76,
      "metadata": {
        "id": "py9RqRJbBwxg",
        "outputId": "b5b289a1-2b69-410a-b86d-7c9af82db606",
        "colab": {
          "base_uri": "https://localhost:8080/",
          "height": 141
        }
      },
      "outputs": [
        {
          "output_type": "execute_result",
          "data": {
            "text/plain": [
              "           D2   V128  V134   V306    V307   V308  V313  V315   V317  V318  \\\n",
              "518262   36.0  388.0  97.0  214.0  659.00  388.0   0.0   0.0  194.0  97.0   \n",
              "423813  224.0   45.0   0.0   45.0  472.75   45.0   0.0   0.0    0.0   0.0   \n",
              "\n",
              "        ...  V320_0  V320_1  V320_2  V320_3  V320_4  V320_5  V320_6  V320_7  \\\n",
              "518262  ...       0       0       0       0       0       0       0       0   \n",
              "423813  ...       0       0       0       0       0       0       0       0   \n",
              "\n",
              "        V320_8  V320_9  \n",
              "518262       0       1  \n",
              "423813       1       0  \n",
              "\n",
              "[2 rows x 118 columns]"
            ],
            "text/html": [
              "\n",
              "  <div id=\"df-10c788d2-daa7-4e5e-8438-677fe5cf67e6\" class=\"colab-df-container\">\n",
              "    <div>\n",
              "<style scoped>\n",
              "    .dataframe tbody tr th:only-of-type {\n",
              "        vertical-align: middle;\n",
              "    }\n",
              "\n",
              "    .dataframe tbody tr th {\n",
              "        vertical-align: top;\n",
              "    }\n",
              "\n",
              "    .dataframe thead th {\n",
              "        text-align: right;\n",
              "    }\n",
              "</style>\n",
              "<table border=\"1\" class=\"dataframe\">\n",
              "  <thead>\n",
              "    <tr style=\"text-align: right;\">\n",
              "      <th></th>\n",
              "      <th>D2</th>\n",
              "      <th>V128</th>\n",
              "      <th>V134</th>\n",
              "      <th>V306</th>\n",
              "      <th>V307</th>\n",
              "      <th>V308</th>\n",
              "      <th>V313</th>\n",
              "      <th>V315</th>\n",
              "      <th>V317</th>\n",
              "      <th>V318</th>\n",
              "      <th>...</th>\n",
              "      <th>V320_0</th>\n",
              "      <th>V320_1</th>\n",
              "      <th>V320_2</th>\n",
              "      <th>V320_3</th>\n",
              "      <th>V320_4</th>\n",
              "      <th>V320_5</th>\n",
              "      <th>V320_6</th>\n",
              "      <th>V320_7</th>\n",
              "      <th>V320_8</th>\n",
              "      <th>V320_9</th>\n",
              "    </tr>\n",
              "  </thead>\n",
              "  <tbody>\n",
              "    <tr>\n",
              "      <th>518262</th>\n",
              "      <td>36.0</td>\n",
              "      <td>388.0</td>\n",
              "      <td>97.0</td>\n",
              "      <td>214.0</td>\n",
              "      <td>659.00</td>\n",
              "      <td>388.0</td>\n",
              "      <td>0.0</td>\n",
              "      <td>0.0</td>\n",
              "      <td>194.0</td>\n",
              "      <td>97.0</td>\n",
              "      <td>...</td>\n",
              "      <td>0</td>\n",
              "      <td>0</td>\n",
              "      <td>0</td>\n",
              "      <td>0</td>\n",
              "      <td>0</td>\n",
              "      <td>0</td>\n",
              "      <td>0</td>\n",
              "      <td>0</td>\n",
              "      <td>0</td>\n",
              "      <td>1</td>\n",
              "    </tr>\n",
              "    <tr>\n",
              "      <th>423813</th>\n",
              "      <td>224.0</td>\n",
              "      <td>45.0</td>\n",
              "      <td>0.0</td>\n",
              "      <td>45.0</td>\n",
              "      <td>472.75</td>\n",
              "      <td>45.0</td>\n",
              "      <td>0.0</td>\n",
              "      <td>0.0</td>\n",
              "      <td>0.0</td>\n",
              "      <td>0.0</td>\n",
              "      <td>...</td>\n",
              "      <td>0</td>\n",
              "      <td>0</td>\n",
              "      <td>0</td>\n",
              "      <td>0</td>\n",
              "      <td>0</td>\n",
              "      <td>0</td>\n",
              "      <td>0</td>\n",
              "      <td>0</td>\n",
              "      <td>1</td>\n",
              "      <td>0</td>\n",
              "    </tr>\n",
              "  </tbody>\n",
              "</table>\n",
              "<p>2 rows × 118 columns</p>\n",
              "</div>\n",
              "    <div class=\"colab-df-buttons\">\n",
              "\n",
              "  <div class=\"colab-df-container\">\n",
              "    <button class=\"colab-df-convert\" onclick=\"convertToInteractive('df-10c788d2-daa7-4e5e-8438-677fe5cf67e6')\"\n",
              "            title=\"Convert this dataframe to an interactive table.\"\n",
              "            style=\"display:none;\">\n",
              "\n",
              "  <svg xmlns=\"http://www.w3.org/2000/svg\" height=\"24px\" viewBox=\"0 -960 960 960\">\n",
              "    <path d=\"M120-120v-720h720v720H120Zm60-500h600v-160H180v160Zm220 220h160v-160H400v160Zm0 220h160v-160H400v160ZM180-400h160v-160H180v160Zm440 0h160v-160H620v160ZM180-180h160v-160H180v160Zm440 0h160v-160H620v160Z\"/>\n",
              "  </svg>\n",
              "    </button>\n",
              "\n",
              "  <style>\n",
              "    .colab-df-container {\n",
              "      display:flex;\n",
              "      gap: 12px;\n",
              "    }\n",
              "\n",
              "    .colab-df-convert {\n",
              "      background-color: #E8F0FE;\n",
              "      border: none;\n",
              "      border-radius: 50%;\n",
              "      cursor: pointer;\n",
              "      display: none;\n",
              "      fill: #1967D2;\n",
              "      height: 32px;\n",
              "      padding: 0 0 0 0;\n",
              "      width: 32px;\n",
              "    }\n",
              "\n",
              "    .colab-df-convert:hover {\n",
              "      background-color: #E2EBFA;\n",
              "      box-shadow: 0px 1px 2px rgba(60, 64, 67, 0.3), 0px 1px 3px 1px rgba(60, 64, 67, 0.15);\n",
              "      fill: #174EA6;\n",
              "    }\n",
              "\n",
              "    .colab-df-buttons div {\n",
              "      margin-bottom: 4px;\n",
              "    }\n",
              "\n",
              "    [theme=dark] .colab-df-convert {\n",
              "      background-color: #3B4455;\n",
              "      fill: #D2E3FC;\n",
              "    }\n",
              "\n",
              "    [theme=dark] .colab-df-convert:hover {\n",
              "      background-color: #434B5C;\n",
              "      box-shadow: 0px 1px 3px 1px rgba(0, 0, 0, 0.15);\n",
              "      filter: drop-shadow(0px 1px 2px rgba(0, 0, 0, 0.3));\n",
              "      fill: #FFFFFF;\n",
              "    }\n",
              "  </style>\n",
              "\n",
              "    <script>\n",
              "      const buttonEl =\n",
              "        document.querySelector('#df-10c788d2-daa7-4e5e-8438-677fe5cf67e6 button.colab-df-convert');\n",
              "      buttonEl.style.display =\n",
              "        google.colab.kernel.accessAllowed ? 'block' : 'none';\n",
              "\n",
              "      async function convertToInteractive(key) {\n",
              "        const element = document.querySelector('#df-10c788d2-daa7-4e5e-8438-677fe5cf67e6');\n",
              "        const dataTable =\n",
              "          await google.colab.kernel.invokeFunction('convertToInteractive',\n",
              "                                                    [key], {});\n",
              "        if (!dataTable) return;\n",
              "\n",
              "        const docLinkHtml = 'Like what you see? Visit the ' +\n",
              "          '<a target=\"_blank\" href=https://colab.research.google.com/notebooks/data_table.ipynb>data table notebook</a>'\n",
              "          + ' to learn more about interactive tables.';\n",
              "        element.innerHTML = '';\n",
              "        dataTable['output_type'] = 'display_data';\n",
              "        await google.colab.output.renderOutput(dataTable, element);\n",
              "        const docLink = document.createElement('div');\n",
              "        docLink.innerHTML = docLinkHtml;\n",
              "        element.appendChild(docLink);\n",
              "      }\n",
              "    </script>\n",
              "  </div>\n",
              "\n",
              "\n",
              "<div id=\"df-8c52d90b-40bb-41fd-8f47-cb447e59291d\">\n",
              "  <button class=\"colab-df-quickchart\" onclick=\"quickchart('df-8c52d90b-40bb-41fd-8f47-cb447e59291d')\"\n",
              "            title=\"Suggest charts\"\n",
              "            style=\"display:none;\">\n",
              "\n",
              "<svg xmlns=\"http://www.w3.org/2000/svg\" height=\"24px\"viewBox=\"0 0 24 24\"\n",
              "     width=\"24px\">\n",
              "    <g>\n",
              "        <path d=\"M19 3H5c-1.1 0-2 .9-2 2v14c0 1.1.9 2 2 2h14c1.1 0 2-.9 2-2V5c0-1.1-.9-2-2-2zM9 17H7v-7h2v7zm4 0h-2V7h2v10zm4 0h-2v-4h2v4z\"/>\n",
              "    </g>\n",
              "</svg>\n",
              "  </button>\n",
              "\n",
              "<style>\n",
              "  .colab-df-quickchart {\n",
              "      --bg-color: #E8F0FE;\n",
              "      --fill-color: #1967D2;\n",
              "      --hover-bg-color: #E2EBFA;\n",
              "      --hover-fill-color: #174EA6;\n",
              "      --disabled-fill-color: #AAA;\n",
              "      --disabled-bg-color: #DDD;\n",
              "  }\n",
              "\n",
              "  [theme=dark] .colab-df-quickchart {\n",
              "      --bg-color: #3B4455;\n",
              "      --fill-color: #D2E3FC;\n",
              "      --hover-bg-color: #434B5C;\n",
              "      --hover-fill-color: #FFFFFF;\n",
              "      --disabled-bg-color: #3B4455;\n",
              "      --disabled-fill-color: #666;\n",
              "  }\n",
              "\n",
              "  .colab-df-quickchart {\n",
              "    background-color: var(--bg-color);\n",
              "    border: none;\n",
              "    border-radius: 50%;\n",
              "    cursor: pointer;\n",
              "    display: none;\n",
              "    fill: var(--fill-color);\n",
              "    height: 32px;\n",
              "    padding: 0;\n",
              "    width: 32px;\n",
              "  }\n",
              "\n",
              "  .colab-df-quickchart:hover {\n",
              "    background-color: var(--hover-bg-color);\n",
              "    box-shadow: 0 1px 2px rgba(60, 64, 67, 0.3), 0 1px 3px 1px rgba(60, 64, 67, 0.15);\n",
              "    fill: var(--button-hover-fill-color);\n",
              "  }\n",
              "\n",
              "  .colab-df-quickchart-complete:disabled,\n",
              "  .colab-df-quickchart-complete:disabled:hover {\n",
              "    background-color: var(--disabled-bg-color);\n",
              "    fill: var(--disabled-fill-color);\n",
              "    box-shadow: none;\n",
              "  }\n",
              "\n",
              "  .colab-df-spinner {\n",
              "    border: 2px solid var(--fill-color);\n",
              "    border-color: transparent;\n",
              "    border-bottom-color: var(--fill-color);\n",
              "    animation:\n",
              "      spin 1s steps(1) infinite;\n",
              "  }\n",
              "\n",
              "  @keyframes spin {\n",
              "    0% {\n",
              "      border-color: transparent;\n",
              "      border-bottom-color: var(--fill-color);\n",
              "      border-left-color: var(--fill-color);\n",
              "    }\n",
              "    20% {\n",
              "      border-color: transparent;\n",
              "      border-left-color: var(--fill-color);\n",
              "      border-top-color: var(--fill-color);\n",
              "    }\n",
              "    30% {\n",
              "      border-color: transparent;\n",
              "      border-left-color: var(--fill-color);\n",
              "      border-top-color: var(--fill-color);\n",
              "      border-right-color: var(--fill-color);\n",
              "    }\n",
              "    40% {\n",
              "      border-color: transparent;\n",
              "      border-right-color: var(--fill-color);\n",
              "      border-top-color: var(--fill-color);\n",
              "    }\n",
              "    60% {\n",
              "      border-color: transparent;\n",
              "      border-right-color: var(--fill-color);\n",
              "    }\n",
              "    80% {\n",
              "      border-color: transparent;\n",
              "      border-right-color: var(--fill-color);\n",
              "      border-bottom-color: var(--fill-color);\n",
              "    }\n",
              "    90% {\n",
              "      border-color: transparent;\n",
              "      border-bottom-color: var(--fill-color);\n",
              "    }\n",
              "  }\n",
              "</style>\n",
              "\n",
              "  <script>\n",
              "    async function quickchart(key) {\n",
              "      const quickchartButtonEl =\n",
              "        document.querySelector('#' + key + ' button');\n",
              "      quickchartButtonEl.disabled = true;  // To prevent multiple clicks.\n",
              "      quickchartButtonEl.classList.add('colab-df-spinner');\n",
              "      try {\n",
              "        const charts = await google.colab.kernel.invokeFunction(\n",
              "            'suggestCharts', [key], {});\n",
              "      } catch (error) {\n",
              "        console.error('Error during call to suggestCharts:', error);\n",
              "      }\n",
              "      quickchartButtonEl.classList.remove('colab-df-spinner');\n",
              "      quickchartButtonEl.classList.add('colab-df-quickchart-complete');\n",
              "    }\n",
              "    (() => {\n",
              "      let quickchartButtonEl =\n",
              "        document.querySelector('#df-8c52d90b-40bb-41fd-8f47-cb447e59291d button');\n",
              "      quickchartButtonEl.style.display =\n",
              "        google.colab.kernel.accessAllowed ? 'block' : 'none';\n",
              "    })();\n",
              "  </script>\n",
              "</div>\n",
              "\n",
              "    </div>\n",
              "  </div>\n"
            ],
            "application/vnd.google.colaboratory.intrinsic+json": {
              "type": "dataframe",
              "variable_name": "X"
            }
          },
          "metadata": {},
          "execution_count": 76
        }
      ],
      "source": [
        "X.head(2)"
      ]
    },
    {
      "cell_type": "markdown",
      "metadata": {
        "id": "8ryEAFOeBwxh"
      },
      "source": [
        "## Normalización y estandarización de las variables."
      ]
    },
    {
      "cell_type": "markdown",
      "metadata": {
        "id": "C7Glsh2gBwxh"
      },
      "source": [
        "- Basados en el anális EDA la columna 'TransactionDT' tiene una distribución casi uniforme por lo tanto la normalización Min-Max ajusta los valores de una característica a un rango específico, típicamente entre 0 y 1. Es útil cuando deseas mantener la distribución de los datos pero ajustarla a una escala uniforme."
      ]
    },
    {
      "cell_type": "code",
      "execution_count": 77,
      "metadata": {
        "id": "Eks-gDMzBwxi",
        "outputId": "ad2ae56f-3edf-41f4-e72a-634f8b97ab45",
        "colab": {
          "base_uri": "https://localhost:8080/"
        }
      },
      "outputs": [
        {
          "output_type": "execute_result",
          "data": {
            "text/plain": [
              "V313     687\n",
              "V134     585\n",
              "V318     714\n",
              "V315    1009\n",
              "V306     890\n",
              "D2       638\n",
              "V317    1049\n",
              "V128    1470\n",
              "V308    1821\n",
              "V307    3865\n",
              "dtype: int64"
            ]
          },
          "metadata": {},
          "execution_count": 77
        }
      ],
      "source": [
        "X[col_selection_feature_num].nunique()"
      ]
    },
    {
      "cell_type": "code",
      "execution_count": 79,
      "metadata": {
        "id": "Ceyos9SzBwxq"
      },
      "outputs": [],
      "source": [
        "# Aplicar MinMaxScaler a las columnas específicas\n",
        "# scaler_min_max = MinMaxScaler()\n",
        "# X[['TransactionDT', 'card1', 'card2', 'card3', 'card5']] = scaler_min_max.fit_transform(X[['TransactionDT', 'card1', 'card2', 'card3', 'card5']])\n",
        "\n",
        "\n",
        "# Aplicar RobustScaler a 'TransactionAmt'\n",
        "scaler_robust = RobustScaler()\n",
        "X[col_selection_feature_num] = scaler_robust.fit_transform(X[col_selection_feature_num])\n",
        "\n",
        "\n"
      ]
    },
    {
      "cell_type": "code",
      "execution_count": null,
      "metadata": {
        "id": "KmCKnQDfBwxr"
      },
      "outputs": [],
      "source": [
        "X.head()"
      ]
    },
    {
      "cell_type": "code",
      "execution_count": null,
      "metadata": {
        "id": "lWGYlgt-Bwxr"
      },
      "outputs": [],
      "source": [
        "# Guardar X y y en archivos CSV\n",
        "\n",
        "dir_data_processed = '../data/processed'\n",
        "ruta_archivo_X = os.path.join(dir_data_processed, 'datos_procesados.csv')\n",
        "X.to_csv(ruta_archivo_X, index=False, encoding='utf-8')\n",
        "\n",
        "ruta_archivo_y = os.path.join(dir_data_processed, 'target.csv')\n",
        "y.to_csv(ruta_archivo_y, index=False, encoding='utf-8')\n",
        "\n"
      ]
    },
    {
      "cell_type": "markdown",
      "metadata": {
        "id": "MX4NgYnYBwxr"
      },
      "source": [
        "## Conclusión\n",
        "\n",
        "En este proyecto de Data Science, el proceso de limpieza y preprocesamiento de datos ha sido fundamental para preparar nuestros datos antes de aplicar modelos de aprendizaje automático. A continuación, se detallan las principales etapas y decisiones tomadas durante este proceso:\n",
        "\n",
        "1. **Selección Estratégica del Dataset**: Se cargó el dataset completo y se seleccionó estratégicamente una porción del 10%, utilizando muestreo estratificado para asegurar representatividad y evitar sesgos en nuestros modelos.\n",
        "\n",
        "2. **Selección de Características Relevantes**: Se llevó a cabo la selección de las columnas más relevantes para nuestro análisis y modelos, descartando aquellas que no contribuían significativamente a la predicción del target.\n",
        "\n",
        "3. **Manejo de Valores Nulos**: Se eliminaron aquellas columnas que contenían un alto porcentaje (mayor al 80%) de valores nulos, así como las filas con un porcentaje bajo de valores nulos para garantizar la integridad de los datos restantes.\n",
        "\n",
        "4. **Separación de Variables**: Se realizó una clara separación entre las variables características (`X`) y el target (`y`), asegurando que estuvieran correctamente definidas para el entrenamiento de los modelos.\n",
        "\n",
        "5. **Ingeniería de Características**: Basados en un análisis exploratorio de datos (EDA), se reemplazó la columna `TransactionAmt` por `TransactionAmt_Range`, una variable categórica que agrupa los valores en rangos como \"muy bajo\", \"bajo\", \"medio\", \"alto\" y \"muy alto\". Esta transformación facilita el manejo de variables con amplios rangos de valores, evitando posibles complicaciones durante el entrenamiento de los modelos.\n",
        "\n",
        "6. **Combinación de Variables**: Se combinaron las columnas `addr1` y `addr2` en una sola columna (`addr_combined`), reduciendo así la dimensionalidad del dataset sin perder información relevante.\n",
        "\n",
        "7. **Codificación de Variables Categóricas**: Se aplicaron técnicas adecuadas de codificación a las variables categóricas según su naturaleza, como codificación one-hot y binary encoding, para prepararlas para su uso en los modelos de aprendizaje automático.\n",
        "\n",
        "8. **Normalización de Variables Numéricas**: Se normalizaron las variables numéricas para asegurar que todas estuvieran en la misma escala, lo cual es crucial para modelos que se basan en la distancia o magnitud de los atributos.\n",
        "\n",
        "En resumen, el proceso de limpieza y preprocesamiento de datos realizado ha permitido transformar el dataset inicial en un formato apto y optimizado para la construcción de modelos predictivos. Estas etapas son fundamentales para asegurar la calidad de los resultados obtenidos y facilitar la interpretación y aplicación de los modelos en la práctica.\n"
      ]
    },
    {
      "cell_type": "code",
      "execution_count": null,
      "metadata": {
        "id": "_hPehVkGBwxs"
      },
      "outputs": [],
      "source": []
    }
  ],
  "metadata": {
    "kernelspec": {
      "display_name": "venv",
      "language": "python",
      "name": "python3"
    },
    "language_info": {
      "codemirror_mode": {
        "name": "ipython",
        "version": 3
      },
      "file_extension": ".py",
      "mimetype": "text/x-python",
      "name": "python",
      "nbconvert_exporter": "python",
      "pygments_lexer": "ipython3",
      "version": "3.11.7"
    },
    "colab": {
      "provenance": []
    }
  },
  "nbformat": 4,
  "nbformat_minor": 0
}
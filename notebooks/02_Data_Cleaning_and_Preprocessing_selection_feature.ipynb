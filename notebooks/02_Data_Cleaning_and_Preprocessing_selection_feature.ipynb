{
  "nbformat": 4,
  "nbformat_minor": 0,
  "metadata": {
    "colab": {
      "provenance": [],
      "authorship_tag": "ABX9TyPZ81XbK3ctjNB6qu24q1e6",
      "include_colab_link": true
    },
    "kernelspec": {
      "name": "python3",
      "display_name": "Python 3"
    },
    "language_info": {
      "name": "python"
    }
  },
  "cells": [
    {
      "cell_type": "markdown",
      "metadata": {
        "id": "view-in-github",
        "colab_type": "text"
      },
      "source": [
        "<a href=\"https://colab.research.google.com/github/JRamos84/deteccion_fraude/blob/main/02_Data_Cleaning_and_Preprocessing_selection_feature.ipynb\" target=\"_parent\"><img src=\"https://colab.research.google.com/assets/colab-badge.svg\" alt=\"Open In Colab\"/></a>"
      ]
    },
    {
      "cell_type": "markdown",
      "source": [
        "## 02 Data Cleaning and Preprocessing\n",
        "**Objetivo**: Limpiar y preprocesar los datos para que estén listos para el modelado.\n",
        "**Contenido**:\n",
        "- Manejo de valores nulos.\n",
        "- Creación de nuevas características (feature engineering).\n",
        "- Conversión de tipos de datos.\n",
        "- Codificación de variables categóricas.\n",
        "- Normalización y estandarización de las variables.\n"
      ],
      "metadata": {
        "id": "ha3ahSIYvJeu"
      }
    },
    {
      "cell_type": "code",
      "source": [
        "# Librerías\n",
        "import os\n",
        "import pandas as pd\n",
        "import numpy as np\n",
        "from sklearn.model_selection import train_test_split\n",
        "import seaborn as sns\n",
        "import matplotlib.pyplot as plt\n",
        "import missingno as msno\n",
        "import numpy as np\n",
        "from scipy import stats\n",
        "import datetime\n",
        "import warnings\n",
        "from sklearn.preprocessing import LabelEncoder\n",
        "from sklearn.preprocessing import MinMaxScaler\n",
        "from sklearn.decomposition import PCA\n",
        "from imblearn.under_sampling import RandomUnderSampler\n",
        "warnings.filterwarnings('ignore')"
      ],
      "metadata": {
        "id": "lmeLgll5vql1"
      },
      "execution_count": 1,
      "outputs": []
    },
    {
      "cell_type": "code",
      "source": [
        "def reduce_mem_usage(df, verbose=True):\n",
        "    \"\"\"\n",
        "    Reduce el uso de memoria de un DataFrame de pandas cambiando los tipos de datos de las columnas numéricas\n",
        "    a tipos más eficientes sin perder información.\n",
        "\n",
        "    Parameters:\n",
        "    df (pd.DataFrame): El DataFrame a optimizar.\n",
        "    verbose (bool): Si es True, imprime el uso de memoria antes y después de la optimización.\n",
        "\n",
        "    Returns:\n",
        "    pd.DataFrame: El DataFrame optimizado.\n",
        "    \"\"\"\n",
        "    # Obtener el uso inicial de memoria\n",
        "    start_mem = df.memory_usage(deep=True).sum() / 1024**2\n",
        "\n",
        "    numerics = ['int16', 'int32', 'int64', 'float16', 'float32', 'float64']\n",
        "\n",
        "    for col in df.columns:\n",
        "        col_type = df[col].dtypes\n",
        "        if col_type in numerics:\n",
        "            c_min = df[col].min()\n",
        "            c_max = df[col].max()\n",
        "\n",
        "            # Optimización para tipos de datos enteros\n",
        "            if pd.api.types.is_integer_dtype(df[col]):\n",
        "                if c_min >= np.iinfo(np.int8).min and c_max <= np.iinfo(np.int8).max:\n",
        "                    df[col] = df[col].astype(np.int8)\n",
        "                elif c_min >= np.iinfo(np.int16).min and c_max <= np.iinfo(np.int16).max:\n",
        "                    df[col] = df[col].astype(np.int16)\n",
        "                elif c_min >= np.iinfo(np.int32).min and c_max <= np.iinfo(np.int32).max:\n",
        "                    df[col] = df[col].astype(np.int32)\n",
        "                elif c_min >= np.iinfo(np.int64).min and c_max <= np.iinfo(np.int64).max:\n",
        "                    df[col] = df[col].astype(np.int64)\n",
        "\n",
        "            # Optimización para tipos de datos flotantes\n",
        "            else:\n",
        "                if c_min >= np.finfo(np.float16).min and c_max <= np.finfo(np.float16).max:\n",
        "                    df[col] = df[col].astype(np.float16)\n",
        "                elif c_min >= np.finfo(np.float32).min and c_max <= np.finfo(np.float32).max:\n",
        "                    df[col] = df[col].astype(np.float32)\n",
        "                else:\n",
        "                    df[col] = df[col].astype(np.float64)\n",
        "\n",
        "    # Obtener el uso final de memoria\n",
        "    end_mem = df.memory_usage(deep=True).sum() / 1024**2\n",
        "    if verbose:\n",
        "        print(f'Mem. usage decreased to {end_mem:.2f} Mb ({100 * (start_mem - end_mem) / start_mem:.1f}% reduction)')\n",
        "\n",
        "    return df"
      ],
      "metadata": {
        "id": "D4ew9EtFvn2g"
      },
      "execution_count": 2,
      "outputs": []
    },
    {
      "cell_type": "code",
      "source": [
        "## Importamos las librerias a usar\n",
        "from google.colab import drive\n",
        "drive.mount('/content/drive')\n",
        "data_dir = '/content/drive/MyDrive/cursos-analisis-datos/data-science/proyecto/propuestas/propuesta1/ieee-fraud-detection'"
      ],
      "metadata": {
        "colab": {
          "base_uri": "https://localhost:8080/"
        },
        "id": "WYgQkCUGvHZ1",
        "outputId": "a882a1de-c143-495e-96cf-ccc3ab46c48a"
      },
      "execution_count": 3,
      "outputs": [
        {
          "output_type": "stream",
          "name": "stdout",
          "text": [
            "Drive already mounted at /content/drive; to attempt to forcibly remount, call drive.mount(\"/content/drive\", force_remount=True).\n"
          ]
        }
      ]
    },
    {
      "cell_type": "code",
      "source": [
        "\n",
        "## Cargamos los dataset de train_transaction y train_identity\n",
        "df_transaction_train = pd.read_csv(data_dir + '/train_transaction.csv')\n",
        "df_identity_train = pd.read_csv(data_dir + '/train_identity.csv')\n",
        "## Reducimos los tamaños de los dataset cambiando los tipos de los datos de las columnas\n",
        "df_transaction_train = reduce_mem_usage(df_transaction_train)\n",
        "df_identity_train = reduce_mem_usage(df_identity_train)"
      ],
      "metadata": {
        "colab": {
          "base_uri": "https://localhost:8080/"
        },
        "id": "xmCKf4pavhlr",
        "outputId": "c1a7f78a-02bd-46e1-91d3-c6c77b399248"
      },
      "execution_count": 4,
      "outputs": [
        {
          "output_type": "stream",
          "name": "stdout",
          "text": [
            "Mem. usage decreased to 867.89 Mb (58.7% reduction)\n",
            "Mem. usage decreased to 138.38 Mb (12.2% reduction)\n"
          ]
        }
      ]
    },
    {
      "cell_type": "code",
      "source": [
        "\n",
        "# Combinar los datasets\n",
        "data = pd.merge(df_transaction_train, df_identity_train, on='TransactionID', how='left')\n"
      ],
      "metadata": {
        "id": "1tTBpZ94vv_a"
      },
      "execution_count": 5,
      "outputs": []
    },
    {
      "cell_type": "code",
      "source": [
        "dataset = data.copy()"
      ],
      "metadata": {
        "id": "TqhlN02WQ2NR"
      },
      "execution_count": 6,
      "outputs": []
    },
    {
      "cell_type": "markdown",
      "source": [
        "## Consideración principales del análisis de EDA"
      ],
      "metadata": {
        "id": "9mdnQAfuv7Sw"
      }
    },
    {
      "cell_type": "markdown",
      "source": [
        "### Manejo de valores nulos"
      ],
      "metadata": {
        "id": "MUSl5uZowTwP"
      }
    },
    {
      "cell_type": "markdown",
      "source": [
        "- Usaremos las columnas que no superen el 50 de los valores nulos"
      ],
      "metadata": {
        "id": "QkeZSZ3nwqMs"
      }
    },
    {
      "cell_type": "code",
      "source": [
        "null_percentages = (dataset.isnull().sum() / len(dataset)) * 100\n",
        "null_percentages[null_percentages < 50].sort_values(ascending=False)"
      ],
      "metadata": {
        "colab": {
          "base_uri": "https://localhost:8080/"
        },
        "id": "SsMt4KlPv19R",
        "outputId": "dd57e57c-7e01-40b3-e358-7f41c1c20073"
      },
      "execution_count": 7,
      "outputs": [
        {
          "output_type": "execute_result",
          "data": {
            "text/plain": [
              "M4               47.658753\n",
              "D2               47.549192\n",
              "V1               47.293494\n",
              "V10              47.293494\n",
              "D11              47.293494\n",
              "                   ...    \n",
              "C12               0.000000\n",
              "C13               0.000000\n",
              "C14               0.000000\n",
              "isFraud           0.000000\n",
              "TransactionID     0.000000\n",
              "Length: 220, dtype: float64"
            ]
          },
          "metadata": {},
          "execution_count": 7
        }
      ]
    },
    {
      "cell_type": "code",
      "source": [
        "col_util = null_percentages[null_percentages < 20].index.to_list()"
      ],
      "metadata": {
        "id": "dtNf-tDsxRHR"
      },
      "execution_count": 8,
      "outputs": []
    },
    {
      "cell_type": "code",
      "source": [
        "dataset = dataset[col_util]\n",
        "dataset.shape"
      ],
      "metadata": {
        "colab": {
          "base_uri": "https://localhost:8080/"
        },
        "id": "ncDgrUhMxcNV",
        "outputId": "9a1fd099-6d5d-4cdb-8034-b1e53027e904"
      },
      "execution_count": 9,
      "outputs": [
        {
          "output_type": "execute_result",
          "data": {
            "text/plain": [
              "(590540, 182)"
            ]
          },
          "metadata": {},
          "execution_count": 9
        }
      ]
    },
    {
      "cell_type": "code",
      "source": [
        "## Eliminamos las filas nulas\n",
        "dataset.dropna(inplace=True)\n",
        "dataset.shape"
      ],
      "metadata": {
        "colab": {
          "base_uri": "https://localhost:8080/"
        },
        "id": "gG9_vjxgxij-",
        "outputId": "a932796e-5d39-4afd-8da2-39c5d79a664c"
      },
      "execution_count": 10,
      "outputs": [
        {
          "output_type": "execute_result",
          "data": {
            "text/plain": [
              "(346886, 182)"
            ]
          },
          "metadata": {},
          "execution_count": 10
        }
      ]
    },
    {
      "cell_type": "markdown",
      "source": [
        "- La cantidad de registro dismuyo considerablemente luego de la elimación de las columnas y las filas con datos nulos"
      ],
      "metadata": {
        "id": "KDiDJ7zTyFnE"
      }
    },
    {
      "cell_type": "markdown",
      "source": [
        "### Rango de TransactionAMT y Aplicación del Logaritmo"
      ],
      "metadata": {
        "id": "kV4nCNkyygzq"
      }
    },
    {
      "cell_type": "markdown",
      "source": [
        "- Basado en el análisis EDA elinamos los registro con valores en TransactionAMT superior a 5192"
      ],
      "metadata": {
        "id": "jt5xmIC2ymcz"
      }
    },
    {
      "cell_type": "code",
      "source": [
        "dataset = dataset[dataset['TransactionAmt'] < 5192]"
      ],
      "metadata": {
        "id": "6GSEYKI3ylgY"
      },
      "execution_count": 11,
      "outputs": []
    },
    {
      "cell_type": "code",
      "source": [
        "dataset['TransactionAmt'] = np.log(dataset['TransactionAmt'])\n"
      ],
      "metadata": {
        "id": "SFzkMdR-2xBt"
      },
      "execution_count": 12,
      "outputs": []
    },
    {
      "cell_type": "markdown",
      "source": [
        "####Convertiendo 'TransactionDT' en unidades de tiempo"
      ],
      "metadata": {
        "id": "k3Gv6x1fzEi-"
      }
    },
    {
      "cell_type": "code",
      "source": [
        "\n",
        "# Suponiendo que dataset tiene las columnas 'TransactionDT'\n",
        "START_DATE = '2017-12-01'\n",
        "startdate = datetime.datetime.strptime(START_DATE, \"%Y-%m-%d\")\n",
        "\n",
        "# Convertir 'TransactionDT' a formato datetime\n",
        "dataset['Date'] = dataset['TransactionDT'].apply(lambda x: startdate + datetime.timedelta(seconds=x))\n",
        "\n",
        "# Verificar y asegurarse de que 'Date' sea de tipo datetime\n",
        "dataset['Date'] = pd.to_datetime(dataset['Date'])\n",
        "\n",
        "# Crear un DataFrame con las nuevas columnas a agregar\n",
        "new_columns = pd.DataFrame({\n",
        "    '_Weekdays': dataset['Date'].dt.dayofweek,\n",
        "    '_Hours': dataset['Date'].dt.hour,\n",
        "    '_Days': dataset['Date'].dt.day\n",
        "})\n",
        "\n",
        "# Unir todas las columnas al DataFrame original\n",
        "dataset = pd.concat([dataset, new_columns], axis=1)\n",
        "\n",
        "# Convertir las nuevas columnas a tipo 'object' si es necesario\n",
        "dataset['_Weekdays'] = dataset['_Weekdays'].astype('object')\n",
        "dataset['_Hours'] = dataset['_Hours'].astype('object')\n",
        "dataset['_Days'] = dataset['_Days'].astype('object')\n",
        "\n",
        "# Eliminar las columnas innecesarias\n",
        "dataset.drop(['Date', 'TransactionDT'], axis=1, inplace=True)\n",
        "\n",
        "# Mostrar los primeros 3 registros del DataFrame modificado\n",
        "print(dataset.head(3))"
      ],
      "metadata": {
        "colab": {
          "base_uri": "https://localhost:8080/"
        },
        "id": "BCXCjMG8zJBr",
        "outputId": "01d2eed6-1f02-4bfb-a2c5-77d21931723a"
      },
      "execution_count": 13,
      "outputs": [
        {
          "output_type": "stream",
          "name": "stdout",
          "text": [
            "   TransactionID  isFraud  TransactionAmt ProductCD  card1  card2  card3  \\\n",
            "1        2987001        0        3.367188         W   2755  404.0  150.0   \n",
            "2        2987002        0        4.078125         W   4663  490.0  150.0   \n",
            "3        2987003        0        3.912109         W  18132  567.0  150.0   \n",
            "\n",
            "        card4  card5   card6  ...  V315  V316    V317   V318  V319  V320  \\\n",
            "1  mastercard  102.0  credit  ...   0.0   0.0     0.0    0.0   0.0   0.0   \n",
            "2        visa  166.0   debit  ...   0.0   0.0     0.0    0.0   0.0   0.0   \n",
            "3  mastercard  117.0   debit  ...   0.0  50.0  1404.0  790.0   0.0   0.0   \n",
            "\n",
            "   V321  _Weekdays  _Hours  _Days  \n",
            "1   0.0          5       0      2  \n",
            "2   0.0          5       0      2  \n",
            "3   0.0          5       0      2  \n",
            "\n",
            "[3 rows x 184 columns]\n"
          ]
        }
      ]
    },
    {
      "cell_type": "markdown",
      "source": [
        "### Mapping emails"
      ],
      "metadata": {
        "id": "i4_RBzBNz4XW"
      }
    },
    {
      "cell_type": "code",
      "source": [
        "#https://www.kaggle.com/code/kabure/extensive-eda-and-modeling-xgb-hyperopt?scriptVersionId=18427966&cellId=116\n",
        "emails = {'gmail': 'google', 'att.net': 'att', 'twc.com': 'spectrum',\n",
        "          'scranton.edu': 'other', 'optonline.net': 'other', 'hotmail.co.uk': 'microsoft',\n",
        "          'comcast.net': 'other', 'yahoo.com.mx': 'yahoo', 'yahoo.fr': 'yahoo',\n",
        "          'yahoo.es': 'yahoo', 'charter.net': 'spectrum', 'live.com': 'microsoft',\n",
        "          'aim.com': 'aol', 'hotmail.de': 'microsoft', 'centurylink.net': 'centurylink',\n",
        "          'gmail.com': 'google', 'me.com': 'apple', 'earthlink.net': 'other', 'gmx.de': 'other',\n",
        "          'web.de': 'other', 'cfl.rr.com': 'other', 'hotmail.com': 'microsoft',\n",
        "          'protonmail.com': 'other', 'hotmail.fr': 'microsoft', 'windstream.net': 'other',\n",
        "          'outlook.es': 'microsoft', 'yahoo.co.jp': 'yahoo', 'yahoo.de': 'yahoo',\n",
        "          'servicios-ta.com': 'other', 'netzero.net': 'other', 'suddenlink.net': 'other',\n",
        "          'roadrunner.com': 'other', 'sc.rr.com': 'other', 'live.fr': 'microsoft',\n",
        "          'verizon.net': 'yahoo', 'msn.com': 'microsoft', 'q.com': 'centurylink',\n",
        "          'prodigy.net.mx': 'att', 'frontier.com': 'yahoo', 'anonymous.com': 'other',\n",
        "          'rocketmail.com': 'yahoo', 'sbcglobal.net': 'att', 'frontiernet.net': 'yahoo',\n",
        "          'ymail.com': 'yahoo', 'outlook.com': 'microsoft', 'mail.com': 'other',\n",
        "          'bellsouth.net': 'other', 'embarqmail.com': 'centurylink', 'cableone.net': 'other',\n",
        "          'hotmail.es': 'microsoft', 'mac.com': 'apple', 'yahoo.co.uk': 'yahoo', 'netzero.com': 'other',\n",
        "          'yahoo.com': 'yahoo', 'live.com.mx': 'microsoft', 'ptd.net': 'other', 'cox.net': 'other',\n",
        "          'aol.com': 'aol', 'juno.com': 'other', 'icloud.com': 'apple'}\n",
        "\n",
        "us_emails = ['gmail', 'net', 'edu']\n",
        "\n",
        "# https://www.kaggle.com/c/ieee-fraud-detection/discussion/100499#latest-579654\n",
        "#for c in ['P_emaildomain', 'R_emaildomain']:\n",
        "for c in ['P_emaildomain']:\n",
        "    dataset[c + '_bin'] = dataset[c].map(emails)\n",
        "    dataset[c + '_suffix'] = dataset[c].map(lambda x: str(x).split('.')[-1])\n",
        "    dataset[c + '_suffix'] = dataset[c + '_suffix'].map(lambda x: x if str(x) not in us_emails else 'us')\n",
        "\n",
        "## Elimaamos las columnas 'P_emaildomain', 'R_emaildomain'\n",
        "dataset.drop(['P_emaildomain'], axis=1, inplace=True)\n",
        "### IMPORTANTE  'R_emaildomain' fue sacada del analisis debido a que tiene un elavado cantidad de valores nulos\n"
      ],
      "metadata": {
        "id": "wvI7212Bz8jL"
      },
      "execution_count": 14,
      "outputs": []
    },
    {
      "cell_type": "markdown",
      "source": [
        "## Separamos datos características (X) y variable objetivo (y)"
      ],
      "metadata": {
        "id": "iR__r4m17fDR"
      }
    },
    {
      "cell_type": "code",
      "source": [
        "X = dataset.drop('isFraud', axis=1)  # features\n",
        "y = dataset['isFraud']  # target"
      ],
      "metadata": {
        "id": "nJbiGC6o7hMq"
      },
      "execution_count": 15,
      "outputs": []
    },
    {
      "cell_type": "markdown",
      "source": [
        "## División de los Datos en Conjuntos de Entrenamiento y Prueba"
      ],
      "metadata": {
        "id": "MIwyOaeJhwbV"
      }
    },
    {
      "cell_type": "markdown",
      "source": [
        "### Criterios para la División de Datos\n",
        "\n",
        "#### Entrenamiento (Training Set):\n",
        "- Representa el 70% del conjunto de datos.\n",
        "- Se utiliza para ajustar el modelo.\n",
        "\n",
        "#### Validación (Validation Set):\n",
        "- Representa el 15% del conjunto de datos.\n",
        "- Se utiliza para ajustar los hiperparámetros y prevenir el sobreajuste.\n",
        "\n",
        "#### Prueba (Test Set):\n",
        "- Representa el 15% del conjunto de datos.\n",
        "- Se utiliza para evaluar el rendimiento final del modelo.\n"
      ],
      "metadata": {
        "id": "tKw1PQZch2Mo"
      }
    },
    {
      "cell_type": "code",
      "source": [
        "X.shape, y.shape"
      ],
      "metadata": {
        "colab": {
          "base_uri": "https://localhost:8080/"
        },
        "id": "gOaUcWdtR1BL",
        "outputId": "b881c241-7ef3-4b92-b103-0a684a75eeba"
      },
      "execution_count": 16,
      "outputs": [
        {
          "output_type": "execute_result",
          "data": {
            "text/plain": [
              "((346874, 184), (346874,))"
            ]
          },
          "metadata": {},
          "execution_count": 16
        }
      ]
    },
    {
      "cell_type": "code",
      "source": [
        "from sklearn.model_selection import train_test_split\n",
        "\n",
        "# Dividir los datos en conjunto de entrenamiento y conjunto temporal (que se dividirá en validación y prueba)\n",
        "X_train, X_temp, y_train, y_temp = train_test_split(X, y, test_size=0.3, stratify=y, random_state=42)\n",
        "\n",
        "# Dividir el conjunto temporal en conjunto de validación y conjunto de prueba\n",
        "X_val, X_test, y_val, y_test = train_test_split(X_temp, y_temp, test_size=0.5, stratify=y_temp, random_state=42)\n",
        "\n",
        "# Mostrar las formas de los conjuntos de datos para asegurarse de que la estratificación se realizó correctamente\n",
        "print(\"Forma del conjunto de entrenamiento:\", X_train.shape, y_train.shape)\n",
        "print(\"Forma del conjunto de validación:\", X_val.shape, y_val.shape)\n",
        "print(\"Forma del conjunto de prueba:\", X_test.shape, y_test.shape)"
      ],
      "metadata": {
        "id": "9nbOzPQ3hx23",
        "outputId": "76220891-40e5-4268-a032-92aa7f4f875d",
        "colab": {
          "base_uri": "https://localhost:8080/"
        }
      },
      "execution_count": 17,
      "outputs": [
        {
          "output_type": "stream",
          "name": "stdout",
          "text": [
            "Forma del conjunto de entrenamiento: (242811, 184) (242811,)\n",
            "Forma del conjunto de validación: (52031, 184) (52031,)\n",
            "Forma del conjunto de prueba: (52032, 184) (52032,)\n"
          ]
        }
      ]
    },
    {
      "cell_type": "code",
      "source": [
        "num_cols = X.select_dtypes(include='number').columns.tolist()\n",
        "cat_cols = X.select_dtypes(include=['object']).columns.tolist()"
      ],
      "metadata": {
        "id": "emJMwt-D4z1L"
      },
      "execution_count": 18,
      "outputs": []
    },
    {
      "cell_type": "markdown",
      "source": [
        "### Codificación de variables categóricas.\n"
      ],
      "metadata": {
        "id": "IZdNX1Ndifpn"
      }
    },
    {
      "cell_type": "code",
      "source": [
        "X_train.shape, X_val.shape, X_test.shape"
      ],
      "metadata": {
        "id": "wu-yJbAKkwye",
        "outputId": "a8d94ac5-9504-4116-e9c0-70dc6760c7a6",
        "colab": {
          "base_uri": "https://localhost:8080/"
        }
      },
      "execution_count": 19,
      "outputs": [
        {
          "output_type": "execute_result",
          "data": {
            "text/plain": [
              "((242811, 184), (52031, 184), (52032, 184))"
            ]
          },
          "metadata": {},
          "execution_count": 19
        }
      ]
    },
    {
      "cell_type": "code",
      "source": [
        "X_train.select_dtypes(include=['object']).nunique()"
      ],
      "metadata": {
        "id": "GGQiFZznmulz",
        "outputId": "63da4d7b-d89a-4316-e9b3-160631693568",
        "colab": {
          "base_uri": "https://localhost:8080/"
        }
      },
      "execution_count": 20,
      "outputs": [
        {
          "output_type": "execute_result",
          "data": {
            "text/plain": [
              "ProductCD                4\n",
              "card4                    4\n",
              "card6                    3\n",
              "_Weekdays                7\n",
              "_Hours                  24\n",
              "_Days                   31\n",
              "P_emaildomain_bin        9\n",
              "P_emaildomain_suffix     7\n",
              "dtype: int64"
            ]
          },
          "metadata": {},
          "execution_count": 20
        }
      ]
    },
    {
      "cell_type": "code",
      "source": [
        "X_train.dtypes"
      ],
      "metadata": {
        "id": "DpT6_zvwXUle",
        "outputId": "12c33b5b-3f30-449a-ea74-21be73a982ca",
        "colab": {
          "base_uri": "https://localhost:8080/"
        }
      },
      "execution_count": 31,
      "outputs": [
        {
          "output_type": "execute_result",
          "data": {
            "text/plain": [
              "TransactionID             int32\n",
              "TransactionAmt          float16\n",
              "ProductCD                object\n",
              "card1                     int16\n",
              "card2                   float16\n",
              "                         ...   \n",
              "_Weekdays                object\n",
              "_Hours                   object\n",
              "_Days                    object\n",
              "P_emaildomain_bin        object\n",
              "P_emaildomain_suffix     object\n",
              "Length: 184, dtype: object"
            ]
          },
          "metadata": {},
          "execution_count": 31
        }
      ]
    },
    {
      "cell_type": "code",
      "source": [
        "from sklearn.preprocessing import LabelEncoder\n",
        "\n",
        "def label_encode_columns(X_train, X_val,X_test,cat_cols):\n",
        "  X_train = X_train.copy()\n",
        "  X_val = X_val.copy()\n",
        "  X_test = X_test.copy()\n",
        "  for col in cat_cols:\n",
        "      #print('aqui')\n",
        "      if X_train[col].dtype=='object' or X_val[col].dtype=='object' or X_test[col].dtype=='object':\n",
        "          #print(col)\n",
        "          lbl = LabelEncoder()\n",
        "          lbl.fit(list(X_train[col].values)+list(X_val[col].values) + list(X_test[col].values))\n",
        "          X_train[col] = lbl.transform(list(X_train[col].values))\n",
        "          X_val[col] = lbl.transform(list(X_val[col].values))\n",
        "          X_test[col] = lbl.transform(list(X_test[col].values))\n",
        "\n",
        "  return X_train,X_val ,X_test\n",
        "\n",
        "# Ejemplo de uso:\n",
        "# Suponiendo que X_train y X_test son tus DataFrames originales\n",
        "X_train_final, X_val_final  ,X_test_final = label_encode_columns(X_train, X_val,X_test,cat_cols)\n",
        "\n"
      ],
      "metadata": {
        "id": "AmoznGGE1zTo"
      },
      "execution_count": 43,
      "outputs": []
    },
    {
      "cell_type": "markdown",
      "source": [
        "### Normalización y estandarización de las variables."
      ],
      "metadata": {
        "id": "9FwrNODMijRf"
      }
    },
    {
      "cell_type": "code",
      "source": [
        "scaler_min_max = MinMaxScaler()\n",
        "X_train_final[num_cols] = scaler_min_max.fit_transform(X_train_final[num_cols])\n",
        "X_test_final[num_cols] = scaler_min_max.transform(X_test_final[num_cols])\n",
        "X_val_final[num_cols] = scaler_min_max.transform(X_val_final[num_cols])\n",
        "\n"
      ],
      "metadata": {
        "id": "5VxDYi5T4ag7"
      },
      "execution_count": 44,
      "outputs": []
    },
    {
      "cell_type": "markdown",
      "source": [
        "### Aplicación de PCA"
      ],
      "metadata": {
        "id": "JCa_gX8QiohK"
      }
    },
    {
      "cell_type": "code",
      "source": [
        "pca = PCA(n_components=0.95)  # Mantener el 95% de la varianza explicada\n",
        "X_train_pca = pca.fit_transform(X_train_final)\n",
        "X_val_pca = pca.transform(X_val_final)\n",
        "X_test_pca = pca.transform(X_test_final)"
      ],
      "metadata": {
        "id": "GF7RBly3ioPy"
      },
      "execution_count": 45,
      "outputs": []
    },
    {
      "cell_type": "code",
      "source": [
        "# Número de componentes principales seleccionados\n",
        "n_components = pca.n_components_\n",
        "print(f'Número de componentes principales seleccionados: {n_components}')"
      ],
      "metadata": {
        "id": "iBxJmNmbe1N1",
        "outputId": "3e4d725f-2624-4047-cf5e-39ead58584aa",
        "colab": {
          "base_uri": "https://localhost:8080/"
        }
      },
      "execution_count": 46,
      "outputs": [
        {
          "output_type": "stream",
          "name": "stdout",
          "text": [
            "Número de componentes principales seleccionados: 3\n"
          ]
        }
      ]
    },
    {
      "cell_type": "markdown",
      "source": [],
      "metadata": {
        "id": "6lgY0SsTLZLN"
      }
    },
    {
      "cell_type": "code",
      "source": [
        "X_train_final.shape"
      ],
      "metadata": {
        "colab": {
          "base_uri": "https://localhost:8080/"
        },
        "id": "0u7RmVNQL52f",
        "outputId": "bca17232-fd55-4a6f-8676-d4b131861d06"
      },
      "execution_count": 47,
      "outputs": [
        {
          "output_type": "execute_result",
          "data": {
            "text/plain": [
              "(242811, 184)"
            ]
          },
          "metadata": {},
          "execution_count": 47
        }
      ]
    },
    {
      "cell_type": "code",
      "source": [
        "covar_matrix = PCA(n_components=X_train_final.shape[1])\n",
        "covar_matrix.fit(X_train_final)"
      ],
      "metadata": {
        "colab": {
          "base_uri": "https://localhost:8080/",
          "height": 75
        },
        "id": "c9XWpJf9Lkij",
        "outputId": "39177b75-e4f1-4c1e-bb80-b57979f795b0"
      },
      "execution_count": 48,
      "outputs": [
        {
          "output_type": "execute_result",
          "data": {
            "text/plain": [
              "PCA(n_components=184)"
            ],
            "text/html": [
              "<style>#sk-container-id-1 {color: black;background-color: white;}#sk-container-id-1 pre{padding: 0;}#sk-container-id-1 div.sk-toggleable {background-color: white;}#sk-container-id-1 label.sk-toggleable__label {cursor: pointer;display: block;width: 100%;margin-bottom: 0;padding: 0.3em;box-sizing: border-box;text-align: center;}#sk-container-id-1 label.sk-toggleable__label-arrow:before {content: \"▸\";float: left;margin-right: 0.25em;color: #696969;}#sk-container-id-1 label.sk-toggleable__label-arrow:hover:before {color: black;}#sk-container-id-1 div.sk-estimator:hover label.sk-toggleable__label-arrow:before {color: black;}#sk-container-id-1 div.sk-toggleable__content {max-height: 0;max-width: 0;overflow: hidden;text-align: left;background-color: #f0f8ff;}#sk-container-id-1 div.sk-toggleable__content pre {margin: 0.2em;color: black;border-radius: 0.25em;background-color: #f0f8ff;}#sk-container-id-1 input.sk-toggleable__control:checked~div.sk-toggleable__content {max-height: 200px;max-width: 100%;overflow: auto;}#sk-container-id-1 input.sk-toggleable__control:checked~label.sk-toggleable__label-arrow:before {content: \"▾\";}#sk-container-id-1 div.sk-estimator input.sk-toggleable__control:checked~label.sk-toggleable__label {background-color: #d4ebff;}#sk-container-id-1 div.sk-label input.sk-toggleable__control:checked~label.sk-toggleable__label {background-color: #d4ebff;}#sk-container-id-1 input.sk-hidden--visually {border: 0;clip: rect(1px 1px 1px 1px);clip: rect(1px, 1px, 1px, 1px);height: 1px;margin: -1px;overflow: hidden;padding: 0;position: absolute;width: 1px;}#sk-container-id-1 div.sk-estimator {font-family: monospace;background-color: #f0f8ff;border: 1px dotted black;border-radius: 0.25em;box-sizing: border-box;margin-bottom: 0.5em;}#sk-container-id-1 div.sk-estimator:hover {background-color: #d4ebff;}#sk-container-id-1 div.sk-parallel-item::after {content: \"\";width: 100%;border-bottom: 1px solid gray;flex-grow: 1;}#sk-container-id-1 div.sk-label:hover label.sk-toggleable__label {background-color: #d4ebff;}#sk-container-id-1 div.sk-serial::before {content: \"\";position: absolute;border-left: 1px solid gray;box-sizing: border-box;top: 0;bottom: 0;left: 50%;z-index: 0;}#sk-container-id-1 div.sk-serial {display: flex;flex-direction: column;align-items: center;background-color: white;padding-right: 0.2em;padding-left: 0.2em;position: relative;}#sk-container-id-1 div.sk-item {position: relative;z-index: 1;}#sk-container-id-1 div.sk-parallel {display: flex;align-items: stretch;justify-content: center;background-color: white;position: relative;}#sk-container-id-1 div.sk-item::before, #sk-container-id-1 div.sk-parallel-item::before {content: \"\";position: absolute;border-left: 1px solid gray;box-sizing: border-box;top: 0;bottom: 0;left: 50%;z-index: -1;}#sk-container-id-1 div.sk-parallel-item {display: flex;flex-direction: column;z-index: 1;position: relative;background-color: white;}#sk-container-id-1 div.sk-parallel-item:first-child::after {align-self: flex-end;width: 50%;}#sk-container-id-1 div.sk-parallel-item:last-child::after {align-self: flex-start;width: 50%;}#sk-container-id-1 div.sk-parallel-item:only-child::after {width: 0;}#sk-container-id-1 div.sk-dashed-wrapped {border: 1px dashed gray;margin: 0 0.4em 0.5em 0.4em;box-sizing: border-box;padding-bottom: 0.4em;background-color: white;}#sk-container-id-1 div.sk-label label {font-family: monospace;font-weight: bold;display: inline-block;line-height: 1.2em;}#sk-container-id-1 div.sk-label-container {text-align: center;}#sk-container-id-1 div.sk-container {/* jupyter's `normalize.less` sets `[hidden] { display: none; }` but bootstrap.min.css set `[hidden] { display: none !important; }` so we also need the `!important` here to be able to override the default hidden behavior on the sphinx rendered scikit-learn.org. See: https://github.com/scikit-learn/scikit-learn/issues/21755 */display: inline-block !important;position: relative;}#sk-container-id-1 div.sk-text-repr-fallback {display: none;}</style><div id=\"sk-container-id-1\" class=\"sk-top-container\"><div class=\"sk-text-repr-fallback\"><pre>PCA(n_components=184)</pre><b>In a Jupyter environment, please rerun this cell to show the HTML representation or trust the notebook. <br />On GitHub, the HTML representation is unable to render, please try loading this page with nbviewer.org.</b></div><div class=\"sk-container\" hidden><div class=\"sk-item\"><div class=\"sk-estimator sk-toggleable\"><input class=\"sk-toggleable__control sk-hidden--visually\" id=\"sk-estimator-id-1\" type=\"checkbox\" checked><label for=\"sk-estimator-id-1\" class=\"sk-toggleable__label sk-toggleable__label-arrow\">PCA</label><div class=\"sk-toggleable__content\"><pre>PCA(n_components=184)</pre></div></div></div></div></div>"
            ]
          },
          "metadata": {},
          "execution_count": 48
        }
      ]
    },
    {
      "cell_type": "code",
      "source": [
        "\n",
        "# Genera el gráfico de la varianza explicada acumulada\n",
        "plt.figure(figsize=(10, 6))\n",
        "plt.plot(range(1, len(pca.explained_variance_ratio_) + 1),\n",
        "         np.cumsum(pca.explained_variance_ratio_), marker='o', linestyle='--', color='b')\n",
        "plt.ylabel('Varianza explicada')\n",
        "plt.xlabel('Componentes principales')\n",
        "plt.title('Varianza explicada por cada componente principal')\n",
        "\n",
        "# Agrega etiquetas a cada punto del gráfico\n",
        "for i, value in enumerate(np.cumsum(pca.explained_variance_ratio_)):\n",
        "    plt.text(i + 1, value, f'{value:.2f}', ha='center', va='bottom')\n",
        "\n",
        "# Ajusta los límites del eje x para mostrar todos los componentes\n",
        "plt.xlim(1, len(pca.explained_variance_ratio_))\n",
        "plt.ylim(0, 1)  # La varianza explicada acumulada estará entre 0 y 1\n",
        "\n",
        "# Muestra el gráfico\n",
        "plt.grid(True)\n",
        "plt.savefig('nulo_menor_10.png', format='png')\n",
        "plt.show()"
      ],
      "metadata": {
        "colab": {
          "base_uri": "https://localhost:8080/",
          "height": 564
        },
        "id": "UH8tyZnDMD1c",
        "outputId": "baee05a3-d2d1-4de6-b21c-a3dc4a780fdb"
      },
      "execution_count": 49,
      "outputs": [
        {
          "output_type": "display_data",
          "data": {
            "text/plain": [
              "<Figure size 1000x600 with 1 Axes>"
            ],
            "image/png": "[encoded data removed]"
          },
          "metadata": {}
        }
      ]
    },
    {
      "cell_type": "markdown",
      "source": [
        "\n",
        "\n",
        "\n",
        "Se probó ajustando el porcentaje de valores permitidos por columna para maximizar la cantidad de columnas utilizadas en el análisis de componentes principales (PCA). Los resultados mostraron que el número máximo de componentes principales (PCA) obtenidos es de 4 cuando se permiten columnas con hasta un 20% de valores faltantes:\n",
        "\n",
        "- Columnas con menos del 10% de valores faltantes: 3 componentes\n",
        "- Columnas con menos del 20% de valores faltantes: 4 componentes\n",
        "- Columnas con menos del 50% de valores faltantes: 4 componentes\n",
        "- Columnas con menos del 60% de valores faltantes: 4 componentes\n",
        "\n",
        "Se observó que la máxima varianza se logra con un número reducido de componentes principales, lo cual indica que gran parte de la información se puede capturar eficientemente con pocos componentes.\n",
        "\n",
        "Por lo tanto vamos a trabajas con columnas que no tengan más del 20 de valores nulos."
      ],
      "metadata": {
        "id": "S7eRVl5qStFK"
      }
    },
    {
      "cell_type": "code",
      "source": [
        "# Guardar X y y en archivos CSV\n",
        "\n",
        "#dir_data_processed = '../data/processed'\n",
        "dir_data_processed = '/content/drive/MyDrive/cursos-analisis-datos/data-science/proyecto/propuestas/propuesta1/ieee-fraud-detection/processed'\n",
        "ruta_archivo_X_train = os.path.join(dir_data_processed, 'X__train_procesados.csv')\n",
        "ruta_archivo_X_test = os.path.join(dir_data_processed, 'X_test_procesados.csv')\n",
        "ruta_archivo_X_val = os.path.join(dir_data_processed, 'X_val_procesados.csv')\n",
        "\n",
        "ruta_archivo_y_train = os.path.join(dir_data_processed, 'y_train_procesados.csv')\n",
        "ruta_archivo_y_test = os.path.join(dir_data_processed, 'y_test_procesados.csv')\n",
        "ruta_archivo_y_val = os.path.join(dir_data_processed, 'y_val_procesados.csv')\n",
        "\n",
        "\n",
        "X_train_final.to_csv(ruta_archivo_X_train, index=False, encoding='utf-8')\n",
        "X_val_final.to_csv(ruta_archivo_X_val, index=False, encoding='utf-8')\n",
        "X_test_final.to_csv(ruta_archivo_X_test, index=False, encoding='utf-8')\n",
        "\n",
        "y_train.to_csv(ruta_archivo_y_train, index=False, encoding='utf-8')\n",
        "y_val.to_csv(ruta_archivo_y_val, index=False, encoding='utf-8')\n",
        "y_test.to_csv(ruta_archivo_y_test, index=False, encoding='utf-8')\n",
        "\n"
      ],
      "metadata": {
        "id": "IIZFPqz38eNG"
      },
      "execution_count": 50,
      "outputs": []
    },
    {
      "cell_type": "code",
      "source": [
        "y_train.shape"
      ],
      "metadata": {
        "id": "xklfde6BwqFf"
      },
      "execution_count": null,
      "outputs": []
    }
  ]
}
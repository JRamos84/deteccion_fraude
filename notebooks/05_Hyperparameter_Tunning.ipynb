{
 "cells": [
  {
   "cell_type": "markdown",
   "metadata": {},
   "source": [
    "\n",
    "## 05 Hyperparameter Tuning\n",
    "**Objetivo**: Optimizar los hiperparámetros del modelo seleccionado.\n",
    "**Contenido**:\n",
    "- Uso de técnicas como Grid Search y Random Search.\n",
    "- Evaluación del rendimiento del modelo optimizado.\n"
   ]
  },
  {
   "cell_type": "code",
   "execution_count": 53,
   "metadata": {},
   "outputs": [],
   "source": [
    "## Importar librerías\n",
    "import os\n",
    "import numpy as np\n",
    "import pandas as pd\n",
    "from sklearn.model_selection import train_test_split, GridSearchCV, RandomizedSearchCV\n",
    "from sklearn.ensemble import RandomForestClassifier\n",
    "from sklearn.metrics import accuracy_score, classification_report\n",
    "from sklearn.metrics import accuracy_score, confusion_matrix, classification_report, roc_auc_score\n",
    "import xgboost as xgb\n",
    "import matplotlib.pyplot as plt\n",
    "import seaborn as sns"
   ]
  },
  {
   "cell_type": "markdown",
   "metadata": {},
   "source": [
    "## Cargar dataset de entranamiento y evaluación"
   ]
  },
  {
   "cell_type": "code",
   "execution_count": 57,
   "metadata": {},
   "outputs": [],
   "source": [
    "\n",
    "dir_data_processed = '../data/processed'\n",
    "ruta_archivo_X = os.path.join(dir_data_processed, 'X_train_resampled.csv')\n",
    "X_train_resampled = pd.read_csv(ruta_archivo_X)\n",
    "\n",
    "ruta_archivo_y = os.path.join(dir_data_processed, 'y_train_resampled.csv')\n",
    "y_train_resampled = pd.read_csv(ruta_archivo_y)\n",
    "\n",
    "ruta_archivo_X = os.path.join(dir_data_processed, 'X_val.csv')\n",
    "X_val = pd.read_csv(ruta_archivo_X)\n",
    "\n",
    "ruta_archivo_y = os.path.join(dir_data_processed, 'y_val.csv')\n",
    "y_val = pd.read_csv(ruta_archivo_y)\n"
   ]
  },
  {
   "cell_type": "code",
   "execution_count": 58,
   "metadata": {},
   "outputs": [
    {
     "data": {
      "text/plain": [
       "Index(['TransactionDT', 'TransactionAmt', 'dist1', 'card1', 'card2', 'card3',\n",
       "       'card5', 'C1', 'C2', 'C3', 'C4', 'C5', 'C6', 'C7', 'C8', 'C9', 'C10',\n",
       "       'C11', 'C12', 'C13', 'C14', 'ProductCD_W', 'card4_discover',\n",
       "       'card4_mastercard', 'card4_visa', 'card6_credit', 'card6_debit',\n",
       "       'card6_debit or credit', 'P_emaildomain_0', 'P_emaildomain_1',\n",
       "       'P_emaildomain_2', 'P_emaildomain_3', 'P_emaildomain_4',\n",
       "       'P_emaildomain_5', 'addr_combined_0', 'addr_combined_1',\n",
       "       'addr_combined_2', 'addr_combined_3', 'addr_combined_4',\n",
       "       'addr_combined_5', 'addr_combined_6'],\n",
       "      dtype='object')"
      ]
     },
     "execution_count": 58,
     "metadata": {},
     "output_type": "execute_result"
    }
   ],
   "source": [
    "X_train_resampled.columns"
   ]
  },
  {
   "cell_type": "code",
   "execution_count": 59,
   "metadata": {},
   "outputs": [
    {
     "data": {
      "text/plain": [
       "((5116, 41), (5116, 1))"
      ]
     },
     "execution_count": 59,
     "metadata": {},
     "output_type": "execute_result"
    }
   ],
   "source": [
    "X_train_resampled.shape, y_train_resampled.shape"
   ]
  },
  {
   "cell_type": "code",
   "execution_count": 60,
   "metadata": {},
   "outputs": [
    {
     "data": {
      "text/plain": [
       "((28125, 41), (28125, 1))"
      ]
     },
     "execution_count": 60,
     "metadata": {},
     "output_type": "execute_result"
    }
   ],
   "source": [
    "X_val.shape, y_val.shape"
   ]
  },
  {
   "cell_type": "markdown",
   "metadata": {},
   "source": [
    "## Definir el modelo base"
   ]
  },
  {
   "cell_type": "code",
   "execution_count": 61,
   "metadata": {},
   "outputs": [],
   "source": [
    "\n",
    "rf = RandomForestClassifier(random_state=42)\n",
    "y_train_resampled = y_train_resampled.values.ravel()\n",
    "y_val = y_val.values.ravel()"
   ]
  },
  {
   "cell_type": "markdown",
   "metadata": {},
   "source": [
    "##  Definir los parámetros para Grid Search y Random Search"
   ]
  },
  {
   "cell_type": "code",
   "execution_count": 62,
   "metadata": {},
   "outputs": [],
   "source": [
    "# # Definir los parámetros que se van a probar en Grid Search\n",
    "# param_grid = {\n",
    "#     'n_estimators': [100, 200, 300],  # Número de árboles en el bosque\n",
    "#     'max_features': ['sqrt', 'log2'],  # Número máximo de features consideradas para dividir un nodo\n",
    "#     'max_depth': [None, 10, 20, 30],  # Profundidad máxima del árbol\n",
    "#     'min_samples_split': [2, 5, 10],  # Número mínimo de muestras requeridas para dividir un nodo interno\n",
    "#     'min_samples_leaf': [1, 2, 4],  # Número mínimo de muestras requeridas para ser una hoja\n",
    "#     'bootstrap': [True, False]  # Método de muestreo de instancias para construir árboles\n",
    "# }\n",
    "\n",
    "# # Inicializar Grid Search\n",
    "# grid_search = GridSearchCV(estimator=rf, param_grid=param_grid, cv=5, scoring='accuracy', n_jobs=-1)\n"
   ]
  },
  {
   "cell_type": "code",
   "execution_count": 63,
   "metadata": {},
   "outputs": [],
   "source": [
    "# Definir la distribución de parámetros para Random Search\n",
    "param_dist = {\n",
    "    # 'n_estimators': [100, 200, 300, 400, 500],\n",
    "    # 'max_features': ['auto', 'sqrt', 'log2'],\n",
    "    # 'max_depth': [None, 10, 20, 30, 40, 50],\n",
    "    # 'min_samples_split': [2, 5, 10],\n",
    "    # 'min_samples_leaf': [1, 2, 4],\n",
    "    # 'bootstrap': [True, False]\n",
    "}\n",
    "\n",
    "# Inicializar Random Search\n",
    "random_search = RandomizedSearchCV(estimator=rf, param_distributions=param_dist, n_iter=100, cv=5, scoring='roc_auc', n_jobs=-1, random_state=42)\n"
   ]
  },
  {
   "cell_type": "markdown",
   "metadata": {},
   "source": [
    "## Entrenar y ajustar hiperparámetros"
   ]
  },
  {
   "cell_type": "markdown",
   "metadata": {},
   "source": [
    "Combinamos Grid Search y Random Search para explorar de manera exhaustiva y eficiente el espacio de hiperparámetros. Utilizamos Grid Search inicialmente para realizar una búsqueda amplia de hiperparámetros, seguida de Random Search para refinar y buscar de manera más precisa dentro de las regiones prometedoras identificadas."
   ]
  },
  {
   "cell_type": "markdown",
   "metadata": {},
   "source": [
    "### Grid Search"
   ]
  },
  {
   "cell_type": "code",
   "execution_count": 64,
   "metadata": {},
   "outputs": [],
   "source": [
    "# grid_search.fit(X_train_resampled, y_train_resampled)\n",
    "# print(\"Mejores hiperparámetros encontrados por Grid Search:\")\n",
    "# print(grid_search.best_params_)\n"
   ]
  },
  {
   "cell_type": "markdown",
   "metadata": {},
   "source": [
    "### Random Search"
   ]
  },
  {
   "cell_type": "code",
   "execution_count": 65,
   "metadata": {},
   "outputs": [],
   "source": [
    "# # Definir la distribución de parámetros para Random Search\n",
    "# param_dist = {\n",
    "#     'n_estimators': [100, 200, 300, 400, 500],  # Número de árboles en el bosque\n",
    "#     'max_features': ['sqrt', 'log2', None],     # Número de características a considerar en cada división\n",
    "#     'max_depth': [10, 20, 30, 40, 50, None],    # Profundidad máxima del árbol\n",
    "#     'min_samples_split': [2, 5, 10],            # Número mínimo de muestras necesarias para dividir un nodo\n",
    "#     'min_samples_leaf': [1, 2, 4],              # Número mínimo de muestras necesarias en un nodo hoja\n",
    "#     'bootstrap': [True, False]                  # Método para seleccionar muestras para entrenar cada árbol\n",
    "# }\n",
    "\n",
    "# # Inicializar Random Search\n",
    "# random_search = RandomizedSearchCV(estimator=rf, param_distributions=param_dist, n_iter=100, cv=5, scoring='roc_auc', n_jobs=-1, random_state=42)\n"
   ]
  },
  {
   "cell_type": "code",
   "execution_count": 66,
   "metadata": {},
   "outputs": [],
   "source": [
    "# Definir la distribución de parámetros para Random Search\n",
    "param_dist = {\n",
    "    'n_estimators': [400],  # Número de árboles en el bosque\n",
    "    'max_features': ['log2'],     # Número de características a considerar en cada división\n",
    "    'max_depth': [20],    # Profundidad máxima del árbol\n",
    "    'min_samples_split': [2],            # Número mínimo de muestras necesarias para dividir un nodo\n",
    "    'min_samples_leaf': [1],              # Número mínimo de muestras necesarias en un nodo hoja\n",
    "    'bootstrap': [False]                  # Método para seleccionar muestras para entrenar cada árbol\n",
    "}\n",
    "\n",
    "# Inicializar Random Search\n",
    "random_search = RandomizedSearchCV(estimator=rf, param_distributions=param_dist, n_iter=100, cv=5, scoring='roc_auc', n_jobs=-1, random_state=42)\n"
   ]
  },
  {
   "cell_type": "code",
   "execution_count": 67,
   "metadata": {},
   "outputs": [
    {
     "name": "stderr",
     "output_type": "stream",
     "text": [
      "/home/joseph/Documents/proyecto-portafolio/deteccion_fraude/venv/lib/python3.11/site-packages/sklearn/model_selection/_search.py:320: UserWarning: The total space of parameters 1 is smaller than n_iter=100. Running 1 iterations. For exhaustive searches, use GridSearchCV.\n",
      "  warnings.warn(\n"
     ]
    },
    {
     "name": "stdout",
     "output_type": "stream",
     "text": [
      "Mejores hiperparámetros encontrados por Random Search:\n",
      "{'n_estimators': 400, 'min_samples_split': 2, 'min_samples_leaf': 1, 'max_features': 'log2', 'max_depth': 20, 'bootstrap': False}\n"
     ]
    }
   ],
   "source": [
    "random_search.fit(X_train_resampled, y_train_resampled)\n",
    "print(\"Mejores hiperparámetros encontrados por Random Search:\")\n",
    "print(random_search.best_params_)\n"
   ]
  },
  {
   "cell_type": "markdown",
   "metadata": {},
   "source": [
    "## Evaluar el modelo optimizado"
   ]
  },
  {
   "cell_type": "code",
   "execution_count": 68,
   "metadata": {},
   "outputs": [
    {
     "name": "stdout",
     "output_type": "stream",
     "text": [
      "Rendimiento del modelo con mejores parámetros (Random Search):\n",
      "Accuracy: 0.8960711111111112\n",
      "Classification Report:\n",
      "Área bajo la curva ROC (ROC AUC): 0.89\n",
      "              precision    recall  f1-score   support\n",
      "\n",
      "           0       1.00      0.90      0.94     27548\n",
      "           1       0.15      0.88      0.26       577\n",
      "\n",
      "    accuracy                           0.90     28125\n",
      "   macro avg       0.57      0.89      0.60     28125\n",
      "weighted avg       0.98      0.90      0.93     28125\n",
      "\n"
     ]
    }
   ],
   "source": [
    "# Función para evaluar el rendimiento del modelo\n",
    "def evaluate_model(model, X_test, y_test):\n",
    "    y_pred = model.predict(X_test)\n",
    "    accuracy = accuracy_score(y_test, y_pred)\n",
    "    print(\"Accuracy:\", accuracy)\n",
    "    print(\"Classification Report:\")\n",
    "    roc_auc = roc_auc_score(y_val, y_pred)\n",
    "    print(f'Área bajo la curva ROC (ROC AUC): {roc_auc:.2f}')\n",
    "    print(classification_report(y_test, y_pred))\n",
    "\n",
    "# Evaluación del modelo con los mejores parámetros encontrados por Grid Search\n",
    "# best_grid_model = grid_search.best_estimator_\n",
    "# print(\"Rendimiento del modelo con mejores parámetros (Grid Search):\")\n",
    "# evaluate_model(best_grid_model, X_val, y_val)\n",
    "\n",
    "# Evaluación del modelo con los mejores parámetros encontrados por Random Search\n",
    "best_random_model = random_search.best_estimator_\n",
    "print(\"Rendimiento del modelo con mejores parámetros (Random Search):\")\n",
    "evaluate_model(best_random_model, X_val, y_val)"
   ]
  },
  {
   "cell_type": "code",
   "execution_count": 80,
   "metadata": {},
   "outputs": [
    {
     "name": "stderr",
     "output_type": "stream",
     "text": [
      "/tmp/ipykernel_26188/3298708673.py:14: FutureWarning: \n",
      "\n",
      "Passing `palette` without assigning `hue` is deprecated and will be removed in v0.14.0. Assign the `y` variable to `hue` and set `legend=False` for the same effect.\n",
      "\n",
      "  sns.barplot(x='Importance', y='Feature', data=feature_importance_df.head(40), palette='viridis')\n"
     ]
    },
    {
     "data": {
      "image/png": "[encoded data removed]",
      "text/plain": [
       "<Figure size 1000x800 with 1 Axes>"
      ]
     },
     "metadata": {},
     "output_type": "display_data"
    }
   ],
   "source": [
    "\n",
    "feature_importance = best_random_model.feature_importances_\n",
    "\n",
    "# Obtener nombres de las características\n",
    "feature_names = X_train_resampled.columns\n",
    "\n",
    "# Crear un DataFrame para visualización\n",
    "feature_importance_df = pd.DataFrame({'Feature': feature_names, 'Importance': feature_importance})\n",
    "\n",
    "# Ordenar por importancia de forma descendente\n",
    "feature_importance_df = feature_importance_df.sort_values(by='Importance', ascending=False)\n",
    "\n",
    "# Visualizar las 10 características más importantes\n",
    "plt.figure(figsize=(10, 8))\n",
    "sns.barplot(x='Importance', y='Feature', data=feature_importance_df.head(40), palette='viridis')\n",
    "plt.xlabel('Importance')\n",
    "plt.ylabel('Feature')\n",
    "plt.title('Top 10 Feature Importances')\n",
    "plt.show()"
   ]
  },
  {
   "cell_type": "code",
   "execution_count": 70,
   "metadata": {},
   "outputs": [
    {
     "data": {
      "text/plain": [
       "['../models/modelo_forest_agregado_c1-c14.pkl']"
      ]
     },
     "execution_count": 70,
     "metadata": {},
     "output_type": "execute_result"
    }
   ],
   "source": [
    "\n",
    "import joblib\n",
    "\n",
    "\n",
    "dir_data_processed = '../models'\n",
    "ruta_archivo_model = os.path.join(dir_data_processed, 'modelo_forest_agregado_c1-c14.pkl')\n",
    "\n",
    "# Guardar el modelo\n",
    "joblib.dump(best_random_model, ruta_archivo_model)\n",
    "\n",
    "\n"
   ]
  },
  {
   "cell_type": "markdown",
   "metadata": {},
   "source": [
    "x_"
   ]
  },
  {
   "cell_type": "markdown",
   "metadata": {},
   "source": []
  },
  {
   "cell_type": "code",
   "execution_count": 71,
   "metadata": {},
   "outputs": [],
   "source": [
    "# # Crear un clasificador XGBoost\n",
    "# xgb_model = xgb.XGBClassifier(objective='binary:logistic', random_state=42)"
   ]
  },
  {
   "cell_type": "code",
   "execution_count": 72,
   "metadata": {},
   "outputs": [],
   "source": [
    "# # Definir los parámetros que se van a probar en Grid Search\n",
    "# param_grid = {\n",
    "#     'n_estimators': [100, 200, 300],  # Número de árboles (boosting rounds)\n",
    "#     'max_depth': [3, 4, 5],  # Profundidad máxima del árbol\n",
    "#     'learning_rate': [0.1, 0.01, 0.05],  # Tasa de aprendizaje\n",
    "#     'subsample': [0.8, 0.9, 1.0],  # Proporción de muestras utilizadas para entrenar cada árbol\n",
    "#     'colsample_bytree': [0.8, 0.9, 1.0],  # Proporción de características utilizadas para entrenar cada árbol\n",
    "#     'gamma': [0, 1, 5]  # Reducción de la pérdida mínima requerida para dividir un nodo\n",
    "# }\n",
    "\n",
    "# # Inicializar Grid Search\n",
    "# grid_search = GridSearchCV(estimator=xgb_model, param_grid=param_grid, cv=5, scoring='accuracy', n_jobs=-1)\n"
   ]
  },
  {
   "cell_type": "markdown",
   "metadata": {},
   "source": [
    "{'n_estimators': 300, 'min_samples_split': 2, 'min_samples_leaf': 2, 'max_features': 'sqrt', 'max_depth': 20, 'bootstrap': True}"
   ]
  },
  {
   "cell_type": "markdown",
   "metadata": {},
   "source": [
    "## Utilizando Xgboost como segunda propuesta de modelo"
   ]
  },
  {
   "cell_type": "code",
   "execution_count": 73,
   "metadata": {},
   "outputs": [],
   "source": [
    "# param_dist = {\n",
    "#     'max_depth': [ 10],  # Profundidad máxima del árbol\n",
    "#     'eta': [ 0.3],     # Tasa de aprendizaje (learning rate)\n",
    "#     'objective': ['binary:logistic'],      # Función objetivo (clasificación binaria)\n",
    "#     'eval_metric': ['logloss', 'auc']      # Métricas de evaluación\n",
    "    \n",
    "# }\n",
    "\n",
    "\n",
    "# random_search = RandomizedSearchCV(\n",
    "#     estimator=xgb_model,     # Modelo XGBoost\n",
    "#     param_distributions=param_dist,  # Distribución de parámetros para explorar\n",
    "#     n_iter=100,              # Número de combinaciones de hiperparámetros a probar\n",
    "#     cv=5,                    # Número de divisiones para validación cruzada\n",
    "#     scoring='roc_auc',       # Métrica de evaluación a optimizar (AUC-ROC)\n",
    "#     n_jobs=-1,               # Número de núcleos para procesos en paralelo, -1 usa todos los disponibles\n",
    "#     random_state=42          # Semilla para reproducibilidad de resultados\n",
    "# )"
   ]
  },
  {
   "cell_type": "code",
   "execution_count": 74,
   "metadata": {},
   "outputs": [],
   "source": [
    "# grid_search.fit(X_train_resampled, y_train_resampled)\n",
    "# print(\"Mejores hiperparámetros encontrados por Grid Search:\")\n",
    "# print(grid_search.best_params_)\n"
   ]
  },
  {
   "cell_type": "code",
   "execution_count": 75,
   "metadata": {},
   "outputs": [],
   "source": [
    "# random_search.fit(X_train_resampled, y_train_resampled)\n",
    "# print(\"Mejores hiperparámetros encontrados por Random Search:\")\n",
    "# print(random_search.best_params_)\n"
   ]
  },
  {
   "cell_type": "code",
   "execution_count": 76,
   "metadata": {},
   "outputs": [],
   "source": [
    "\n",
    "\n",
    "# # # Evaluación del modelo con los mejores parámetros encontrados por Grid Search\n",
    "# # best_grid_model = grid_search.best_estimator_\n",
    "# # print(\"Rendimiento del modelo con mejores parámetros (Grid Search):\")\n",
    "# # evaluate_model(best_grid_model, X_test, y_test)\n",
    "\n",
    "# # Evaluación del modelo con los mejores parámetros encontrados por Random Search\n",
    "# best_random_model = random_search.best_estimator_\n",
    "# print(\"Rendimiento del modelo con mejores parámetros (Random Search):\")\n",
    "# evaluate_model(best_random_model, X_val, y_val)\n"
   ]
  },
  {
   "cell_type": "code",
   "execution_count": 77,
   "metadata": {},
   "outputs": [],
   "source": [
    "# dir_data_processed = '../models'\n",
    "# ruta_archivo_model = os.path.join(dir_data_processed, 'modelo_xgboost.bin')\n",
    "\n",
    "# best_random_model.save_model(ruta_archivo_model )"
   ]
  },
  {
   "cell_type": "markdown",
   "metadata": {},
   "source": [
    "## **Conlusión**\n",
    "\n",
    "- No se observó una mejora significativa con la optimización en Random Forest, pero sí se encontró una ligera mejora con el modelo XGBoost, aunque sigue siendo marginal. Se sugiere considerar agregar o reemplazar la columna de TransactionAmt como una posible mejora para el entrenamiento del modelo.\n"
   ]
  },
  {
   "cell_type": "markdown",
   "metadata": {},
   "source": [
    "- No se observó una mejora significativa con la optimización en Random Forest, pero sí se encontró una ligera mejora con el modelo XGBoost, aunque sigue siendo marginal. Se sugiere considerar agregar o reemplazar la columna de TransactionAmt como una posible mejora para el entrenamiento del modelo."
   ]
  }
 ],
 "metadata": {
  "kernelspec": {
   "display_name": "venv",
   "language": "python",
   "name": "python3"
  },
  "language_info": {
   "codemirror_mode": {
    "name": "ipython",
    "version": 3
   },
   "file_extension": ".py",
   "mimetype": "text/x-python",
   "name": "python",
   "nbconvert_exporter": "python",
   "pygments_lexer": "ipython3",
   "version": "3.11.7"
  }
 },
 "nbformat": 4,
 "nbformat_minor": 2
}

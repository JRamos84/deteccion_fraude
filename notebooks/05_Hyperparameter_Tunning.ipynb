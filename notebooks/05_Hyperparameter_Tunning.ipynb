{
  "cells": [
    {
      "cell_type": "markdown",
      "metadata": {
        "id": "vKGE7AIfGoMq"
      },
      "source": [
        "\n",
        "## 05 Hyperparameter Tuning\n",
        "**Objetivo**: Optimizar los hiperparámetros del modelo seleccionado.\n",
        "**Contenido**:\n",
        "- Uso de técnicas como Grid Search y Random Search.\n",
        "- Evaluación del rendimiento del modelo optimizado.\n"
      ]
    },
    {
      "cell_type": "code",
      "source": [
        "!pip install tqdm\n"
      ],
      "metadata": {
        "colab": {
          "base_uri": "https://localhost:8080/"
        },
        "id": "h703B2uvLSsT",
        "outputId": "3dfd3dbd-e72d-4f8b-ecc5-f1210b951407"
      },
      "execution_count": null,
      "outputs": [
        {
          "output_type": "stream",
          "name": "stdout",
          "text": [
            "Requirement already satisfied: tqdm in /usr/local/lib/python3.10/dist-packages (4.66.4)\n"
          ]
        }
      ]
    },
    {
      "cell_type": "code",
      "execution_count": null,
      "metadata": {
        "id": "hV-fIE2GGoM3"
      },
      "outputs": [],
      "source": [
        "## Importar librerías\n",
        "import os\n",
        "import time\n",
        "from tqdm import tqdm\n",
        "import numpy as np\n",
        "import pandas as pd\n",
        "from sklearn.model_selection import train_test_split, GridSearchCV, RandomizedSearchCV\n",
        "from sklearn.ensemble import RandomForestClassifier\n",
        "from sklearn.metrics import accuracy_score, classification_report\n",
        "from sklearn.metrics import accuracy_score, confusion_matrix, classification_report, roc_auc_score\n",
        "import xgboost as xgb\n",
        "import matplotlib.pyplot as plt\n",
        "import seaborn as sns\n",
        "from imblearn.under_sampling import RandomUnderSampler\n",
        "from sklearn.decomposition import PCA\n",
        "from sklearn.preprocessing import StandardScaler\n",
        "from sklearn.model_selection import cross_val_score, cross_val_predict\n",
        "from sklearn.metrics import confusion_matrix, classification_report, roc_auc_score\n",
        "import joblib\n",
        "import warnings\n",
        "warnings.filterwarnings('ignore')"
      ]
    },
    {
      "cell_type": "code",
      "source": [
        "\n",
        "def train_and_evaluate_model(model, X_train, y_train, X_val, y_val, cv=5):\n",
        "    # Asegúrate de que y_train y y_val sean vectores unidimensionales\n",
        "    y_train = np.ravel(y_train)\n",
        "    y_val = np.ravel(y_val)\n",
        "\n",
        "    # Validación cruzada en el conjunto de entrenamiento\n",
        "    cv_scores = cross_val_score(model, X_train, y_train, cv=cv, scoring='accuracy')\n",
        "    y_train_pred_cv = cross_val_predict(model, X_train, y_train, cv=cv)\n",
        "\n",
        "    # Calcular métricas de validación cruzada\n",
        "    accuracy_cv = cv_scores.mean()\n",
        "    roc_auc_cv = roc_auc_score(y_train, y_train_pred_cv)\n",
        "\n",
        "    # Imprimir métricas de validación cruzada\n",
        "    print(f'Accuracy (CV): {accuracy_cv:.4f}')\n",
        "    print(f'ROC AUC (CV): {roc_auc_cv:.4f}')\n",
        "    print('Classification Report (CV):')\n",
        "    print(classification_report(y_train, y_train_pred_cv))\n",
        "\n",
        "    # Mostrar la matriz de confusión promediada\n",
        "    conf_matrix_cv = confusion_matrix(y_train, y_train_pred_cv)\n",
        "    plt.figure(figsize=(8, 6))\n",
        "    sns.heatmap(conf_matrix_cv, annot=True, fmt='d', cmap='Blues')\n",
        "    plt.title('Confusion Matrix (CV)')\n",
        "    plt.xlabel('Predicted')\n",
        "    plt.ylabel('Actual')\n",
        "    plt.show()\n",
        "\n",
        "    # Entrenar el modelo con los datos de entrenamiento completos\n",
        "    model.fit(X_train, y_train)\n",
        "\n",
        "    # Predecir con los datos de validación\n",
        "    y_val_pred = model.predict(X_val)\n",
        "\n",
        "    # Calcular métricas en el conjunto de validación\n",
        "    accuracy_val = accuracy_score(y_val, y_val_pred)\n",
        "    roc_auc_val = roc_auc_score(y_val, y_val_pred)\n",
        "\n",
        "    # Imprimir métricas del conjunto de validación\n",
        "    print(f'Accuracy (Validation): {accuracy_val:.4f}')\n",
        "    print(f'ROC AUC (Validation): {roc_auc_val:.4f}')\n",
        "    print('Classification Report (Validation):')\n",
        "    print(classification_report(y_val, y_val_pred))\n",
        "\n",
        "    # Mostrar la matriz de confusión del conjunto de validación\n",
        "    conf_matrix_val = confusion_matrix(y_val, y_val_pred)\n",
        "    plt.figure(figsize=(8, 6))\n",
        "    sns.heatmap(conf_matrix_val, annot=True, fmt='d', cmap='Blues')\n",
        "    plt.title('Confusion Matrix (Validation)')\n",
        "    plt.xlabel('Predicted')\n",
        "    plt.ylabel('Actual')\n",
        "    plt.show()\n",
        "\n",
        "    # Retornar el modelo entrenado\n",
        "    return model"
      ],
      "metadata": {
        "id": "BLnOiVG7VHBu"
      },
      "execution_count": null,
      "outputs": []
    },
    {
      "cell_type": "code",
      "source": [
        "## Importamos las librerias a usar\n",
        "from google.colab import drive\n",
        "drive.mount('/content/drive')\n",
        "data_dir = '/content/drive/MyDrive/cursos-analisis-datos/data-science/proyecto/propuestas/propuesta1/ieee-fraud-detection'\n"
      ],
      "metadata": {
        "colab": {
          "base_uri": "https://localhost:8080/"
        },
        "id": "mWtfCr6NG-nG",
        "outputId": "5252b5a3-1fa3-41a1-e386-c5ca78eee774"
      },
      "execution_count": null,
      "outputs": [
        {
          "output_type": "stream",
          "name": "stdout",
          "text": [
            "Mounted at /content/drive\n"
          ]
        }
      ]
    },
    {
      "cell_type": "markdown",
      "metadata": {
        "id": "rr2rVX4KGoNB"
      },
      "source": [
        "## Cargar dataset de entranamiento y evaluación"
      ]
    },
    {
      "cell_type": "code",
      "execution_count": null,
      "metadata": {
        "id": "TLUGULsVGoND"
      },
      "outputs": [],
      "source": [
        "# Guardar X y y en archivos CSV\n",
        "\n",
        "#dir_data_processed = '../data/processed'\n",
        "dir_data_processed = '/content/drive/MyDrive/cursos-analisis-datos/data-science/proyecto/propuestas/propuesta1/ieee-fraud-detection/processed'\n",
        "ruta_archivo_X_train = os.path.join(dir_data_processed, 'X__train_procesados.csv')\n",
        "ruta_archivo_X_val = os.path.join(dir_data_processed, 'X_val_procesados.csv')\n",
        "\n",
        "ruta_archivo_y_train = os.path.join(dir_data_processed, 'y_train_procesados.csv')\n",
        "ruta_archivo_y_val = os.path.join(dir_data_processed, 'y_val_procesados.csv')\n",
        "\n",
        "\n",
        "X_train_final= pd.read_csv(ruta_archivo_X_train)\n",
        "X_val_final= pd.read_csv(ruta_archivo_X_val)\n",
        "\n",
        "\n",
        "y_train_final= pd.read_csv(ruta_archivo_y_train)\n",
        "y_val_final= pd.read_csv(ruta_archivo_y_val)\n",
        "\n",
        "\n"
      ]
    },
    {
      "cell_type": "markdown",
      "source": [
        "### Balanceo de muestra"
      ],
      "metadata": {
        "id": "_ragw2v5UUDg"
      }
    },
    {
      "cell_type": "code",
      "source": [
        "## Balanceo de X_train y y_train totales\n",
        "undersampler = RandomUnderSampler(random_state=42)\n",
        "X_train_B, y_train_B,= undersampler.fit_resample(X_train_final, y_train_final)\n",
        "# Mostrar la distribución de clases después del submuestreo\n",
        "X_train_B.shape, y_train_B.shape"
      ],
      "metadata": {
        "colab": {
          "base_uri": "https://localhost:8080/"
        },
        "id": "SPs3u-voUTtc",
        "outputId": "4ae47153-e296-44a5-d774-15962b96171a"
      },
      "execution_count": null,
      "outputs": [
        {
          "output_type": "execute_result",
          "data": {
            "text/plain": [
              "((9716, 184), (9716, 1))"
            ]
          },
          "metadata": {},
          "execution_count": 4
        }
      ]
    },
    {
      "cell_type": "code",
      "source": [
        "unique, counts = np.unique(y_train_B, return_counts=True)\n",
        "\n",
        "# Crear un diccionario para mostrar los resultados\n",
        "value_counts = dict(zip(unique, counts))\n",
        "print(value_counts)\n"
      ],
      "metadata": {
        "colab": {
          "base_uri": "https://localhost:8080/"
        },
        "id": "tKtlbZYaUdGm",
        "outputId": "c04f9262-9591-4123-b7c2-761f12c2e43f"
      },
      "execution_count": null,
      "outputs": [
        {
          "output_type": "stream",
          "name": "stdout",
          "text": [
            "{0: 4858, 1: 4858}\n"
          ]
        }
      ]
    },
    {
      "cell_type": "code",
      "source": [
        "dir_data_preprocessing='/content/drive/MyDrive/cursos-analisis-datos/data-science/proyecto/propuestas/propuesta1/ieee-fraud-detection/preprocessing_objects'\n",
        "pca = joblib.load(os.path.join(dir_data_preprocessing, 'pca.joblib'))\n",
        "X_train_pca_B = pca.transform(X_train_B)\n",
        "X_val_pca = pca.transform(X_val_final)"
      ],
      "metadata": {
        "id": "CCkFTqZzUi1Z"
      },
      "execution_count": null,
      "outputs": []
    },
    {
      "cell_type": "markdown",
      "metadata": {
        "id": "PauqCMnbGoNS"
      },
      "source": [
        "## Definir el modelo base"
      ]
    },
    {
      "cell_type": "code",
      "execution_count": null,
      "metadata": {
        "id": "enFcHtaQGoNU"
      },
      "outputs": [],
      "source": [
        "\n",
        "rf = RandomForestClassifier(random_state=42)\n",
        "#y_train = y_train_B.values.ravel()\n",
        "y_train = y_train_B\n",
        "y_val = y_val_final.values.ravel()"
      ]
    },
    {
      "cell_type": "markdown",
      "metadata": {
        "id": "yrUupYuCGoNb"
      },
      "source": [
        "## Entrenar y ajustar hiperparámetros"
      ]
    },
    {
      "cell_type": "code",
      "execution_count": null,
      "metadata": {
        "colab": {
          "base_uri": "https://localhost:8080/"
        },
        "id": "y93OCQW_GoNX",
        "outputId": "66be2781-7a52-4af3-e502-8073737c17a9"
      },
      "outputs": [
        {
          "output_type": "stream",
          "name": "stderr",
          "text": [
            "\r  0%|          | 0/432 [00:00<?, ?it/s]"
          ]
        },
        {
          "output_type": "stream",
          "name": "stdout",
          "text": [
            "Fitting 3 folds for each of 144 candidates, totalling 432 fits\n"
          ]
        },
        {
          "output_type": "stream",
          "name": "stderr",
          "text": [
            " 33%|███▎      | 144/432 [1:18:28<2:36:56, 32.69s/it]  \n"
          ]
        },
        {
          "output_type": "stream",
          "name": "stdout",
          "text": [
            "Mejores Hiperparámetros de Grid Search: {'bootstrap': False, 'max_depth': 50, 'max_features': 'auto', 'min_samples_leaf': 1, 'min_samples_split': 2, 'n_estimators': 500}\n",
            "Exactitud en el conjunto de prueba (Grid Search): 0.8290250043243451\n",
            "AUC en el conjunto de prueba (Grid Search): 0.8931075182095752\n",
            "\n",
            "Reporte de Clasificación (Grid Search):\n",
            "               precision    recall  f1-score   support\n",
            "\n",
            "           0       0.99      0.83      0.90     50990\n",
            "           1       0.09      0.79      0.16      1041\n",
            "\n",
            "    accuracy                           0.83     52031\n",
            "   macro avg       0.54      0.81      0.53     52031\n",
            "weighted avg       0.98      0.83      0.89     52031\n",
            "\n",
            "El tiempo de entrenamiento fue de 4717.57 segundos\n"
          ]
        }
      ],
      "source": [
        "start_time = time.time()\n",
        "param_grid = {\n",
        "    'n_estimators': [100, 300, 500],\n",
        "    'max_features': ['auto', 'sqrt'],\n",
        "    'max_depth': [10, 50, 100],\n",
        "    'min_samples_split': [2, 5],\n",
        "    'min_samples_leaf': [1, 2],\n",
        "    'bootstrap': [True, False]\n",
        "}\n",
        "\n",
        "# 5. Configurar Grid Search con la métrica AUC y verbose para ver el progreso\n",
        "grid_search = GridSearchCV(estimator=rf, param_grid=param_grid,\n",
        "                           cv=3, scoring='roc_auc', n_jobs=-1, verbose=2)\n",
        "\n",
        "# 6. Ajustar el modelo usando Grid Search\n",
        "# Uso de tqdm para crear una barra de progreso\n",
        "total_combinations = (len(param_grid['n_estimators']) *\n",
        "                      len(param_grid['max_features']) *\n",
        "                      len(param_grid['max_depth']) *\n",
        "                      len(param_grid['min_samples_split']) *\n",
        "                      len(param_grid['min_samples_leaf']) *\n",
        "                      len(param_grid['bootstrap']) * 3)\n",
        "\n",
        "with tqdm(total=total_combinations) as pbar:\n",
        "    for _ in grid_search.fit(X_train_pca_B, y_train).cv_results_['mean_test_score']:\n",
        "        pbar.update(1)\n",
        "\n",
        "# 7. Evaluar el mejor modelo encontrado con Grid Search\n",
        "best_grid = grid_search.best_estimator_\n",
        "y_pred_grid = best_grid.predict(X_val_pca)\n",
        "y_pred_proba_grid = best_grid.predict_proba(X_val_pca)[:, 1]\n",
        "\n",
        "print(\"Mejores Hiperparámetros de Grid Search:\", grid_search.best_params_)\n",
        "print(\"Exactitud en el conjunto de prueba (Grid Search):\", accuracy_score(y_val, y_pred_grid))\n",
        "print(\"AUC en el conjunto de prueba (Grid Search):\", roc_auc_score(y_val, y_pred_proba_grid))\n",
        "print(\"\\nReporte de Clasificación (Grid Search):\\n\", classification_report(y_val, y_pred_grid))\n",
        "\n",
        "end_time = time.time()\n",
        "elapsed_time = end_time - start_time\n",
        "print(f\"El tiempo de entrenamiento fue de {elapsed_time:.2f} segundos\")"
      ]
    },
    {
      "cell_type": "markdown",
      "source": [
        "Mejores Hiperparámetros de Grid Search: {'bootstrap': False, 'max_depth': 50, 'max_features': 'auto', 'min_samples_leaf': 1, 'min_samples_split': 2, 'n_estimators': 500}"
      ],
      "metadata": {
        "id": "uiiJCGn98PN4"
      }
    },
    {
      "cell_type": "code",
      "source": [
        "start_time = time.time()\n",
        "# 8. Definir el espacio de búsqueda de hiperparámetros para Random Search\n",
        "# Usamos los mejores parámetros encontrados por Grid Search como puntos de referencia\n",
        "param_dist = {\n",
        "    'n_estimators': [x for x in range(max(10, grid_search.best_params_['n_estimators'] - 200), grid_search.best_params_['n_estimators'] + 200, 50)],\n",
        "    'max_features': ['auto', 'sqrt', 'log2'],\n",
        "    'max_depth': [x for x in range(max(1, grid_search.best_params_['max_depth'] - 30), grid_search.best_params_['max_depth'] + 30, 10)],\n",
        "    'min_samples_split': [2, 5, 10],\n",
        "    'min_samples_leaf': [1, 2, 4],\n",
        "    'bootstrap': [True, False]\n",
        "}\n",
        "\n",
        "# 9. Configurar Random Search con la métrica AUC y verbose para ver el progreso\n",
        "random_search = RandomizedSearchCV(estimator=rf, param_distributions=param_dist,\n",
        "                                   n_iter=100, cv=3, scoring='roc_auc', verbose=2, random_state=42, n_jobs=-1)\n",
        "\n",
        "# 10. Ajustar el modelo usando Random Search\n",
        "# Uso de tqdm para crear una barra de progreso\n",
        "with tqdm(total=random_search.n_iter * 3) as pbar:\n",
        "    for _ in random_search.fit(X_train_pca_B, y_train).cv_results_['mean_test_score']:\n",
        "        pbar.update(1)\n",
        "\n",
        "# 11. Evaluar el mejor modelo encontrado con Random Search\n",
        "best_random = random_search.best_estimator_\n",
        "y_pred_random = best_random.predict(X_val_pca)\n",
        "y_pred_proba_random = best_random.predict_proba(X_val_pca)[:, 1]\n",
        "\n",
        "print(\"Mejores Hiperparámetros de Random Search:\", random_search.best_params_)\n",
        "print(\"Exactitud en el conjunto de prueba (Random Search):\", accuracy_score(y_val, y_pred_random))\n",
        "print(\"AUC en el conjunto de prueba (Random Search):\", roc_auc_score(y_val, y_pred_proba_random))\n",
        "print(\"\\nReporte de Clasificación (Random Search):\\n\", classification_report(y_val, y_pred_random))\n",
        "end_time = time.time()\n",
        "elapsed_time = end_time - start_time\n",
        "print(f\"El tiempo de entrenamiento fue de {elapsed_time:.2f} segundos\")"
      ],
      "metadata": {
        "colab": {
          "base_uri": "https://localhost:8080/"
        },
        "id": "cMhKyVnrJPc7",
        "outputId": "1b8e09a6-efdd-4ce7-d9a0-a96499b46357"
      },
      "execution_count": null,
      "outputs": [
        {
          "output_type": "stream",
          "name": "stderr",
          "text": [
            "\r  0%|          | 0/300 [00:00<?, ?it/s]"
          ]
        },
        {
          "output_type": "stream",
          "name": "stdout",
          "text": [
            "Fitting 3 folds for each of 100 candidates, totalling 300 fits\n"
          ]
        },
        {
          "output_type": "stream",
          "name": "stderr",
          "text": [
            " 33%|███▎      | 100/300 [1:26:07<2:52:14, 51.67s/it]  \n"
          ]
        },
        {
          "output_type": "stream",
          "name": "stdout",
          "text": [
            "Mejores Hiperparámetros de Random Search: {'n_estimators': 650, 'min_samples_split': 2, 'min_samples_leaf': 1, 'max_features': 'auto', 'max_depth': 40, 'bootstrap': False}\n",
            "Exactitud en el conjunto de prueba (Random Search): 0.8296015836712729\n",
            "AUC en el conjunto de prueba (Random Search): 0.893477154266748\n",
            "\n",
            "Reporte de Clasificación (Random Search):\n",
            "               precision    recall  f1-score   support\n",
            "\n",
            "           0       0.99      0.83      0.91     50990\n",
            "           1       0.09      0.79      0.16      1041\n",
            "\n",
            "    accuracy                           0.83     52031\n",
            "   macro avg       0.54      0.81      0.53     52031\n",
            "weighted avg       0.98      0.83      0.89     52031\n",
            "\n"
          ]
        }
      ]
    },
    {
      "cell_type": "markdown",
      "source": [
        "Mejores Hiperparámetros de Random Search: {'n_estimators': 650, 'min_samples_split': 2, 'min_samples_leaf': 1, 'max_features': 'auto', 'max_depth': 40, 'bootstrap': False}"
      ],
      "metadata": {
        "id": "HhFOMhCE8RWP"
      }
    },
    {
      "cell_type": "code",
      "source": [
        "\n",
        "params = {\n",
        "    'n_estimators': 650,\n",
        "    'min_samples_split': 2,\n",
        "    'min_samples_leaf': 1,\n",
        "    'max_features': 'auto',\n",
        "    'max_depth': 40,\n",
        "    'bootstrap': False\n",
        "}\n",
        "\n",
        "# Creación del clasificador con los parámetros especificados\n",
        "rf_clf_best = RandomForestClassifier(**params)\n",
        "rf_clf_best = train_and_evaluate_model(rlf_clf_best , X_train_pca_B, y_train_B, X_val_pca_B, y_val_final)"
      ],
      "metadata": {
        "id": "ggEsocuy8KOq",
        "colab": {
          "base_uri": "https://localhost:8080/",
          "height": 1000
        },
        "outputId": "ec414296-8cb4-4a51-98b3-2599d997dcf9"
      },
      "execution_count": null,
      "outputs": [
        {
          "output_type": "stream",
          "name": "stdout",
          "text": [
            "Accuracy (CV): 0.8063\n",
            "ROC AUC (CV): 0.8056\n",
            "Classification Report (CV):\n",
            "              precision    recall  f1-score   support\n",
            "\n",
            "           0       0.80      0.81      0.81      4858\n",
            "           1       0.81      0.80      0.80      4858\n",
            "\n",
            "    accuracy                           0.81      9716\n",
            "   macro avg       0.81      0.81      0.81      9716\n",
            "weighted avg       0.81      0.81      0.81      9716\n",
            "\n"
          ]
        },
        {
          "output_type": "display_data",
          "data": {
            "text/plain": [
              "<Figure size 800x600 with 2 Axes>"
            ],
            "image/png": "[encoded data removed]"
          },
          "metadata": {}
        },
        {
          "output_type": "stream",
          "name": "stdout",
          "text": [
            "Accuracy (Validation): 0.8299\n",
            "ROC AUC (Validation): 0.8078\n",
            "Classification Report (Validation):\n",
            "              precision    recall  f1-score   support\n",
            "\n",
            "           0       0.99      0.83      0.91     50990\n",
            "           1       0.09      0.78      0.16      1041\n",
            "\n",
            "    accuracy                           0.83     52031\n",
            "   macro avg       0.54      0.81      0.53     52031\n",
            "weighted avg       0.98      0.83      0.89     52031\n",
            "\n"
          ]
        },
        {
          "output_type": "display_data",
          "data": {
            "text/plain": [
              "<Figure size 800x600 with 2 Axes>"
            ],
            "image/png": "[encoded data removed]"
          },
          "metadata": {}
        }
      ]
    },
    {
      "cell_type": "markdown",
      "metadata": {
        "id": "VHB1NXxXGoNc"
      },
      "source": [
        "Combinamos Grid Search y Random Search para explorar de manera exhaustiva y eficiente el espacio de hiperparámetros. Utilizamos Grid Search inicialmente para realizar una búsqueda amplia de hiperparámetros, seguida de Random Search para refinar y buscar de manera más precisa dentro de las regiones prometedoras identificadas."
      ]
    },
    {
      "cell_type": "markdown",
      "metadata": {
        "id": "YAwkU53-GoNi"
      },
      "source": [
        "## Evaluar el modelo optimizado"
      ]
    },
    {
      "cell_type": "code",
      "execution_count": null,
      "metadata": {
        "colab": {
          "base_uri": "https://localhost:8080/"
        },
        "id": "OmHjqiGAGoNk",
        "outputId": "76814c2c-b422-4729-d889-c40a81fe07b0"
      },
      "outputs": [
        {
          "output_type": "execute_result",
          "data": {
            "text/plain": [
              "['/content/drive/MyDrive/cursos-analisis-datos/data-science/proyecto/propuestas/propuesta1/ieee-fraud-detection/models/modelo_rf_clf_best.joblib']"
            ]
          },
          "metadata": {},
          "execution_count": 21
        }
      ],
      "source": [
        "# Directorio para guardar el modelo\n",
        "dir_data_models = '/content/drive/MyDrive/cursos-analisis-datos/data-science/proyecto/propuestas/propuesta1/ieee-fraud-detection/models'\n",
        "ruta_archivo_model = os.path.join(dir_data_models, 'modelo_rf_clf_best.joblib')\n",
        "\n",
        "# Guardar el modelo\n",
        "joblib.dump(rf_clf_best, ruta_archivo_model)"
      ]
    },
    {
      "cell_type": "markdown",
      "metadata": {
        "id": "z0IsvvjFGoNl"
      },
      "source": [
        "x_"
      ]
    },
    {
      "cell_type": "markdown",
      "metadata": {
        "id": "vIE0DQoTGoNl"
      },
      "source": []
    },
    {
      "cell_type": "markdown",
      "metadata": {
        "id": "p6G-2MhQGoNn"
      },
      "source": [
        "{'n_estimators': 300, 'min_samples_split': 2, 'min_samples_leaf': 2, 'max_features': 'sqrt', 'max_depth': 20, 'bootstrap': True}"
      ]
    },
    {
      "cell_type": "markdown",
      "metadata": {
        "id": "38odGaLEGoNo"
      },
      "source": [
        "## Utilizando Xgboost como segunda propuesta de modelo"
      ]
    },
    {
      "cell_type": "code",
      "execution_count": null,
      "metadata": {
        "id": "zbdmYWGqGoNp"
      },
      "outputs": [],
      "source": [
        "# param_dist = {\n",
        "#     'max_depth': [ 10],  # Profundidad máxima del árbol\n",
        "#     'eta': [ 0.3],     # Tasa de aprendizaje (learning rate)\n",
        "#     'objective': ['binary:logistic'],      # Función objetivo (clasificación binaria)\n",
        "#     'eval_metric': ['logloss', 'auc']      # Métricas de evaluación\n",
        "\n",
        "# }\n",
        "\n",
        "\n",
        "# random_search = RandomizedSearchCV(\n",
        "#     estimator=xgb_model,     # Modelo XGBoost\n",
        "#     param_distributions=param_dist,  # Distribución de parámetros para explorar\n",
        "#     n_iter=100,              # Número de combinaciones de hiperparámetros a probar\n",
        "#     cv=5,                    # Número de divisiones para validación cruzada\n",
        "#     scoring='roc_auc',       # Métrica de evaluación a optimizar (AUC-ROC)\n",
        "#     n_jobs=-1,               # Número de núcleos para procesos en paralelo, -1 usa todos los disponibles\n",
        "#     random_state=42          # Semilla para reproducibilidad de resultados\n",
        "# )"
      ]
    },
    {
      "cell_type": "code",
      "execution_count": null,
      "metadata": {
        "id": "itES0VdLGoNp"
      },
      "outputs": [],
      "source": [
        "# grid_search.fit(X_train_resampled, y_train_resampled)\n",
        "# print(\"Mejores hiperparámetros encontrados por Grid Search:\")\n",
        "# print(grid_search.best_params_)\n"
      ]
    },
    {
      "cell_type": "code",
      "execution_count": null,
      "metadata": {
        "id": "5cwbv8vdGoNs"
      },
      "outputs": [],
      "source": [
        "# random_search.fit(X_train_resampled, y_train_resampled)\n",
        "# print(\"Mejores hiperparámetros encontrados por Random Search:\")\n",
        "# print(random_search.best_params_)\n"
      ]
    },
    {
      "cell_type": "code",
      "execution_count": null,
      "metadata": {
        "id": "4dgXPI7RGoNt"
      },
      "outputs": [],
      "source": [
        "\n",
        "\n",
        "# # # Evaluación del modelo con los mejores parámetros encontrados por Grid Search\n",
        "# # best_grid_model = grid_search.best_estimator_\n",
        "# # print(\"Rendimiento del modelo con mejores parámetros (Grid Search):\")\n",
        "# # evaluate_model(best_grid_model, X_test, y_test)\n",
        "\n",
        "# # Evaluación del modelo con los mejores parámetros encontrados por Random Search\n",
        "# best_random_model = random_search.best_estimator_\n",
        "# print(\"Rendimiento del modelo con mejores parámetros (Random Search):\")\n",
        "# evaluate_model(best_random_model, X_val, y_val)\n"
      ]
    },
    {
      "cell_type": "code",
      "execution_count": null,
      "metadata": {
        "id": "qIHPpKW3GoNt"
      },
      "outputs": [],
      "source": [
        "# dir_data_processed = '../models'\n",
        "# ruta_archivo_model = os.path.join(dir_data_processed, 'modelo_xgboost.bin')\n",
        "\n",
        "# best_random_model.save_model(ruta_archivo_model )"
      ]
    },
    {
      "cell_type": "markdown",
      "source": [
        "### Conclusión\n",
        "- Empleamos una combinación de Grid Search y Random Search para explorar exhaustiva y eficientemente el espacio de hiperparámetros. Iniciamos con Grid Search para realizar una búsqueda amplia de hiperparámetros y luego utilizamos Random Search para refinar y explorar de manera más precisa dentro de las regiones prometedoras identificadas.\n",
        "\n",
        "- Logramos obtener los mejores parámetros para el modelo Random Forest, optimizando así su rendimiento.\n",
        "\n",
        "- Finalmente, exportamos el modelo entrenado, listo para su implementación y uso en aplicaciones futuras."
      ],
      "metadata": {
        "id": "m8_t_RojwdUD"
      }
    }
  ],
  "metadata": {
    "kernelspec": {
      "display_name": "Python 3",
      "name": "python3"
    },
    "language_info": {
      "codemirror_mode": {
        "name": "ipython",
        "version": 3
      },
      "file_extension": ".py",
      "mimetype": "text/x-python",
      "name": "python",
      "nbconvert_exporter": "python",
      "pygments_lexer": "ipython3",
      "version": "3.11.7"
    },
    "colab": {
      "provenance": []
    }
  },
  "nbformat": 4,
  "nbformat_minor": 0
}
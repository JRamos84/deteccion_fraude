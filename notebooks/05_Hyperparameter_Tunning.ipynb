{
  "cells": [
    {
      "cell_type": "markdown",
      "metadata": {
        "id": "view-in-github",
        "colab_type": "text"
      },
      "source": [
        "<a href=\"https://colab.research.google.com/github/JRamos84/deteccion_fraude/blob/main/notebooks/05_Hyperparameter_Tunning.ipynb\" target=\"_parent\"><img src=\"https://colab.research.google.com/assets/colab-badge.svg\" alt=\"Open In Colab\"/></a>"
      ]
    },
    {
      "cell_type": "markdown",
      "metadata": {
        "id": "vKGE7AIfGoMq"
      },
      "source": [
        "\n",
        "## 05 Hyperparameter Tuning\n",
        "**Objetivo**: Optimizar los hiperparámetros del modelo seleccionado.\n",
        "**Contenido**:\n",
        "- Uso de técnicas como Grid Search y Random Search.\n",
        "- Evaluación del rendimiento del modelo optimizado.\n"
      ]
    },
    {
      "cell_type": "code",
      "source": [
        "!pip install tqdm\n"
      ],
      "metadata": {
        "id": "h703B2uvLSsT",
        "outputId": "0117ebf2-20b2-42c9-f356-901ded962f0f",
        "colab": {
          "base_uri": "https://localhost:8080/"
        }
      },
      "execution_count": 1,
      "outputs": [
        {
          "output_type": "stream",
          "name": "stdout",
          "text": [
            "Requirement already satisfied: tqdm in /usr/local/lib/python3.10/dist-packages (4.66.4)\n"
          ]
        }
      ]
    },
    {
      "cell_type": "code",
      "execution_count": 2,
      "metadata": {
        "id": "hV-fIE2GGoM3"
      },
      "outputs": [],
      "source": [
        "## Importar librerías\n",
        "import os\n",
        "import time\n",
        "from tqdm import tqdm\n",
        "import numpy as np\n",
        "import pandas as pd\n",
        "from sklearn.model_selection import train_test_split, GridSearchCV, RandomizedSearchCV\n",
        "from sklearn.ensemble import RandomForestClassifier\n",
        "from sklearn.metrics import accuracy_score, classification_report\n",
        "from sklearn.metrics import accuracy_score, confusion_matrix, classification_report, roc_auc_score\n",
        "import xgboost as xgb\n",
        "import matplotlib.pyplot as plt\n",
        "import seaborn as sns\n",
        "from imblearn.under_sampling import RandomUnderSampler\n",
        "from sklearn.decomposition import PCA\n",
        "import warnings\n",
        "warnings.filterwarnings('ignore')"
      ]
    },
    {
      "cell_type": "code",
      "source": [
        "## Importamos las librerias a usar\n",
        "from google.colab import drive\n",
        "drive.mount('/content/drive')\n",
        "data_dir = '/content/drive/MyDrive/cursos-analisis-datos/data-science/proyecto/propuestas/propuesta1/ieee-fraud-detection'\n"
      ],
      "metadata": {
        "id": "mWtfCr6NG-nG",
        "outputId": "3d2181fb-0d12-414f-9fef-2cef0ba59815",
        "colab": {
          "base_uri": "https://localhost:8080/"
        }
      },
      "execution_count": 3,
      "outputs": [
        {
          "output_type": "stream",
          "name": "stdout",
          "text": [
            "Mounted at /content/drive\n"
          ]
        }
      ]
    },
    {
      "cell_type": "markdown",
      "metadata": {
        "id": "rr2rVX4KGoNB"
      },
      "source": [
        "## Cargar dataset de entranamiento y evaluación"
      ]
    },
    {
      "cell_type": "code",
      "execution_count": 4,
      "metadata": {
        "id": "TLUGULsVGoND"
      },
      "outputs": [],
      "source": [
        "# Guardar X y y en archivos CSV\n",
        "\n",
        "#dir_data_processed = '../data/processed'\n",
        "dir_data_processed = '/content/drive/MyDrive/cursos-analisis-datos/data-science/proyecto/propuestas/propuesta1/ieee-fraud-detection/processed'\n",
        "ruta_archivo_X_train = os.path.join(dir_data_processed, 'X__train_procesados.csv')\n",
        "ruta_archivo_X_test = os.path.join(dir_data_processed, 'X_test_procesados.csv')\n",
        "ruta_archivo_X_val = os.path.join(dir_data_processed, 'X_val_procesados.csv')\n",
        "\n",
        "ruta_archivo_y_train = os.path.join(dir_data_processed, 'y_train_procesados.csv')\n",
        "ruta_archivo_y_test = os.path.join(dir_data_processed, 'y_test_procesados.csv')\n",
        "ruta_archivo_y_val = os.path.join(dir_data_processed, 'y_val_procesados.csv')\n",
        "\n",
        "\n",
        "X_train_final= pd.read_csv(ruta_archivo_X_train)\n",
        "X_val_final= pd.read_csv(ruta_archivo_X_val)\n",
        "X_test_final= pd.read_csv(ruta_archivo_X_test)\n",
        "\n",
        "y_train_final= pd.read_csv(ruta_archivo_y_train)\n",
        "y_val_final= pd.read_csv(ruta_archivo_y_val)\n",
        "y_test_final= pd.read_csv(ruta_archivo_y_test)\n",
        "\n"
      ]
    },
    {
      "cell_type": "code",
      "source": [
        "# Definir la fracción del conjunto de datos para preentrenamiento\n",
        "fraction = 0.01  # 10%\n",
        "y = np.ravel(y_train_final)\n",
        "# Dividir el conjunto de datos para obtener el subconjunto estratificado\n",
        "X_pretrain, _, y_pretrain, _ = train_test_split(X_train_final, y, train_size=fraction, stratify=y, random_state=42)\n",
        "# Verificar las proporciones de las clases\n",
        "print(\"Proporción de clases en el conjunto original:\", np.bincount(y) / len(y))\n",
        "print(\"Proporción de clases en el subconjunto de preentrenamiento:\", np.bincount(y_pretrain) / len(y_pretrain))\n",
        "print(f\"Tamaño del subconjunto de preentrenamiento: {len(y_pretrain)} muestras\")"
      ],
      "metadata": {
        "id": "64KThWRwMZQF",
        "outputId": "e82fdace-051d-459b-99eb-04c30bb08b70",
        "colab": {
          "base_uri": "https://localhost:8080/"
        }
      },
      "execution_count": 5,
      "outputs": [
        {
          "output_type": "stream",
          "name": "stdout",
          "text": [
            "Proporción de clases en el conjunto original: [0.97999267 0.02000733]\n",
            "Proporción de clases en el subconjunto de preentrenamiento: [0.97981878 0.02018122]\n",
            "Tamaño del subconjunto de preentrenamiento: 2428 muestras\n"
          ]
        }
      ]
    },
    {
      "cell_type": "code",
      "source": [
        "## Balanceo de X_train y y_train totales\n",
        "undersampler = RandomUnderSampler(random_state=42)\n",
        "X_train_B, y_train_B,= undersampler.fit_resample(X_pretrain, y_pretrain)\n",
        "# Mostrar la distribución de clases después del submuestreo\n",
        "X_train_B.shape, y_train_B.shape"
      ],
      "metadata": {
        "id": "gtj94vsMHN6V",
        "outputId": "e465f01a-43c9-4d1d-a82b-753184073497",
        "colab": {
          "base_uri": "https://localhost:8080/"
        }
      },
      "execution_count": 6,
      "outputs": [
        {
          "output_type": "execute_result",
          "data": {
            "text/plain": [
              "((98, 184), (98,))"
            ]
          },
          "metadata": {},
          "execution_count": 6
        }
      ]
    },
    {
      "cell_type": "code",
      "source": [
        "unique, counts = np.unique(y_train_B, return_counts=True)\n",
        "\n",
        "# Crear un diccionario para mostrar los resultados\n",
        "value_counts = dict(zip(unique, counts))\n",
        "print(value_counts)"
      ],
      "metadata": {
        "id": "XURxjfyYHSsb",
        "outputId": "c5e49de4-53f0-4d75-8239-93f34ed73004",
        "colab": {
          "base_uri": "https://localhost:8080/"
        }
      },
      "execution_count": 7,
      "outputs": [
        {
          "output_type": "stream",
          "name": "stdout",
          "text": [
            "{0: 49, 1: 49}\n"
          ]
        }
      ]
    },
    {
      "cell_type": "code",
      "source": [
        "## Balanceo y pca\n",
        "\n",
        "pca = PCA(n_components=26)  # Mantener el 95% de la varianza explicada\n",
        "X_train_pca_B = pca.fit_transform(X_train_B)\n",
        "X_val_pca_B = pca.transform(X_val_final)"
      ],
      "metadata": {
        "id": "kL8O9wGaHU26"
      },
      "execution_count": 8,
      "outputs": []
    },
    {
      "cell_type": "markdown",
      "metadata": {
        "id": "PauqCMnbGoNS"
      },
      "source": [
        "## Definir el modelo base"
      ]
    },
    {
      "cell_type": "code",
      "execution_count": 9,
      "metadata": {
        "id": "enFcHtaQGoNU"
      },
      "outputs": [],
      "source": [
        "\n",
        "rf = RandomForestClassifier(random_state=42)\n",
        "#y_train = y_train_B.values.ravel()\n",
        "y_train = y_train_B\n",
        "y_val = y_val_final.values.ravel()"
      ]
    },
    {
      "cell_type": "markdown",
      "metadata": {
        "id": "yrUupYuCGoNb"
      },
      "source": [
        "## Entrenar y ajustar hiperparámetros"
      ]
    },
    {
      "cell_type": "code",
      "execution_count": null,
      "metadata": {
        "id": "y93OCQW_GoNX",
        "outputId": "412e627e-43c7-4cbd-9e79-a256c4f40c1d",
        "colab": {
          "base_uri": "https://localhost:8080/"
        }
      },
      "outputs": [
        {
          "output_type": "stream",
          "name": "stderr",
          "text": [
            "\r  0%|          | 0/432 [00:00<?, ?it/s]"
          ]
        },
        {
          "output_type": "stream",
          "name": "stdout",
          "text": [
            "Fitting 3 folds for each of 144 candidates, totalling 432 fits\n"
          ]
        }
      ],
      "source": [
        "# 4. Definir el espacio de búsqueda de hiperparámetros para Grid Search\n",
        "start_time = time.time()\n",
        "param_grid = {\n",
        "    'n_estimators': [100, 300, 500],\n",
        "    'max_features': ['auto', 'sqrt'],\n",
        "    'max_depth': [10, 50, 100],\n",
        "    'min_samples_split': [2, 5],\n",
        "    'min_samples_leaf': [1, 2],\n",
        "    'bootstrap': [True, False]\n",
        "}\n",
        "# 5. Configurar Grid Search\n",
        "grid_search = GridSearchCV(estimator=rf, param_grid=param_grid,\n",
        "                           cv=3, n_jobs=-1, verbose=2)\n",
        "# 6. Ajustar el modelo usando Grid Search\n",
        "# Uso de tqdm para crear una barra de progreso\n",
        "with tqdm(total=len(param_grid['n_estimators']) * len(param_grid['max_features']) * len(param_grid['max_depth']) * len(param_grid['min_samples_split']) * len(param_grid['min_samples_leaf']) * len(param_grid['bootstrap']) * 3) as pbar:\n",
        "    for _ in grid_search.fit(X_train_pca_B, y_train).cv_results_['mean_test_score']:\n",
        "        pbar.update(1)\n",
        "\n",
        "# 7. Evaluar el mejor modelo encontrado con Grid Search\n",
        "best_grid = grid_search.best_estimator_\n",
        "y_pred_grid = best_grid.predict(X_val_pca_B)\n",
        "\n",
        "print(\"Mejores Hiperparámetros de Grid Search:\", grid_search.best_params_)\n",
        "print(\"Exactitud en el conjunto de prueba (Grid Search):\", accuracy_score(y_val, y_pred_grid))\n",
        "print(\"\\nReporte de Clasificación (Grid Search):\\n\", classification_report(y_val, y_pred_grid))\n",
        "end_time = time.time()\n",
        "elapsed_time = end_time - start_time\n",
        "print(f\"El tiempo de entrenamiento fue de {elapsed_time:.2f} segundos\")"
      ]
    },
    {
      "cell_type": "code",
      "source": [
        "# 8. Definir el espacio de búsqueda de hiperparámetros para Random Search\n",
        "# Usamos los mejores parámetros encontrados por Grid Search como puntos de referencia\n",
        "start_time = time.time()\n",
        "param_dist = {\n",
        "    'n_estimators': [x for x in range(max(10, grid_search.best_params_['n_estimators'] - 200), grid_search.best_params_['n_estimators'] + 200, 50)],\n",
        "    'max_features': ['auto', 'sqrt', 'log2'],\n",
        "    'max_depth': [x for x in range(max(1, grid_search.best_params_['max_depth'] - 30), grid_search.best_params_['max_depth'] + 30, 10)],\n",
        "    'min_samples_split': [2, 5, 10],\n",
        "    'min_samples_leaf': [1, 2, 4],\n",
        "    'bootstrap': [True, False]\n",
        "}\n",
        "\n",
        "# 9. Configurar Random Search\n",
        "random_search = RandomizedSearchCV(estimator=rf, param_distributions=param_dist,\n",
        "                                   n_iter=100, cv=3, verbose=2, random_state=42, n_jobs=-1)\n",
        "\n",
        "# 10. Ajustar el modelo usando Random Search\n",
        "\n",
        "with tqdm(total=random_search.n_iter * 3) as pbar:\n",
        "    for _ in random_search.fit(X_train_pca_B, y_train).cv_results_['mean_test_score']:\n",
        "        pbar.update(1)\n",
        "\n",
        "# 11. Evaluar el mejor modelo encontrado con Random Search\n",
        "best_random = random_search.best_estimator_\n",
        "y_pred_random = best_random.predict(X_val_pca_B)\n",
        "\n",
        "print(\"Mejores Hiperparámetros de Random Search:\", random_search.best_params_)\n",
        "print(\"Exactitud en el conjunto de prueba (Random Search):\", accuracy_score(y_val, y_pred_random))\n",
        "print(\"\\nReporte de Clasificación (Random Search):\\n\", classification_report(y_val, y_pred_random))\n",
        "\n",
        "end_time = time.time()\n",
        "elapsed_time = end_time - start_time\n",
        "print(f\"El tiempo de entrenamiento fue de {elapsed_time:.2f} segundos\")"
      ],
      "metadata": {
        "id": "cMhKyVnrJPc7"
      },
      "execution_count": null,
      "outputs": []
    },
    {
      "cell_type": "markdown",
      "metadata": {
        "id": "VHB1NXxXGoNc"
      },
      "source": [
        "Combinamos Grid Search y Random Search para explorar de manera exhaustiva y eficiente el espacio de hiperparámetros. Utilizamos Grid Search inicialmente para realizar una búsqueda amplia de hiperparámetros, seguida de Random Search para refinar y buscar de manera más precisa dentro de las regiones prometedoras identificadas."
      ]
    },
    {
      "cell_type": "markdown",
      "metadata": {
        "id": "YAwkU53-GoNi"
      },
      "source": [
        "## Evaluar el modelo optimizado"
      ]
    },
    {
      "cell_type": "code",
      "execution_count": null,
      "metadata": {
        "id": "OmHjqiGAGoNk"
      },
      "outputs": [],
      "source": [
        "\n",
        "import joblib\n",
        "\n",
        "\n",
        "dir_data_processed = '../models'\n",
        "ruta_archivo_model = os.path.join(dir_data_processed, 'modelo_forest_agregado_c1-c14.pkl')\n",
        "\n",
        "# Guardar el modelo\n",
        "joblib.dump(best_random_model, ruta_archivo_model)\n",
        "\n",
        "\n"
      ]
    },
    {
      "cell_type": "markdown",
      "metadata": {
        "id": "z0IsvvjFGoNl"
      },
      "source": [
        "x_"
      ]
    },
    {
      "cell_type": "markdown",
      "metadata": {
        "id": "vIE0DQoTGoNl"
      },
      "source": []
    },
    {
      "cell_type": "markdown",
      "metadata": {
        "id": "p6G-2MhQGoNn"
      },
      "source": [
        "{'n_estimators': 300, 'min_samples_split': 2, 'min_samples_leaf': 2, 'max_features': 'sqrt', 'max_depth': 20, 'bootstrap': True}"
      ]
    },
    {
      "cell_type": "markdown",
      "metadata": {
        "id": "38odGaLEGoNo"
      },
      "source": [
        "## Utilizando Xgboost como segunda propuesta de modelo"
      ]
    },
    {
      "cell_type": "code",
      "execution_count": null,
      "metadata": {
        "id": "zbdmYWGqGoNp"
      },
      "outputs": [],
      "source": [
        "# param_dist = {\n",
        "#     'max_depth': [ 10],  # Profundidad máxima del árbol\n",
        "#     'eta': [ 0.3],     # Tasa de aprendizaje (learning rate)\n",
        "#     'objective': ['binary:logistic'],      # Función objetivo (clasificación binaria)\n",
        "#     'eval_metric': ['logloss', 'auc']      # Métricas de evaluación\n",
        "\n",
        "# }\n",
        "\n",
        "\n",
        "# random_search = RandomizedSearchCV(\n",
        "#     estimator=xgb_model,     # Modelo XGBoost\n",
        "#     param_distributions=param_dist,  # Distribución de parámetros para explorar\n",
        "#     n_iter=100,              # Número de combinaciones de hiperparámetros a probar\n",
        "#     cv=5,                    # Número de divisiones para validación cruzada\n",
        "#     scoring='roc_auc',       # Métrica de evaluación a optimizar (AUC-ROC)\n",
        "#     n_jobs=-1,               # Número de núcleos para procesos en paralelo, -1 usa todos los disponibles\n",
        "#     random_state=42          # Semilla para reproducibilidad de resultados\n",
        "# )"
      ]
    },
    {
      "cell_type": "code",
      "execution_count": null,
      "metadata": {
        "id": "itES0VdLGoNp"
      },
      "outputs": [],
      "source": [
        "# grid_search.fit(X_train_resampled, y_train_resampled)\n",
        "# print(\"Mejores hiperparámetros encontrados por Grid Search:\")\n",
        "# print(grid_search.best_params_)\n"
      ]
    },
    {
      "cell_type": "code",
      "execution_count": null,
      "metadata": {
        "id": "5cwbv8vdGoNs"
      },
      "outputs": [],
      "source": [
        "# random_search.fit(X_train_resampled, y_train_resampled)\n",
        "# print(\"Mejores hiperparámetros encontrados por Random Search:\")\n",
        "# print(random_search.best_params_)\n"
      ]
    },
    {
      "cell_type": "code",
      "execution_count": null,
      "metadata": {
        "id": "4dgXPI7RGoNt"
      },
      "outputs": [],
      "source": [
        "\n",
        "\n",
        "# # # Evaluación del modelo con los mejores parámetros encontrados por Grid Search\n",
        "# # best_grid_model = grid_search.best_estimator_\n",
        "# # print(\"Rendimiento del modelo con mejores parámetros (Grid Search):\")\n",
        "# # evaluate_model(best_grid_model, X_test, y_test)\n",
        "\n",
        "# # Evaluación del modelo con los mejores parámetros encontrados por Random Search\n",
        "# best_random_model = random_search.best_estimator_\n",
        "# print(\"Rendimiento del modelo con mejores parámetros (Random Search):\")\n",
        "# evaluate_model(best_random_model, X_val, y_val)\n"
      ]
    },
    {
      "cell_type": "code",
      "execution_count": null,
      "metadata": {
        "id": "qIHPpKW3GoNt"
      },
      "outputs": [],
      "source": [
        "# dir_data_processed = '../models'\n",
        "# ruta_archivo_model = os.path.join(dir_data_processed, 'modelo_xgboost.bin')\n",
        "\n",
        "# best_random_model.save_model(ruta_archivo_model )"
      ]
    },
    {
      "cell_type": "markdown",
      "metadata": {
        "id": "5tbtEItWGoNw"
      },
      "source": [
        "## **Conlusión**\n",
        "\n",
        "- No se observó una mejora significativa con la optimización en Random Forest, pero sí se encontró una ligera mejora con el modelo XGBoost, aunque sigue siendo marginal. Se sugiere considerar agregar o reemplazar la columna de TransactionAmt como una posible mejora para el entrenamiento del modelo.\n"
      ]
    },
    {
      "cell_type": "markdown",
      "metadata": {
        "id": "meImEDxmGoNw"
      },
      "source": [
        "- No se observó una mejora significativa con la optimización en Random Forest, pero sí se encontró una ligera mejora con el modelo XGBoost, aunque sigue siendo marginal. Se sugiere considerar agregar o reemplazar la columna de TransactionAmt como una posible mejora para el entrenamiento del modelo."
      ]
    }
  ],
  "metadata": {
    "kernelspec": {
      "display_name": "Python 3",
      "name": "python3"
    },
    "language_info": {
      "codemirror_mode": {
        "name": "ipython",
        "version": 3
      },
      "file_extension": ".py",
      "mimetype": "text/x-python",
      "name": "python",
      "nbconvert_exporter": "python",
      "pygments_lexer": "ipython3",
      "version": "3.11.7"
    },
    "colab": {
      "provenance": [],
      "gpuType": "T4",
      "include_colab_link": true
    },
    "accelerator": "GPU"
  },
  "nbformat": 4,
  "nbformat_minor": 0
}
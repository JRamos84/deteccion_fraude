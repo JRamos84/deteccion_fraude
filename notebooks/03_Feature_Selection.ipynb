{
  "cells": [
    {
      "cell_type": "markdown",
      "metadata": {
        "id": "view-in-github",
        "colab_type": "text"
      },
      "source": [
        "<a href=\"https://colab.research.google.com/github/JRamos84/deteccion_fraude/blob/main/notebooks/03_Feature_Selection.ipynb\" target=\"_parent\"><img src=\"https://colab.research.google.com/assets/colab-badge.svg\" alt=\"Open In Colab\"/></a>"
      ]
    },
    {
      "cell_type": "markdown",
      "metadata": {
        "id": "Cp1YSwOhsBcF"
      },
      "source": [
        "\n",
        "## 03 Feature Selection\n",
        "**Objetivo**: Seleccionar las características más relevantes para el modelo.\n",
        "**Contenido**:\n",
        "- Técnicas de selección de características (e.g., selección univariante, selección recursiva, modelos basados en árboles).\n",
        "- Evaluación de la importancia de las características."
      ]
    },
    {
      "cell_type": "code",
      "source": [
        "## Importar librerrias\n",
        "import pickle\n",
        "import os\n",
        "import matplotlib.pyplot as plt\n",
        "import seaborn as sns\n",
        "import numpy as np\n",
        "import pandas as pd\n",
        "from sklearn.feature_selection import SelectKBest, chi2\n",
        "from sklearn.preprocessing import OneHotEncoder\n"
      ],
      "metadata": {
        "id": "5kpmfyWFsN_Y"
      },
      "execution_count": 23,
      "outputs": []
    },
    {
      "cell_type": "code",
      "execution_count": 24,
      "metadata": {
        "colab": {
          "base_uri": "https://localhost:8080/"
        },
        "id": "LpzwjG19sBcJ",
        "outputId": "9d42e3eb-2671-4243-d211-80f46a7719a1"
      },
      "outputs": [
        {
          "output_type": "stream",
          "name": "stdout",
          "text": [
            "Drive already mounted at /content/drive; to attempt to forcibly remount, call drive.mount(\"/content/drive\", force_remount=True).\n"
          ]
        }
      ],
      "source": [
        "## Importamos las librerias a usar\n",
        "from google.colab import drive\n",
        "drive.mount('/content/drive')\n",
        "data_dir = '/content/drive/MyDrive/cursos-analisis-datos/data-science/proyecto/propuestas/propuesta1/ieee-fraud-detection'"
      ]
    },
    {
      "cell_type": "code",
      "source": [
        "# Guardar X y y en archivos CSV\n",
        "\n",
        "#dir_data_processed = '../data/processed'\n",
        "dir_data_processed = '/content/drive/MyDrive/cursos-analisis-datos/data-science/proyecto/propuestas/propuesta1/ieee-fraud-detection/processed'\n",
        "ruta_archivo_X_train = os.path.join(dir_data_processed, 'X__train_procesados.csv')\n",
        "ruta_archivo_X_test = os.path.join(dir_data_processed, 'X_test_procesados.csv')\n",
        "ruta_archivo_X_val = os.path.join(dir_data_processed, 'X_val_procesados.csv')\n",
        "\n",
        "ruta_archivo_y_train = os.path.join(dir_data_processed, 'y_train_procesados.csv')\n",
        "ruta_archivo_y_test = os.path.join(dir_data_processed, 'y_test_procesados.csv')\n",
        "ruta_archivo_y_val = os.path.join(dir_data_processed, 'y_val_procesados.csv')\n",
        "\n",
        "\n",
        "X_train_final= pd.read_csv(ruta_archivo_X_train)\n",
        "X_val_final= pd.read_csv(ruta_archivo_X_val)\n",
        "X_test_final= pd.read_csv(ruta_archivo_X_test)\n",
        "\n",
        "y_train_final= pd.read_csv(ruta_archivo_y_train)\n",
        "y_val_final= pd.read_csv(ruta_archivo_y_val)\n",
        "y_test_final= pd.read_csv(ruta_archivo_y_test)\n",
        "\n"
      ],
      "metadata": {
        "id": "4RORDBcqsVmr"
      },
      "execution_count": 25,
      "outputs": []
    },
    {
      "cell_type": "markdown",
      "source": [
        "### Recuperar nombres de columnas de categoría y numéricas"
      ],
      "metadata": {
        "id": "vWHW1Byfr7n8"
      }
    },
    {
      "cell_type": "code",
      "source": [
        "dir_data_processed = '/content/drive/MyDrive/cursos-analisis-datos/data-science/proyecto/propuestas/propuesta1/ieee-fraud-detection/processed'\n",
        "ruta_archivo_columns = os.path.join(dir_data_processed, 'columns.pkl')\n",
        "with open(ruta_archivo_columns, 'rb') as file:\n",
        "    num_cols, cat_cols = pickle.load(file)\n",
        "\n",
        "print('num_cols:', num_cols)\n",
        "print('cat_cols:', cat_cols)\n"
      ],
      "metadata": {
        "id": "3CiGSAAKtELJ",
        "outputId": "7e71ef45-fc6e-47bf-cfc4-62834d2d24f7",
        "colab": {
          "base_uri": "https://localhost:8080/"
        }
      },
      "execution_count": 26,
      "outputs": [
        {
          "output_type": "stream",
          "name": "stdout",
          "text": [
            "num_cols: ['TransactionID', 'TransactionAmt', 'card1', 'card2', 'card3', 'card5', 'addr1', 'addr2', 'C1', 'C2', 'C3', 'C4', 'C5', 'C6', 'C7', 'C8', 'C9', 'C10', 'C11', 'C12', 'C13', 'C14', 'D1', 'D10', 'D15', 'V12', 'V13', 'V14', 'V15', 'V16', 'V17', 'V18', 'V19', 'V20', 'V21', 'V22', 'V23', 'V24', 'V25', 'V26', 'V27', 'V28', 'V29', 'V30', 'V31', 'V32', 'V33', 'V34', 'V53', 'V54', 'V55', 'V56', 'V57', 'V58', 'V59', 'V60', 'V61', 'V62', 'V63', 'V64', 'V65', 'V66', 'V67', 'V68', 'V69', 'V70', 'V71', 'V72', 'V73', 'V74', 'V75', 'V76', 'V77', 'V78', 'V79', 'V80', 'V81', 'V82', 'V83', 'V84', 'V85', 'V86', 'V87', 'V88', 'V89', 'V90', 'V91', 'V92', 'V93', 'V94', 'V95', 'V96', 'V97', 'V98', 'V99', 'V100', 'V101', 'V102', 'V103', 'V104', 'V105', 'V106', 'V107', 'V108', 'V109', 'V110', 'V111', 'V112', 'V113', 'V114', 'V115', 'V116', 'V117', 'V118', 'V119', 'V120', 'V121', 'V122', 'V123', 'V124', 'V125', 'V126', 'V127', 'V128', 'V129', 'V130', 'V131', 'V132', 'V133', 'V134', 'V135', 'V136', 'V137', 'V279', 'V280', 'V281', 'V282', 'V283', 'V284', 'V285', 'V286', 'V287', 'V288', 'V289', 'V290', 'V291', 'V292', 'V293', 'V294', 'V295', 'V296', 'V297', 'V298', 'V299', 'V300', 'V301', 'V302', 'V303', 'V304', 'V305', 'V306', 'V307', 'V308', 'V309', 'V310', 'V311', 'V312', 'V313', 'V314', 'V315', 'V316', 'V317', 'V318', 'V319', 'V320', 'V321']\n",
            "cat_cols: ['ProductCD', 'card4', 'card6', '_Weekdays', '_Hours', '_Days', 'P_emaildomain_bin', 'P_emaildomain_suffix']\n"
          ]
        }
      ]
    },
    {
      "cell_type": "markdown",
      "source": [
        "## chi-cuadrado"
      ],
      "metadata": {
        "id": "Ia6eF7N239Op"
      }
    },
    {
      "cell_type": "code",
      "source": [
        "\n",
        "chi2_selector = SelectKBest(chi2, k=20)\n",
        "X_kbest = chi2_selector.fit_transform(X_train_final, y_train_final)\n",
        "col_selected_catg = X_train_final.columns[chi2_selector.get_support()].tolist()\n",
        "print(\"Características seleccionadas:\", col_selected_catg)\n"
      ],
      "metadata": {
        "colab": {
          "base_uri": "https://localhost:8080/"
        },
        "id": "zo-DAWX69wuM",
        "outputId": "66e42a7c-a686-4efe-dd94-9d028d4767cc"
      },
      "execution_count": 27,
      "outputs": [
        {
          "output_type": "stream",
          "name": "stdout",
          "text": [
            "Características seleccionadas: ['V94', 'V103', 'V279', 'V280', 'V281', 'V292', 'V293', 'V294', 'V295', 'V312', 'V94.1', 'V103.1', 'V279.1', 'V280.1', 'V281.1', 'V292.1', 'V293.1', 'V294.1', 'V295.1', 'V312.1']\n"
          ]
        }
      ]
    },
    {
      "cell_type": "markdown",
      "source": [
        "usando el metodo chi2 para seleccionar las características más relevante son:\n",
        " - 'V135', 'V319', 'V137', 'V321', 'V129', 'V132', 'V309', 'V136', 'V316',\n",
        "'V320'\n",
        "\n",
        "-  'card4_discover', 'card6_credit', 'card6_debit', 'M2_F', 'M3_F', 'M3_T',M6_F', 'M6_T', 'P_emaildomain_0', 'P_emaildomain_2'"
      ],
      "metadata": {
        "id": "DxR-6NZi-W0g"
      }
    },
    {
      "cell_type": "markdown",
      "source": [
        "## Anova"
      ],
      "metadata": {
        "id": "vU6uR2iz-zlw"
      }
    },
    {
      "cell_type": "code",
      "source": [
        "from sklearn.feature_selection import SelectKBest, f_classif\n",
        "\n",
        "# Selección de las 10 mejores características usando ANOVA\n",
        "anova_selector = SelectKBest(f_classif, k=20)\n",
        "X_kbest = anova_selector.fit_transform(X_train_final[num_cols], y_train_final)\n",
        "col_selected_num = X_train_final[num_cols].columns[anova_selector.get_support()].tolist()\n",
        "print(\"Características seleccionadas:\", col_selected_num)\n",
        "\n"
      ],
      "metadata": {
        "colab": {
          "base_uri": "https://localhost:8080/"
        },
        "id": "bFIVeWXq_OIU",
        "outputId": "5bbfb03b-9fbd-421d-b78c-a64fc3ea3e40"
      },
      "execution_count": 28,
      "outputs": [
        {
          "output_type": "stream",
          "name": "stderr",
          "text": [
            "/usr/local/lib/python3.10/dist-packages/sklearn/utils/validation.py:1143: DataConversionWarning: A column-vector y was passed when a 1d array was expected. Please change the shape of y to (n_samples, ), for example using ravel().\n",
            "  y = column_or_1d(y, warn=True)\n"
          ]
        },
        {
          "output_type": "stream",
          "name": "stdout",
          "text": [
            "Características seleccionadas: ['V95', 'V97', 'V101', 'V103', 'V128', 'V279', 'V280', 'V281', 'V282', 'V283', 'V289', 'V292', 'V293', 'V295', 'V307', 'V308', 'V312', 'V315', 'V317', 'V318']\n"
          ]
        }
      ]
    },
    {
      "cell_type": "code",
      "source": [
        "\n",
        "# Guardar las listas en un archivo pickle\n",
        "dir_data_processed = '/content/drive/MyDrive/cursos-analisis-datos/data-science/proyecto/propuestas/propuesta1/ieee-fraud-detection/processed'\n",
        "ruta_archivo_columns = os.path.join(dir_data_processed, 'columns_feature_selection.pkl')\n",
        "with open(ruta_archivo_columns, 'wb') as file:\n",
        "    pickle.dump((col_selected_catgl, col_selected_catg), file)"
      ],
      "metadata": {
        "id": "RCxignvmuSKM",
        "outputId": "2a8359c4-dc19-42ef-a538-af6479c1ba07",
        "colab": {
          "base_uri": "https://localhost:8080/",
          "height": 176
        }
      },
      "execution_count": 29,
      "outputs": [
        {
          "output_type": "error",
          "ename": "NameError",
          "evalue": "name 'col_selected_catgl' is not defined",
          "traceback": [
            "\u001b[0;31m---------------------------------------------------------------------------\u001b[0m",
            "\u001b[0;31mNameError\u001b[0m                                 Traceback (most recent call last)",
            "\u001b[0;32m<ipython-input-29-d05a22b9a48c>\u001b[0m in \u001b[0;36m<cell line: 4>\u001b[0;34m()\u001b[0m\n\u001b[1;32m      3\u001b[0m \u001b[0mruta_archivo_columns\u001b[0m \u001b[0;34m=\u001b[0m \u001b[0mos\u001b[0m\u001b[0;34m.\u001b[0m\u001b[0mpath\u001b[0m\u001b[0;34m.\u001b[0m\u001b[0mjoin\u001b[0m\u001b[0;34m(\u001b[0m\u001b[0mdir_data_processed\u001b[0m\u001b[0;34m,\u001b[0m \u001b[0;34m'columns_feature_selection.pkl'\u001b[0m\u001b[0;34m)\u001b[0m\u001b[0;34m\u001b[0m\u001b[0;34m\u001b[0m\u001b[0m\n\u001b[1;32m      4\u001b[0m \u001b[0;32mwith\u001b[0m \u001b[0mopen\u001b[0m\u001b[0;34m(\u001b[0m\u001b[0mruta_archivo_columns\u001b[0m\u001b[0;34m,\u001b[0m \u001b[0;34m'wb'\u001b[0m\u001b[0;34m)\u001b[0m \u001b[0;32mas\u001b[0m \u001b[0mfile\u001b[0m\u001b[0;34m:\u001b[0m\u001b[0;34m\u001b[0m\u001b[0;34m\u001b[0m\u001b[0m\n\u001b[0;32m----> 5\u001b[0;31m     \u001b[0mpickle\u001b[0m\u001b[0;34m.\u001b[0m\u001b[0mdump\u001b[0m\u001b[0;34m(\u001b[0m\u001b[0;34m(\u001b[0m\u001b[0mcol_selected_catgl\u001b[0m\u001b[0;34m,\u001b[0m \u001b[0mcol_selected_catg\u001b[0m\u001b[0;34m)\u001b[0m\u001b[0;34m,\u001b[0m \u001b[0mfile\u001b[0m\u001b[0;34m)\u001b[0m\u001b[0;34m\u001b[0m\u001b[0;34m\u001b[0m\u001b[0m\n\u001b[0m",
            "\u001b[0;31mNameError\u001b[0m: name 'col_selected_catgl' is not defined"
          ]
        }
      ]
    },
    {
      "cell_type": "code",
      "source": [],
      "metadata": {
        "id": "Gz9JRRVkAYQo"
      },
      "execution_count": null,
      "outputs": []
    },
    {
      "cell_type": "markdown",
      "source": [
        "## Conclusion"
      ],
      "metadata": {
        "id": "uChvrcdRAkEG"
      }
    },
    {
      "cell_type": "markdown",
      "source": [
        "- se uso el metodo chi2 para seleccionar las categorías más relevantes:\n",
        " - 'V135', 'V319', 'V137', 'V321', 'V129', 'V132', 'V309', 'V136', 'V316',\n",
        "'V320'\n",
        " - 'card4_discover', 'card6_credit', 'card6_debit', 'M2_F', 'M3_F', 'M3_T',M6_F', 'M6_T', 'P_emaildomain_0', 'P_emaildomain_2'\n",
        "- El metodo anova para las categorias numericas.\n",
        "  'V313', 'V134', 'V318', 'V315', 'V306', 'D2', 'V317', 'V128', 'V308',\n",
        "'V307'"
      ],
      "metadata": {
        "id": "-PD_HrNCApR_"
      }
    },
    {
      "cell_type": "code",
      "source": [],
      "metadata": {
        "id": "IpaSB-VHAo6p"
      },
      "execution_count": null,
      "outputs": []
    }
  ],
  "metadata": {
    "language_info": {
      "name": "python"
    },
    "colab": {
      "provenance": [],
      "include_colab_link": true
    },
    "kernelspec": {
      "name": "python3",
      "display_name": "Python 3"
    }
  },
  "nbformat": 4,
  "nbformat_minor": 0
}
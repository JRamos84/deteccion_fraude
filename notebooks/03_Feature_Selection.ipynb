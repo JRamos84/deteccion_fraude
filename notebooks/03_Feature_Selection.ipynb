{
  "cells": [
    {
      "cell_type": "markdown",
      "metadata": {
        "id": "Cp1YSwOhsBcF"
      },
      "source": [
        "\n",
        "## 03 Feature Selection\n",
        "**Objetivo**: Seleccionar las características más relevantes para el modelo.\n",
        "**Contenido**:\n",
        "- Técnicas de selección de características (e.g., selección univariante, selección recursiva, modelos basados en árboles).\n",
        "- Evaluación de la importancia de las características."
      ]
    },
    {
      "cell_type": "code",
      "source": [
        "!pip install category_encoders"
      ],
      "metadata": {
        "colab": {
          "base_uri": "https://localhost:8080/"
        },
        "id": "UQfX6uAp8dXS",
        "outputId": "c774e607-6ac3-4e95-95ed-142b9ae392d4"
      },
      "execution_count": 1,
      "outputs": [
        {
          "output_type": "stream",
          "name": "stdout",
          "text": [
            "Collecting category_encoders\n",
            "  Downloading category_encoders-2.6.3-py2.py3-none-any.whl (81 kB)\n",
            "\u001b[2K     \u001b[90m━━━━━━━━━━━━━━━━━━━━━━━━━━━━━━━━━━━━━━━━\u001b[0m \u001b[32m81.9/81.9 kB\u001b[0m \u001b[31m663.4 kB/s\u001b[0m eta \u001b[36m0:00:00\u001b[0m\n",
            "\u001b[?25hRequirement already satisfied: numpy>=1.14.0 in /usr/local/lib/python3.10/dist-packages (from category_encoders) (1.25.2)\n",
            "Requirement already satisfied: scikit-learn>=0.20.0 in /usr/local/lib/python3.10/dist-packages (from category_encoders) (1.2.2)\n",
            "Requirement already satisfied: scipy>=1.0.0 in /usr/local/lib/python3.10/dist-packages (from category_encoders) (1.11.4)\n",
            "Requirement already satisfied: statsmodels>=0.9.0 in /usr/local/lib/python3.10/dist-packages (from category_encoders) (0.14.2)\n",
            "Requirement already satisfied: pandas>=1.0.5 in /usr/local/lib/python3.10/dist-packages (from category_encoders) (2.0.3)\n",
            "Requirement already satisfied: patsy>=0.5.1 in /usr/local/lib/python3.10/dist-packages (from category_encoders) (0.5.6)\n",
            "Requirement already satisfied: python-dateutil>=2.8.2 in /usr/local/lib/python3.10/dist-packages (from pandas>=1.0.5->category_encoders) (2.8.2)\n",
            "Requirement already satisfied: pytz>=2020.1 in /usr/local/lib/python3.10/dist-packages (from pandas>=1.0.5->category_encoders) (2023.4)\n",
            "Requirement already satisfied: tzdata>=2022.1 in /usr/local/lib/python3.10/dist-packages (from pandas>=1.0.5->category_encoders) (2024.1)\n",
            "Requirement already satisfied: six in /usr/local/lib/python3.10/dist-packages (from patsy>=0.5.1->category_encoders) (1.16.0)\n",
            "Requirement already satisfied: joblib>=1.1.1 in /usr/local/lib/python3.10/dist-packages (from scikit-learn>=0.20.0->category_encoders) (1.4.2)\n",
            "Requirement already satisfied: threadpoolctl>=2.0.0 in /usr/local/lib/python3.10/dist-packages (from scikit-learn>=0.20.0->category_encoders) (3.5.0)\n",
            "Requirement already satisfied: packaging>=21.3 in /usr/local/lib/python3.10/dist-packages (from statsmodels>=0.9.0->category_encoders) (24.1)\n",
            "Installing collected packages: category_encoders\n",
            "Successfully installed category_encoders-2.6.3\n"
          ]
        }
      ]
    },
    {
      "cell_type": "code",
      "source": [
        "## Importar librerrias\n",
        "import matplotlib.pyplot as plt\n",
        "import seaborn as sns\n",
        "import numpy as np\n",
        "import pandas as pd\n",
        "from sklearn.feature_selection import SelectKBest, chi2\n",
        "from sklearn.preprocessing import OneHotEncoder\n",
        "import category_encoders as ce"
      ],
      "metadata": {
        "id": "5kpmfyWFsN_Y"
      },
      "execution_count": 2,
      "outputs": []
    },
    {
      "cell_type": "code",
      "source": [],
      "metadata": {
        "id": "i_udJ5Ib8afW"
      },
      "execution_count": 2,
      "outputs": []
    },
    {
      "cell_type": "code",
      "execution_count": 3,
      "metadata": {
        "colab": {
          "base_uri": "https://localhost:8080/"
        },
        "id": "LpzwjG19sBcJ",
        "outputId": "a016d9b9-3c04-43cc-e287-7f153f1e1a08"
      },
      "outputs": [
        {
          "output_type": "stream",
          "name": "stdout",
          "text": [
            "Mounted at /content/drive\n"
          ]
        }
      ],
      "source": [
        "## Importamos las librerias a usar\n",
        "from google.colab import drive\n",
        "drive.mount('/content/drive')\n",
        "data_dir = '/content/drive/MyDrive/cursos-analisis-datos/data-science/proyecto/propuestas/propuesta1/ieee-fraud-detection'"
      ]
    },
    {
      "cell_type": "code",
      "source": [
        "seed = 42\n",
        "df_transaction_train = pd.read_csv(data_dir + '/train_transaction.csv')\n",
        "df_identity_train = pd.read_csv(data_dir + '/train_identity.csv')\n",
        "data = pd.merge(df_transaction_train, df_identity_train, on='TransactionID', how='left').sample(frac=0.1, random_state=seed)\n"
      ],
      "metadata": {
        "id": "4RORDBcqsVmr"
      },
      "execution_count": 4,
      "outputs": []
    },
    {
      "cell_type": "code",
      "source": [
        "dataset = data.copy()"
      ],
      "metadata": {
        "id": "SlsTQMrl5pCm"
      },
      "execution_count": 5,
      "outputs": []
    },
    {
      "cell_type": "code",
      "source": [
        "\n",
        "\n",
        "# Suponiendo que ya tienes cargado tu dataset en 'dataset'\n",
        "\n",
        "# Identificar tipos de datos\n",
        "data_types = dataset.drop('isFraud',axis=1).dtypes\n",
        "\n",
        "# Filtrar y contar variables numéricas y categóricas\n",
        "num_vars = data_types[data_types != 'object']  # Variables numéricas\n",
        "cat_vars = data_types[data_types == 'object']  # Variables categóricas\n",
        "\n",
        "# Obtener nombres de las variables\n",
        "num_vars_names = num_vars.index.tolist()\n",
        "cat_vars_names = cat_vars.index.tolist()\n",
        "\n",
        "# Mostrar resultados\n",
        "print(f\"Número de variables numéricas: {num_vars.shape[0]}\")\n",
        "print(f\"Nombres de variables numéricas: {num_vars_names}\")\n",
        "print()\n",
        "print(f\"Número de variables categóricas: {cat_vars.shape[0]}\")\n",
        "print(f\"Nombres de variables categóricas: {cat_vars_names}\")\n"
      ],
      "metadata": {
        "colab": {
          "base_uri": "https://localhost:8080/"
        },
        "id": "1KrW48fDsdYj",
        "outputId": "d3d2941d-30a7-476a-d311-1f151938d3c9"
      },
      "execution_count": 6,
      "outputs": [
        {
          "output_type": "stream",
          "name": "stdout",
          "text": [
            "Número de variables numéricas: 402\n",
            "Nombres de variables numéricas: ['TransactionID', 'TransactionDT', 'TransactionAmt', 'card1', 'card2', 'card3', 'card5', 'addr1', 'addr2', 'dist1', 'dist2', 'C1', 'C2', 'C3', 'C4', 'C5', 'C6', 'C7', 'C8', 'C9', 'C10', 'C11', 'C12', 'C13', 'C14', 'D1', 'D2', 'D3', 'D4', 'D5', 'D6', 'D7', 'D8', 'D9', 'D10', 'D11', 'D12', 'D13', 'D14', 'D15', 'V1', 'V2', 'V3', 'V4', 'V5', 'V6', 'V7', 'V8', 'V9', 'V10', 'V11', 'V12', 'V13', 'V14', 'V15', 'V16', 'V17', 'V18', 'V19', 'V20', 'V21', 'V22', 'V23', 'V24', 'V25', 'V26', 'V27', 'V28', 'V29', 'V30', 'V31', 'V32', 'V33', 'V34', 'V35', 'V36', 'V37', 'V38', 'V39', 'V40', 'V41', 'V42', 'V43', 'V44', 'V45', 'V46', 'V47', 'V48', 'V49', 'V50', 'V51', 'V52', 'V53', 'V54', 'V55', 'V56', 'V57', 'V58', 'V59', 'V60', 'V61', 'V62', 'V63', 'V64', 'V65', 'V66', 'V67', 'V68', 'V69', 'V70', 'V71', 'V72', 'V73', 'V74', 'V75', 'V76', 'V77', 'V78', 'V79', 'V80', 'V81', 'V82', 'V83', 'V84', 'V85', 'V86', 'V87', 'V88', 'V89', 'V90', 'V91', 'V92', 'V93', 'V94', 'V95', 'V96', 'V97', 'V98', 'V99', 'V100', 'V101', 'V102', 'V103', 'V104', 'V105', 'V106', 'V107', 'V108', 'V109', 'V110', 'V111', 'V112', 'V113', 'V114', 'V115', 'V116', 'V117', 'V118', 'V119', 'V120', 'V121', 'V122', 'V123', 'V124', 'V125', 'V126', 'V127', 'V128', 'V129', 'V130', 'V131', 'V132', 'V133', 'V134', 'V135', 'V136', 'V137', 'V138', 'V139', 'V140', 'V141', 'V142', 'V143', 'V144', 'V145', 'V146', 'V147', 'V148', 'V149', 'V150', 'V151', 'V152', 'V153', 'V154', 'V155', 'V156', 'V157', 'V158', 'V159', 'V160', 'V161', 'V162', 'V163', 'V164', 'V165', 'V166', 'V167', 'V168', 'V169', 'V170', 'V171', 'V172', 'V173', 'V174', 'V175', 'V176', 'V177', 'V178', 'V179', 'V180', 'V181', 'V182', 'V183', 'V184', 'V185', 'V186', 'V187', 'V188', 'V189', 'V190', 'V191', 'V192', 'V193', 'V194', 'V195', 'V196', 'V197', 'V198', 'V199', 'V200', 'V201', 'V202', 'V203', 'V204', 'V205', 'V206', 'V207', 'V208', 'V209', 'V210', 'V211', 'V212', 'V213', 'V214', 'V215', 'V216', 'V217', 'V218', 'V219', 'V220', 'V221', 'V222', 'V223', 'V224', 'V225', 'V226', 'V227', 'V228', 'V229', 'V230', 'V231', 'V232', 'V233', 'V234', 'V235', 'V236', 'V237', 'V238', 'V239', 'V240', 'V241', 'V242', 'V243', 'V244', 'V245', 'V246', 'V247', 'V248', 'V249', 'V250', 'V251', 'V252', 'V253', 'V254', 'V255', 'V256', 'V257', 'V258', 'V259', 'V260', 'V261', 'V262', 'V263', 'V264', 'V265', 'V266', 'V267', 'V268', 'V269', 'V270', 'V271', 'V272', 'V273', 'V274', 'V275', 'V276', 'V277', 'V278', 'V279', 'V280', 'V281', 'V282', 'V283', 'V284', 'V285', 'V286', 'V287', 'V288', 'V289', 'V290', 'V291', 'V292', 'V293', 'V294', 'V295', 'V296', 'V297', 'V298', 'V299', 'V300', 'V301', 'V302', 'V303', 'V304', 'V305', 'V306', 'V307', 'V308', 'V309', 'V310', 'V311', 'V312', 'V313', 'V314', 'V315', 'V316', 'V317', 'V318', 'V319', 'V320', 'V321', 'V322', 'V323', 'V324', 'V325', 'V326', 'V327', 'V328', 'V329', 'V330', 'V331', 'V332', 'V333', 'V334', 'V335', 'V336', 'V337', 'V338', 'V339', 'id_01', 'id_02', 'id_03', 'id_04', 'id_05', 'id_06', 'id_07', 'id_08', 'id_09', 'id_10', 'id_11', 'id_13', 'id_14', 'id_17', 'id_18', 'id_19', 'id_20', 'id_21', 'id_22', 'id_24', 'id_25', 'id_26', 'id_32']\n",
            "\n",
            "Número de variables categóricas: 31\n",
            "Nombres de variables categóricas: ['ProductCD', 'card4', 'card6', 'P_emaildomain', 'R_emaildomain', 'M1', 'M2', 'M3', 'M4', 'M5', 'M6', 'M7', 'M8', 'M9', 'id_12', 'id_15', 'id_16', 'id_23', 'id_27', 'id_28', 'id_29', 'id_30', 'id_31', 'id_33', 'id_34', 'id_35', 'id_36', 'id_37', 'id_38', 'DeviceType', 'DeviceInfo']\n"
          ]
        }
      ]
    },
    {
      "cell_type": "markdown",
      "source": [
        "## Valores Nulos"
      ],
      "metadata": {
        "id": "Ucys1TSWwbi6"
      }
    },
    {
      "cell_type": "code",
      "source": [
        "# Calcula el porcentaje de valores nulos para cada columna\n",
        "null_percentages = (dataset.isnull().sum() / len(dataset)) * 100\n",
        "\n",
        "# Define los rangos para los valores nulos\n",
        "ranges = [\n",
        "    (0, 10),\n",
        "    (10, 20),\n",
        "    (20, 30),\n",
        "    (30, 40),\n",
        "    (40, 50),\n",
        "    (50, 60),\n",
        "    (60, 70),\n",
        "    (70, 80),\n",
        "    (80, 90),\n",
        "    (90, 100)\n",
        "]\n",
        "\n",
        "# Agrupa las columnas en los rangos definidosa\n",
        "grouped_columns = {f'{r[0]}-{r[1]}%': [] for r in ranges}\n",
        "\n",
        "for column, percentage in null_percentages.items():\n",
        "    for r in ranges:\n",
        "        if r[0] <= percentage < r[1]:\n",
        "            grouped_columns[f'{r[0]}-{r[1]}%'].append(column)\n",
        "\n",
        "# Imprime los resultados\n",
        "for range_, columns in grouped_columns.items():\n",
        "    if columns:\n",
        "        print(f'Rango de valores nulos: {range_}')\n",
        "        print(f'Columnas: {columns}')\n",
        "        print()"
      ],
      "metadata": {
        "colab": {
          "base_uri": "https://localhost:8080/"
        },
        "id": "Q90AvlWGwd94",
        "outputId": "4bc28a75-e018-45a1-acec-f1136042deb4"
      },
      "execution_count": 7,
      "outputs": [
        {
          "output_type": "stream",
          "name": "stdout",
          "text": [
            "Rango de valores nulos: 0-10%\n",
            "Columnas: ['TransactionID', 'isFraud', 'TransactionDT', 'TransactionAmt', 'ProductCD', 'card1', 'card2', 'card3', 'card4', 'card5', 'card6', 'C1', 'C2', 'C3', 'C4', 'C5', 'C6', 'C7', 'C8', 'C9', 'C10', 'C11', 'C12', 'C13', 'C14', 'D1', 'V95', 'V96', 'V97', 'V98', 'V99', 'V100', 'V101', 'V102', 'V103', 'V104', 'V105', 'V106', 'V107', 'V108', 'V109', 'V110', 'V111', 'V112', 'V113', 'V114', 'V115', 'V116', 'V117', 'V118', 'V119', 'V120', 'V121', 'V122', 'V123', 'V124', 'V125', 'V126', 'V127', 'V128', 'V129', 'V130', 'V131', 'V132', 'V133', 'V134', 'V135', 'V136', 'V137', 'V279', 'V280', 'V281', 'V282', 'V283', 'V284', 'V285', 'V286', 'V287', 'V288', 'V289', 'V290', 'V291', 'V292', 'V293', 'V294', 'V295', 'V296', 'V297', 'V298', 'V299', 'V300', 'V301', 'V302', 'V303', 'V304', 'V305', 'V306', 'V307', 'V308', 'V309', 'V310', 'V311', 'V312', 'V313', 'V314', 'V315', 'V316', 'V317', 'V318', 'V319', 'V320', 'V321']\n",
            "\n",
            "Rango de valores nulos: 10-20%\n",
            "Columnas: ['addr1', 'addr2', 'P_emaildomain', 'D10', 'D15', 'V12', 'V13', 'V14', 'V15', 'V16', 'V17', 'V18', 'V19', 'V20', 'V21', 'V22', 'V23', 'V24', 'V25', 'V26', 'V27', 'V28', 'V29', 'V30', 'V31', 'V32', 'V33', 'V34', 'V53', 'V54', 'V55', 'V56', 'V57', 'V58', 'V59', 'V60', 'V61', 'V62', 'V63', 'V64', 'V65', 'V66', 'V67', 'V68', 'V69', 'V70', 'V71', 'V72', 'V73', 'V74', 'V75', 'V76', 'V77', 'V78', 'V79', 'V80', 'V81', 'V82', 'V83', 'V84', 'V85', 'V86', 'V87', 'V88', 'V89', 'V90', 'V91', 'V92', 'V93', 'V94']\n",
            "\n",
            "Rango de valores nulos: 20-30%\n",
            "Columnas: ['D4', 'M6', 'V35', 'V36', 'V37', 'V38', 'V39', 'V40', 'V41', 'V42', 'V43', 'V44', 'V45', 'V46', 'V47', 'V48', 'V49', 'V50', 'V51', 'V52']\n",
            "\n",
            "Rango de valores nulos: 40-50%\n",
            "Columnas: ['D2', 'D3', 'D11', 'M1', 'M2', 'M3', 'M4', 'V1', 'V2', 'V3', 'V4', 'V5', 'V6', 'V7', 'V8', 'V9', 'V10', 'V11']\n",
            "\n",
            "Rango de valores nulos: 50-60%\n",
            "Columnas: ['dist1', 'D5', 'M5', 'M7', 'M8', 'M9']\n",
            "\n",
            "Rango de valores nulos: 70-80%\n",
            "Columnas: ['R_emaildomain', 'V167', 'V168', 'V169', 'V170', 'V171', 'V172', 'V173', 'V174', 'V175', 'V176', 'V177', 'V178', 'V179', 'V180', 'V181', 'V182', 'V183', 'V184', 'V185', 'V186', 'V187', 'V188', 'V189', 'V190', 'V191', 'V192', 'V193', 'V194', 'V195', 'V196', 'V197', 'V198', 'V199', 'V200', 'V201', 'V202', 'V203', 'V204', 'V205', 'V206', 'V207', 'V208', 'V209', 'V210', 'V211', 'V212', 'V213', 'V214', 'V215', 'V216', 'V217', 'V218', 'V219', 'V220', 'V221', 'V222', 'V223', 'V224', 'V225', 'V226', 'V227', 'V228', 'V229', 'V230', 'V231', 'V232', 'V233', 'V234', 'V235', 'V236', 'V237', 'V238', 'V239', 'V240', 'V241', 'V242', 'V243', 'V244', 'V245', 'V246', 'V247', 'V248', 'V249', 'V250', 'V251', 'V252', 'V253', 'V254', 'V255', 'V256', 'V257', 'V258', 'V259', 'V260', 'V261', 'V262', 'V263', 'V264', 'V265', 'V266', 'V267', 'V268', 'V269', 'V270', 'V271', 'V272', 'V273', 'V274', 'V275', 'V276', 'V277', 'V278', 'id_01', 'id_02', 'id_05', 'id_06', 'id_11', 'id_12', 'id_13', 'id_15', 'id_16', 'id_17', 'id_19', 'id_20', 'id_28', 'id_29', 'id_31', 'id_35', 'id_36', 'id_37', 'id_38', 'DeviceType']\n",
            "\n",
            "Rango de valores nulos: 80-90%\n",
            "Columnas: ['D6', 'D8', 'D9', 'D12', 'D13', 'D14', 'V138', 'V139', 'V140', 'V141', 'V142', 'V143', 'V144', 'V145', 'V146', 'V147', 'V148', 'V149', 'V150', 'V151', 'V152', 'V153', 'V154', 'V155', 'V156', 'V157', 'V158', 'V159', 'V160', 'V161', 'V162', 'V163', 'V164', 'V165', 'V166', 'V322', 'V323', 'V324', 'V325', 'V326', 'V327', 'V328', 'V329', 'V330', 'V331', 'V332', 'V333', 'V334', 'V335', 'V336', 'V337', 'V338', 'V339', 'id_03', 'id_04', 'id_09', 'id_10', 'id_14', 'id_30', 'id_32', 'id_33', 'id_34', 'DeviceInfo']\n",
            "\n",
            "Rango de valores nulos: 90-100%\n",
            "Columnas: ['dist2', 'D7', 'id_07', 'id_08', 'id_18', 'id_21', 'id_22', 'id_23', 'id_24', 'id_25', 'id_26', 'id_27']\n",
            "\n"
          ]
        }
      ]
    },
    {
      "cell_type": "markdown",
      "source": [
        "- se observa los rangos porcentual de valores nulos en las columnas, continuaremos solo con las columnas menor a un 50% de valores nulos."
      ],
      "metadata": {
        "id": "XS1O8zIowjpy"
      }
    },
    {
      "cell_type": "code",
      "source": [
        "# Calcula el porcentaje de valores nulos para cada columna\n",
        "null_percentages = (dataset.isnull().sum() / len(dataset)) * 100\n",
        "\n",
        "# Define los rangos para los valores nulos\n",
        "ranges = [\n",
        "    (0, 50),\n",
        "    (50, 100)\n",
        "]\n",
        "\n",
        "# Agrupa las columnas en los rangos definidosa\n",
        "grouped_columns = {f'{r[0]}-{r[1]}%': [] for r in ranges}\n",
        "\n",
        "for column, percentage in null_percentages.items():\n",
        "    for r in ranges:\n",
        "        if r[0] <= percentage < r[1]:\n",
        "            grouped_columns[f'{r[0]}-{r[1]}%'].append(column)\n",
        "\n",
        "# Imprime los resultados\n",
        "for range_, columns in grouped_columns.items():\n",
        "    if columns:\n",
        "        print(f'Rango de valores nulos: {range_}')\n",
        "        print(f'Columnas: {columns}')\n",
        "        print()"
      ],
      "metadata": {
        "colab": {
          "base_uri": "https://localhost:8080/"
        },
        "id": "eJeia2ERxDv0",
        "outputId": "b90ce92c-9abc-4cb5-ea1a-bb7f17968d61"
      },
      "execution_count": 8,
      "outputs": [
        {
          "output_type": "stream",
          "name": "stdout",
          "text": [
            "Rango de valores nulos: 0-50%\n",
            "Columnas: ['TransactionID', 'isFraud', 'TransactionDT', 'TransactionAmt', 'ProductCD', 'card1', 'card2', 'card3', 'card4', 'card5', 'card6', 'addr1', 'addr2', 'P_emaildomain', 'C1', 'C2', 'C3', 'C4', 'C5', 'C6', 'C7', 'C8', 'C9', 'C10', 'C11', 'C12', 'C13', 'C14', 'D1', 'D2', 'D3', 'D4', 'D10', 'D11', 'D15', 'M1', 'M2', 'M3', 'M4', 'M6', 'V1', 'V2', 'V3', 'V4', 'V5', 'V6', 'V7', 'V8', 'V9', 'V10', 'V11', 'V12', 'V13', 'V14', 'V15', 'V16', 'V17', 'V18', 'V19', 'V20', 'V21', 'V22', 'V23', 'V24', 'V25', 'V26', 'V27', 'V28', 'V29', 'V30', 'V31', 'V32', 'V33', 'V34', 'V35', 'V36', 'V37', 'V38', 'V39', 'V40', 'V41', 'V42', 'V43', 'V44', 'V45', 'V46', 'V47', 'V48', 'V49', 'V50', 'V51', 'V52', 'V53', 'V54', 'V55', 'V56', 'V57', 'V58', 'V59', 'V60', 'V61', 'V62', 'V63', 'V64', 'V65', 'V66', 'V67', 'V68', 'V69', 'V70', 'V71', 'V72', 'V73', 'V74', 'V75', 'V76', 'V77', 'V78', 'V79', 'V80', 'V81', 'V82', 'V83', 'V84', 'V85', 'V86', 'V87', 'V88', 'V89', 'V90', 'V91', 'V92', 'V93', 'V94', 'V95', 'V96', 'V97', 'V98', 'V99', 'V100', 'V101', 'V102', 'V103', 'V104', 'V105', 'V106', 'V107', 'V108', 'V109', 'V110', 'V111', 'V112', 'V113', 'V114', 'V115', 'V116', 'V117', 'V118', 'V119', 'V120', 'V121', 'V122', 'V123', 'V124', 'V125', 'V126', 'V127', 'V128', 'V129', 'V130', 'V131', 'V132', 'V133', 'V134', 'V135', 'V136', 'V137', 'V279', 'V280', 'V281', 'V282', 'V283', 'V284', 'V285', 'V286', 'V287', 'V288', 'V289', 'V290', 'V291', 'V292', 'V293', 'V294', 'V295', 'V296', 'V297', 'V298', 'V299', 'V300', 'V301', 'V302', 'V303', 'V304', 'V305', 'V306', 'V307', 'V308', 'V309', 'V310', 'V311', 'V312', 'V313', 'V314', 'V315', 'V316', 'V317', 'V318', 'V319', 'V320', 'V321']\n",
            "\n",
            "Rango de valores nulos: 50-100%\n",
            "Columnas: ['dist1', 'dist2', 'R_emaildomain', 'D5', 'D6', 'D7', 'D8', 'D9', 'D12', 'D13', 'D14', 'M5', 'M7', 'M8', 'M9', 'V138', 'V139', 'V140', 'V141', 'V142', 'V143', 'V144', 'V145', 'V146', 'V147', 'V148', 'V149', 'V150', 'V151', 'V152', 'V153', 'V154', 'V155', 'V156', 'V157', 'V158', 'V159', 'V160', 'V161', 'V162', 'V163', 'V164', 'V165', 'V166', 'V167', 'V168', 'V169', 'V170', 'V171', 'V172', 'V173', 'V174', 'V175', 'V176', 'V177', 'V178', 'V179', 'V180', 'V181', 'V182', 'V183', 'V184', 'V185', 'V186', 'V187', 'V188', 'V189', 'V190', 'V191', 'V192', 'V193', 'V194', 'V195', 'V196', 'V197', 'V198', 'V199', 'V200', 'V201', 'V202', 'V203', 'V204', 'V205', 'V206', 'V207', 'V208', 'V209', 'V210', 'V211', 'V212', 'V213', 'V214', 'V215', 'V216', 'V217', 'V218', 'V219', 'V220', 'V221', 'V222', 'V223', 'V224', 'V225', 'V226', 'V227', 'V228', 'V229', 'V230', 'V231', 'V232', 'V233', 'V234', 'V235', 'V236', 'V237', 'V238', 'V239', 'V240', 'V241', 'V242', 'V243', 'V244', 'V245', 'V246', 'V247', 'V248', 'V249', 'V250', 'V251', 'V252', 'V253', 'V254', 'V255', 'V256', 'V257', 'V258', 'V259', 'V260', 'V261', 'V262', 'V263', 'V264', 'V265', 'V266', 'V267', 'V268', 'V269', 'V270', 'V271', 'V272', 'V273', 'V274', 'V275', 'V276', 'V277', 'V278', 'V322', 'V323', 'V324', 'V325', 'V326', 'V327', 'V328', 'V329', 'V330', 'V331', 'V332', 'V333', 'V334', 'V335', 'V336', 'V337', 'V338', 'V339', 'id_01', 'id_02', 'id_03', 'id_04', 'id_05', 'id_06', 'id_07', 'id_08', 'id_09', 'id_10', 'id_11', 'id_12', 'id_13', 'id_14', 'id_15', 'id_16', 'id_17', 'id_18', 'id_19', 'id_20', 'id_21', 'id_22', 'id_23', 'id_24', 'id_25', 'id_26', 'id_27', 'id_28', 'id_29', 'id_30', 'id_31', 'id_32', 'id_33', 'id_34', 'id_35', 'id_36', 'id_37', 'id_38', 'DeviceType', 'DeviceInfo']\n",
            "\n"
          ]
        }
      ]
    },
    {
      "cell_type": "code",
      "source": [
        "range_v = ['TransactionID', 'isFraud', 'TransactionDT', 'TransactionAmt', 'ProductCD', 'card1', 'card2', 'card3', 'card4', 'card5', 'card6', 'addr1', 'addr2', 'P_emaildomain', 'C1', 'C2', 'C3', 'C4', 'C5', 'C6', 'C7', 'C8', 'C9', 'C10', 'C11', 'C12', 'C13', 'C14', 'D1', 'D2', 'D3', 'D4', 'D10', 'D11', 'D15', 'M1', 'M2', 'M3', 'M4', 'M6', 'V1', 'V2', 'V3', 'V4', 'V5', 'V6', 'V7', 'V8', 'V9', 'V10', 'V11', 'V12', 'V13', 'V14', 'V15', 'V16', 'V17', 'V18', 'V19', 'V20', 'V21', 'V22', 'V23', 'V24', 'V25', 'V26', 'V27', 'V28', 'V29', 'V30', 'V31', 'V32', 'V33', 'V34', 'V35', 'V36', 'V37', 'V38', 'V39', 'V40', 'V41', 'V42', 'V43', 'V44', 'V45', 'V46', 'V47', 'V48', 'V49', 'V50', 'V51', 'V52', 'V53', 'V54', 'V55', 'V56', 'V57', 'V58', 'V59', 'V60', 'V61', 'V62', 'V63', 'V64', 'V65', 'V66', 'V67', 'V68', 'V69', 'V70', 'V71', 'V72', 'V73', 'V74', 'V75', 'V76', 'V77', 'V78', 'V79', 'V80', 'V81', 'V82', 'V83', 'V84', 'V85', 'V86', 'V87', 'V88', 'V89', 'V90', 'V91', 'V92', 'V93', 'V94', 'V95', 'V96', 'V97', 'V98', 'V99', 'V100', 'V101', 'V102', 'V103', 'V104', 'V105', 'V106', 'V107', 'V108', 'V109', 'V110', 'V111', 'V112', 'V113', 'V114', 'V115', 'V116', 'V117', 'V118', 'V119', 'V120', 'V121', 'V122', 'V123', 'V124', 'V125', 'V126', 'V127', 'V128', 'V129', 'V130', 'V131', 'V132', 'V133', 'V134', 'V135', 'V136', 'V137', 'V279', 'V280', 'V281', 'V282', 'V283', 'V284', 'V285', 'V286', 'V287', 'V288', 'V289', 'V290', 'V291', 'V292', 'V293', 'V294', 'V295', 'V296', 'V297', 'V298', 'V299', 'V300', 'V301', 'V302', 'V303', 'V304', 'V305', 'V306', 'V307', 'V308', 'V309', 'V310', 'V311', 'V312', 'V313', 'V314', 'V315', 'V316', 'V317', 'V318', 'V319', 'V320', 'V321']\n",
        "len(range_v)"
      ],
      "metadata": {
        "colab": {
          "base_uri": "https://localhost:8080/"
        },
        "id": "FX1kb-D2xb-2",
        "outputId": "611bcf0d-1b19-413b-9b5f-4e174c3bbe0d"
      },
      "execution_count": 9,
      "outputs": [
        {
          "output_type": "execute_result",
          "data": {
            "text/plain": [
              "220"
            ]
          },
          "metadata": {},
          "execution_count": 9
        }
      ]
    },
    {
      "cell_type": "code",
      "source": [
        "dataset = dataset[range_v].copy()"
      ],
      "metadata": {
        "id": "TjiNVtc43qhl"
      },
      "execution_count": 10,
      "outputs": []
    },
    {
      "cell_type": "code",
      "source": [
        "dataset.dropna(inplace=True)"
      ],
      "metadata": {
        "id": "4VjvGhgD6ce2"
      },
      "execution_count": 11,
      "outputs": []
    },
    {
      "cell_type": "markdown",
      "source": [
        "## Determinar cuales columnas son categorías o numéricas"
      ],
      "metadata": {
        "id": "A9NY50nV0jJm"
      }
    },
    {
      "cell_type": "code",
      "source": [
        "data_types = dataset.drop('isFraud',axis=1).dtypes\n",
        "dataset = dataset[range_v].copy()\n",
        "num_vars = data_types[data_types != 'object']  # Variables numéricas\n",
        "cat_vars = data_types[data_types == 'object']  # Variables categóricas\n",
        "\n",
        "# Obtener nombres de las variables\n",
        "num_vars_names = num_vars.index.tolist()\n",
        "cat_vars_names = cat_vars.index.tolist()"
      ],
      "metadata": {
        "id": "RXZFLE2Xxj4X"
      },
      "execution_count": 26,
      "outputs": []
    },
    {
      "cell_type": "code",
      "source": [
        "# Crear un diccionario para almacenar el número de valores únicos y la categorización para cada columna\n",
        "dataset.shape\n",
        "unique_values_info = {\n",
        "    columna: {\n",
        "        'Num_Unique_Values': dataset[columna].nunique(),\n",
        "        'Total_Values': dataset[columna].count(),\n",
        "        'Is_Categorical': dataset[columna].nunique() / dataset[columna].count() < 0.05\n",
        "    } for columna in num_vars_names\n",
        "}\n",
        "\n",
        "# Convertir el diccionario en un DataFrame para facilitar la ordenación\n",
        "unique_values_df = pd.DataFrame.from_dict(unique_values_info, orient='index')\n",
        "\n",
        "# Ordenar el DataFrame por el número de valores únicos\n",
        "unique_values_df_sorted = unique_values_df.sort_values(by='Num_Unique_Values')\n",
        "\n",
        "# # Imprimir el resultado\n",
        "# for index, row in unique_values_df_sorted.iterrows():\n",
        "#     print(f\"Columna: {index}, el número de variables únicas es: {row['Num_Unique_Values']}, \"\n",
        "#           f\"Total de valores: {row['Total_Values']}, \"\n",
        "#           f\"Podría ser categórica: {row['Is_Categorical']}\")"
      ],
      "metadata": {
        "id": "sd_lmG90vT5_"
      },
      "execution_count": 27,
      "outputs": []
    },
    {
      "cell_type": "code",
      "source": [
        "unique_values_df_sorted['Is_Categorical'].value_counts()"
      ],
      "metadata": {
        "colab": {
          "base_uri": "https://localhost:8080/"
        },
        "id": "ffHpSN-q0s7J",
        "outputId": "63b56bc9-e86e-4053-d1cf-c45b57e239f9"
      },
      "execution_count": 14,
      "outputs": [
        {
          "output_type": "execute_result",
          "data": {
            "text/plain": [
              "Is_Categorical\n",
              "True     183\n",
              "False     27\n",
              "Name: count, dtype: int64"
            ]
          },
          "metadata": {},
          "execution_count": 14
        }
      ]
    },
    {
      "cell_type": "code",
      "source": [
        "col_num = unique_values_df_sorted[unique_values_df_sorted['Is_Categorical'] == False].index.tolist()"
      ],
      "metadata": {
        "id": "3WZqxDNZLsVh"
      },
      "execution_count": 41,
      "outputs": []
    },
    {
      "cell_type": "markdown",
      "source": [
        "Suponiendo que la cantidad de categorias por columnas no sea mayo al 5% del total de valores dentro de la columnas se obtiene que hay en total 197 posibles columnas categoricas y 13 numéricas"
      ],
      "metadata": {
        "id": "6RGSKOR-1Dd5"
      }
    },
    {
      "cell_type": "code",
      "source": [
        "for columna in cat_vars_names :\n",
        "    print(f\"Columna: {columna}, el número de variables es: {dataset[columna].nunique()}\")"
      ],
      "metadata": {
        "colab": {
          "base_uri": "https://localhost:8080/"
        },
        "id": "__7Q7MCVsmkS",
        "outputId": "143dc8d4-e264-4965-9d90-8e7fc1b082ec"
      },
      "execution_count": 28,
      "outputs": [
        {
          "output_type": "stream",
          "name": "stdout",
          "text": [
            "Columna: ProductCD, el número de variables es: 1\n",
            "Columna: card4, el número de variables es: 3\n",
            "Columna: card6, el número de variables es: 2\n",
            "Columna: P_emaildomain, el número de variables es: 41\n",
            "Columna: M1, el número de variables es: 1\n",
            "Columna: M2, el número de variables es: 2\n",
            "Columna: M3, el número de variables es: 2\n",
            "Columna: M4, el número de variables es: 3\n",
            "Columna: M6, el número de variables es: 2\n"
          ]
        }
      ]
    },
    {
      "cell_type": "markdown",
      "source": [
        "## chi-cuadrado"
      ],
      "metadata": {
        "id": "Ia6eF7N239Op"
      }
    },
    {
      "cell_type": "code",
      "source": [
        "col_categ_num = unique_values_df_sorted[unique_values_df_sorted['Is_Categorical'] == True].index.tolist()\n"
      ],
      "metadata": {
        "id": "bDZ6xXd_6FyK"
      },
      "execution_count": 16,
      "outputs": []
    },
    {
      "cell_type": "code",
      "source": [
        "X = dataset.drop('isFraud', axis=1)\n",
        "y = dataset['isFraud']"
      ],
      "metadata": {
        "id": "_7YzOOyI4DbT"
      },
      "execution_count": 17,
      "outputs": []
    },
    {
      "cell_type": "code",
      "source": [
        "\n",
        "chi2_selector = SelectKBest(chi2, k=10)\n",
        "X_kbest = chi2_selector.fit_transform(X[col_categ_num], y)\n",
        "\n",
        "# Obtener las características seleccionadas\n",
        "print('Características seleccionadas:', X[col_categ_num].columns[chi2_selector.get_support()])"
      ],
      "metadata": {
        "colab": {
          "base_uri": "https://localhost:8080/"
        },
        "id": "1nkc3xdg3_5K",
        "outputId": "352cd56e-616d-4181-bbe5-4941a0001c07"
      },
      "execution_count": 29,
      "outputs": [
        {
          "output_type": "stream",
          "name": "stdout",
          "text": [
            "Características seleccionadas: Index(['V135', 'V319', 'V137', 'V321', 'V129', 'V132', 'V309', 'V136', 'V316',\n",
            "       'V320'],\n",
            "      dtype='object')\n"
          ]
        }
      ]
    },
    {
      "cell_type": "code",
      "source": [
        "def one_hot_encode(df, columns):\n",
        "    encoder = OneHotEncoder()\n",
        "    encoded = encoder.fit_transform(df[columns])\n",
        "    encoded_df = pd.DataFrame(encoded.toarray(),\n",
        "                              columns=encoder.get_feature_names_out(columns),\n",
        "                              index=df.index)\n",
        "    df = df.drop(columns, axis=1)\n",
        "    return pd.concat([encoded_df], axis=1)\n",
        "\n",
        "def binary_encode(df, columns):\n",
        "    encoder = ce.BinaryEncoder(cols=columns)\n",
        "    encoded = encoder.fit_transform(df[columns])\n",
        "    df = df.drop(columns, axis=1)\n",
        "    return pd.concat([ encoded], axis=1)\n",
        "\n",
        "# Codificación One-Hot para ProductCD, card4 y card6\n",
        "X_one_hot = one_hot_encode(X, ['ProductCD', 'card4', 'card6','M1', 'M2', 'M3', 'M4', 'M6'])\n",
        "\n",
        "# Codificación BinaryEncoder para P_emaildomain\n",
        "X_binary = binary_encode(X, ['P_emaildomain'])\n",
        "\n",
        "X_encoded = pd.concat([X_one_hot, X_binary], axis=1)\n"
      ],
      "metadata": {
        "id": "KJghWdvz7cQT"
      },
      "execution_count": 19,
      "outputs": []
    },
    {
      "cell_type": "code",
      "source": [
        "\n",
        "chi2_selector = SelectKBest(chi2, k=10)\n",
        "X_kbest = chi2_selector.fit_transform(X_encoded, y)\n",
        "\n",
        "# Obtener las características seleccionadas\n",
        "print('Características seleccionadas:', X_encoded.columns[chi2_selector.get_support()])"
      ],
      "metadata": {
        "colab": {
          "base_uri": "https://localhost:8080/"
        },
        "id": "zo-DAWX69wuM",
        "outputId": "97feb34a-d85f-4495-b66b-eeb7190d95d7"
      },
      "execution_count": 20,
      "outputs": [
        {
          "output_type": "stream",
          "name": "stdout",
          "text": [
            "Características seleccionadas: Index(['card4_discover', 'card6_credit', 'card6_debit', 'M2_F', 'M3_F', 'M3_T',\n",
            "       'M6_F', 'M6_T', 'P_emaildomain_0', 'P_emaildomain_2'],\n",
            "      dtype='object')\n"
          ]
        }
      ]
    },
    {
      "cell_type": "markdown",
      "source": [
        "usando el metodo chi2 para seleccionar las características más relevante son:\n",
        " - 'V135', 'V319', 'V137', 'V321', 'V129', 'V132', 'V309', 'V136', 'V316',\n",
        "'V320'\n",
        "\n",
        "-  'card4_discover', 'card6_credit', 'card6_debit', 'M2_F', 'M3_F', 'M3_T',M6_F', 'M6_T', 'P_emaildomain_0', 'P_emaildomain_2'"
      ],
      "metadata": {
        "id": "DxR-6NZi-W0g"
      }
    },
    {
      "cell_type": "markdown",
      "source": [
        "## Anova"
      ],
      "metadata": {
        "id": "vU6uR2iz-zlw"
      }
    },
    {
      "cell_type": "code",
      "source": [
        "from sklearn.feature_selection import SelectKBest, f_classif\n",
        "\n",
        "# Selección de las 10 mejores características usando ANOVA\n",
        "anova_selector = SelectKBest(f_classif, k=10)\n",
        "X_kbest = anova_selector.fit_transform(X[col_num], y)\n",
        "lista_num = X[col_num].columns[anova_selector.get_support()].tolist()\n",
        "print(\"Características seleccionadas:\", X[col_num].columns[anova_selector.get_support()])\n"
      ],
      "metadata": {
        "colab": {
          "base_uri": "https://localhost:8080/"
        },
        "id": "bFIVeWXq_OIU",
        "outputId": "f2cb5e83-d69f-4051-fcc0-24ca2acc124e"
      },
      "execution_count": 46,
      "outputs": [
        {
          "output_type": "stream",
          "name": "stdout",
          "text": [
            "Características seleccionadas: Index(['V313', 'V134', 'V318', 'V315', 'V306', 'D2', 'V317', 'V128', 'V308',\n",
            "       'V307'],\n",
            "      dtype='object')\n"
          ]
        }
      ]
    },
    {
      "cell_type": "code",
      "source": [
        "for columna in lista_num:\n",
        "    print(f\"Columna: {columna}, el número de variables es: {dataset[columna].nunique()}\")"
      ],
      "metadata": {
        "colab": {
          "base_uri": "https://localhost:8080/"
        },
        "id": "NlqbtV84Mbga",
        "outputId": "bfef6669-07c7-43bf-e5dd-a208496e3a88"
      },
      "execution_count": 47,
      "outputs": [
        {
          "output_type": "stream",
          "name": "stdout",
          "text": [
            "Columna: V313, el número de variables es: 378\n",
            "Columna: V134, el número de variables es: 446\n",
            "Columna: V318, el número de variables es: 555\n",
            "Columna: V315, el número de variables es: 574\n",
            "Columna: V306, el número de variables es: 614\n",
            "Columna: D2, el número de variables es: 630\n",
            "Columna: V317, el número de variables es: 791\n",
            "Columna: V128, el número de variables es: 1011\n",
            "Columna: V308, el número de variables es: 1257\n",
            "Columna: V307, el número de variables es: 2191\n"
          ]
        }
      ]
    },
    {
      "cell_type": "markdown",
      "source": [
        "- Las columnas númericas relevante de las numpericas son:\n",
        "    - 'V313', 'V134', 'V318', 'V315', 'V306', 'D2', 'V317', 'V128', 'V308',\n",
        "       'V307''"
      ],
      "metadata": {
        "id": "yrNH1Lg5AY50"
      }
    },
    {
      "cell_type": "code",
      "source": [],
      "metadata": {
        "id": "Gz9JRRVkAYQo"
      },
      "execution_count": null,
      "outputs": []
    },
    {
      "cell_type": "markdown",
      "source": [
        "## Conclusion"
      ],
      "metadata": {
        "id": "uChvrcdRAkEG"
      }
    },
    {
      "cell_type": "markdown",
      "source": [
        "- se uso el metodo chi2 para seleccionar las categorías más relevantes:\n",
        " - 'V135', 'V319', 'V137', 'V321', 'V129', 'V132', 'V309', 'V136', 'V316',\n",
        "'V320'\n",
        " - 'card4_discover', 'card6_credit', 'card6_debit', 'M2_F', 'M3_F', 'M3_T',M6_F', 'M6_T', 'P_emaildomain_0', 'P_emaildomain_2'\n",
        "- El metodo anova para las categorias numericas.\n",
        "  'V313', 'V134', 'V318', 'V315', 'V306', 'D2', 'V317', 'V128', 'V308',\n",
        "'V307'"
      ],
      "metadata": {
        "id": "-PD_HrNCApR_"
      }
    },
    {
      "cell_type": "code",
      "source": [],
      "metadata": {
        "id": "IpaSB-VHAo6p"
      },
      "execution_count": null,
      "outputs": []
    }
  ],
  "metadata": {
    "language_info": {
      "name": "python"
    },
    "colab": {
      "provenance": []
    },
    "kernelspec": {
      "name": "python3",
      "display_name": "Python 3"
    }
  },
  "nbformat": 4,
  "nbformat_minor": 0
}
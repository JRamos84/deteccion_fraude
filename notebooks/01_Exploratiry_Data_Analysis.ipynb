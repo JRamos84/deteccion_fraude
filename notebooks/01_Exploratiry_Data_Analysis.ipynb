{
  "cells": [
    {
      "cell_type": "markdown",
      "metadata": {
        "id": "dKIPnkHYqCDG"
      },
      "source": [
        "## 01 Exploratory Data Analysis\n",
        "## Objetivo\n",
        "Realizar un análisis exploratorio de los datos (EDA) para entender las características del dataset y detectar patrones, anomalías y relaciones entre las variables.\n",
        "\n"
      ]
    },
    {
      "cell_type": "markdown",
      "metadata": {
        "id": "hv2BhhIvqCDJ"
      },
      "source": [
        "### **Organización de los Datos**\n",
        "El conjunto de datos consta de dos tablas fundamentales. En primer lugar, contamos con la \"Tabla de Transacciones\", que ofrece información detallada sobre cada transacción realizada. En segundo lugar, encontramos la \"Tabla de Identidad\", la cual proporciona datos cruciales relacionados con la conexión de red, incluyendo información como la dirección IP, proveedor de servicios de Internet (ISP), el uso de proxy, entre otros.\n",
        "\n",
        "Esta estructura dual del conjunto de datos permite una comprensión integral de las transacciones al incorporar tanto los detalles transaccionales como la identidad digital asociada, enriqueciendo así el análisis y la interpretación de la información."
      ]
    },
    {
      "cell_type": "code",
      "execution_count": 1,
      "metadata": {
        "id": "v1V55yAqqCDL"
      },
      "outputs": [],
      "source": [
        "## Librerías\n",
        "import os\n",
        "import pandas as pd\n",
        "import numpy as np\n",
        "from sklearn.model_selection import train_test_split\n",
        "import seaborn as sns\n",
        "import matplotlib.pyplot as plt\n",
        "import missingno as msno\n",
        "import numpy as np\n",
        "from scipy import stats"
      ]
    },
    {
      "cell_type": "code",
      "source": [
        "\n",
        "def reduce_mem_usage(df, verbose=True):\n",
        "    \"\"\"\n",
        "    Reduce el uso de memoria de un DataFrame de pandas cambiando los tipos de datos de las columnas numéricas\n",
        "    a tipos más eficientes sin perder información.\n",
        "\n",
        "    Parameters:\n",
        "    df (pd.DataFrame): El DataFrame a optimizar.\n",
        "    verbose (bool): Si es True, imprime el uso de memoria antes y después de la optimización.\n",
        "\n",
        "    Returns:\n",
        "    pd.DataFrame: El DataFrame optimizado.\n",
        "    \"\"\"\n",
        "    # Obtener el uso inicial de memoria\n",
        "    start_mem = df.memory_usage(deep=True).sum() / 1024**2\n",
        "\n",
        "    numerics = ['int16', 'int32', 'int64', 'float16', 'float32', 'float64']\n",
        "\n",
        "    for col in df.columns:\n",
        "        col_type = df[col].dtypes\n",
        "        if col_type in numerics:\n",
        "            c_min = df[col].min()\n",
        "            c_max = df[col].max()\n",
        "\n",
        "            # Optimización para tipos de datos enteros\n",
        "            if pd.api.types.is_integer_dtype(df[col]):\n",
        "                if c_min >= np.iinfo(np.int8).min and c_max <= np.iinfo(np.int8).max:\n",
        "                    df[col] = df[col].astype(np.int8)\n",
        "                elif c_min >= np.iinfo(np.int16).min and c_max <= np.iinfo(np.int16).max:\n",
        "                    df[col] = df[col].astype(np.int16)\n",
        "                elif c_min >= np.iinfo(np.int32).min and c_max <= np.iinfo(np.int32).max:\n",
        "                    df[col] = df[col].astype(np.int32)\n",
        "                elif c_min >= np.iinfo(np.int64).min and c_max <= np.iinfo(np.int64).max:\n",
        "                    df[col] = df[col].astype(np.int64)\n",
        "\n",
        "            # Optimización para tipos de datos flotantes\n",
        "            else:\n",
        "                if c_min >= np.finfo(np.float16).min and c_max <= np.finfo(np.float16).max:\n",
        "                    df[col] = df[col].astype(np.float16)\n",
        "                elif c_min >= np.finfo(np.float32).min and c_max <= np.finfo(np.float32).max:\n",
        "                    df[col] = df[col].astype(np.float32)\n",
        "                else:\n",
        "                    df[col] = df[col].astype(np.float64)\n",
        "\n",
        "    # Obtener el uso final de memoria\n",
        "    end_mem = df.memory_usage(deep=True).sum() / 1024**2\n",
        "    if verbose:\n",
        "        print(f'Mem. usage decreased to {end_mem:.2f} Mb ({100 * (start_mem - end_mem) / start_mem:.1f}% reduction)')\n",
        "\n",
        "    return df\n",
        "\n",
        "\n",
        "def calcular_porcentaje_fraude(df_train,col):\n",
        "    # Filtrar y copiar el DataFrame eliminando filas con valores nulos en col\n",
        "    df_filtered = df_train.dropna(subset=[col]).copy()\n",
        "    df_filtered[col] = df_filtered[col].astype(int)  # Convertir col a tipo entero\n",
        "\n",
        "    # Separar por fraude y no fraude\n",
        "    df_fraude = df_filtered[df_filtered['isFraud'] == 1]\n",
        "    df_no_fraude = df_filtered[df_filtered['isFraud'] == 0]\n",
        "\n",
        "    # Calcular el tamaño de cada grupo agrupando por col para fraude y no fraude\n",
        "    addr_fraude = df_fraude.groupby(col).size().reset_index(name='N° Registros_Fraude')\n",
        "    addr_no_fraude = df_no_fraude.groupby(col).size().reset_index(name='N° Registros_No_Fraude')\n",
        "\n",
        "    # Combinar los resultados en un DataFrame final\n",
        "    addr_resultado = pd.merge(addr_fraude, addr_no_fraude, on=col, how='outer').fillna(0)\n",
        "\n",
        "    # Calcular el porcentaje sobre el total de cada fila\n",
        "    addr_resultado['Porcentaje_Fraude %'] = round((addr_resultado['N° Registros_Fraude'] /\n",
        "                                                   (addr_resultado['N° Registros_Fraude'] + addr_resultado['N° Registros_No_Fraude'])) * 100, 2)\n",
        "    addr_resultado['Porcentaje_No_Fraude %'] = round((addr_resultado['N° Registros_No_Fraude'] /\n",
        "                                                      (addr_resultado['N° Registros_Fraude'] + addr_resultado['N° Registros_No_Fraude'])) * 100, 2)\n",
        "\n",
        "    # Ordenar el DataFrame por número de registros de fraude de manera descendente y mostrar los primeros 10 grupos\n",
        "    #addr_resultado_porcentaje_fraude = addr_resultado.sort_values(by='Porcentaje_Fraude %', ascending=False).head(10)\n",
        "\n",
        "    return addr_resultado\n",
        "\n",
        "\n",
        "\n",
        "\n",
        "\n",
        "def agrupar_columnas_por_valores_nulos(df):\n",
        "    \"\"\"\n",
        "    Agrupa las columnas de un DataFrame por el porcentaje de valores nulos en rangos definidos.\n",
        "\n",
        "    Parámetros:\n",
        "    df (pandas.DataFrame): El DataFrame a analizar.\n",
        "\n",
        "    Retorna:\n",
        "    dict: Un diccionario donde las claves son los rangos de porcentajes de valores nulos\n",
        "          y los valores son listas de nombres de columnas que caen en esos rangos.\n",
        "    \"\"\"\n",
        "    # Calcula el porcentaje de valores nulos para cada columna\n",
        "    null_percentages = (df.isnull().sum() / len(df)) * 100\n",
        "\n",
        "    # Define los rangos para los valores nulos\n",
        "    ranges = [\n",
        "        (0, 10),\n",
        "        (10, 20),\n",
        "        (20, 30),\n",
        "        (30, 40),\n",
        "        (40, 50),\n",
        "        (50, 60),\n",
        "        (60, 70),\n",
        "        (70, 80),\n",
        "        (80, 90),\n",
        "        (90, 100)\n",
        "    ]\n",
        "\n",
        "    # Agrupa las columnas en los rangos definidos\n",
        "    grouped_columns = {f'{r[0]}-{r[1]}%': [] for r in ranges}\n",
        "\n",
        "    for column, percentage in null_percentages.items():\n",
        "        for r in ranges:\n",
        "            if r[0] <= percentage < r[1]:\n",
        "                grouped_columns[f'{r[0]}-{r[1]}%'].append(column)\n",
        "\n",
        "    # Elimina los rangos vacíos\n",
        "    grouped_columns = {k: v for k, v in grouped_columns.items() if v}\n",
        "\n",
        "    return grouped_columns\n",
        "\n",
        "\n",
        "\n",
        "\n",
        "\n",
        "\n"
      ],
      "metadata": {
        "id": "XT6XYX-qsizj"
      },
      "execution_count": 49,
      "outputs": []
    },
    {
      "cell_type": "code",
      "source": [
        "## Importamos las librerias a usar\n",
        "from google.colab import drive\n",
        "drive.mount('/content/drive')\n",
        "data_dir = '/content/drive/MyDrive/cursos-analisis-datos/data-science/proyecto/propuestas/propuesta1/ieee-fraud-detection'"
      ],
      "metadata": {
        "id": "8XqXVBXoqW8e",
        "outputId": "debb3962-9735-4556-f4ce-cc84291fde45",
        "colab": {
          "base_uri": "https://localhost:8080/"
        }
      },
      "execution_count": 3,
      "outputs": [
        {
          "output_type": "stream",
          "name": "stdout",
          "text": [
            "Mounted at /content/drive\n"
          ]
        }
      ]
    },
    {
      "cell_type": "code",
      "execution_count": 4,
      "metadata": {
        "id": "U629FwACqCDN",
        "outputId": "8be4e2e7-c40c-4f3d-8aba-c678bc3c84c1",
        "colab": {
          "base_uri": "https://localhost:8080/"
        }
      },
      "outputs": [
        {
          "output_type": "stream",
          "name": "stdout",
          "text": [
            "total 1.3G\n",
            "drwx------ 2 root root 4.0K Jun 22 14:48 processed\n",
            "-rw------- 1 root root 5.8M Dec 12  2019 sample_submission.csv\n",
            "-rw------- 1 root root  25M Dec 12  2019 test_identity.csv\n",
            "-rw------- 1 root root 585M Dec 12  2019 test_transaction.csv\n",
            "-rw------- 1 root root  26M Dec 12  2019 train_identity.csv\n",
            "-rw------- 1 root root 652M Dec 12  2019 train_transaction.csv\n"
          ]
        }
      ],
      "source": [
        "## directorio de los datasets\n",
        "#data_dir = '../data/raw/ieee-fraud-detection'\n",
        "## Lista de los archivos descargados\n",
        "!ls -lh {data_dir}"
      ]
    },
    {
      "cell_type": "code",
      "execution_count": 5,
      "metadata": {
        "id": "xq7eMlGEqCDP",
        "outputId": "2b69c1cf-8250-47c5-8eb1-0614e041c1af",
        "colab": {
          "base_uri": "https://localhost:8080/"
        }
      },
      "outputs": [
        {
          "output_type": "stream",
          "name": "stdout",
          "text": [
            "train_transaction.csv tiene 590541 líneas\n",
            "train_identity.csv tiene 144234 líneas\n",
            "test_transaction.csv tiene 506692 líneas\n",
            "test_identity.csv tiene 141908 líneas\n"
          ]
        }
      ],
      "source": [
        "\n",
        "files = ['train_transaction.csv', 'train_identity.csv', 'test_transaction.csv', 'test_identity.csv']\n",
        "\n",
        "for file in files:\n",
        "    file_path = os.path.join(data_dir, file)\n",
        "    with open(file_path, 'r') as f:\n",
        "        line_count = sum(1 for line in f)\n",
        "    print(f'{file} tiene {line_count} líneas')\n"
      ]
    },
    {
      "cell_type": "markdown",
      "metadata": {
        "id": "FC4GthxWqCDQ"
      },
      "source": [
        "**Observación:**\n",
        "\n",
        "Los datos de entrenamientos son más de un millon de registro, por lo tanto se toma una fracción de los registro de entrenamiento para este trabajo para facilitar el análisis y el entrenamiento del modelo."
      ]
    },
    {
      "cell_type": "markdown",
      "metadata": {
        "id": "o3VbCVSmqCDQ"
      },
      "source": [
        "\n",
        "### **Características Categóricas - Tabla Identity**\n",
        "\n",
        "Las variables en esta tabla incluyen información de identidad, abarcando detalles de la conexión de red (IP, ISP, Proxy, etc.) y la firma digital (UA/navegador/sistema operativo/versión, etc.) asociada con las transacciones. Estos datos son recopilados por el sistema de protección contra fraudes de Vesta y socios de seguridad digital. (Los nombres de los campos están enmascarados y no se proporcionará un diccionario emparejado por razones de privacidad y acuerdo contractual).\n",
        "\n",
        "- DeviceType\n",
        "- DeviceInfo\n",
        "- id_12 - id_38\n",
        "\n",
        "Se realiza una fusión de ambas tablas para construir un único marco de datos. Además, procederemos a seleccionar una porción específica de este marco de datos, ya que, en esta primera fase del análisis, no es necesario utilizar todos los registros. Al final, emplearemos la totalidad de los datos."
      ]
    },
    {
      "cell_type": "markdown",
      "metadata": {
        "id": "61c6MsNSqCDQ"
      },
      "source": [
        "### Selección de Porción del Dataset con Muestreo Estratificado\n",
        "\n",
        "Para seleccionar una porción representativa de un dataset grande para entrenamiento sin introducir sesgo, se utiliza el muestreo aleatorio estratificado. Este método asegura que la proporción de clases en la muestra sea la misma que en el conjunto de datos original, lo cual es crucial para problemas de clasificación con clases desbalanceadas.\n"
      ]
    },
    {
      "cell_type": "code",
      "source": [
        "\n",
        "## Cargamos los dataset de train_transaction y train_identity\n",
        "df_transaction_train = pd.read_csv(data_dir + '/train_transaction.csv')\n",
        "df_identity_train = pd.read_csv(data_dir + '/train_identity.csv')\n",
        "## Reducimos los tamaños de los dataset cambiando los tipos de los datos de las columnas\n",
        "df_transaction_train = reduce_mem_usage(df_transaction_train)\n",
        "df_identity_train = reduce_mem_usage(df_identity_train)"
      ],
      "metadata": {
        "id": "KX2RNXIBtUk2",
        "outputId": "ae3ba901-c36d-4757-ec46-84a36ccaffc2",
        "colab": {
          "base_uri": "https://localhost:8080/"
        }
      },
      "execution_count": 6,
      "outputs": [
        {
          "output_type": "stream",
          "name": "stdout",
          "text": [
            "Mem. usage decreased to 867.89 Mb (58.7% reduction)\n",
            "Mem. usage decreased to 138.38 Mb (12.2% reduction)\n"
          ]
        }
      ]
    },
    {
      "cell_type": "code",
      "execution_count": 7,
      "metadata": {
        "id": "hRm0tEMUqCDR",
        "outputId": "97742819-4169-45c6-afd4-a6c4d76efd8b",
        "colab": {
          "base_uri": "https://localhost:8080/"
        }
      },
      "outputs": [
        {
          "output_type": "stream",
          "name": "stdout",
          "text": [
            "<class 'pandas.core.frame.DataFrame'>\n",
            "RangeIndex: 590540 entries, 0 to 590539\n",
            "Columns: 434 entries, TransactionID to DeviceInfo\n",
            "dtypes: float16(354), float32(45), int16(1), int32(2), int8(1), object(31)\n",
            "memory usage: 646.0+ MB\n"
          ]
        }
      ],
      "source": [
        "\n",
        "\n",
        "# Combinar los datasets\n",
        "dataset = pd.merge(df_transaction_train, df_identity_train, on='TransactionID', how='left')\n",
        "df_train = dataset\n",
        "df_train.info()"
      ]
    },
    {
      "cell_type": "markdown",
      "metadata": {
        "id": "gpfspUoIqCDS"
      },
      "source": [
        "### Dimensiones del dataset"
      ]
    },
    {
      "cell_type": "code",
      "execution_count": 8,
      "metadata": {
        "id": "DPc5hpfWqCDS",
        "outputId": "f78283e7-3d70-44d6-f427-c3e377857033",
        "colab": {
          "base_uri": "https://localhost:8080/"
        }
      },
      "outputs": [
        {
          "output_type": "execute_result",
          "data": {
            "text/plain": [
              "(590540, 434)"
            ]
          },
          "metadata": {},
          "execution_count": 8
        }
      ],
      "source": [
        "df_train.shape"
      ]
    },
    {
      "cell_type": "markdown",
      "metadata": {
        "id": "6hxWFP2bqCDT"
      },
      "source": [
        "## **Consideraciones Iniciales**\n",
        "En la fase inicial de nuestro análisis, nos enfrentamos a una abrumadora cantidad de columnas. Con el objetivo de simplificar y focalizarnos en esta etapa inicial, buscaremos reducir el conjunto de columnas al máximo posible.\n",
        "\n",
        "### Características Iniciales para el Análisis de Primera Etapa\n",
        "1. **TransactionDT:** Representa un delta de tiempo desde un punto de referencia.\n",
        "2. **TransactionAMT:** Indica la cantidad en USD para el pago de la transacción.\n",
        "3. **ProductCD:** Código del producto.\n",
        "4. **addr:** Dirección.\n",
        "5. **dist:** Distancia.\n",
        "6. **P_ and (R__):** Dominio de correo electrónico del comprador y del destinatario.\n",
        "7. **deviceType**\n",
        "8. **DeviceInfo**\n",
        "\n",
        "Las siguientes características no se incluirán en esta fase inicial:\n",
        "- **C1-C14:** Recuento, como la cantidad de direcciones asociadas a la tarjeta de pago, entre otros. El significado real está enmascarado.\n",
        "- **D1-D15:** Timedelta, como los días entre la transacción anterior, etc.\n",
        "- **M1-M9:** Coincidencias, como los nombres en la tarjeta y la dirección, etc.\n",
        "- **Vxxx:** Características ricas desarrolladas por Vesta, que incluyen ranking, conteo y relaciones con otras entidades.\n",
        "\n",
        "id_12 - id_38\n"
      ]
    },
    {
      "cell_type": "markdown",
      "metadata": {
        "id": "xFAgIBvEqCDU"
      },
      "source": [
        "Por lo tanto tenemos 11 columnas de propiedades y 59054 registros"
      ]
    },
    {
      "cell_type": "markdown",
      "metadata": {
        "id": "BTlsZhTeqCDU"
      },
      "source": [
        "### Tipos de datos y resumen estadísticos"
      ]
    },
    {
      "cell_type": "code",
      "execution_count": 9,
      "metadata": {
        "id": "RkNpt5AtqCDV",
        "outputId": "93dc999b-8b8b-4266-f8f5-690f5aa2b174",
        "colab": {
          "base_uri": "https://localhost:8080/"
        }
      },
      "outputs": [
        {
          "output_type": "stream",
          "name": "stdout",
          "text": [
            "Número de variables numéricas: 402\n",
            "Nombres de variables numéricas: ['TransactionID', 'TransactionDT', 'TransactionAmt', 'card1', 'card2', 'card3', 'card5', 'addr1', 'addr2', 'dist1', 'dist2', 'C1', 'C2', 'C3', 'C4', 'C5', 'C6', 'C7', 'C8', 'C9', 'C10', 'C11', 'C12', 'C13', 'C14', 'D1', 'D2', 'D3', 'D4', 'D5', 'D6', 'D7', 'D8', 'D9', 'D10', 'D11', 'D12', 'D13', 'D14', 'D15', 'V1', 'V2', 'V3', 'V4', 'V5', 'V6', 'V7', 'V8', 'V9', 'V10', 'V11', 'V12', 'V13', 'V14', 'V15', 'V16', 'V17', 'V18', 'V19', 'V20', 'V21', 'V22', 'V23', 'V24', 'V25', 'V26', 'V27', 'V28', 'V29', 'V30', 'V31', 'V32', 'V33', 'V34', 'V35', 'V36', 'V37', 'V38', 'V39', 'V40', 'V41', 'V42', 'V43', 'V44', 'V45', 'V46', 'V47', 'V48', 'V49', 'V50', 'V51', 'V52', 'V53', 'V54', 'V55', 'V56', 'V57', 'V58', 'V59', 'V60', 'V61', 'V62', 'V63', 'V64', 'V65', 'V66', 'V67', 'V68', 'V69', 'V70', 'V71', 'V72', 'V73', 'V74', 'V75', 'V76', 'V77', 'V78', 'V79', 'V80', 'V81', 'V82', 'V83', 'V84', 'V85', 'V86', 'V87', 'V88', 'V89', 'V90', 'V91', 'V92', 'V93', 'V94', 'V95', 'V96', 'V97', 'V98', 'V99', 'V100', 'V101', 'V102', 'V103', 'V104', 'V105', 'V106', 'V107', 'V108', 'V109', 'V110', 'V111', 'V112', 'V113', 'V114', 'V115', 'V116', 'V117', 'V118', 'V119', 'V120', 'V121', 'V122', 'V123', 'V124', 'V125', 'V126', 'V127', 'V128', 'V129', 'V130', 'V131', 'V132', 'V133', 'V134', 'V135', 'V136', 'V137', 'V138', 'V139', 'V140', 'V141', 'V142', 'V143', 'V144', 'V145', 'V146', 'V147', 'V148', 'V149', 'V150', 'V151', 'V152', 'V153', 'V154', 'V155', 'V156', 'V157', 'V158', 'V159', 'V160', 'V161', 'V162', 'V163', 'V164', 'V165', 'V166', 'V167', 'V168', 'V169', 'V170', 'V171', 'V172', 'V173', 'V174', 'V175', 'V176', 'V177', 'V178', 'V179', 'V180', 'V181', 'V182', 'V183', 'V184', 'V185', 'V186', 'V187', 'V188', 'V189', 'V190', 'V191', 'V192', 'V193', 'V194', 'V195', 'V196', 'V197', 'V198', 'V199', 'V200', 'V201', 'V202', 'V203', 'V204', 'V205', 'V206', 'V207', 'V208', 'V209', 'V210', 'V211', 'V212', 'V213', 'V214', 'V215', 'V216', 'V217', 'V218', 'V219', 'V220', 'V221', 'V222', 'V223', 'V224', 'V225', 'V226', 'V227', 'V228', 'V229', 'V230', 'V231', 'V232', 'V233', 'V234', 'V235', 'V236', 'V237', 'V238', 'V239', 'V240', 'V241', 'V242', 'V243', 'V244', 'V245', 'V246', 'V247', 'V248', 'V249', 'V250', 'V251', 'V252', 'V253', 'V254', 'V255', 'V256', 'V257', 'V258', 'V259', 'V260', 'V261', 'V262', 'V263', 'V264', 'V265', 'V266', 'V267', 'V268', 'V269', 'V270', 'V271', 'V272', 'V273', 'V274', 'V275', 'V276', 'V277', 'V278', 'V279', 'V280', 'V281', 'V282', 'V283', 'V284', 'V285', 'V286', 'V287', 'V288', 'V289', 'V290', 'V291', 'V292', 'V293', 'V294', 'V295', 'V296', 'V297', 'V298', 'V299', 'V300', 'V301', 'V302', 'V303', 'V304', 'V305', 'V306', 'V307', 'V308', 'V309', 'V310', 'V311', 'V312', 'V313', 'V314', 'V315', 'V316', 'V317', 'V318', 'V319', 'V320', 'V321', 'V322', 'V323', 'V324', 'V325', 'V326', 'V327', 'V328', 'V329', 'V330', 'V331', 'V332', 'V333', 'V334', 'V335', 'V336', 'V337', 'V338', 'V339', 'id_01', 'id_02', 'id_03', 'id_04', 'id_05', 'id_06', 'id_07', 'id_08', 'id_09', 'id_10', 'id_11', 'id_13', 'id_14', 'id_17', 'id_18', 'id_19', 'id_20', 'id_21', 'id_22', 'id_24', 'id_25', 'id_26', 'id_32']\n",
            "\n",
            "Número de variables categóricas: 31\n",
            "Nombres de variables categóricas: ['ProductCD', 'card4', 'card6', 'P_emaildomain', 'R_emaildomain', 'M1', 'M2', 'M3', 'M4', 'M5', 'M6', 'M7', 'M8', 'M9', 'id_12', 'id_15', 'id_16', 'id_23', 'id_27', 'id_28', 'id_29', 'id_30', 'id_31', 'id_33', 'id_34', 'id_35', 'id_36', 'id_37', 'id_38', 'DeviceType', 'DeviceInfo']\n"
          ]
        }
      ],
      "source": [
        "import pandas as pd\n",
        "\n",
        "# Suponiendo que ya tienes cargado tu dataset en 'df_train'\n",
        "\n",
        "# Identificar tipos de datos\n",
        "data_types = df_train.drop('isFraud',axis=1).dtypes\n",
        "\n",
        "# Filtrar y contar variables numéricas y categóricas\n",
        "num_vars = data_types[data_types != 'object']  # Variables numéricas\n",
        "cat_vars = data_types[data_types == 'object']  # Variables categóricas\n",
        "\n",
        "# Obtener nombres de las variables\n",
        "num_vars_names = num_vars.index.tolist()\n",
        "cat_vars_names = cat_vars.index.tolist()\n",
        "\n",
        "# Mostrar resultados\n",
        "print(f\"Número de variables numéricas: {num_vars.shape[0]}\")\n",
        "print(f\"Nombres de variables numéricas: {num_vars_names}\")\n",
        "print()\n",
        "print(f\"Número de variables categóricas: {cat_vars.shape[0]}\")\n",
        "print(f\"Nombres de variables categóricas: {cat_vars_names}\")\n"
      ]
    },
    {
      "cell_type": "code",
      "execution_count": 10,
      "metadata": {
        "id": "mrZxIGBiqCDW",
        "outputId": "47a27794-30f9-4397-d66a-584fededf5d3",
        "colab": {
          "base_uri": "https://localhost:8080/"
        }
      },
      "outputs": [
        {
          "output_type": "stream",
          "name": "stdout",
          "text": [
            "Columna: ProductCD, el número de variables es: 5\n",
            "Columna: card4, el número de variables es: 4\n",
            "Columna: card6, el número de variables es: 4\n",
            "Columna: P_emaildomain, el número de variables es: 59\n",
            "Columna: R_emaildomain, el número de variables es: 60\n",
            "Columna: M1, el número de variables es: 2\n",
            "Columna: M2, el número de variables es: 2\n",
            "Columna: M3, el número de variables es: 2\n",
            "Columna: M4, el número de variables es: 3\n",
            "Columna: M5, el número de variables es: 2\n",
            "Columna: M6, el número de variables es: 2\n",
            "Columna: M7, el número de variables es: 2\n",
            "Columna: M8, el número de variables es: 2\n",
            "Columna: M9, el número de variables es: 2\n",
            "Columna: id_12, el número de variables es: 2\n",
            "Columna: id_15, el número de variables es: 3\n",
            "Columna: id_16, el número de variables es: 2\n",
            "Columna: id_23, el número de variables es: 3\n",
            "Columna: id_27, el número de variables es: 2\n",
            "Columna: id_28, el número de variables es: 2\n",
            "Columna: id_29, el número de variables es: 2\n",
            "Columna: id_30, el número de variables es: 75\n",
            "Columna: id_31, el número de variables es: 130\n",
            "Columna: id_33, el número de variables es: 260\n",
            "Columna: id_34, el número de variables es: 4\n",
            "Columna: id_35, el número de variables es: 2\n",
            "Columna: id_36, el número de variables es: 2\n",
            "Columna: id_37, el número de variables es: 2\n",
            "Columna: id_38, el número de variables es: 2\n",
            "Columna: DeviceType, el número de variables es: 2\n",
            "Columna: DeviceInfo, el número de variables es: 1786\n"
          ]
        }
      ],
      "source": [
        "for columna in cat_vars_names :\n",
        "    print(f\"Columna: {columna}, el número de variables es: {df_train[columna].nunique()}\")"
      ]
    },
    {
      "cell_type": "markdown",
      "metadata": {
        "id": "Q3j8TpWcqCDX"
      },
      "source": [
        "## Análisis de valores nulos"
      ]
    },
    {
      "cell_type": "markdown",
      "metadata": {
        "id": "ZIRXBXI2qCDX"
      },
      "source": [
        "### Identificación de valores nulos"
      ]
    },
    {
      "cell_type": "markdown",
      "metadata": {
        "id": "YaG8eeAhqCDY"
      },
      "source": [
        "### Porcentaje de valores nulos"
      ]
    },
    {
      "cell_type": "code",
      "execution_count": 11,
      "metadata": {
        "id": "1b-9R8F0qCDY",
        "outputId": "84ad5182-2dba-49f1-fc5b-bc87a16705fc",
        "colab": {
          "base_uri": "https://localhost:8080/"
        }
      },
      "outputs": [
        {
          "output_type": "stream",
          "name": "stdout",
          "text": [
            "Rango de valores nulos: 0-10%\n",
            "Columnas: ['TransactionID', 'isFraud', 'TransactionDT', 'TransactionAmt', 'ProductCD', 'card1', 'card2', 'card3', 'card4', 'card5', 'card6', 'C1', 'C2', 'C3', 'C4', 'C5', 'C6', 'C7', 'C8', 'C9', 'C10', 'C11', 'C12', 'C13', 'C14', 'D1', 'V95', 'V96', 'V97', 'V98', 'V99', 'V100', 'V101', 'V102', 'V103', 'V104', 'V105', 'V106', 'V107', 'V108', 'V109', 'V110', 'V111', 'V112', 'V113', 'V114', 'V115', 'V116', 'V117', 'V118', 'V119', 'V120', 'V121', 'V122', 'V123', 'V124', 'V125', 'V126', 'V127', 'V128', 'V129', 'V130', 'V131', 'V132', 'V133', 'V134', 'V135', 'V136', 'V137', 'V279', 'V280', 'V281', 'V282', 'V283', 'V284', 'V285', 'V286', 'V287', 'V288', 'V289', 'V290', 'V291', 'V292', 'V293', 'V294', 'V295', 'V296', 'V297', 'V298', 'V299', 'V300', 'V301', 'V302', 'V303', 'V304', 'V305', 'V306', 'V307', 'V308', 'V309', 'V310', 'V311', 'V312', 'V313', 'V314', 'V315', 'V316', 'V317', 'V318', 'V319', 'V320', 'V321']\n",
            "\n",
            "Rango de valores nulos: 10-20%\n",
            "Columnas: ['addr1', 'addr2', 'P_emaildomain', 'D10', 'D15', 'V12', 'V13', 'V14', 'V15', 'V16', 'V17', 'V18', 'V19', 'V20', 'V21', 'V22', 'V23', 'V24', 'V25', 'V26', 'V27', 'V28', 'V29', 'V30', 'V31', 'V32', 'V33', 'V34', 'V53', 'V54', 'V55', 'V56', 'V57', 'V58', 'V59', 'V60', 'V61', 'V62', 'V63', 'V64', 'V65', 'V66', 'V67', 'V68', 'V69', 'V70', 'V71', 'V72', 'V73', 'V74', 'V75', 'V76', 'V77', 'V78', 'V79', 'V80', 'V81', 'V82', 'V83', 'V84', 'V85', 'V86', 'V87', 'V88', 'V89', 'V90', 'V91', 'V92', 'V93', 'V94']\n",
            "\n",
            "Rango de valores nulos: 20-30%\n",
            "Columnas: ['D4', 'M6', 'V35', 'V36', 'V37', 'V38', 'V39', 'V40', 'V41', 'V42', 'V43', 'V44', 'V45', 'V46', 'V47', 'V48', 'V49', 'V50', 'V51', 'V52']\n",
            "\n",
            "Rango de valores nulos: 40-50%\n",
            "Columnas: ['D2', 'D3', 'D11', 'M1', 'M2', 'M3', 'M4', 'V1', 'V2', 'V3', 'V4', 'V5', 'V6', 'V7', 'V8', 'V9', 'V10', 'V11']\n",
            "\n",
            "Rango de valores nulos: 50-60%\n",
            "Columnas: ['dist1', 'D5', 'M5', 'M7', 'M8', 'M9']\n",
            "\n",
            "Rango de valores nulos: 70-80%\n",
            "Columnas: ['R_emaildomain', 'V167', 'V168', 'V169', 'V170', 'V171', 'V172', 'V173', 'V174', 'V175', 'V176', 'V177', 'V178', 'V179', 'V180', 'V181', 'V182', 'V183', 'V184', 'V185', 'V186', 'V187', 'V188', 'V189', 'V190', 'V191', 'V192', 'V193', 'V194', 'V195', 'V196', 'V197', 'V198', 'V199', 'V200', 'V201', 'V202', 'V203', 'V204', 'V205', 'V206', 'V207', 'V208', 'V209', 'V210', 'V211', 'V212', 'V213', 'V214', 'V215', 'V216', 'V217', 'V218', 'V219', 'V220', 'V221', 'V222', 'V223', 'V224', 'V225', 'V226', 'V227', 'V228', 'V229', 'V230', 'V231', 'V232', 'V233', 'V234', 'V235', 'V236', 'V237', 'V238', 'V239', 'V240', 'V241', 'V242', 'V243', 'V244', 'V245', 'V246', 'V247', 'V248', 'V249', 'V250', 'V251', 'V252', 'V253', 'V254', 'V255', 'V256', 'V257', 'V258', 'V259', 'V260', 'V261', 'V262', 'V263', 'V264', 'V265', 'V266', 'V267', 'V268', 'V269', 'V270', 'V271', 'V272', 'V273', 'V274', 'V275', 'V276', 'V277', 'V278', 'id_01', 'id_02', 'id_05', 'id_06', 'id_11', 'id_12', 'id_13', 'id_15', 'id_16', 'id_17', 'id_19', 'id_20', 'id_28', 'id_29', 'id_31', 'id_35', 'id_36', 'id_37', 'id_38', 'DeviceType', 'DeviceInfo']\n",
            "\n",
            "Rango de valores nulos: 80-90%\n",
            "Columnas: ['D6', 'D8', 'D9', 'D12', 'D13', 'D14', 'V138', 'V139', 'V140', 'V141', 'V142', 'V143', 'V144', 'V145', 'V146', 'V147', 'V148', 'V149', 'V150', 'V151', 'V152', 'V153', 'V154', 'V155', 'V156', 'V157', 'V158', 'V159', 'V160', 'V161', 'V162', 'V163', 'V164', 'V165', 'V166', 'V322', 'V323', 'V324', 'V325', 'V326', 'V327', 'V328', 'V329', 'V330', 'V331', 'V332', 'V333', 'V334', 'V335', 'V336', 'V337', 'V338', 'V339', 'id_03', 'id_04', 'id_09', 'id_10', 'id_14', 'id_30', 'id_32', 'id_33', 'id_34']\n",
            "\n",
            "Rango de valores nulos: 90-100%\n",
            "Columnas: ['dist2', 'D7', 'id_07', 'id_08', 'id_18', 'id_21', 'id_22', 'id_23', 'id_24', 'id_25', 'id_26', 'id_27']\n",
            "\n"
          ]
        }
      ],
      "source": [
        "# Calcula el porcentaje de valores nulos para cada columna\n",
        "null_percentages = (df_train.isnull().sum() / len(dataset)) * 100\n",
        "\n",
        "# Define los rangos para los valores nulos\n",
        "ranges = [\n",
        "    (0, 10),\n",
        "    (10, 20),\n",
        "    (20, 30),\n",
        "    (30, 40),\n",
        "    (40, 50),\n",
        "    (50, 60),\n",
        "    (60, 70),\n",
        "    (70, 80),\n",
        "    (80, 90),\n",
        "    (90, 100)\n",
        "]\n",
        "\n",
        "# Agrupa las columnas en los rangos definidosa\n",
        "grouped_columns = {f'{r[0]}-{r[1]}%': [] for r in ranges}\n",
        "\n",
        "for column, percentage in null_percentages.items():\n",
        "    for r in ranges:\n",
        "        if r[0] <= percentage < r[1]:\n",
        "            grouped_columns[f'{r[0]}-{r[1]}%'].append(column)\n",
        "\n",
        "# Imprime los resultados\n",
        "for range_, columns in grouped_columns.items():\n",
        "    if columns:\n",
        "        print(f'Rango de valores nulos: {range_}')\n",
        "        print(f'Columnas: {columns}')\n",
        "        print()"
      ]
    },
    {
      "cell_type": "code",
      "execution_count": 12,
      "metadata": {
        "id": "OxclNLYxqCDa",
        "outputId": "efe83383-a858-439d-8341-aa5bf0e005ce",
        "colab": {
          "base_uri": "https://localhost:8080/"
        }
      },
      "outputs": [
        {
          "output_type": "stream",
          "name": "stdout",
          "text": [
            "      Variable 1 Variable 2  Correlación\n",
            "13118        V57        V59     1.000000\n",
            "34781       V229       V269     1.000000\n",
            "34774       V229       V262     1.000000\n",
            "34775       V229       V263     1.000000\n",
            "34776       V229       V264     1.000000\n",
            "...          ...        ...          ...\n",
            "13523        V58       V329    -0.936737\n",
            "13524        V58       V330    -0.936737\n",
            "13525        V58       V331    -0.936737\n",
            "13526        V58       V332    -0.936737\n",
            "15248        V66       V322    -0.936737\n",
            "\n",
            "[40064 rows x 3 columns]\n"
          ]
        }
      ],
      "source": [
        "\n",
        "\n",
        "# Suponiendo que ya tienes cargado tu dataset en 'df_train'\n",
        "\n",
        "# Crear una nueva DataFrame booleano indicando valores nulos\n",
        "df_nulls = df_train.sample(frac=0.1).isnull()\n",
        "\n",
        "# Calcular la correlación entre los valores nulos\n",
        "corr_nulls = df_nulls.corr()\n",
        "\n",
        "# Obtener triángulo superior de la matriz de correlación (sin la diagonal principal)\n",
        "upper_triangle = corr_nulls.where(np.triu(np.ones(corr_nulls.shape), k=1).astype(bool))\n",
        "\n",
        "# Definir umbral de correlación\n",
        "threshold = 0.5\n",
        "\n",
        "# Filtrar pares de variables con correlación mayor que el umbral\n",
        "high_corr_pairs = upper_triangle[upper_triangle.abs() > threshold].stack().reset_index()\n",
        "high_corr_pairs.columns = ['Variable 1', 'Variable 2', 'Correlación']\n",
        "\n",
        "# Mostrar los pares de variables con alta correlación ordenados por la correlación\n",
        "high_corr_pairs_sorted = high_corr_pairs.sort_values(by='Correlación', ascending=False)\n",
        "print(high_corr_pairs_sorted)\n"
      ]
    },
    {
      "cell_type": "markdown",
      "metadata": {
        "id": "VM4AA-FdqCDa"
      },
      "source": [
        "\n",
        "\n",
        "Las variables también muestran una alta correlación de datos nulos, reflejada en la gran cantidad de valores ausentes para cada variable, lo cual contribuye a un alto valor de correlación entre ellas."
      ]
    },
    {
      "cell_type": "markdown",
      "metadata": {
        "id": "gTwjK_8aqCDc"
      },
      "source": [
        "### Valores Duplicados"
      ]
    },
    {
      "cell_type": "code",
      "execution_count": 13,
      "metadata": {
        "id": "VwsMR7rHqCDc",
        "outputId": "9b867a6d-dc1d-46ad-b2b5-5dcb03b7c976",
        "colab": {
          "base_uri": "https://localhost:8080/"
        }
      },
      "outputs": [
        {
          "output_type": "execute_result",
          "data": {
            "text/plain": [
              "0"
            ]
          },
          "metadata": {},
          "execution_count": 13
        }
      ],
      "source": [
        "df_train[df_train.duplicated(keep=False)].count().sum()"
      ]
    },
    {
      "cell_type": "markdown",
      "metadata": {
        "id": "s8A2LnWlqCDd"
      },
      "source": [
        "Debido a la baja presencia de valores duplicados, procederemos a eliminarlos del dataset.\n",
        "\n"
      ]
    },
    {
      "cell_type": "markdown",
      "metadata": {
        "id": "a4FRZPt0qCDf"
      },
      "source": [
        "## Análisis Univariado"
      ]
    },
    {
      "cell_type": "markdown",
      "metadata": {
        "id": "NmtLY0iJqCDf"
      },
      "source": [
        "### Columna Target 'isFraud'\n",
        "\n",
        "Comenzamos el análisis focalizándonos en la columna \"isFraud\", ya que representa el resultado de nuestros predictores o características. Evaluamos la cantidad de registros y representaremos visualmente esta información mediante un gráfico de barras, con el propósito de ilustrar la cantidad de registros clasificados como fraude y aquellos que no lo son."
      ]
    },
    {
      "cell_type": "code",
      "source": [
        "df_train['isFraud'].value_counts()"
      ],
      "metadata": {
        "id": "RPTPqGLS1jmF",
        "outputId": "54de51ca-597c-4917-dae0-cea6da0dcd71",
        "colab": {
          "base_uri": "https://localhost:8080/"
        }
      },
      "execution_count": 14,
      "outputs": [
        {
          "output_type": "execute_result",
          "data": {
            "text/plain": [
              "isFraud\n",
              "0    569877\n",
              "1     20663\n",
              "Name: count, dtype: int64"
            ]
          },
          "metadata": {},
          "execution_count": 14
        }
      ]
    },
    {
      "cell_type": "code",
      "execution_count": 15,
      "metadata": {
        "id": "lhAPkm33qCDg",
        "outputId": "dc328f64-a6dc-4d6f-e1e6-2448d74085f9",
        "colab": {
          "base_uri": "https://localhost:8080/",
          "height": 699
        }
      },
      "outputs": [
        {
          "output_type": "stream",
          "name": "stderr",
          "text": [
            "<ipython-input-15-3b3dcc77bce0>:11: FutureWarning: \n",
            "\n",
            "Passing `palette` without assigning `hue` is deprecated and will be removed in v0.14.0. Assign the `x` variable to `hue` and set `legend=False` for the same effect.\n",
            "\n",
            "  sns.barplot(data=df_fraude, x='isFraud', y='count', palette=['tab:blue', 'tab:red'], ax=ax)\n"
          ]
        },
        {
          "output_type": "display_data",
          "data": {
            "text/plain": [
              "<Figure size 1000x600 with 1 Axes>"
            ],
            "image/png": "[encoded data removed]"
          },
          "metadata": {}
        }
      ],
      "source": [
        "# Calcular los números de fraudes en los datos de entrenamiento\n",
        "Numero_fraude = df_train.isFraud.value_counts()\n",
        "df_fraude = pd.DataFrame(Numero_fraude).rename(index={0: 'No', 1: 'Sí'})\n",
        "df_fraude.reset_index(inplace=True)\n",
        "df_fraude.columns = ['isFraud', 'count']  # Renombrar columnas para usar en seaborn\n",
        "\n",
        "# Crear la figura y el eje\n",
        "fig, ax = plt.subplots(figsize=(10, 6))\n",
        "\n",
        "# Crear el gráfico de barras\n",
        "sns.barplot(data=df_fraude, x='isFraud', y='count', palette=['tab:blue', 'tab:red'], ax=ax)\n",
        "\n",
        "# Etiquetas y título\n",
        "ax.set_ylabel('Número de Fraudes')\n",
        "ax.set_title('Número de Fraudes en los Datos de Entrenamiento')\n",
        "ax.set_xlabel('Es Fraude')\n",
        "\n",
        "# Añadir etiquetas a las barras\n",
        "for p in ax.patches:\n",
        "    ax.annotate(f'{int(p.get_height())}', (p.get_x() + p.get_width() / 2., p.get_height()),\n",
        "                ha='center', va='center', fontsize=12, color='black', xytext=(0, 5),\n",
        "                textcoords='offset points')\n",
        "\n",
        "plt.tight_layout()\n",
        "\n",
        "# Guardar la figura\n",
        "#plt.savefig(base_dir + 'balance_datos.png')\n",
        "\n",
        "# Mostrar la figura\n",
        "plt.show()\n"
      ]
    },
    {
      "cell_type": "code",
      "execution_count": 16,
      "metadata": {
        "id": "Sk7mAhsKqCDg",
        "outputId": "d2714977-5ad1-4e4b-ca1a-48ab5848e688",
        "colab": {
          "base_uri": "https://localhost:8080/",
          "height": 125
        }
      },
      "outputs": [
        {
          "output_type": "execute_result",
          "data": {
            "text/plain": [
              "  isFraud  Porcentaje\n",
              "0      No   96.500999\n",
              "1      Sí    3.499001"
            ],
            "text/html": [
              "\n",
              "  <div id=\"df-49066fd0-cb39-4327-8be0-9827f74a2257\" class=\"colab-df-container\">\n",
              "    <div>\n",
              "<style scoped>\n",
              "    .dataframe tbody tr th:only-of-type {\n",
              "        vertical-align: middle;\n",
              "    }\n",
              "\n",
              "    .dataframe tbody tr th {\n",
              "        vertical-align: top;\n",
              "    }\n",
              "\n",
              "    .dataframe thead th {\n",
              "        text-align: right;\n",
              "    }\n",
              "</style>\n",
              "<table border=\"1\" class=\"dataframe\">\n",
              "  <thead>\n",
              "    <tr style=\"text-align: right;\">\n",
              "      <th></th>\n",
              "      <th>isFraud</th>\n",
              "      <th>Porcentaje</th>\n",
              "    </tr>\n",
              "  </thead>\n",
              "  <tbody>\n",
              "    <tr>\n",
              "      <th>0</th>\n",
              "      <td>No</td>\n",
              "      <td>96.500999</td>\n",
              "    </tr>\n",
              "    <tr>\n",
              "      <th>1</th>\n",
              "      <td>Sí</td>\n",
              "      <td>3.499001</td>\n",
              "    </tr>\n",
              "  </tbody>\n",
              "</table>\n",
              "</div>\n",
              "    <div class=\"colab-df-buttons\">\n",
              "\n",
              "  <div class=\"colab-df-container\">\n",
              "    <button class=\"colab-df-convert\" onclick=\"convertToInteractive('df-49066fd0-cb39-4327-8be0-9827f74a2257')\"\n",
              "            title=\"Convert this dataframe to an interactive table.\"\n",
              "            style=\"display:none;\">\n",
              "\n",
              "  <svg xmlns=\"http://www.w3.org/2000/svg\" height=\"24px\" viewBox=\"0 -960 960 960\">\n",
              "    <path d=\"M120-120v-720h720v720H120Zm60-500h600v-160H180v160Zm220 220h160v-160H400v160Zm0 220h160v-160H400v160ZM180-400h160v-160H180v160Zm440 0h160v-160H620v160ZM180-180h160v-160H180v160Zm440 0h160v-160H620v160Z\"/>\n",
              "  </svg>\n",
              "    </button>\n",
              "\n",
              "  <style>\n",
              "    .colab-df-container {\n",
              "      display:flex;\n",
              "      gap: 12px;\n",
              "    }\n",
              "\n",
              "    .colab-df-convert {\n",
              "      background-color: #E8F0FE;\n",
              "      border: none;\n",
              "      border-radius: 50%;\n",
              "      cursor: pointer;\n",
              "      display: none;\n",
              "      fill: #1967D2;\n",
              "      height: 32px;\n",
              "      padding: 0 0 0 0;\n",
              "      width: 32px;\n",
              "    }\n",
              "\n",
              "    .colab-df-convert:hover {\n",
              "      background-color: #E2EBFA;\n",
              "      box-shadow: 0px 1px 2px rgba(60, 64, 67, 0.3), 0px 1px 3px 1px rgba(60, 64, 67, 0.15);\n",
              "      fill: #174EA6;\n",
              "    }\n",
              "\n",
              "    .colab-df-buttons div {\n",
              "      margin-bottom: 4px;\n",
              "    }\n",
              "\n",
              "    [theme=dark] .colab-df-convert {\n",
              "      background-color: #3B4455;\n",
              "      fill: #D2E3FC;\n",
              "    }\n",
              "\n",
              "    [theme=dark] .colab-df-convert:hover {\n",
              "      background-color: #434B5C;\n",
              "      box-shadow: 0px 1px 3px 1px rgba(0, 0, 0, 0.15);\n",
              "      filter: drop-shadow(0px 1px 2px rgba(0, 0, 0, 0.3));\n",
              "      fill: #FFFFFF;\n",
              "    }\n",
              "  </style>\n",
              "\n",
              "    <script>\n",
              "      const buttonEl =\n",
              "        document.querySelector('#df-49066fd0-cb39-4327-8be0-9827f74a2257 button.colab-df-convert');\n",
              "      buttonEl.style.display =\n",
              "        google.colab.kernel.accessAllowed ? 'block' : 'none';\n",
              "\n",
              "      async function convertToInteractive(key) {\n",
              "        const element = document.querySelector('#df-49066fd0-cb39-4327-8be0-9827f74a2257');\n",
              "        const dataTable =\n",
              "          await google.colab.kernel.invokeFunction('convertToInteractive',\n",
              "                                                    [key], {});\n",
              "        if (!dataTable) return;\n",
              "\n",
              "        const docLinkHtml = 'Like what you see? Visit the ' +\n",
              "          '<a target=\"_blank\" href=https://colab.research.google.com/notebooks/data_table.ipynb>data table notebook</a>'\n",
              "          + ' to learn more about interactive tables.';\n",
              "        element.innerHTML = '';\n",
              "        dataTable['output_type'] = 'display_data';\n",
              "        await google.colab.output.renderOutput(dataTable, element);\n",
              "        const docLink = document.createElement('div');\n",
              "        docLink.innerHTML = docLinkHtml;\n",
              "        element.appendChild(docLink);\n",
              "      }\n",
              "    </script>\n",
              "  </div>\n",
              "\n",
              "\n",
              "<div id=\"df-6e8070d8-ae13-4385-b84d-00829a263ee8\">\n",
              "  <button class=\"colab-df-quickchart\" onclick=\"quickchart('df-6e8070d8-ae13-4385-b84d-00829a263ee8')\"\n",
              "            title=\"Suggest charts\"\n",
              "            style=\"display:none;\">\n",
              "\n",
              "<svg xmlns=\"http://www.w3.org/2000/svg\" height=\"24px\"viewBox=\"0 0 24 24\"\n",
              "     width=\"24px\">\n",
              "    <g>\n",
              "        <path d=\"M19 3H5c-1.1 0-2 .9-2 2v14c0 1.1.9 2 2 2h14c1.1 0 2-.9 2-2V5c0-1.1-.9-2-2-2zM9 17H7v-7h2v7zm4 0h-2V7h2v10zm4 0h-2v-4h2v4z\"/>\n",
              "    </g>\n",
              "</svg>\n",
              "  </button>\n",
              "\n",
              "<style>\n",
              "  .colab-df-quickchart {\n",
              "      --bg-color: #E8F0FE;\n",
              "      --fill-color: #1967D2;\n",
              "      --hover-bg-color: #E2EBFA;\n",
              "      --hover-fill-color: #174EA6;\n",
              "      --disabled-fill-color: #AAA;\n",
              "      --disabled-bg-color: #DDD;\n",
              "  }\n",
              "\n",
              "  [theme=dark] .colab-df-quickchart {\n",
              "      --bg-color: #3B4455;\n",
              "      --fill-color: #D2E3FC;\n",
              "      --hover-bg-color: #434B5C;\n",
              "      --hover-fill-color: #FFFFFF;\n",
              "      --disabled-bg-color: #3B4455;\n",
              "      --disabled-fill-color: #666;\n",
              "  }\n",
              "\n",
              "  .colab-df-quickchart {\n",
              "    background-color: var(--bg-color);\n",
              "    border: none;\n",
              "    border-radius: 50%;\n",
              "    cursor: pointer;\n",
              "    display: none;\n",
              "    fill: var(--fill-color);\n",
              "    height: 32px;\n",
              "    padding: 0;\n",
              "    width: 32px;\n",
              "  }\n",
              "\n",
              "  .colab-df-quickchart:hover {\n",
              "    background-color: var(--hover-bg-color);\n",
              "    box-shadow: 0 1px 2px rgba(60, 64, 67, 0.3), 0 1px 3px 1px rgba(60, 64, 67, 0.15);\n",
              "    fill: var(--button-hover-fill-color);\n",
              "  }\n",
              "\n",
              "  .colab-df-quickchart-complete:disabled,\n",
              "  .colab-df-quickchart-complete:disabled:hover {\n",
              "    background-color: var(--disabled-bg-color);\n",
              "    fill: var(--disabled-fill-color);\n",
              "    box-shadow: none;\n",
              "  }\n",
              "\n",
              "  .colab-df-spinner {\n",
              "    border: 2px solid var(--fill-color);\n",
              "    border-color: transparent;\n",
              "    border-bottom-color: var(--fill-color);\n",
              "    animation:\n",
              "      spin 1s steps(1) infinite;\n",
              "  }\n",
              "\n",
              "  @keyframes spin {\n",
              "    0% {\n",
              "      border-color: transparent;\n",
              "      border-bottom-color: var(--fill-color);\n",
              "      border-left-color: var(--fill-color);\n",
              "    }\n",
              "    20% {\n",
              "      border-color: transparent;\n",
              "      border-left-color: var(--fill-color);\n",
              "      border-top-color: var(--fill-color);\n",
              "    }\n",
              "    30% {\n",
              "      border-color: transparent;\n",
              "      border-left-color: var(--fill-color);\n",
              "      border-top-color: var(--fill-color);\n",
              "      border-right-color: var(--fill-color);\n",
              "    }\n",
              "    40% {\n",
              "      border-color: transparent;\n",
              "      border-right-color: var(--fill-color);\n",
              "      border-top-color: var(--fill-color);\n",
              "    }\n",
              "    60% {\n",
              "      border-color: transparent;\n",
              "      border-right-color: var(--fill-color);\n",
              "    }\n",
              "    80% {\n",
              "      border-color: transparent;\n",
              "      border-right-color: var(--fill-color);\n",
              "      border-bottom-color: var(--fill-color);\n",
              "    }\n",
              "    90% {\n",
              "      border-color: transparent;\n",
              "      border-bottom-color: var(--fill-color);\n",
              "    }\n",
              "  }\n",
              "</style>\n",
              "\n",
              "  <script>\n",
              "    async function quickchart(key) {\n",
              "      const quickchartButtonEl =\n",
              "        document.querySelector('#' + key + ' button');\n",
              "      quickchartButtonEl.disabled = true;  // To prevent multiple clicks.\n",
              "      quickchartButtonEl.classList.add('colab-df-spinner');\n",
              "      try {\n",
              "        const charts = await google.colab.kernel.invokeFunction(\n",
              "            'suggestCharts', [key], {});\n",
              "      } catch (error) {\n",
              "        console.error('Error during call to suggestCharts:', error);\n",
              "      }\n",
              "      quickchartButtonEl.classList.remove('colab-df-spinner');\n",
              "      quickchartButtonEl.classList.add('colab-df-quickchart-complete');\n",
              "    }\n",
              "    (() => {\n",
              "      let quickchartButtonEl =\n",
              "        document.querySelector('#df-6e8070d8-ae13-4385-b84d-00829a263ee8 button');\n",
              "      quickchartButtonEl.style.display =\n",
              "        google.colab.kernel.accessAllowed ? 'block' : 'none';\n",
              "    })();\n",
              "  </script>\n",
              "</div>\n",
              "\n",
              "  <div id=\"id_02032309-bfc9-4a8c-a8e5-5b0562bd3ddb\">\n",
              "    <style>\n",
              "      .colab-df-generate {\n",
              "        background-color: #E8F0FE;\n",
              "        border: none;\n",
              "        border-radius: 50%;\n",
              "        cursor: pointer;\n",
              "        display: none;\n",
              "        fill: #1967D2;\n",
              "        height: 32px;\n",
              "        padding: 0 0 0 0;\n",
              "        width: 32px;\n",
              "      }\n",
              "\n",
              "      .colab-df-generate:hover {\n",
              "        background-color: #E2EBFA;\n",
              "        box-shadow: 0px 1px 2px rgba(60, 64, 67, 0.3), 0px 1px 3px 1px rgba(60, 64, 67, 0.15);\n",
              "        fill: #174EA6;\n",
              "      }\n",
              "\n",
              "      [theme=dark] .colab-df-generate {\n",
              "        background-color: #3B4455;\n",
              "        fill: #D2E3FC;\n",
              "      }\n",
              "\n",
              "      [theme=dark] .colab-df-generate:hover {\n",
              "        background-color: #434B5C;\n",
              "        box-shadow: 0px 1px 3px 1px rgba(0, 0, 0, 0.15);\n",
              "        filter: drop-shadow(0px 1px 2px rgba(0, 0, 0, 0.3));\n",
              "        fill: #FFFFFF;\n",
              "      }\n",
              "    </style>\n",
              "    <button class=\"colab-df-generate\" onclick=\"generateWithVariable('df_porcentaje_fraude')\"\n",
              "            title=\"Generate code using this dataframe.\"\n",
              "            style=\"display:none;\">\n",
              "\n",
              "  <svg xmlns=\"http://www.w3.org/2000/svg\" height=\"24px\"viewBox=\"0 0 24 24\"\n",
              "       width=\"24px\">\n",
              "    <path d=\"M7,19H8.4L18.45,9,17,7.55,7,17.6ZM5,21V16.75L18.45,3.32a2,2,0,0,1,2.83,0l1.4,1.43a1.91,1.91,0,0,1,.58,1.4,1.91,1.91,0,0,1-.58,1.4L9.25,21ZM18.45,9,17,7.55Zm-12,3A5.31,5.31,0,0,0,4.9,8.1,5.31,5.31,0,0,0,1,6.5,5.31,5.31,0,0,0,4.9,4.9,5.31,5.31,0,0,0,6.5,1,5.31,5.31,0,0,0,8.1,4.9,5.31,5.31,0,0,0,12,6.5,5.46,5.46,0,0,0,6.5,12Z\"/>\n",
              "  </svg>\n",
              "    </button>\n",
              "    <script>\n",
              "      (() => {\n",
              "      const buttonEl =\n",
              "        document.querySelector('#id_02032309-bfc9-4a8c-a8e5-5b0562bd3ddb button.colab-df-generate');\n",
              "      buttonEl.style.display =\n",
              "        google.colab.kernel.accessAllowed ? 'block' : 'none';\n",
              "\n",
              "      buttonEl.onclick = () => {\n",
              "        google.colab.notebook.generateWithVariable('df_porcentaje_fraude');\n",
              "      }\n",
              "      })();\n",
              "    </script>\n",
              "  </div>\n",
              "\n",
              "    </div>\n",
              "  </div>\n"
            ],
            "application/vnd.google.colaboratory.intrinsic+json": {
              "type": "dataframe",
              "variable_name": "df_porcentaje_fraude",
              "summary": "{\n  \"name\": \"df_porcentaje_fraude\",\n  \"rows\": 2,\n  \"fields\": [\n    {\n      \"column\": \"isFraud\",\n      \"properties\": {\n        \"dtype\": \"string\",\n        \"num_unique_values\": 2,\n        \"samples\": [\n          \"S\\u00ed\",\n          \"No\"\n        ],\n        \"semantic_type\": \"\",\n        \"description\": \"\"\n      }\n    },\n    {\n      \"column\": \"Porcentaje\",\n      \"properties\": {\n        \"dtype\": \"number\",\n        \"std\": 65.76234357072993,\n        \"min\": 3.4990009144173126,\n        \"max\": 96.50099908558268,\n        \"num_unique_values\": 2,\n        \"samples\": [\n          3.4990009144173126,\n          96.50099908558268\n        ],\n        \"semantic_type\": \"\",\n        \"description\": \"\"\n      }\n    }\n  ]\n}"
            }
          },
          "metadata": {},
          "execution_count": 16
        }
      ],
      "source": [
        "\n",
        "\n",
        "# Calcular los porcentajes de fraudes en los datos de entrenamiento\n",
        "porcentaje_fraude = df_train['isFraud'].value_counts(normalize=True) * 100\n",
        "\n",
        "# Crear un DataFrame con los porcentajes\n",
        "df_porcentaje_fraude = pd.DataFrame(porcentaje_fraude)\n",
        "\n",
        "# Renombrar las columnas\n",
        "df_porcentaje_fraude.columns = ['Porcentaje']\n",
        "\n",
        "# Restaurar los índices originales\n",
        "df_porcentaje_fraude.reset_index(inplace=True)\n",
        "\n",
        "# Renombrar las categorías\n",
        "df_porcentaje_fraude['isFraud'] = df_porcentaje_fraude['isFraud'].map({0: 'No', 1: 'Sí'})\n",
        "\n",
        "# Mostrar el DataFrame\n",
        "df_porcentaje_fraude\n"
      ]
    },
    {
      "cell_type": "markdown",
      "metadata": {
        "id": "1KCrexQTqCDh"
      },
      "source": [
        "Obervación:\n",
        "**Cantidad de registros por archivo**\n",
        "\n",
        "| Es Fraude | N° de Registros |\n",
        "| ------------ | ------------ |\n",
        "| No| 96,45%|\n",
        "| Sí| 3.54%|\n",
        "\n",
        "Se destaca que la mayoría abrumadora de las transacciones se encuentran en la categoría no fraudulenta, mientras que solo una fracción mínima corresponde a casos de fraude. Este desbalance en los datos puede representar un desafío significativo para el proceso de aprendizaje automático, ya que los modelos pueden tener dificultades para identificar y aprender patrones en las clases minoritarias debido a su escasez relativa"
      ]
    },
    {
      "cell_type": "markdown",
      "metadata": {
        "id": "xvXAEchyqCDh"
      },
      "source": [
        "### Análisis de las caracteterísticas"
      ]
    },
    {
      "cell_type": "markdown",
      "metadata": {
        "id": "5eDCvDYIqCDh"
      },
      "source": [
        "### Columna Importe del pago por transacción en USD (TransactionAmt)\n",
        "\n",
        "\n",
        "Analizamos la asociación entre la columna \"TransactionAmt\", que representa los importes de cada transacción, y la columna de fraude. Este análisis incluye la evaluación de la distribución de los montos en relación con la presencia de fraudes.\n",
        "\n"
      ]
    },
    {
      "cell_type": "code",
      "execution_count": 17,
      "metadata": {
        "id": "yiJ9fTQJqCDh",
        "outputId": "4cc025cf-bc92-49c4-a0ff-03cf96ec2d81",
        "colab": {
          "base_uri": "https://localhost:8080/",
          "height": 300
        }
      },
      "outputs": [
        {
          "output_type": "execute_result",
          "data": {
            "text/plain": [
              "       TransactionAmt\n",
              "count       590540.00\n",
              "mean              NaN\n",
              "std               NaN\n",
              "min              0.25\n",
              "25%             43.31\n",
              "50%             68.75\n",
              "75%            125.00\n",
              "max          31936.00"
            ],
            "text/html": [
              "\n",
              "  <div id=\"df-fc63cc15-d4ad-4058-9da5-6e7daa5d8719\" class=\"colab-df-container\">\n",
              "    <div>\n",
              "<style scoped>\n",
              "    .dataframe tbody tr th:only-of-type {\n",
              "        vertical-align: middle;\n",
              "    }\n",
              "\n",
              "    .dataframe tbody tr th {\n",
              "        vertical-align: top;\n",
              "    }\n",
              "\n",
              "    .dataframe thead th {\n",
              "        text-align: right;\n",
              "    }\n",
              "</style>\n",
              "<table border=\"1\" class=\"dataframe\">\n",
              "  <thead>\n",
              "    <tr style=\"text-align: right;\">\n",
              "      <th></th>\n",
              "      <th>TransactionAmt</th>\n",
              "    </tr>\n",
              "  </thead>\n",
              "  <tbody>\n",
              "    <tr>\n",
              "      <th>count</th>\n",
              "      <td>590540.00</td>\n",
              "    </tr>\n",
              "    <tr>\n",
              "      <th>mean</th>\n",
              "      <td>NaN</td>\n",
              "    </tr>\n",
              "    <tr>\n",
              "      <th>std</th>\n",
              "      <td>NaN</td>\n",
              "    </tr>\n",
              "    <tr>\n",
              "      <th>min</th>\n",
              "      <td>0.25</td>\n",
              "    </tr>\n",
              "    <tr>\n",
              "      <th>25%</th>\n",
              "      <td>43.31</td>\n",
              "    </tr>\n",
              "    <tr>\n",
              "      <th>50%</th>\n",
              "      <td>68.75</td>\n",
              "    </tr>\n",
              "    <tr>\n",
              "      <th>75%</th>\n",
              "      <td>125.00</td>\n",
              "    </tr>\n",
              "    <tr>\n",
              "      <th>max</th>\n",
              "      <td>31936.00</td>\n",
              "    </tr>\n",
              "  </tbody>\n",
              "</table>\n",
              "</div>\n",
              "    <div class=\"colab-df-buttons\">\n",
              "\n",
              "  <div class=\"colab-df-container\">\n",
              "    <button class=\"colab-df-convert\" onclick=\"convertToInteractive('df-fc63cc15-d4ad-4058-9da5-6e7daa5d8719')\"\n",
              "            title=\"Convert this dataframe to an interactive table.\"\n",
              "            style=\"display:none;\">\n",
              "\n",
              "  <svg xmlns=\"http://www.w3.org/2000/svg\" height=\"24px\" viewBox=\"0 -960 960 960\">\n",
              "    <path d=\"M120-120v-720h720v720H120Zm60-500h600v-160H180v160Zm220 220h160v-160H400v160Zm0 220h160v-160H400v160ZM180-400h160v-160H180v160Zm440 0h160v-160H620v160ZM180-180h160v-160H180v160Zm440 0h160v-160H620v160Z\"/>\n",
              "  </svg>\n",
              "    </button>\n",
              "\n",
              "  <style>\n",
              "    .colab-df-container {\n",
              "      display:flex;\n",
              "      gap: 12px;\n",
              "    }\n",
              "\n",
              "    .colab-df-convert {\n",
              "      background-color: #E8F0FE;\n",
              "      border: none;\n",
              "      border-radius: 50%;\n",
              "      cursor: pointer;\n",
              "      display: none;\n",
              "      fill: #1967D2;\n",
              "      height: 32px;\n",
              "      padding: 0 0 0 0;\n",
              "      width: 32px;\n",
              "    }\n",
              "\n",
              "    .colab-df-convert:hover {\n",
              "      background-color: #E2EBFA;\n",
              "      box-shadow: 0px 1px 2px rgba(60, 64, 67, 0.3), 0px 1px 3px 1px rgba(60, 64, 67, 0.15);\n",
              "      fill: #174EA6;\n",
              "    }\n",
              "\n",
              "    .colab-df-buttons div {\n",
              "      margin-bottom: 4px;\n",
              "    }\n",
              "\n",
              "    [theme=dark] .colab-df-convert {\n",
              "      background-color: #3B4455;\n",
              "      fill: #D2E3FC;\n",
              "    }\n",
              "\n",
              "    [theme=dark] .colab-df-convert:hover {\n",
              "      background-color: #434B5C;\n",
              "      box-shadow: 0px 1px 3px 1px rgba(0, 0, 0, 0.15);\n",
              "      filter: drop-shadow(0px 1px 2px rgba(0, 0, 0, 0.3));\n",
              "      fill: #FFFFFF;\n",
              "    }\n",
              "  </style>\n",
              "\n",
              "    <script>\n",
              "      const buttonEl =\n",
              "        document.querySelector('#df-fc63cc15-d4ad-4058-9da5-6e7daa5d8719 button.colab-df-convert');\n",
              "      buttonEl.style.display =\n",
              "        google.colab.kernel.accessAllowed ? 'block' : 'none';\n",
              "\n",
              "      async function convertToInteractive(key) {\n",
              "        const element = document.querySelector('#df-fc63cc15-d4ad-4058-9da5-6e7daa5d8719');\n",
              "        const dataTable =\n",
              "          await google.colab.kernel.invokeFunction('convertToInteractive',\n",
              "                                                    [key], {});\n",
              "        if (!dataTable) return;\n",
              "\n",
              "        const docLinkHtml = 'Like what you see? Visit the ' +\n",
              "          '<a target=\"_blank\" href=https://colab.research.google.com/notebooks/data_table.ipynb>data table notebook</a>'\n",
              "          + ' to learn more about interactive tables.';\n",
              "        element.innerHTML = '';\n",
              "        dataTable['output_type'] = 'display_data';\n",
              "        await google.colab.output.renderOutput(dataTable, element);\n",
              "        const docLink = document.createElement('div');\n",
              "        docLink.innerHTML = docLinkHtml;\n",
              "        element.appendChild(docLink);\n",
              "      }\n",
              "    </script>\n",
              "  </div>\n",
              "\n",
              "\n",
              "<div id=\"df-fc9ab37a-cfa8-44b1-a6b7-6e920381bc63\">\n",
              "  <button class=\"colab-df-quickchart\" onclick=\"quickchart('df-fc9ab37a-cfa8-44b1-a6b7-6e920381bc63')\"\n",
              "            title=\"Suggest charts\"\n",
              "            style=\"display:none;\">\n",
              "\n",
              "<svg xmlns=\"http://www.w3.org/2000/svg\" height=\"24px\"viewBox=\"0 0 24 24\"\n",
              "     width=\"24px\">\n",
              "    <g>\n",
              "        <path d=\"M19 3H5c-1.1 0-2 .9-2 2v14c0 1.1.9 2 2 2h14c1.1 0 2-.9 2-2V5c0-1.1-.9-2-2-2zM9 17H7v-7h2v7zm4 0h-2V7h2v10zm4 0h-2v-4h2v4z\"/>\n",
              "    </g>\n",
              "</svg>\n",
              "  </button>\n",
              "\n",
              "<style>\n",
              "  .colab-df-quickchart {\n",
              "      --bg-color: #E8F0FE;\n",
              "      --fill-color: #1967D2;\n",
              "      --hover-bg-color: #E2EBFA;\n",
              "      --hover-fill-color: #174EA6;\n",
              "      --disabled-fill-color: #AAA;\n",
              "      --disabled-bg-color: #DDD;\n",
              "  }\n",
              "\n",
              "  [theme=dark] .colab-df-quickchart {\n",
              "      --bg-color: #3B4455;\n",
              "      --fill-color: #D2E3FC;\n",
              "      --hover-bg-color: #434B5C;\n",
              "      --hover-fill-color: #FFFFFF;\n",
              "      --disabled-bg-color: #3B4455;\n",
              "      --disabled-fill-color: #666;\n",
              "  }\n",
              "\n",
              "  .colab-df-quickchart {\n",
              "    background-color: var(--bg-color);\n",
              "    border: none;\n",
              "    border-radius: 50%;\n",
              "    cursor: pointer;\n",
              "    display: none;\n",
              "    fill: var(--fill-color);\n",
              "    height: 32px;\n",
              "    padding: 0;\n",
              "    width: 32px;\n",
              "  }\n",
              "\n",
              "  .colab-df-quickchart:hover {\n",
              "    background-color: var(--hover-bg-color);\n",
              "    box-shadow: 0 1px 2px rgba(60, 64, 67, 0.3), 0 1px 3px 1px rgba(60, 64, 67, 0.15);\n",
              "    fill: var(--button-hover-fill-color);\n",
              "  }\n",
              "\n",
              "  .colab-df-quickchart-complete:disabled,\n",
              "  .colab-df-quickchart-complete:disabled:hover {\n",
              "    background-color: var(--disabled-bg-color);\n",
              "    fill: var(--disabled-fill-color);\n",
              "    box-shadow: none;\n",
              "  }\n",
              "\n",
              "  .colab-df-spinner {\n",
              "    border: 2px solid var(--fill-color);\n",
              "    border-color: transparent;\n",
              "    border-bottom-color: var(--fill-color);\n",
              "    animation:\n",
              "      spin 1s steps(1) infinite;\n",
              "  }\n",
              "\n",
              "  @keyframes spin {\n",
              "    0% {\n",
              "      border-color: transparent;\n",
              "      border-bottom-color: var(--fill-color);\n",
              "      border-left-color: var(--fill-color);\n",
              "    }\n",
              "    20% {\n",
              "      border-color: transparent;\n",
              "      border-left-color: var(--fill-color);\n",
              "      border-top-color: var(--fill-color);\n",
              "    }\n",
              "    30% {\n",
              "      border-color: transparent;\n",
              "      border-left-color: var(--fill-color);\n",
              "      border-top-color: var(--fill-color);\n",
              "      border-right-color: var(--fill-color);\n",
              "    }\n",
              "    40% {\n",
              "      border-color: transparent;\n",
              "      border-right-color: var(--fill-color);\n",
              "      border-top-color: var(--fill-color);\n",
              "    }\n",
              "    60% {\n",
              "      border-color: transparent;\n",
              "      border-right-color: var(--fill-color);\n",
              "    }\n",
              "    80% {\n",
              "      border-color: transparent;\n",
              "      border-right-color: var(--fill-color);\n",
              "      border-bottom-color: var(--fill-color);\n",
              "    }\n",
              "    90% {\n",
              "      border-color: transparent;\n",
              "      border-bottom-color: var(--fill-color);\n",
              "    }\n",
              "  }\n",
              "</style>\n",
              "\n",
              "  <script>\n",
              "    async function quickchart(key) {\n",
              "      const quickchartButtonEl =\n",
              "        document.querySelector('#' + key + ' button');\n",
              "      quickchartButtonEl.disabled = true;  // To prevent multiple clicks.\n",
              "      quickchartButtonEl.classList.add('colab-df-spinner');\n",
              "      try {\n",
              "        const charts = await google.colab.kernel.invokeFunction(\n",
              "            'suggestCharts', [key], {});\n",
              "      } catch (error) {\n",
              "        console.error('Error during call to suggestCharts:', error);\n",
              "      }\n",
              "      quickchartButtonEl.classList.remove('colab-df-spinner');\n",
              "      quickchartButtonEl.classList.add('colab-df-quickchart-complete');\n",
              "    }\n",
              "    (() => {\n",
              "      let quickchartButtonEl =\n",
              "        document.querySelector('#df-fc9ab37a-cfa8-44b1-a6b7-6e920381bc63 button');\n",
              "      quickchartButtonEl.style.display =\n",
              "        google.colab.kernel.accessAllowed ? 'block' : 'none';\n",
              "    })();\n",
              "  </script>\n",
              "</div>\n",
              "\n",
              "    </div>\n",
              "  </div>\n"
            ],
            "application/vnd.google.colaboratory.intrinsic+json": {
              "type": "dataframe",
              "summary": "{\n  \"name\": \"df_train[['TransactionAmt']]\",\n  \"rows\": 8,\n  \"fields\": [\n    {\n      \"column\": \"TransactionAmt\",\n      \"properties\": {\n        \"dtype\": \"number\",\n        \"std\": 238800.6605999469,\n        \"min\": 0.25,\n        \"max\": 590540.0,\n        \"num_unique_values\": 6,\n        \"samples\": [\n          590540.0,\n          0.25,\n          31936.0\n        ],\n        \"semantic_type\": \"\",\n        \"description\": \"\"\n      }\n    }\n  ]\n}"
            }
          },
          "metadata": {},
          "execution_count": 17
        }
      ],
      "source": [
        "df_train[['TransactionAmt']].describe().round(2)"
      ]
    },
    {
      "cell_type": "code",
      "execution_count": 18,
      "metadata": {
        "id": "hFfMYVG4qCDi",
        "outputId": "df01d73a-9d9e-4af9-9ca1-e5a6ac9426a7",
        "colab": {
          "base_uri": "https://localhost:8080/",
          "height": 542
        }
      },
      "outputs": [
        {
          "output_type": "display_data",
          "data": {
            "text/plain": [
              "<Figure size 1200x600 with 1 Axes>"
            ],
            "image/png": "[encoded data removed]"
          },
          "metadata": {}
        }
      ],
      "source": [
        "plt.figure(figsize=(12,6))\n",
        "sns.boxplot(data=df_train, x='TransactionAmt')\n",
        "plt.ylabel('Número de Fraudes')\n",
        "plt.xlabel('USD')\n",
        "#plt.savefig(base_dir + 'trabs_total_box_plot')\n",
        "plt.show()"
      ]
    },
    {
      "cell_type": "markdown",
      "metadata": {
        "id": "zN2nHVm3qCDi"
      },
      "source": [
        "El valor medio de la variable 'TransactionAmt' es de 134.5, con una desviación estándar de 263.63. Además, el valor máximo está considerablemente alejado del tercer quartil del 75%  de los datos, lo que indica la presencia de valores atípicos en esta característica, en el gráfico de arriba se pued apreciar con mas detalle la exitencia de valores atípicos."
      ]
    },
    {
      "cell_type": "code",
      "execution_count": 19,
      "metadata": {
        "id": "V_-h1j2pqCDi",
        "outputId": "95f5f270-3311-4d1d-f4b2-b18df0c53bba",
        "colab": {
          "base_uri": "https://localhost:8080/",
          "height": 844
        }
      },
      "outputs": [
        {
          "output_type": "stream",
          "name": "stderr",
          "text": [
            "WARNING:matplotlib.text:posx and posy should be finite values\n",
            "WARNING:matplotlib.text:posx and posy should be finite values\n"
          ]
        },
        {
          "output_type": "display_data",
          "data": {
            "text/plain": [
              "<Figure size 1200x800 with 1 Axes>"
            ],
            "image/png": "[encoded data removed]"
          },
          "metadata": {}
        }
      ],
      "source": [
        "quartiles = np.percentile(df_train['TransactionAmt'], [25, 50, 75])\n",
        "mean_value = df_train['TransactionAmt'].mean()\n",
        "\n",
        "fig, axs = plt.subplots(tight_layout=True, figsize=(12, 8))\n",
        "\n",
        "# Crear el histograma\n",
        "sns.histplot(data=df_train, x='TransactionAmt', bins=100, color='tab:blue', edgecolor=\"white\", linewidth=0.7, label='No', log_scale=False, ax=axs)\n",
        "\n",
        "# Añadir líneas de los cuartiles\n",
        "for q in quartiles:\n",
        "    axs.axvline(q, color='red', linestyle='--', linewidth=1)\n",
        "\n",
        "# Añadir línea de la media\n",
        "axs.axvline(mean_value, color='green', linestyle='-', linewidth=1)\n",
        "\n",
        "# Etiquetas y título\n",
        "axs.set_ylabel('Número de Fraudes')\n",
        "axs.set_xlabel('USD')\n",
        "\n",
        "# Añadir leyenda para los cuartiles y la media\n",
        "quartile_labels = ['Q1', 'Q2', 'Q3']\n",
        "for i, q in enumerate(quartiles):\n",
        "    axs.text(q, axs.get_ylim()[1] * 0.95, quartile_labels[i], color='red', ha='center', va='top')\n",
        "axs.text(mean_value, axs.get_ylim()[1] * 0.95, 'Mean', color='green', ha='center', va='top')\n",
        "\n",
        "plt.show()"
      ]
    },
    {
      "cell_type": "markdown",
      "metadata": {
        "id": "E0Gp9cUHqCDj"
      },
      "source": [
        "#### Vemos ahora estos valores en escala logarítmicas"
      ]
    },
    {
      "cell_type": "code",
      "source": [],
      "metadata": {
        "id": "PTPFxo7-3RD6"
      },
      "execution_count": 19,
      "outputs": []
    },
    {
      "cell_type": "markdown",
      "source": [
        "La función ECDF nos permite observar claramente las diferencias entre las distribuciones con y sin fraude. Se puede notar que la curva con fraude es más suave en comparación con la de no fraude, lo cual sugiere que esta diferencia podría ser una variable relevante para utilizar en el entrenamiento del modelo."
      ],
      "metadata": {
        "id": "nwGN1kS26GNe"
      }
    },
    {
      "cell_type": "code",
      "execution_count": 19,
      "metadata": {
        "id": "LDzOb9E0qCDj"
      },
      "outputs": [],
      "source": []
    },
    {
      "cell_type": "code",
      "source": [],
      "metadata": {
        "id": "8gYjnut3HSNx"
      },
      "execution_count": 19,
      "outputs": []
    },
    {
      "cell_type": "code",
      "source": [
        "stats_by_fraud = df_train.groupby('isFraud')['TransactionAmt'].describe().round(2)\n",
        "\n",
        "# Mostrar el resultado\n",
        "print(stats_by_fraud)"
      ],
      "metadata": {
        "id": "Ij03C5NtIN_v",
        "outputId": "5aecde88-8623-407c-ba21-4e8b18e4abf5",
        "colab": {
          "base_uri": "https://localhost:8080/"
        }
      },
      "execution_count": 20,
      "outputs": [
        {
          "output_type": "stream",
          "name": "stdout",
          "text": [
            "            count  mean  std   min    25%   50%    75%      max\n",
            "isFraud                                                        \n",
            "0        569877.0   NaN  NaN  0.25  43.97  68.5  120.0  31936.0\n",
            "1         20663.0   inf  inf  0.29  35.03  75.0  161.0   5192.0\n"
          ]
        }
      ]
    },
    {
      "cell_type": "markdown",
      "metadata": {
        "id": "wxyFdrfwqCDk"
      },
      "source": [
        "Observación:\n",
        "\n",
        "En la representación gráfica de la distribución y en la tabla de estadísticos asociada a la columna \"TransactionAmt\", se destacan las siguientes observaciones:\n",
        "\n",
        "- Se evidencia una notable disparidad de la mediana (Q2) con el valor medio de los valores de TransactionAmt.\n",
        "- El valor medio casi coincide con el los 75% de  valores (Q3) esto señale la gran dispersión de los valores.\n",
        "\n",
        "\n",
        "La comparación entre el límite superior del rango intercuartil y el valor máximo revela discrepancias significativas en órdenes de magnitud, indicando la presencia de datos atípicos."
      ]
    },
    {
      "cell_type": "code",
      "execution_count": 21,
      "metadata": {
        "id": "zl4EKiuTqCDk",
        "outputId": "b00f567f-23d5-4382-cf85-5ae214f05765",
        "colab": {
          "base_uri": "https://localhost:8080/",
          "height": 1000
        }
      },
      "outputs": [
        {
          "output_type": "stream",
          "name": "stderr",
          "text": [
            "WARNING:matplotlib.text:posx and posy should be finite values\n",
            "WARNING:matplotlib.text:posx and posy should be finite values\n",
            "WARNING:matplotlib.text:posx and posy should be finite values\n",
            "WARNING:matplotlib.text:posx and posy should be finite values\n"
          ]
        },
        {
          "output_type": "display_data",
          "data": {
            "text/plain": [
              "<Figure size 1200x1800 with 2 Axes>"
            ],
            "image/png": "[encoded data removed]"
          },
          "metadata": {}
        }
      ],
      "source": [
        "import matplotlib.pyplot as plt\n",
        "import seaborn as sns\n",
        "\n",
        "# Definir los rangos para 'TransactionAmt'\n",
        "ranges = [(0, 1000),(1000, df_train['TransactionAmt'].max())]\n",
        "\n",
        "# Crear la figura y los subplots\n",
        "fig, axs = plt.subplots(nrows=2, tight_layout=True, figsize=(12, 18))\n",
        "\n",
        "# Generar el histograma para cada rango\n",
        "for ax, (min_val, max_val) in zip(axs, ranges):\n",
        "    subset = df_train[(df_train['TransactionAmt'] >= min_val) & (df_train['TransactionAmt'] < max_val)]\n",
        "    sns.histplot(data=subset, x='TransactionAmt', bins=80, color='tab:blue', edgecolor=\"white\", linewidth=0.7, label='No', ax=ax, log_scale=True)\n",
        "    ax.set_title(f'TransactionAmt entre {min_val} y {max_val} USD')\n",
        "    ax.set_ylabel('Número de Fraudes')\n",
        "    ax.set_xlabel('USD')\n",
        "    # Añadir líneas de los cuartiles\n",
        "    for q in quartiles:\n",
        "        ax.axvline(q, color='red', linestyle='--', linewidth=1)\n",
        "\n",
        "    # Añadir línea de la media\n",
        "    ax.axvline(mean_value, color='green', linestyle='-', linewidth=1)\n",
        "\n",
        "    # Etiquetas y título\n",
        "    ax.set_ylabel('Número de Fraudes')\n",
        "    ax.set_xlabel('USD')\n",
        "\n",
        "    # Añadir leyenda para los cuartiles y la media\n",
        "    quartile_labels = ['Q1', 'Q2', 'Q3']\n",
        "    for i, q in enumerate(quartiles):\n",
        "        ax.text(q, ax.get_ylim()[1] * 0.95, quartile_labels[i], color='red', ha='center', va='top')\n",
        "    ax.text(mean_value, ax.get_ylim()[1] * 0.95, 'Mean', color='green', ha='center', va='top')\n",
        "\n",
        "\n",
        "\n",
        "plt.show()\n"
      ]
    },
    {
      "cell_type": "markdown",
      "metadata": {
        "id": "edL0dMCfqCDl"
      },
      "source": [
        "Separamos el histograma en dos rangos de valores: uno de 0 a 1000 y otro de 1000 hasta el valor máximo. Al observar cada rango, notamos que presentan distribuciones diferentes, lo cual indica una posible segmentación en esta característica."
      ]
    },
    {
      "cell_type": "code",
      "source": [
        "def ecdf(data):\n",
        "    x = np.sort(data)\n",
        "    y = np.arange(1, len(data)+1) / len(data)\n",
        "    return x, y\n",
        "# Calcular ECDF para no fraude y fraude\n",
        "x_ecdf_no_fraude, y_ecdf_no_fraude = ecdf(df_train[df_train['isFraud'] == 0]['TransactionAmt'])\n",
        "x_ecdf_fraude, y_ecdf_fraude =ecdf(df_train[df_train['isFraud'] == 1]['TransactionAmt'])\n",
        "\n",
        "\n",
        "# Graficar ECDF\n",
        "fig, axs = plt.subplots(1, 3, figsize=(18, 6))\n",
        "\n",
        "# Subplot 1: ECDF para No Fraude y Fraude juntos\n",
        "axs[0].plot(x_ecdf_no_fraude, y_ecdf_no_fraude, marker='.', linestyle='-', color='blue', label='No Fraude')\n",
        "axs[0].plot(x_ecdf_fraude, y_ecdf_fraude, marker='.', linestyle='-', color='red', label='Fraude')\n",
        "axs[0].set_xlabel('Valor')\n",
        "axs[0].set_ylabel('ECDF')\n",
        "axs[0].set_title('ECDF para No Fraude y Fraude')\n",
        "axs[0].legend()\n",
        "axs[0].grid(True)\n",
        "\n",
        "# Subplot 2: ECDF solo para No Fraude\n",
        "axs[1].plot(x_ecdf_no_fraude, y_ecdf_no_fraude, marker='.', linestyle='-', color='blue', label='No Fraude')\n",
        "axs[1].set_xlabel('Valor')\n",
        "axs[1].set_ylabel('ECDF')\n",
        "axs[1].set_title('ECDF para No Fraude')\n",
        "axs[1].legend()\n",
        "axs[1].grid(True)\n",
        "\n",
        "# Subplot 3: ECDF solo para Fraude\n",
        "axs[2].plot(x_ecdf_fraude, y_ecdf_fraude, marker='.', linestyle='-', color='red', label='Fraude')\n",
        "axs[2].set_xlabel('Valor')\n",
        "axs[2].set_ylabel('ECDF')\n",
        "axs[2].set_title('ECDF para Fraude')\n",
        "axs[2].legend()\n",
        "axs[2].grid(True)\n",
        "\n",
        "plt.tight_layout()\n",
        "plt.show()"
      ],
      "metadata": {
        "id": "6ppNJbv7Iv8P",
        "outputId": "42044c45-282a-4b28-86c0-f1ad200d8409",
        "colab": {
          "base_uri": "https://localhost:8080/",
          "height": 561
        }
      },
      "execution_count": 22,
      "outputs": [
        {
          "output_type": "display_data",
          "data": {
            "text/plain": [
              "<Figure size 1800x600 with 3 Axes>"
            ],
            "image/png": "[encoded data removed]"
          },
          "metadata": {}
        }
      ]
    },
    {
      "cell_type": "code",
      "source": [
        "import matplotlib.pyplot as plt\n",
        "import seaborn as sns\n",
        "import numpy as np\n",
        "\n",
        "# Calcular cuartiles y media\n",
        "quartiles = np.percentile(df_train['TransactionAmt'], [25, 50, 75])\n",
        "mean_value = df_train['TransactionAmt'].mean()\n",
        "\n",
        "# Crear la figura y los ejes para ambos histogramas\n",
        "fig, axs = plt.subplots(1, 2, tight_layout=True, figsize=(16, 6))\n",
        "\n",
        "# Histograma para transacciones no fraudulentas\n",
        "sns.histplot(data=df_train[df_train['isFraud'] == 0], x='TransactionAmt', bins=100, color='tab:blue', edgecolor=\"white\", linewidth=0.7, label='No Fraude', log_scale=True, ax=axs[0])\n",
        "\n",
        "# Añadir líneas de los cuartiles para no fraude\n",
        "for q in quartiles:\n",
        "    axs[0].axvline(q, color='red', linestyle='--', linewidth=1)\n",
        "\n",
        "# Añadir línea de la media para no fraude\n",
        "axs[0].axvline(mean_value, color='green', linestyle='-', linewidth=1)\n",
        "\n",
        "# Etiquetas y título para el primer histograma\n",
        "axs[0].set_ylabel('Número de Transacciones')\n",
        "axs[0].set_xlabel('USD')\n",
        "axs[0].set_title('Histograma de TransactionAmt - No Fraude')\n",
        "\n",
        "# Añadir leyenda para los cuartiles y la media en el primer histograma\n",
        "quartile_labels = ['Q1', 'Q2', 'Q3']\n",
        "for i, q in enumerate(quartiles):\n",
        "    axs[0].text(q, axs[0].get_ylim()[1] * 0.95, quartile_labels[i], color='red', ha='center', va='top')\n",
        "axs[0].text(mean_value, axs[0].get_ylim()[1] * 0.95, 'Mean', color='green', ha='center', va='top')\n",
        "\n",
        "# Histograma para transacciones fraudulentas\n",
        "sns.histplot(data=df_train[df_train['isFraud'] == 1], x='TransactionAmt', bins=100, color='tab:orange', edgecolor=\"white\", linewidth=0.7, label='Fraude', log_scale=True, ax=axs[1])\n",
        "\n",
        "# Añadir líneas de los cuartiles para fraude\n",
        "for q in quartiles:\n",
        "    axs[1].axvline(q, color='red', linestyle='--', linewidth=1)\n",
        "\n",
        "# Añadir línea de la media para fraude\n",
        "axs[1].axvline(mean_value, color='green', linestyle='-', linewidth=1)\n",
        "\n",
        "# Etiquetas y título para el segundo histograma\n",
        "axs[1].set_ylabel('Número de Transacciones')\n",
        "axs[1].set_xlabel('USD')\n",
        "axs[1].set_title('Histograma de TransactionAmt - Fraude')\n",
        "\n",
        "# Añadir leyenda para los cuartiles y la media en el segundo histograma\n",
        "for i, q in enumerate(quartiles):\n",
        "    axs[1].text(q, axs[1].get_ylim()[1] * 0.95, quartile_labels[i], color='red', ha='center', va='top')\n",
        "axs[1].text(mean_value, axs[1].get_ylim()[1] * 0.95, 'Mean', color='green', ha='center', va='top')\n",
        "\n",
        "plt.tight_layout()\n",
        "plt.show()\n"
      ],
      "metadata": {
        "id": "Rqf7TefrI04B",
        "outputId": "70a5e627-50e3-460c-b459-c58b5d11b3ec",
        "colab": {
          "base_uri": "https://localhost:8080/",
          "height": 681
        }
      },
      "execution_count": 23,
      "outputs": [
        {
          "output_type": "stream",
          "name": "stderr",
          "text": [
            "WARNING:matplotlib.text:posx and posy should be finite values\n",
            "WARNING:matplotlib.text:posx and posy should be finite values\n",
            "WARNING:matplotlib.text:posx and posy should be finite values\n",
            "WARNING:matplotlib.text:posx and posy should be finite values\n"
          ]
        },
        {
          "output_type": "display_data",
          "data": {
            "text/plain": [
              "<Figure size 1600x600 with 2 Axes>"
            ],
            "image/png": "[encoded data removed]"
          },
          "metadata": {}
        }
      ]
    },
    {
      "cell_type": "code",
      "source": [
        "\n",
        "# Definir los datos\n",
        "df_no_fraude = df_train[df_train['isFraud'] == 0]['TransactionAmt']\n",
        "df_fraude = df_train[df_train['isFraud'] == 1]['TransactionAmt']\n",
        "\n",
        "# Calcular cuartiles y media\n",
        "quartiles_no_fraude = np.percentile(df_no_fraude, [25, 50, 75])\n",
        "mean_value_no_fraude = df_no_fraude.mean()\n",
        "\n",
        "quartiles_fraude = np.percentile(df_fraude, [25, 50, 75])\n",
        "mean_value_fraude = df_fraude.mean()\n",
        "\n",
        "# Crear la figura y los ejes\n",
        "fig, ax = plt.subplots(figsize=(12, 6))\n",
        "\n",
        "# Histograma para transacciones no fraudulentas (normalizado)\n",
        "plt.hist(df_no_fraude, bins=100, color='tab:blue', edgecolor=\"white\", linewidth=0.7, label='No Fraude', log=True, density=True, alpha=0.7)\n",
        "\n",
        "# Añadir líneas de los cuartiles para no fraude\n",
        "for q in quartiles_no_fraude:\n",
        "    ax.axvline(q, color='red', linestyle='--', linewidth=1)\n",
        "\n",
        "# Añadir línea de la media para no fraude\n",
        "ax.axvline(mean_value_no_fraude, color='green', linestyle='-', linewidth=1)\n",
        "\n",
        "# Histograma para transacciones fraudulentas (normalizado)\n",
        "plt.hist(df_fraude, bins=100, color='tab:orange', edgecolor=\"white\", linewidth=0.7, label='Fraude', log=True, density=True, alpha=0.7)\n",
        "\n",
        "# Añadir líneas de los cuartiles para fraude\n",
        "for q in quartiles_fraude:\n",
        "    ax.axvline(q, color='purple', linestyle='--', linewidth=1)\n",
        "\n",
        "# Añadir línea de la media para fraude\n",
        "ax.axvline(mean_value_fraude, color='black', linestyle='-', linewidth=1)\n",
        "\n",
        "# Etiquetas y título\n",
        "ax.set_ylabel('Densidad')\n",
        "ax.set_xlabel('USD')\n",
        "ax.set_title('Histograma de TransactionAmt - Comparación de Fraude y No Fraude')\n",
        "\n",
        "# Añadir leyenda para los cuartiles y la media\n",
        "quartile_labels = ['Q1', 'Q2', 'Q3']\n",
        "ax.text(mean_value_no_fraude, ax.get_ylim()[1] * 0.95, 'Mean No Fraude', color='green', ha='center', va='top')\n",
        "ax.text(mean_value_fraude, ax.get_ylim()[1] * 0.95, 'Mean Fraude', color='black', ha='center', va='top')\n",
        "for i, q in enumerate(quartiles_no_fraude):\n",
        "    ax.text(q, ax.get_ylim()[1] * 0.95, quartile_labels[i], color='red', ha='center', va='top')\n",
        "for i, q in enumerate(quartiles_fraude):\n",
        "    ax.text(q, ax.get_ylim()[1] * 0.95, quartile_labels[i], color='purple', ha='center', va='top')\n",
        "\n",
        "# Mostrar la leyenda y ajustar el gráfico\n",
        "ax.legend()\n",
        "plt.tight_layout()\n",
        "plt.show()\n"
      ],
      "metadata": {
        "id": "QWmw_jxjI7DP",
        "outputId": "5f52f6be-5430-457f-b8b8-d72e8bb91de9",
        "colab": {
          "base_uri": "https://localhost:8080/",
          "height": 718
        }
      },
      "execution_count": 24,
      "outputs": [
        {
          "output_type": "stream",
          "name": "stderr",
          "text": [
            "/usr/local/lib/python3.10/dist-packages/matplotlib/transforms.py:365: RuntimeWarning: invalid value encountered in scalar subtract\n",
            "  return points[1, 0] - points[0, 0]\n",
            "WARNING:matplotlib.text:posx and posy should be finite values\n",
            "WARNING:matplotlib.text:posx and posy should be finite values\n",
            "WARNING:matplotlib.text:posx and posy should be finite values\n",
            "WARNING:matplotlib.text:posx and posy should be finite values\n"
          ]
        },
        {
          "output_type": "display_data",
          "data": {
            "text/plain": [
              "<Figure size 1200x600 with 1 Axes>"
            ],
            "image/png": "[encoded data removed]"
          },
          "metadata": {}
        }
      ]
    },
    {
      "cell_type": "code",
      "source": [
        "stats_by_fraud = df_train.groupby('isFraud')['TransactionAmt'].describe().round(2)\n",
        "\n",
        "# Mostrar el resultado\n",
        "print(stats_by_fraud)"
      ],
      "metadata": {
        "id": "7MLgPv4fJCY0",
        "outputId": "13bc1add-b92f-4486-b3bf-7db33ed78056",
        "colab": {
          "base_uri": "https://localhost:8080/"
        }
      },
      "execution_count": 25,
      "outputs": [
        {
          "output_type": "stream",
          "name": "stdout",
          "text": [
            "            count  mean  std   min    25%   50%    75%      max\n",
            "isFraud                                                        \n",
            "0        569877.0   NaN  NaN  0.25  43.97  68.5  120.0  31936.0\n",
            "1         20663.0   inf  inf  0.29  35.03  75.0  161.0   5192.0\n"
          ]
        }
      ]
    },
    {
      "cell_type": "markdown",
      "source": [
        "- El valor máximo de transacciones fraudulentas es de 5192. Por lo tanto, procederemos a filtrar nuestro DataFrame utilizando este umbral como punto de corte."
      ],
      "metadata": {
        "id": "luYDMI0CJFgf"
      }
    },
    {
      "cell_type": "code",
      "source": [
        "df_train = df_train[df_train['TransactionAmt'] < 5192]"
      ],
      "metadata": {
        "id": "E1EykSdWJZro"
      },
      "execution_count": 26,
      "outputs": []
    },
    {
      "cell_type": "code",
      "source": [
        "stats_by_fraud = df_train.groupby('isFraud')['TransactionAmt'].describe().round(2)\n",
        "\n",
        "# Mostrar el resultado\n",
        "print(stats_by_fraud)"
      ],
      "metadata": {
        "id": "Q26s1GOWOrH0",
        "outputId": "d0d16e5a-23c5-480c-ca83-ff00dff46c78",
        "colab": {
          "base_uri": "https://localhost:8080/"
        }
      },
      "execution_count": 27,
      "outputs": [
        {
          "output_type": "stream",
          "name": "stdout",
          "text": [
            "            count  mean  std   min    25%   50%    75%     max\n",
            "isFraud                                                       \n",
            "0        569863.0   NaN  NaN  0.25  43.97  68.5  120.0  5096.0\n",
            "1         20662.0   inf  inf  0.29  35.03  75.0  161.0  4192.0\n"
          ]
        }
      ]
    },
    {
      "cell_type": "markdown",
      "metadata": {
        "id": "fu7-8BwFqCDl"
      },
      "source": [
        "### Separación de los datos por rango de la columna de (TransactionAmt)"
      ]
    },
    {
      "cell_type": "code",
      "execution_count": 28,
      "metadata": {
        "id": "zxP-TNxsqCDm",
        "outputId": "2c83eaa3-bc36-4dd4-a63a-5705f6e9935f",
        "colab": {
          "base_uri": "https://localhost:8080/"
        }
      },
      "outputs": [
        {
          "output_type": "stream",
          "name": "stdout",
          "text": [
            "TransactionAmt_Range\n",
            "Medio       294745\n",
            "Bajo        147626\n",
            "Alto         81688\n",
            "Muy alto     66466\n",
            "Name: count, dtype: int64\n"
          ]
        },
        {
          "output_type": "stream",
          "name": "stderr",
          "text": [
            "<ipython-input-28-98b1e8134461>:24: PerformanceWarning: DataFrame is highly fragmented.  This is usually the result of calling `frame.insert` many times, which has poor performance.  Consider joining all columns at once using pd.concat(axis=1) instead. To get a de-fragmented frame, use `newframe = frame.copy()`\n",
            "  df_train['TransactionAmt_Range'] = df_train['TransactionAmt'].apply(classify_transaction_amt)\n",
            "<ipython-input-28-98b1e8134461>:24: SettingWithCopyWarning: \n",
            "A value is trying to be set on a copy of a slice from a DataFrame.\n",
            "Try using .loc[row_indexer,col_indexer] = value instead\n",
            "\n",
            "See the caveats in the documentation: https://pandas.pydata.org/pandas-docs/stable/user_guide/indexing.html#returning-a-view-versus-a-copy\n",
            "  df_train['TransactionAmt_Range'] = df_train['TransactionAmt'].apply(classify_transaction_amt)\n"
          ]
        }
      ],
      "source": [
        "\n",
        "# Calcular los cuartiles y el IQR\n",
        "Q1 = np.percentile(df_train['TransactionAmt'], 25)\n",
        "Q3 = np.percentile(df_train['TransactionAmt'], 75)\n",
        "IQR = Q3 - Q1\n",
        "\n",
        "# Definir los umbrales para valores atípicos\n",
        "lower_bound = Q1 - 1.5 * IQR\n",
        "upper_bound = Q3 + 1.5 * IQR\n",
        "\n",
        "# Función para clasificar los valores en rangos\n",
        "def classify_transaction_amt(value):\n",
        "    if value < lower_bound:\n",
        "        return 'Muy bajo'\n",
        "    elif lower_bound <= value < Q1:\n",
        "        return 'Bajo'\n",
        "    elif Q1 <= value < Q3:\n",
        "        return 'Medio'\n",
        "    elif Q3 <= value < upper_bound:\n",
        "        return 'Alto'\n",
        "    else:\n",
        "        return 'Muy alto'\n",
        "\n",
        "# Aplicar la función de clasificación a la columna\n",
        "df_train['TransactionAmt_Range'] = df_train['TransactionAmt'].apply(classify_transaction_amt)\n",
        "\n",
        "# Mostrar algunos resultados\n",
        "print(df_train['TransactionAmt_Range'].value_counts())\n"
      ]
    },
    {
      "cell_type": "code",
      "execution_count": 29,
      "metadata": {
        "id": "ezTbeBiDqCDm",
        "outputId": "58b266ec-f22b-4bda-8aa8-d034f26d1c08",
        "colab": {
          "base_uri": "https://localhost:8080/",
          "height": 844
        }
      },
      "outputs": [
        {
          "output_type": "stream",
          "name": "stderr",
          "text": [
            "WARNING:matplotlib.text:posx and posy should be finite values\n",
            "WARNING:matplotlib.text:posx and posy should be finite values\n"
          ]
        },
        {
          "output_type": "display_data",
          "data": {
            "text/plain": [
              "<Figure size 1200x800 with 1 Axes>"
            ],
            "image/png": "[encoded data removed]"
          },
          "metadata": {}
        }
      ],
      "source": [
        "quartiles = np.percentile(df_train['TransactionAmt'], [25, 50, 75])\n",
        "mean_value = df_train['TransactionAmt'].mean()\n",
        "\n",
        "fig, axs = plt.subplots(tight_layout=True, figsize=(12, 8))\n",
        "\n",
        "# Crear el histograma\n",
        "sns.histplot(data=df_train, x='TransactionAmt', bins=100, color='tab:blue',\n",
        "             edgecolor=\"white\", linewidth=0.7, label='No', log_scale=True, ax=axs,hue='TransactionAmt_Range')\n",
        "\n",
        "# Añadir líneas de los cuartiles\n",
        "for q in quartiles:\n",
        "    axs.axvline(q, color='red', linestyle='--', linewidth=1)\n",
        "\n",
        "# Añadir línea de la media\n",
        "axs.axvline(mean_value, color='green', linestyle='-', linewidth=1)\n",
        "\n",
        "# Etiquetas y título\n",
        "axs.set_ylabel('Número de Fraudes')\n",
        "axs.set_xlabel('USD')\n",
        "\n",
        "# Añadir leyenda para los cuartiles y la media\n",
        "quartile_labels = ['Q1', 'Q2', 'Q3']\n",
        "for i, q in enumerate(quartiles):\n",
        "    axs.text(q, axs.get_ylim()[1] * 0.95, quartile_labels[i], color='red', ha='center', va='top')\n",
        "axs.text(mean_value, axs.get_ylim()[1] * 0.95, 'Mean', color='green', ha='center', va='top')\n",
        "\n",
        "plt.show()"
      ]
    },
    {
      "cell_type": "code",
      "execution_count": 30,
      "metadata": {
        "id": "FEyYAWaPqCDn",
        "outputId": "951767b5-b015-49e8-87be-a00108e0e39d",
        "colab": {
          "base_uri": "https://localhost:8080/",
          "height": 1000
        }
      },
      "outputs": [
        {
          "output_type": "display_data",
          "data": {
            "text/plain": [
              "<Figure size 1500x1000 with 4 Axes>"
            ],
            "image/png": "[encoded data removed]"
          },
          "metadata": {}
        }
      ],
      "source": [
        "\n",
        "# Crear subplots para cada rango de valor\n",
        "fig, axs = plt.subplots(2, 2, figsize=(15, 10), sharey=False, tight_layout=True)\n",
        "\n",
        "# Definir los nombres de los rangos y los colores correspondientes\n",
        "range_labels = ['Muy bajo', 'Bajo', 'Medio', 'Alto']\n",
        "colors = ['tab:blue', 'tab:orange', 'tab:green', 'tab:red']\n",
        "\n",
        "# Iterar sobre los subplots y los rangos\n",
        "for i, ax in enumerate(axs.flatten()):\n",
        "    range_label = range_labels[i]\n",
        "    color = colors[i]\n",
        "\n",
        "    # Filtrar datos para el rango actual\n",
        "    subset_data = df_train[df_train['TransactionAmt_Range'] == range_label]\n",
        "\n",
        "    # Verificar si hay datos en el subset\n",
        "    if not subset_data.empty:\n",
        "        # Calcular el número de transacciones en el rango actual\n",
        "        num_transactions = len(subset_data)\n",
        "\n",
        "        # Crear el histograma para el rango actual\n",
        "        sns.histplot(data=subset_data, x='TransactionAmt', bins=30, color=color,\n",
        "                     edgecolor=\"white\", linewidth=0.7, log_scale=True, ax=ax)\n",
        "\n",
        "        ax.set_ylim(bottom=0)\n",
        "\n",
        "    # Etiquetas y título para cada subplot\n",
        "    ax.set_title(f'Transaction Amount Range: {range_label}')\n",
        "    ax.set_xlabel('Transaction Amount (USD)')\n",
        "    ax.set_ylabel('Number of Transactions')\n",
        "\n",
        "# Ajustar el espacio entre subplots y mostrar la figura\n",
        "plt.tight_layout()\n",
        "plt.show()"
      ]
    },
    {
      "cell_type": "markdown",
      "metadata": {
        "id": "0Jmx7Im9qCDn"
      },
      "source": [
        "- Cada valor en la columna TransactionAmt se clasifica en uno de los rangos definidos (Muy bajo, Bajo, Medio, Alto, Muy alto) según los cuartiles y los límites de valores atípicos. Se crea una nueva columna llamada TransactionAmt_Range en el DataFrame, que contiene el rango correspondiente para cada valor de TransactionAmt.\n",
        "- No hay datos clasificados en la categoría \"Muy Bajo\".\n",
        "- La columna TransactionAmt será reemplazada por TransactionAmt_Range ya que ambas contienen esencialmente la misma información. La columna TransactionAmt tiene valores que varían considerablemente entre diferentes rangos, lo cual dificultaría la normalización y complicaría el entrenamiento de los modelos. Por lo tanto, TransactionAmt será eliminada y reemplazada por TransactionAmt_Range que tiene las categorías separadas por rangos."
      ]
    },
    {
      "cell_type": "markdown",
      "metadata": {
        "id": "XpKIA0o1qCDo"
      },
      "source": [
        "### Columna Intervalo de tiempo (**TransactionDT**)"
      ]
    },
    {
      "cell_type": "markdown",
      "metadata": {
        "id": "CTRtQOX_qCDo"
      },
      "source": [
        "**TransactionDT**: timedelta desde una fecha de referencia dada (no es una marca de tiempo real).\n",
        "- \"El primer valor de TransactionDT es 86400, que corresponde al número de segundos en un día (60 * 60 * 24 = 86400), por lo que creo que la unidad es segundos. Usando esto, sabemos que los datos abarcan 6 meses, ya que el valor máximo es 15811131, lo que correspondería al día 183.\""
      ]
    },
    {
      "cell_type": "code",
      "execution_count": 31,
      "metadata": {
        "id": "VJ2eVjv3qCDp",
        "outputId": "28fcf0a6-800f-425f-f171-440954489c4a",
        "colab": {
          "base_uri": "https://localhost:8080/",
          "height": 300
        }
      },
      "outputs": [
        {
          "output_type": "execute_result",
          "data": {
            "text/plain": [
              "       TransactionDT\n",
              "count      590525.00\n",
              "mean      7372274.11\n",
              "std       4617246.66\n",
              "min         86400.00\n",
              "25%       3027002.00\n",
              "50%       7306489.00\n",
              "75%      11246665.00\n",
              "max      15811131.00"
            ],
            "text/html": [
              "\n",
              "  <div id=\"df-6861c0f8-fe54-4109-aeed-46a2a4ecf776\" class=\"colab-df-container\">\n",
              "    <div>\n",
              "<style scoped>\n",
              "    .dataframe tbody tr th:only-of-type {\n",
              "        vertical-align: middle;\n",
              "    }\n",
              "\n",
              "    .dataframe tbody tr th {\n",
              "        vertical-align: top;\n",
              "    }\n",
              "\n",
              "    .dataframe thead th {\n",
              "        text-align: right;\n",
              "    }\n",
              "</style>\n",
              "<table border=\"1\" class=\"dataframe\">\n",
              "  <thead>\n",
              "    <tr style=\"text-align: right;\">\n",
              "      <th></th>\n",
              "      <th>TransactionDT</th>\n",
              "    </tr>\n",
              "  </thead>\n",
              "  <tbody>\n",
              "    <tr>\n",
              "      <th>count</th>\n",
              "      <td>590525.00</td>\n",
              "    </tr>\n",
              "    <tr>\n",
              "      <th>mean</th>\n",
              "      <td>7372274.11</td>\n",
              "    </tr>\n",
              "    <tr>\n",
              "      <th>std</th>\n",
              "      <td>4617246.66</td>\n",
              "    </tr>\n",
              "    <tr>\n",
              "      <th>min</th>\n",
              "      <td>86400.00</td>\n",
              "    </tr>\n",
              "    <tr>\n",
              "      <th>25%</th>\n",
              "      <td>3027002.00</td>\n",
              "    </tr>\n",
              "    <tr>\n",
              "      <th>50%</th>\n",
              "      <td>7306489.00</td>\n",
              "    </tr>\n",
              "    <tr>\n",
              "      <th>75%</th>\n",
              "      <td>11246665.00</td>\n",
              "    </tr>\n",
              "    <tr>\n",
              "      <th>max</th>\n",
              "      <td>15811131.00</td>\n",
              "    </tr>\n",
              "  </tbody>\n",
              "</table>\n",
              "</div>\n",
              "    <div class=\"colab-df-buttons\">\n",
              "\n",
              "  <div class=\"colab-df-container\">\n",
              "    <button class=\"colab-df-convert\" onclick=\"convertToInteractive('df-6861c0f8-fe54-4109-aeed-46a2a4ecf776')\"\n",
              "            title=\"Convert this dataframe to an interactive table.\"\n",
              "            style=\"display:none;\">\n",
              "\n",
              "  <svg xmlns=\"http://www.w3.org/2000/svg\" height=\"24px\" viewBox=\"0 -960 960 960\">\n",
              "    <path d=\"M120-120v-720h720v720H120Zm60-500h600v-160H180v160Zm220 220h160v-160H400v160Zm0 220h160v-160H400v160ZM180-400h160v-160H180v160Zm440 0h160v-160H620v160ZM180-180h160v-160H180v160Zm440 0h160v-160H620v160Z\"/>\n",
              "  </svg>\n",
              "    </button>\n",
              "\n",
              "  <style>\n",
              "    .colab-df-container {\n",
              "      display:flex;\n",
              "      gap: 12px;\n",
              "    }\n",
              "\n",
              "    .colab-df-convert {\n",
              "      background-color: #E8F0FE;\n",
              "      border: none;\n",
              "      border-radius: 50%;\n",
              "      cursor: pointer;\n",
              "      display: none;\n",
              "      fill: #1967D2;\n",
              "      height: 32px;\n",
              "      padding: 0 0 0 0;\n",
              "      width: 32px;\n",
              "    }\n",
              "\n",
              "    .colab-df-convert:hover {\n",
              "      background-color: #E2EBFA;\n",
              "      box-shadow: 0px 1px 2px rgba(60, 64, 67, 0.3), 0px 1px 3px 1px rgba(60, 64, 67, 0.15);\n",
              "      fill: #174EA6;\n",
              "    }\n",
              "\n",
              "    .colab-df-buttons div {\n",
              "      margin-bottom: 4px;\n",
              "    }\n",
              "\n",
              "    [theme=dark] .colab-df-convert {\n",
              "      background-color: #3B4455;\n",
              "      fill: #D2E3FC;\n",
              "    }\n",
              "\n",
              "    [theme=dark] .colab-df-convert:hover {\n",
              "      background-color: #434B5C;\n",
              "      box-shadow: 0px 1px 3px 1px rgba(0, 0, 0, 0.15);\n",
              "      filter: drop-shadow(0px 1px 2px rgba(0, 0, 0, 0.3));\n",
              "      fill: #FFFFFF;\n",
              "    }\n",
              "  </style>\n",
              "\n",
              "    <script>\n",
              "      const buttonEl =\n",
              "        document.querySelector('#df-6861c0f8-fe54-4109-aeed-46a2a4ecf776 button.colab-df-convert');\n",
              "      buttonEl.style.display =\n",
              "        google.colab.kernel.accessAllowed ? 'block' : 'none';\n",
              "\n",
              "      async function convertToInteractive(key) {\n",
              "        const element = document.querySelector('#df-6861c0f8-fe54-4109-aeed-46a2a4ecf776');\n",
              "        const dataTable =\n",
              "          await google.colab.kernel.invokeFunction('convertToInteractive',\n",
              "                                                    [key], {});\n",
              "        if (!dataTable) return;\n",
              "\n",
              "        const docLinkHtml = 'Like what you see? Visit the ' +\n",
              "          '<a target=\"_blank\" href=https://colab.research.google.com/notebooks/data_table.ipynb>data table notebook</a>'\n",
              "          + ' to learn more about interactive tables.';\n",
              "        element.innerHTML = '';\n",
              "        dataTable['output_type'] = 'display_data';\n",
              "        await google.colab.output.renderOutput(dataTable, element);\n",
              "        const docLink = document.createElement('div');\n",
              "        docLink.innerHTML = docLinkHtml;\n",
              "        element.appendChild(docLink);\n",
              "      }\n",
              "    </script>\n",
              "  </div>\n",
              "\n",
              "\n",
              "<div id=\"df-8f12b3a2-a6b2-476e-a670-9c6bc0a4f538\">\n",
              "  <button class=\"colab-df-quickchart\" onclick=\"quickchart('df-8f12b3a2-a6b2-476e-a670-9c6bc0a4f538')\"\n",
              "            title=\"Suggest charts\"\n",
              "            style=\"display:none;\">\n",
              "\n",
              "<svg xmlns=\"http://www.w3.org/2000/svg\" height=\"24px\"viewBox=\"0 0 24 24\"\n",
              "     width=\"24px\">\n",
              "    <g>\n",
              "        <path d=\"M19 3H5c-1.1 0-2 .9-2 2v14c0 1.1.9 2 2 2h14c1.1 0 2-.9 2-2V5c0-1.1-.9-2-2-2zM9 17H7v-7h2v7zm4 0h-2V7h2v10zm4 0h-2v-4h2v4z\"/>\n",
              "    </g>\n",
              "</svg>\n",
              "  </button>\n",
              "\n",
              "<style>\n",
              "  .colab-df-quickchart {\n",
              "      --bg-color: #E8F0FE;\n",
              "      --fill-color: #1967D2;\n",
              "      --hover-bg-color: #E2EBFA;\n",
              "      --hover-fill-color: #174EA6;\n",
              "      --disabled-fill-color: #AAA;\n",
              "      --disabled-bg-color: #DDD;\n",
              "  }\n",
              "\n",
              "  [theme=dark] .colab-df-quickchart {\n",
              "      --bg-color: #3B4455;\n",
              "      --fill-color: #D2E3FC;\n",
              "      --hover-bg-color: #434B5C;\n",
              "      --hover-fill-color: #FFFFFF;\n",
              "      --disabled-bg-color: #3B4455;\n",
              "      --disabled-fill-color: #666;\n",
              "  }\n",
              "\n",
              "  .colab-df-quickchart {\n",
              "    background-color: var(--bg-color);\n",
              "    border: none;\n",
              "    border-radius: 50%;\n",
              "    cursor: pointer;\n",
              "    display: none;\n",
              "    fill: var(--fill-color);\n",
              "    height: 32px;\n",
              "    padding: 0;\n",
              "    width: 32px;\n",
              "  }\n",
              "\n",
              "  .colab-df-quickchart:hover {\n",
              "    background-color: var(--hover-bg-color);\n",
              "    box-shadow: 0 1px 2px rgba(60, 64, 67, 0.3), 0 1px 3px 1px rgba(60, 64, 67, 0.15);\n",
              "    fill: var(--button-hover-fill-color);\n",
              "  }\n",
              "\n",
              "  .colab-df-quickchart-complete:disabled,\n",
              "  .colab-df-quickchart-complete:disabled:hover {\n",
              "    background-color: var(--disabled-bg-color);\n",
              "    fill: var(--disabled-fill-color);\n",
              "    box-shadow: none;\n",
              "  }\n",
              "\n",
              "  .colab-df-spinner {\n",
              "    border: 2px solid var(--fill-color);\n",
              "    border-color: transparent;\n",
              "    border-bottom-color: var(--fill-color);\n",
              "    animation:\n",
              "      spin 1s steps(1) infinite;\n",
              "  }\n",
              "\n",
              "  @keyframes spin {\n",
              "    0% {\n",
              "      border-color: transparent;\n",
              "      border-bottom-color: var(--fill-color);\n",
              "      border-left-color: var(--fill-color);\n",
              "    }\n",
              "    20% {\n",
              "      border-color: transparent;\n",
              "      border-left-color: var(--fill-color);\n",
              "      border-top-color: var(--fill-color);\n",
              "    }\n",
              "    30% {\n",
              "      border-color: transparent;\n",
              "      border-left-color: var(--fill-color);\n",
              "      border-top-color: var(--fill-color);\n",
              "      border-right-color: var(--fill-color);\n",
              "    }\n",
              "    40% {\n",
              "      border-color: transparent;\n",
              "      border-right-color: var(--fill-color);\n",
              "      border-top-color: var(--fill-color);\n",
              "    }\n",
              "    60% {\n",
              "      border-color: transparent;\n",
              "      border-right-color: var(--fill-color);\n",
              "    }\n",
              "    80% {\n",
              "      border-color: transparent;\n",
              "      border-right-color: var(--fill-color);\n",
              "      border-bottom-color: var(--fill-color);\n",
              "    }\n",
              "    90% {\n",
              "      border-color: transparent;\n",
              "      border-bottom-color: var(--fill-color);\n",
              "    }\n",
              "  }\n",
              "</style>\n",
              "\n",
              "  <script>\n",
              "    async function quickchart(key) {\n",
              "      const quickchartButtonEl =\n",
              "        document.querySelector('#' + key + ' button');\n",
              "      quickchartButtonEl.disabled = true;  // To prevent multiple clicks.\n",
              "      quickchartButtonEl.classList.add('colab-df-spinner');\n",
              "      try {\n",
              "        const charts = await google.colab.kernel.invokeFunction(\n",
              "            'suggestCharts', [key], {});\n",
              "      } catch (error) {\n",
              "        console.error('Error during call to suggestCharts:', error);\n",
              "      }\n",
              "      quickchartButtonEl.classList.remove('colab-df-spinner');\n",
              "      quickchartButtonEl.classList.add('colab-df-quickchart-complete');\n",
              "    }\n",
              "    (() => {\n",
              "      let quickchartButtonEl =\n",
              "        document.querySelector('#df-8f12b3a2-a6b2-476e-a670-9c6bc0a4f538 button');\n",
              "      quickchartButtonEl.style.display =\n",
              "        google.colab.kernel.accessAllowed ? 'block' : 'none';\n",
              "    })();\n",
              "  </script>\n",
              "</div>\n",
              "\n",
              "    </div>\n",
              "  </div>\n"
            ],
            "application/vnd.google.colaboratory.intrinsic+json": {
              "type": "dataframe",
              "summary": "{\n  \"name\": \"df_train[['TransactionDT']]\",\n  \"rows\": 8,\n  \"fields\": [\n    {\n      \"column\": \"TransactionDT\",\n      \"properties\": {\n        \"dtype\": \"number\",\n        \"std\": 5369628.352200682,\n        \"min\": 86400.0,\n        \"max\": 15811131.0,\n        \"num_unique_values\": 8,\n        \"samples\": [\n          7372274.11,\n          7306489.0,\n          590525.0\n        ],\n        \"semantic_type\": \"\",\n        \"description\": \"\"\n      }\n    }\n  ]\n}"
            }
          },
          "metadata": {},
          "execution_count": 31
        }
      ],
      "source": [
        "df_train[['TransactionDT']].describe().round(2)"
      ]
    },
    {
      "cell_type": "code",
      "execution_count": 32,
      "metadata": {
        "id": "W8PAKmaGqCDp",
        "outputId": "1ed59d45-d11f-44d3-8f19-edf0f363cb74",
        "colab": {
          "base_uri": "https://localhost:8080/",
          "height": 542
        }
      },
      "outputs": [
        {
          "output_type": "display_data",
          "data": {
            "text/plain": [
              "<Figure size 1200x600 with 1 Axes>"
            ],
            "image/png": "[encoded data removed]"
          },
          "metadata": {}
        }
      ],
      "source": [
        "plt.figure(figsize=(12,6))\n",
        "sns.boxplot(data=df_train, x='TransactionDT')\n",
        "plt.ylabel('Número de Fraudes')\n",
        "plt.xlabel('Tiempo (Seg)')\n",
        "#plt.savefig(base_dir + 'trabs_total_box_plot')\n",
        "plt.show()"
      ]
    },
    {
      "cell_type": "code",
      "execution_count": 33,
      "metadata": {
        "id": "sJ2LEx9jqCDq",
        "outputId": "0d44d81c-c738-48ba-85e1-0e7c14106e31",
        "colab": {
          "base_uri": "https://localhost:8080/",
          "height": 807
        }
      },
      "outputs": [
        {
          "output_type": "display_data",
          "data": {
            "text/plain": [
              "<Figure size 1200x800 with 1 Axes>"
            ],
            "image/png": "[encoded data removed]"
          },
          "metadata": {}
        }
      ],
      "source": [
        "fig, axs = plt.subplots(tight_layout=True, figsize=(12, 8))\n",
        "\n",
        "sns.histplot(data=df_train, x='TransactionDT', bins=80, color='tab:blue', edgecolor=\"white\", linewidth=0.7, label='No')\n",
        "axs.set_ylabel('Número de Fraudes')\n",
        "axs.set_xlabel('Tiempo (Seg)')\n",
        "\n",
        "plt.show()\n"
      ]
    },
    {
      "cell_type": "markdown",
      "metadata": {
        "id": "bS6UA8hzqCDq"
      },
      "source": [
        "**Observación:** La distribución de los tiempo de transacción es casi uniforme, aunuque se observa que algunos tiempo de transacciones son más frecuente que otros."
      ]
    },
    {
      "cell_type": "markdown",
      "source": [
        "## Convertiendo 'TransactionDT' en unidades de tiempo"
      ],
      "metadata": {
        "id": "ZMna-b2821Cj"
      }
    },
    {
      "cell_type": "code",
      "source": [
        "import pandas as pd\n",
        "import datetime\n",
        "\n",
        "START_DATE = '2017-12-01'\n",
        "startdate = datetime.datetime.strptime(START_DATE, \"%Y-%m-%d\")\n",
        "\n",
        "# Suponiendo que df_train tiene las columnas 'TransactionDT'\n",
        "df_train[\"Date\"] = df_train['TransactionDT'].apply(lambda x: startdate + datetime.timedelta(seconds=x))\n",
        "\n",
        "# Crear un DataFrame con las nuevas columnas a agregar\n",
        "new_columns = pd.DataFrame({\n",
        "    '_Weekdays': df_train['Date'].dt.dayofweek,\n",
        "    '_Hours': df_train['Date'].dt.hour,\n",
        "    '_Days': df_train['Date'].dt.day\n",
        "})\n",
        "\n",
        "# Unir todas las columnas al DataFrame original\n",
        "df_train = pd.concat([df_train, new_columns], axis=1)\n",
        "df_train['_Weekdays'] =df_train['_Weekdays'].astype('object')\n",
        "df_train['_Hours'] = df_train['_Hours'].astype('object')\n",
        "df_train['_Days'] = df_train['_Days'].astype('object')\n",
        "\n",
        "df_train.head(3)\n"
      ],
      "metadata": {
        "id": "PEfZp_wb298u",
        "outputId": "16aa60dc-baa2-4481-f2d6-19a1fd1ab310",
        "colab": {
          "base_uri": "https://localhost:8080/",
          "height": 444
        }
      },
      "execution_count": 34,
      "outputs": [
        {
          "output_type": "stream",
          "name": "stderr",
          "text": [
            "<ipython-input-34-8ffbcdde7c83>:8: PerformanceWarning: DataFrame is highly fragmented.  This is usually the result of calling `frame.insert` many times, which has poor performance.  Consider joining all columns at once using pd.concat(axis=1) instead. To get a de-fragmented frame, use `newframe = frame.copy()`\n",
            "  df_train[\"Date\"] = df_train['TransactionDT'].apply(lambda x: startdate + datetime.timedelta(seconds=x))\n",
            "<ipython-input-34-8ffbcdde7c83>:8: SettingWithCopyWarning: \n",
            "A value is trying to be set on a copy of a slice from a DataFrame.\n",
            "Try using .loc[row_indexer,col_indexer] = value instead\n",
            "\n",
            "See the caveats in the documentation: https://pandas.pydata.org/pandas-docs/stable/user_guide/indexing.html#returning-a-view-versus-a-copy\n",
            "  df_train[\"Date\"] = df_train['TransactionDT'].apply(lambda x: startdate + datetime.timedelta(seconds=x))\n"
          ]
        },
        {
          "output_type": "execute_result",
          "data": {
            "text/plain": [
              "   TransactionID  isFraud  TransactionDT  TransactionAmt ProductCD  card1  \\\n",
              "0        2987000        0          86400            68.5         W  13926   \n",
              "1        2987001        0          86401            29.0         W   2755   \n",
              "2        2987002        0          86469            59.0         W   4663   \n",
              "\n",
              "   card2  card3       card4  card5  ... id_36  id_37  id_38  DeviceType  \\\n",
              "0    NaN  150.0    discover  142.0  ...   NaN    NaN    NaN         NaN   \n",
              "1  404.0  150.0  mastercard  102.0  ...   NaN    NaN    NaN         NaN   \n",
              "2  490.0  150.0        visa  166.0  ...   NaN    NaN    NaN         NaN   \n",
              "\n",
              "   DeviceInfo TransactionAmt_Range                Date  _Weekdays  _Hours  \\\n",
              "0         NaN                Medio 2017-12-02 00:00:00          5       0   \n",
              "1         NaN                 Bajo 2017-12-02 00:00:01          5       0   \n",
              "2         NaN                Medio 2017-12-02 00:01:09          5       0   \n",
              "\n",
              "   _Days  \n",
              "0      2  \n",
              "1      2  \n",
              "2      2  \n",
              "\n",
              "[3 rows x 439 columns]"
            ],
            "text/html": [
              "\n",
              "  <div id=\"df-b9317d7d-52ee-4ebd-9804-9aebb86b415c\" class=\"colab-df-container\">\n",
              "    <div>\n",
              "<style scoped>\n",
              "    .dataframe tbody tr th:only-of-type {\n",
              "        vertical-align: middle;\n",
              "    }\n",
              "\n",
              "    .dataframe tbody tr th {\n",
              "        vertical-align: top;\n",
              "    }\n",
              "\n",
              "    .dataframe thead th {\n",
              "        text-align: right;\n",
              "    }\n",
              "</style>\n",
              "<table border=\"1\" class=\"dataframe\">\n",
              "  <thead>\n",
              "    <tr style=\"text-align: right;\">\n",
              "      <th></th>\n",
              "      <th>TransactionID</th>\n",
              "      <th>isFraud</th>\n",
              "      <th>TransactionDT</th>\n",
              "      <th>TransactionAmt</th>\n",
              "      <th>ProductCD</th>\n",
              "      <th>card1</th>\n",
              "      <th>card2</th>\n",
              "      <th>card3</th>\n",
              "      <th>card4</th>\n",
              "      <th>card5</th>\n",
              "      <th>...</th>\n",
              "      <th>id_36</th>\n",
              "      <th>id_37</th>\n",
              "      <th>id_38</th>\n",
              "      <th>DeviceType</th>\n",
              "      <th>DeviceInfo</th>\n",
              "      <th>TransactionAmt_Range</th>\n",
              "      <th>Date</th>\n",
              "      <th>_Weekdays</th>\n",
              "      <th>_Hours</th>\n",
              "      <th>_Days</th>\n",
              "    </tr>\n",
              "  </thead>\n",
              "  <tbody>\n",
              "    <tr>\n",
              "      <th>0</th>\n",
              "      <td>2987000</td>\n",
              "      <td>0</td>\n",
              "      <td>86400</td>\n",
              "      <td>68.5</td>\n",
              "      <td>W</td>\n",
              "      <td>13926</td>\n",
              "      <td>NaN</td>\n",
              "      <td>150.0</td>\n",
              "      <td>discover</td>\n",
              "      <td>142.0</td>\n",
              "      <td>...</td>\n",
              "      <td>NaN</td>\n",
              "      <td>NaN</td>\n",
              "      <td>NaN</td>\n",
              "      <td>NaN</td>\n",
              "      <td>NaN</td>\n",
              "      <td>Medio</td>\n",
              "      <td>2017-12-02 00:00:00</td>\n",
              "      <td>5</td>\n",
              "      <td>0</td>\n",
              "      <td>2</td>\n",
              "    </tr>\n",
              "    <tr>\n",
              "      <th>1</th>\n",
              "      <td>2987001</td>\n",
              "      <td>0</td>\n",
              "      <td>86401</td>\n",
              "      <td>29.0</td>\n",
              "      <td>W</td>\n",
              "      <td>2755</td>\n",
              "      <td>404.0</td>\n",
              "      <td>150.0</td>\n",
              "      <td>mastercard</td>\n",
              "      <td>102.0</td>\n",
              "      <td>...</td>\n",
              "      <td>NaN</td>\n",
              "      <td>NaN</td>\n",
              "      <td>NaN</td>\n",
              "      <td>NaN</td>\n",
              "      <td>NaN</td>\n",
              "      <td>Bajo</td>\n",
              "      <td>2017-12-02 00:00:01</td>\n",
              "      <td>5</td>\n",
              "      <td>0</td>\n",
              "      <td>2</td>\n",
              "    </tr>\n",
              "    <tr>\n",
              "      <th>2</th>\n",
              "      <td>2987002</td>\n",
              "      <td>0</td>\n",
              "      <td>86469</td>\n",
              "      <td>59.0</td>\n",
              "      <td>W</td>\n",
              "      <td>4663</td>\n",
              "      <td>490.0</td>\n",
              "      <td>150.0</td>\n",
              "      <td>visa</td>\n",
              "      <td>166.0</td>\n",
              "      <td>...</td>\n",
              "      <td>NaN</td>\n",
              "      <td>NaN</td>\n",
              "      <td>NaN</td>\n",
              "      <td>NaN</td>\n",
              "      <td>NaN</td>\n",
              "      <td>Medio</td>\n",
              "      <td>2017-12-02 00:01:09</td>\n",
              "      <td>5</td>\n",
              "      <td>0</td>\n",
              "      <td>2</td>\n",
              "    </tr>\n",
              "  </tbody>\n",
              "</table>\n",
              "<p>3 rows × 439 columns</p>\n",
              "</div>\n",
              "    <div class=\"colab-df-buttons\">\n",
              "\n",
              "  <div class=\"colab-df-container\">\n",
              "    <button class=\"colab-df-convert\" onclick=\"convertToInteractive('df-b9317d7d-52ee-4ebd-9804-9aebb86b415c')\"\n",
              "            title=\"Convert this dataframe to an interactive table.\"\n",
              "            style=\"display:none;\">\n",
              "\n",
              "  <svg xmlns=\"http://www.w3.org/2000/svg\" height=\"24px\" viewBox=\"0 -960 960 960\">\n",
              "    <path d=\"M120-120v-720h720v720H120Zm60-500h600v-160H180v160Zm220 220h160v-160H400v160Zm0 220h160v-160H400v160ZM180-400h160v-160H180v160Zm440 0h160v-160H620v160ZM180-180h160v-160H180v160Zm440 0h160v-160H620v160Z\"/>\n",
              "  </svg>\n",
              "    </button>\n",
              "\n",
              "  <style>\n",
              "    .colab-df-container {\n",
              "      display:flex;\n",
              "      gap: 12px;\n",
              "    }\n",
              "\n",
              "    .colab-df-convert {\n",
              "      background-color: #E8F0FE;\n",
              "      border: none;\n",
              "      border-radius: 50%;\n",
              "      cursor: pointer;\n",
              "      display: none;\n",
              "      fill: #1967D2;\n",
              "      height: 32px;\n",
              "      padding: 0 0 0 0;\n",
              "      width: 32px;\n",
              "    }\n",
              "\n",
              "    .colab-df-convert:hover {\n",
              "      background-color: #E2EBFA;\n",
              "      box-shadow: 0px 1px 2px rgba(60, 64, 67, 0.3), 0px 1px 3px 1px rgba(60, 64, 67, 0.15);\n",
              "      fill: #174EA6;\n",
              "    }\n",
              "\n",
              "    .colab-df-buttons div {\n",
              "      margin-bottom: 4px;\n",
              "    }\n",
              "\n",
              "    [theme=dark] .colab-df-convert {\n",
              "      background-color: #3B4455;\n",
              "      fill: #D2E3FC;\n",
              "    }\n",
              "\n",
              "    [theme=dark] .colab-df-convert:hover {\n",
              "      background-color: #434B5C;\n",
              "      box-shadow: 0px 1px 3px 1px rgba(0, 0, 0, 0.15);\n",
              "      filter: drop-shadow(0px 1px 2px rgba(0, 0, 0, 0.3));\n",
              "      fill: #FFFFFF;\n",
              "    }\n",
              "  </style>\n",
              "\n",
              "    <script>\n",
              "      const buttonEl =\n",
              "        document.querySelector('#df-b9317d7d-52ee-4ebd-9804-9aebb86b415c button.colab-df-convert');\n",
              "      buttonEl.style.display =\n",
              "        google.colab.kernel.accessAllowed ? 'block' : 'none';\n",
              "\n",
              "      async function convertToInteractive(key) {\n",
              "        const element = document.querySelector('#df-b9317d7d-52ee-4ebd-9804-9aebb86b415c');\n",
              "        const dataTable =\n",
              "          await google.colab.kernel.invokeFunction('convertToInteractive',\n",
              "                                                    [key], {});\n",
              "        if (!dataTable) return;\n",
              "\n",
              "        const docLinkHtml = 'Like what you see? Visit the ' +\n",
              "          '<a target=\"_blank\" href=https://colab.research.google.com/notebooks/data_table.ipynb>data table notebook</a>'\n",
              "          + ' to learn more about interactive tables.';\n",
              "        element.innerHTML = '';\n",
              "        dataTable['output_type'] = 'display_data';\n",
              "        await google.colab.output.renderOutput(dataTable, element);\n",
              "        const docLink = document.createElement('div');\n",
              "        docLink.innerHTML = docLinkHtml;\n",
              "        element.appendChild(docLink);\n",
              "      }\n",
              "    </script>\n",
              "  </div>\n",
              "\n",
              "\n",
              "<div id=\"df-9bcd359e-2c09-4e0d-9a50-5584e4324085\">\n",
              "  <button class=\"colab-df-quickchart\" onclick=\"quickchart('df-9bcd359e-2c09-4e0d-9a50-5584e4324085')\"\n",
              "            title=\"Suggest charts\"\n",
              "            style=\"display:none;\">\n",
              "\n",
              "<svg xmlns=\"http://www.w3.org/2000/svg\" height=\"24px\"viewBox=\"0 0 24 24\"\n",
              "     width=\"24px\">\n",
              "    <g>\n",
              "        <path d=\"M19 3H5c-1.1 0-2 .9-2 2v14c0 1.1.9 2 2 2h14c1.1 0 2-.9 2-2V5c0-1.1-.9-2-2-2zM9 17H7v-7h2v7zm4 0h-2V7h2v10zm4 0h-2v-4h2v4z\"/>\n",
              "    </g>\n",
              "</svg>\n",
              "  </button>\n",
              "\n",
              "<style>\n",
              "  .colab-df-quickchart {\n",
              "      --bg-color: #E8F0FE;\n",
              "      --fill-color: #1967D2;\n",
              "      --hover-bg-color: #E2EBFA;\n",
              "      --hover-fill-color: #174EA6;\n",
              "      --disabled-fill-color: #AAA;\n",
              "      --disabled-bg-color: #DDD;\n",
              "  }\n",
              "\n",
              "  [theme=dark] .colab-df-quickchart {\n",
              "      --bg-color: #3B4455;\n",
              "      --fill-color: #D2E3FC;\n",
              "      --hover-bg-color: #434B5C;\n",
              "      --hover-fill-color: #FFFFFF;\n",
              "      --disabled-bg-color: #3B4455;\n",
              "      --disabled-fill-color: #666;\n",
              "  }\n",
              "\n",
              "  .colab-df-quickchart {\n",
              "    background-color: var(--bg-color);\n",
              "    border: none;\n",
              "    border-radius: 50%;\n",
              "    cursor: pointer;\n",
              "    display: none;\n",
              "    fill: var(--fill-color);\n",
              "    height: 32px;\n",
              "    padding: 0;\n",
              "    width: 32px;\n",
              "  }\n",
              "\n",
              "  .colab-df-quickchart:hover {\n",
              "    background-color: var(--hover-bg-color);\n",
              "    box-shadow: 0 1px 2px rgba(60, 64, 67, 0.3), 0 1px 3px 1px rgba(60, 64, 67, 0.15);\n",
              "    fill: var(--button-hover-fill-color);\n",
              "  }\n",
              "\n",
              "  .colab-df-quickchart-complete:disabled,\n",
              "  .colab-df-quickchart-complete:disabled:hover {\n",
              "    background-color: var(--disabled-bg-color);\n",
              "    fill: var(--disabled-fill-color);\n",
              "    box-shadow: none;\n",
              "  }\n",
              "\n",
              "  .colab-df-spinner {\n",
              "    border: 2px solid var(--fill-color);\n",
              "    border-color: transparent;\n",
              "    border-bottom-color: var(--fill-color);\n",
              "    animation:\n",
              "      spin 1s steps(1) infinite;\n",
              "  }\n",
              "\n",
              "  @keyframes spin {\n",
              "    0% {\n",
              "      border-color: transparent;\n",
              "      border-bottom-color: var(--fill-color);\n",
              "      border-left-color: var(--fill-color);\n",
              "    }\n",
              "    20% {\n",
              "      border-color: transparent;\n",
              "      border-left-color: var(--fill-color);\n",
              "      border-top-color: var(--fill-color);\n",
              "    }\n",
              "    30% {\n",
              "      border-color: transparent;\n",
              "      border-left-color: var(--fill-color);\n",
              "      border-top-color: var(--fill-color);\n",
              "      border-right-color: var(--fill-color);\n",
              "    }\n",
              "    40% {\n",
              "      border-color: transparent;\n",
              "      border-right-color: var(--fill-color);\n",
              "      border-top-color: var(--fill-color);\n",
              "    }\n",
              "    60% {\n",
              "      border-color: transparent;\n",
              "      border-right-color: var(--fill-color);\n",
              "    }\n",
              "    80% {\n",
              "      border-color: transparent;\n",
              "      border-right-color: var(--fill-color);\n",
              "      border-bottom-color: var(--fill-color);\n",
              "    }\n",
              "    90% {\n",
              "      border-color: transparent;\n",
              "      border-bottom-color: var(--fill-color);\n",
              "    }\n",
              "  }\n",
              "</style>\n",
              "\n",
              "  <script>\n",
              "    async function quickchart(key) {\n",
              "      const quickchartButtonEl =\n",
              "        document.querySelector('#' + key + ' button');\n",
              "      quickchartButtonEl.disabled = true;  // To prevent multiple clicks.\n",
              "      quickchartButtonEl.classList.add('colab-df-spinner');\n",
              "      try {\n",
              "        const charts = await google.colab.kernel.invokeFunction(\n",
              "            'suggestCharts', [key], {});\n",
              "      } catch (error) {\n",
              "        console.error('Error during call to suggestCharts:', error);\n",
              "      }\n",
              "      quickchartButtonEl.classList.remove('colab-df-spinner');\n",
              "      quickchartButtonEl.classList.add('colab-df-quickchart-complete');\n",
              "    }\n",
              "    (() => {\n",
              "      let quickchartButtonEl =\n",
              "        document.querySelector('#df-9bcd359e-2c09-4e0d-9a50-5584e4324085 button');\n",
              "      quickchartButtonEl.style.display =\n",
              "        google.colab.kernel.accessAllowed ? 'block' : 'none';\n",
              "    })();\n",
              "  </script>\n",
              "</div>\n",
              "\n",
              "    </div>\n",
              "  </div>\n"
            ],
            "application/vnd.google.colaboratory.intrinsic+json": {
              "type": "dataframe",
              "variable_name": "df_train"
            }
          },
          "metadata": {},
          "execution_count": 34
        }
      ]
    },
    {
      "cell_type": "code",
      "source": [
        "calcular_porcentaje_fraude(df_train,'_Weekdays')"
      ],
      "metadata": {
        "id": "0BqTRJU6Ml7j",
        "outputId": "d43ce5bf-618d-4523-f87b-52ea109218c2",
        "colab": {
          "base_uri": "https://localhost:8080/",
          "height": 269
        }
      },
      "execution_count": 35,
      "outputs": [
        {
          "output_type": "execute_result",
          "data": {
            "text/plain": [
              "   _Weekdays  N° Registros_Fraude  N° Registros_No_Fraude  \\\n",
              "0          0                 2503                   67720   \n",
              "1          1                 2686                   82745   \n",
              "2          2                 2803                   82010   \n",
              "3          3                 2946                   82406   \n",
              "4          4                 3211                   83161   \n",
              "5          5                 3550                   94951   \n",
              "6          6                 2963                   76870   \n",
              "\n",
              "   Porcentaje_Fraude %  Porcentaje_No_Fraude %  \n",
              "0                 3.56                   96.44  \n",
              "1                 3.14                   96.86  \n",
              "2                 3.30                   96.70  \n",
              "3                 3.45                   96.55  \n",
              "4                 3.72                   96.28  \n",
              "5                 3.60                   96.40  \n",
              "6                 3.71                   96.29  "
            ],
            "text/html": [
              "\n",
              "  <div id=\"df-d50ba185-3956-4edf-beb5-c10b61a0b231\" class=\"colab-df-container\">\n",
              "    <div>\n",
              "<style scoped>\n",
              "    .dataframe tbody tr th:only-of-type {\n",
              "        vertical-align: middle;\n",
              "    }\n",
              "\n",
              "    .dataframe tbody tr th {\n",
              "        vertical-align: top;\n",
              "    }\n",
              "\n",
              "    .dataframe thead th {\n",
              "        text-align: right;\n",
              "    }\n",
              "</style>\n",
              "<table border=\"1\" class=\"dataframe\">\n",
              "  <thead>\n",
              "    <tr style=\"text-align: right;\">\n",
              "      <th></th>\n",
              "      <th>_Weekdays</th>\n",
              "      <th>N° Registros_Fraude</th>\n",
              "      <th>N° Registros_No_Fraude</th>\n",
              "      <th>Porcentaje_Fraude %</th>\n",
              "      <th>Porcentaje_No_Fraude %</th>\n",
              "    </tr>\n",
              "  </thead>\n",
              "  <tbody>\n",
              "    <tr>\n",
              "      <th>0</th>\n",
              "      <td>0</td>\n",
              "      <td>2503</td>\n",
              "      <td>67720</td>\n",
              "      <td>3.56</td>\n",
              "      <td>96.44</td>\n",
              "    </tr>\n",
              "    <tr>\n",
              "      <th>1</th>\n",
              "      <td>1</td>\n",
              "      <td>2686</td>\n",
              "      <td>82745</td>\n",
              "      <td>3.14</td>\n",
              "      <td>96.86</td>\n",
              "    </tr>\n",
              "    <tr>\n",
              "      <th>2</th>\n",
              "      <td>2</td>\n",
              "      <td>2803</td>\n",
              "      <td>82010</td>\n",
              "      <td>3.30</td>\n",
              "      <td>96.70</td>\n",
              "    </tr>\n",
              "    <tr>\n",
              "      <th>3</th>\n",
              "      <td>3</td>\n",
              "      <td>2946</td>\n",
              "      <td>82406</td>\n",
              "      <td>3.45</td>\n",
              "      <td>96.55</td>\n",
              "    </tr>\n",
              "    <tr>\n",
              "      <th>4</th>\n",
              "      <td>4</td>\n",
              "      <td>3211</td>\n",
              "      <td>83161</td>\n",
              "      <td>3.72</td>\n",
              "      <td>96.28</td>\n",
              "    </tr>\n",
              "    <tr>\n",
              "      <th>5</th>\n",
              "      <td>5</td>\n",
              "      <td>3550</td>\n",
              "      <td>94951</td>\n",
              "      <td>3.60</td>\n",
              "      <td>96.40</td>\n",
              "    </tr>\n",
              "    <tr>\n",
              "      <th>6</th>\n",
              "      <td>6</td>\n",
              "      <td>2963</td>\n",
              "      <td>76870</td>\n",
              "      <td>3.71</td>\n",
              "      <td>96.29</td>\n",
              "    </tr>\n",
              "  </tbody>\n",
              "</table>\n",
              "</div>\n",
              "    <div class=\"colab-df-buttons\">\n",
              "\n",
              "  <div class=\"colab-df-container\">\n",
              "    <button class=\"colab-df-convert\" onclick=\"convertToInteractive('df-d50ba185-3956-4edf-beb5-c10b61a0b231')\"\n",
              "            title=\"Convert this dataframe to an interactive table.\"\n",
              "            style=\"display:none;\">\n",
              "\n",
              "  <svg xmlns=\"http://www.w3.org/2000/svg\" height=\"24px\" viewBox=\"0 -960 960 960\">\n",
              "    <path d=\"M120-120v-720h720v720H120Zm60-500h600v-160H180v160Zm220 220h160v-160H400v160Zm0 220h160v-160H400v160ZM180-400h160v-160H180v160Zm440 0h160v-160H620v160ZM180-180h160v-160H180v160Zm440 0h160v-160H620v160Z\"/>\n",
              "  </svg>\n",
              "    </button>\n",
              "\n",
              "  <style>\n",
              "    .colab-df-container {\n",
              "      display:flex;\n",
              "      gap: 12px;\n",
              "    }\n",
              "\n",
              "    .colab-df-convert {\n",
              "      background-color: #E8F0FE;\n",
              "      border: none;\n",
              "      border-radius: 50%;\n",
              "      cursor: pointer;\n",
              "      display: none;\n",
              "      fill: #1967D2;\n",
              "      height: 32px;\n",
              "      padding: 0 0 0 0;\n",
              "      width: 32px;\n",
              "    }\n",
              "\n",
              "    .colab-df-convert:hover {\n",
              "      background-color: #E2EBFA;\n",
              "      box-shadow: 0px 1px 2px rgba(60, 64, 67, 0.3), 0px 1px 3px 1px rgba(60, 64, 67, 0.15);\n",
              "      fill: #174EA6;\n",
              "    }\n",
              "\n",
              "    .colab-df-buttons div {\n",
              "      margin-bottom: 4px;\n",
              "    }\n",
              "\n",
              "    [theme=dark] .colab-df-convert {\n",
              "      background-color: #3B4455;\n",
              "      fill: #D2E3FC;\n",
              "    }\n",
              "\n",
              "    [theme=dark] .colab-df-convert:hover {\n",
              "      background-color: #434B5C;\n",
              "      box-shadow: 0px 1px 3px 1px rgba(0, 0, 0, 0.15);\n",
              "      filter: drop-shadow(0px 1px 2px rgba(0, 0, 0, 0.3));\n",
              "      fill: #FFFFFF;\n",
              "    }\n",
              "  </style>\n",
              "\n",
              "    <script>\n",
              "      const buttonEl =\n",
              "        document.querySelector('#df-d50ba185-3956-4edf-beb5-c10b61a0b231 button.colab-df-convert');\n",
              "      buttonEl.style.display =\n",
              "        google.colab.kernel.accessAllowed ? 'block' : 'none';\n",
              "\n",
              "      async function convertToInteractive(key) {\n",
              "        const element = document.querySelector('#df-d50ba185-3956-4edf-beb5-c10b61a0b231');\n",
              "        const dataTable =\n",
              "          await google.colab.kernel.invokeFunction('convertToInteractive',\n",
              "                                                    [key], {});\n",
              "        if (!dataTable) return;\n",
              "\n",
              "        const docLinkHtml = 'Like what you see? Visit the ' +\n",
              "          '<a target=\"_blank\" href=https://colab.research.google.com/notebooks/data_table.ipynb>data table notebook</a>'\n",
              "          + ' to learn more about interactive tables.';\n",
              "        element.innerHTML = '';\n",
              "        dataTable['output_type'] = 'display_data';\n",
              "        await google.colab.output.renderOutput(dataTable, element);\n",
              "        const docLink = document.createElement('div');\n",
              "        docLink.innerHTML = docLinkHtml;\n",
              "        element.appendChild(docLink);\n",
              "      }\n",
              "    </script>\n",
              "  </div>\n",
              "\n",
              "\n",
              "<div id=\"df-968a782b-9000-40c4-b846-71b8f516a3b6\">\n",
              "  <button class=\"colab-df-quickchart\" onclick=\"quickchart('df-968a782b-9000-40c4-b846-71b8f516a3b6')\"\n",
              "            title=\"Suggest charts\"\n",
              "            style=\"display:none;\">\n",
              "\n",
              "<svg xmlns=\"http://www.w3.org/2000/svg\" height=\"24px\"viewBox=\"0 0 24 24\"\n",
              "     width=\"24px\">\n",
              "    <g>\n",
              "        <path d=\"M19 3H5c-1.1 0-2 .9-2 2v14c0 1.1.9 2 2 2h14c1.1 0 2-.9 2-2V5c0-1.1-.9-2-2-2zM9 17H7v-7h2v7zm4 0h-2V7h2v10zm4 0h-2v-4h2v4z\"/>\n",
              "    </g>\n",
              "</svg>\n",
              "  </button>\n",
              "\n",
              "<style>\n",
              "  .colab-df-quickchart {\n",
              "      --bg-color: #E8F0FE;\n",
              "      --fill-color: #1967D2;\n",
              "      --hover-bg-color: #E2EBFA;\n",
              "      --hover-fill-color: #174EA6;\n",
              "      --disabled-fill-color: #AAA;\n",
              "      --disabled-bg-color: #DDD;\n",
              "  }\n",
              "\n",
              "  [theme=dark] .colab-df-quickchart {\n",
              "      --bg-color: #3B4455;\n",
              "      --fill-color: #D2E3FC;\n",
              "      --hover-bg-color: #434B5C;\n",
              "      --hover-fill-color: #FFFFFF;\n",
              "      --disabled-bg-color: #3B4455;\n",
              "      --disabled-fill-color: #666;\n",
              "  }\n",
              "\n",
              "  .colab-df-quickchart {\n",
              "    background-color: var(--bg-color);\n",
              "    border: none;\n",
              "    border-radius: 50%;\n",
              "    cursor: pointer;\n",
              "    display: none;\n",
              "    fill: var(--fill-color);\n",
              "    height: 32px;\n",
              "    padding: 0;\n",
              "    width: 32px;\n",
              "  }\n",
              "\n",
              "  .colab-df-quickchart:hover {\n",
              "    background-color: var(--hover-bg-color);\n",
              "    box-shadow: 0 1px 2px rgba(60, 64, 67, 0.3), 0 1px 3px 1px rgba(60, 64, 67, 0.15);\n",
              "    fill: var(--button-hover-fill-color);\n",
              "  }\n",
              "\n",
              "  .colab-df-quickchart-complete:disabled,\n",
              "  .colab-df-quickchart-complete:disabled:hover {\n",
              "    background-color: var(--disabled-bg-color);\n",
              "    fill: var(--disabled-fill-color);\n",
              "    box-shadow: none;\n",
              "  }\n",
              "\n",
              "  .colab-df-spinner {\n",
              "    border: 2px solid var(--fill-color);\n",
              "    border-color: transparent;\n",
              "    border-bottom-color: var(--fill-color);\n",
              "    animation:\n",
              "      spin 1s steps(1) infinite;\n",
              "  }\n",
              "\n",
              "  @keyframes spin {\n",
              "    0% {\n",
              "      border-color: transparent;\n",
              "      border-bottom-color: var(--fill-color);\n",
              "      border-left-color: var(--fill-color);\n",
              "    }\n",
              "    20% {\n",
              "      border-color: transparent;\n",
              "      border-left-color: var(--fill-color);\n",
              "      border-top-color: var(--fill-color);\n",
              "    }\n",
              "    30% {\n",
              "      border-color: transparent;\n",
              "      border-left-color: var(--fill-color);\n",
              "      border-top-color: var(--fill-color);\n",
              "      border-right-color: var(--fill-color);\n",
              "    }\n",
              "    40% {\n",
              "      border-color: transparent;\n",
              "      border-right-color: var(--fill-color);\n",
              "      border-top-color: var(--fill-color);\n",
              "    }\n",
              "    60% {\n",
              "      border-color: transparent;\n",
              "      border-right-color: var(--fill-color);\n",
              "    }\n",
              "    80% {\n",
              "      border-color: transparent;\n",
              "      border-right-color: var(--fill-color);\n",
              "      border-bottom-color: var(--fill-color);\n",
              "    }\n",
              "    90% {\n",
              "      border-color: transparent;\n",
              "      border-bottom-color: var(--fill-color);\n",
              "    }\n",
              "  }\n",
              "</style>\n",
              "\n",
              "  <script>\n",
              "    async function quickchart(key) {\n",
              "      const quickchartButtonEl =\n",
              "        document.querySelector('#' + key + ' button');\n",
              "      quickchartButtonEl.disabled = true;  // To prevent multiple clicks.\n",
              "      quickchartButtonEl.classList.add('colab-df-spinner');\n",
              "      try {\n",
              "        const charts = await google.colab.kernel.invokeFunction(\n",
              "            'suggestCharts', [key], {});\n",
              "      } catch (error) {\n",
              "        console.error('Error during call to suggestCharts:', error);\n",
              "      }\n",
              "      quickchartButtonEl.classList.remove('colab-df-spinner');\n",
              "      quickchartButtonEl.classList.add('colab-df-quickchart-complete');\n",
              "    }\n",
              "    (() => {\n",
              "      let quickchartButtonEl =\n",
              "        document.querySelector('#df-968a782b-9000-40c4-b846-71b8f516a3b6 button');\n",
              "      quickchartButtonEl.style.display =\n",
              "        google.colab.kernel.accessAllowed ? 'block' : 'none';\n",
              "    })();\n",
              "  </script>\n",
              "</div>\n",
              "\n",
              "    </div>\n",
              "  </div>\n"
            ],
            "application/vnd.google.colaboratory.intrinsic+json": {
              "type": "dataframe",
              "summary": "{\n  \"name\": \"calcular_porcentaje_fraude(df_train,'_Weekdays')\",\n  \"rows\": 7,\n  \"fields\": [\n    {\n      \"column\": \"_Weekdays\",\n      \"properties\": {\n        \"dtype\": \"number\",\n        \"std\": 2,\n        \"min\": 0,\n        \"max\": 6,\n        \"num_unique_values\": 7,\n        \"samples\": [\n          0,\n          1,\n          5\n        ],\n        \"semantic_type\": \"\",\n        \"description\": \"\"\n      }\n    },\n    {\n      \"column\": \"N\\u00b0 Registros_Fraude\",\n      \"properties\": {\n        \"dtype\": \"number\",\n        \"std\": 346,\n        \"min\": 2503,\n        \"max\": 3550,\n        \"num_unique_values\": 7,\n        \"samples\": [\n          2503,\n          2686,\n          3550\n        ],\n        \"semantic_type\": \"\",\n        \"description\": \"\"\n      }\n    },\n    {\n      \"column\": \"N\\u00b0 Registros_No_Fraude\",\n      \"properties\": {\n        \"dtype\": \"number\",\n        \"std\": 8140,\n        \"min\": 67720,\n        \"max\": 94951,\n        \"num_unique_values\": 7,\n        \"samples\": [\n          67720,\n          82745,\n          94951\n        ],\n        \"semantic_type\": \"\",\n        \"description\": \"\"\n      }\n    },\n    {\n      \"column\": \"Porcentaje_Fraude %\",\n      \"properties\": {\n        \"dtype\": \"number\",\n        \"std\": 0.2153070896583363,\n        \"min\": 3.14,\n        \"max\": 3.72,\n        \"num_unique_values\": 7,\n        \"samples\": [\n          3.56,\n          3.14,\n          3.6\n        ],\n        \"semantic_type\": \"\",\n        \"description\": \"\"\n      }\n    },\n    {\n      \"column\": \"Porcentaje_No_Fraude %\",\n      \"properties\": {\n        \"dtype\": \"number\",\n        \"std\": 0.2153070896583349,\n        \"min\": 96.28,\n        \"max\": 96.86,\n        \"num_unique_values\": 7,\n        \"samples\": [\n          96.44,\n          96.86,\n          96.4\n        ],\n        \"semantic_type\": \"\",\n        \"description\": \"\"\n      }\n    }\n  ]\n}"
            }
          },
          "metadata": {},
          "execution_count": 35
        }
      ]
    },
    {
      "cell_type": "code",
      "source": [
        "calcular_porcentaje_fraude(df_train,'_Days')"
      ],
      "metadata": {
        "id": "8nL-ZZcWNekq",
        "outputId": "32dd1a34-5014-4912-94ac-f52f3a3618c1",
        "colab": {
          "base_uri": "https://localhost:8080/",
          "height": 111
        }
      },
      "execution_count": 36,
      "outputs": [
        {
          "output_type": "error",
          "ename": "SyntaxError",
          "evalue": "invalid syntax (<ipython-input-36-84f1fe7bf1e7>, line 1)",
          "traceback": [
            "\u001b[0;36m  File \u001b[0;32m\"<ipython-input-36-84f1fe7bf1e7>\"\u001b[0;36m, line \u001b[0;32m1\u001b[0m\n\u001b[0;31m    calcular_porcentaje_fraude(df_train,'_Days') code\u001b[0m\n\u001b[0m                                                 ^\u001b[0m\n\u001b[0;31mSyntaxError\u001b[0m\u001b[0;31m:\u001b[0m invalid syntax\n"
          ]
        }
      ]
    },
    {
      "cell_type": "code",
      "source": [
        "calcular_porcentaje_fraude(df_train,'_Hours')"
      ],
      "metadata": {
        "id": "aiid72guOxMk"
      },
      "execution_count": null,
      "outputs": []
    },
    {
      "cell_type": "code",
      "source": [
        "\n",
        "\n",
        "# Crear subplots para los gráficos de barras\n",
        "fig, axes = plt.subplots(nrows=3, ncols=1, figsize=(10, 15))\n",
        "\n",
        "# Gráfico para _Weekdays\n",
        "sns.countplot(x='_Weekdays', data=df_train,hue='isFraud', ax=axes[0])\n",
        "axes[0].set_title('Distribución de transacciones por día de la semana', fontsize=14)\n",
        "axes[0].set_xlabel('Día de la semana')\n",
        "axes[0].set_ylabel('Número de transacciones')\n",
        "axes[0].tick_params(axis='x', rotation=45)\n",
        "\n",
        "# Gráfico para _Hours\n",
        "sns.countplot(x='_Hours', data=df_train,hue='isFraud', ax=axes[1])\n",
        "axes[1].set_title('Distribución de transacciones por hora del día', fontsize=14)\n",
        "axes[1].set_xlabel('Hora del día')\n",
        "axes[1].set_ylabel('Número de transacciones')\n",
        "axes[1].tick_params(axis='x', rotation=45)\n",
        "\n",
        "# Gráfico para _Days\n",
        "sns.countplot(x='_Days', data=df_train,hue='isFraud', ax=axes[2])\n",
        "axes[2].set_title('Distribución de transacciones por día del mes', fontsize=14)\n",
        "axes[2].set_xlabel('Día del mes')\n",
        "axes[2].set_ylabel('Número de transacciones')\n",
        "axes[2].tick_params(axis='x', rotation=45)\n",
        "\n",
        "# Ajustar el espaciado entre subplots\n",
        "plt.tight_layout()\n",
        "\n",
        "# Mostrar los gráficos\n",
        "plt.show()"
      ],
      "metadata": {
        "id": "Pg5F6qI-KkpG"
      },
      "execution_count": null,
      "outputs": []
    },
    {
      "cell_type": "markdown",
      "source": [
        "- No hay un día de la semana con un porcentaje significativamente mayor de fraude.\n",
        "- De manera similar, a lo largo del mes, no se observa un día con un porcetaje notablemente mayor de transacciones fraudulentas,.\n",
        "- Las transacciones al inicio y al final de día aumenta, aumentando así las cantidades de fraude también, pero a mitad del día los porcentaje de fraude aumenta ya que el número de transacciones disminuye, es decir la actidad fraudalente no sigue el comportamiento de las trasacciones de no fraude."
      ],
      "metadata": {
        "id": "n8FUG6g4PcTY"
      }
    },
    {
      "cell_type": "code",
      "source": [
        "import matplotlib.pyplot as plt\n",
        "import seaborn as sns\n",
        "\n",
        "# Suponiendo que tienes un DataFrame df_train con la columna 'Date' formateada correctamente\n",
        "# y las columnas 'isFraud' que indica si es fraude o no.\n",
        "\n",
        "# Calcular el número total de transacciones por día\n",
        "total_transactions_by_day = df_train.groupby(df_train['Date'].dt.date).size()\n",
        "\n",
        "# Calcular el número de fraudes y no fraudes por día\n",
        "fraud_by_day = df_train[df_train['isFraud'] == 1].groupby(df_train['Date'].dt.date).size() / total_transactions_by_day\n",
        "fraud_no_by_day = df_train[df_train['isFraud'] == 0].groupby(df_train['Date'].dt.date).size() / total_transactions_by_day\n",
        "\n",
        "# Graficar la serie temporal normalizada\n",
        "fig, ax1 = plt.subplots(figsize=(18, 6))\n",
        "\n",
        "# Línea para fraudes (eje y izquierdo)\n",
        "sns.lineplot(x=fraud_by_day.index, y=fraud_by_day.values, marker='o', ax=ax1, label='Fraudes')\n",
        "ax1.set_xlabel('Fecha')\n",
        "ax1.set_ylabel('Proporción de fraudes', color='tab:blue')\n",
        "ax1.tick_params(axis='y', labelcolor='tab:blue')\n",
        "ax1.grid(True)\n",
        "\n",
        "# Crear un segundo eje y (eje y derecho) para los no fraudes\n",
        "ax2 = ax1.twinx()\n",
        "sns.lineplot(x=fraud_no_by_day.index, y=fraud_no_by_day.values, marker='o', ax=ax2, color='red', label='No Fraudes')\n",
        "ax2.set_ylabel('Proporción de no fraudes', color='red')\n",
        "ax2.tick_params(axis='y', labelcolor='red')\n",
        "\n",
        "# Título y ajustes generales\n",
        "plt.title('Proporción de fraudes y no fraudes por día')\n",
        "plt.xticks(rotation=45)\n",
        "plt.grid(True)\n",
        "plt.tight_layout()\n",
        "plt.show()\n"
      ],
      "metadata": {
        "id": "Bcx9OwRDTBiY"
      },
      "execution_count": null,
      "outputs": []
    },
    {
      "cell_type": "markdown",
      "source": [
        "- Se puede observar que hay períodos donde el aumento de la actividad fraudulenta no se correlaciona con la actividad no fraudulenta. Pero en general parecen estar correlacionadas."
      ],
      "metadata": {
        "id": "o6fS1151TX1C"
      }
    },
    {
      "cell_type": "markdown",
      "source": [],
      "metadata": {
        "id": "719zUN8f2wHd"
      }
    },
    {
      "cell_type": "markdown",
      "metadata": {
        "id": "tOczIQJ7qCDr"
      },
      "source": [
        "### Columna ProductCD"
      ]
    },
    {
      "cell_type": "markdown",
      "metadata": {
        "id": "tALsioMKqCDr"
      },
      "source": [
        "**ProductCD**: código de producto, el producto para cada transacción.\n",
        "- \"El producto no necesariamente tiene que ser un 'producto' real (como un artículo para agregar al carrito de compras). Podría ser cualquier tipo de servicio.\""
      ]
    },
    {
      "cell_type": "code",
      "execution_count": null,
      "metadata": {
        "id": "eCb0avVVqCDs"
      },
      "outputs": [],
      "source": [
        "df_train['ProductCD'].unique()"
      ]
    },
    {
      "cell_type": "code",
      "source": [
        "import matplotlib.pyplot as plt\n",
        "import seaborn as sns\n",
        "import pandas as pd\n",
        "\n",
        "# Supongamos que ya tienes df_train y 'ProductCD' está presente en tus datos\n",
        "\n",
        "# Calcular el porcentaje de cada categoría en ProductCD\n",
        "productCD_percent = round((df_train['ProductCD'].value_counts() / len(df_train['ProductCD'])) * 100, 2)\n",
        "\n",
        "# Crear la figura y los ejes para los gráficos\n",
        "fig, axes = plt.subplots(1, 2, figsize=(18, 8))\n",
        "\n",
        "# Graficar el countplot de ProductCD desglosado por isFraud\n",
        "sns.countplot(data=df_train, x='ProductCD', hue='isFraud', palette='Set2', ax=axes[0])\n",
        "axes[0].set_title('Countplot de ProductCD desglosado por isFraud', fontsize=18)\n",
        "axes[0].set_xlabel('ProductCD', fontsize=14)\n",
        "axes[0].set_ylabel('Count', fontsize=14)\n",
        "axes[0].legend(title='isFraud')\n",
        "\n",
        "# Ajustar el formato de las etiquetas del eje x para mejorar la legibilidad\n",
        "axes[0].tick_params(axis='x', rotation=45)\n",
        "\n",
        "# Graficar el barplot de porcentaje de ProductCD\n",
        "sns.barplot(x=productCD_percent.index, y=productCD_percent.values, palette='tab10', ax=axes[1])\n",
        "axes[1].set_title('Porcentaje de ProductCD', fontsize=18)\n",
        "axes[1].set_xlabel('ProductCD', fontsize=14)\n",
        "axes[1].set_ylabel('%', fontsize=14)\n",
        "\n",
        "# Añadir etiquetas de porcentaje en las barras\n",
        "for p in axes[1].patches:\n",
        "    axes[1].annotate(f'{p.get_height()}%', (p.get_x() + p.get_width() / 2., p.get_height()), ha='center', va='center', fontsize=12, color='black', xytext=(0, 5), textcoords='offset points')\n",
        "\n",
        "# Ajustar el formato de las etiquetas del eje x para mejorar la legibilidad\n",
        "axes[1].tick_params(axis='x', rotation=45)\n",
        "\n",
        "# Ajustar el espacio entre los gráficos\n",
        "plt.tight_layout()\n",
        "\n",
        "# Mostrar los gráficos\n",
        "plt.show()\n"
      ],
      "metadata": {
        "id": "wnEv3zAJDy7x"
      },
      "execution_count": null,
      "outputs": []
    },
    {
      "cell_type": "code",
      "source": [
        "count_table = pd.crosstab(index=df_train['ProductCD'], columns=df_train['isFraud'])\n",
        "\n",
        "# Ordenar la tabla por la columna que representa los fraudes (1)\n",
        "count_table = count_table.sort_values(by=1, ascending=False)\n",
        "\n",
        "# Calcular el porcentaje de cada categoría en ProductCD\n",
        "count_table_percent = count_table.apply(lambda x: round(x / x.sum() * 100, 2), axis=1)\n",
        "\n",
        "# Mostrar la tabla de conteo desglosada por ProductCD y isFraud en porcentaje\n",
        "print(count_table_percent)"
      ],
      "metadata": {
        "id": "HghHO8yDD_fY"
      },
      "execution_count": null,
      "outputs": []
    },
    {
      "cell_type": "markdown",
      "metadata": {
        "id": "HeWUv6XWqCDt"
      },
      "source": [
        "**Observación:**\n",
        "- El tipo de producto con mayor transacción es el \"W\" con 74.39%, seguido del producto \"C\" y los demás.\n",
        "-  De la tabla de porcentaje de fraude, cada producto tiene diferentes porcentajes, el producto con mayor porcentaje de fraude es el producto C"
      ]
    },
    {
      "cell_type": "code",
      "source": [
        "plt.figure(figsize=(12, 8))\n",
        "sns.boxplot(data=df_train, x='ProductCD', y='TransactionAmt',hue='isFraud')\n",
        "plt.xlabel('ProductCD')\n",
        "plt.ylabel('TransactionAmt')\n",
        "plt.title('Boxplot de TransactionAmt por ProductCD')\n",
        "plt.xticks(rotation=45, ha='right')\n",
        "plt.show()"
      ],
      "metadata": {
        "id": "6wvV_SZtFNlB"
      },
      "execution_count": null,
      "outputs": []
    },
    {
      "cell_type": "code",
      "source": [
        "# Eliminar filas con valores NaN en 'TransactionAmt'\n",
        "df_train_clean = df_train.dropna(subset=['TransactionAmt'])\n",
        "\n",
        "# Calcular estadísticas descriptivas\n",
        "stats_prod = df_train_clean.groupby(['ProductCD', 'isFraud'])['TransactionAmt'].describe().round(2)\n",
        "\n",
        "# Mostrar el resultado\n",
        "print(stats_prod)"
      ],
      "metadata": {
        "id": "0v9EREelKcWM"
      },
      "execution_count": null,
      "outputs": []
    },
    {
      "cell_type": "markdown",
      "source": [
        "- Observando las medianas, notamos que para 'C' y 'S' son prácticamente iguales. 'H' difiere notablemente con una mediana aproximadamente tres veces mayor, mientras que 'R' muestra una diferencia de casi el doble. Por otro lado, 'W' exhibe una mediana casi el doble en comparación con los otros."
      ],
      "metadata": {
        "id": "dBZhkU7rLDkX"
      }
    },
    {
      "cell_type": "markdown",
      "metadata": {
        "id": "gmNweq6TqCDt"
      },
      "source": [
        "### Característica Addr"
      ]
    },
    {
      "cell_type": "markdown",
      "metadata": {
        "id": "IYIceI_aqCDu"
      },
      "source": [
        "**addr**: dirección.\n",
        "- \"Ambas direcciones son para el comprador: addr1 como región de facturación, addr2 como país de facturación.\""
      ]
    },
    {
      "cell_type": "code",
      "source": [
        "df_train['addr1'].dtype"
      ],
      "metadata": {
        "id": "dv49bHbV7TQ6"
      },
      "execution_count": null,
      "outputs": []
    },
    {
      "cell_type": "code",
      "source": [
        "\n",
        "# Suponiendo que df_train tiene las columnas 'addr1' y 'isFraud'\n",
        "\n",
        "# Filtrar y copiar el DataFrame eliminando filas con valores nulos en 'addr1'\n",
        "df_filtered = df_train.dropna(subset=['addr1']).copy()\n",
        "df_filtered['addr1'] = df_filtered['addr1'].astype(int)  # Convertir 'addr1' a tipo entero\n",
        "\n",
        "# Separar por fraude y no fraude\n",
        "df_fraude = df_filtered[df_filtered['isFraud'] == 1]\n",
        "df_no_fraude = df_filtered[df_filtered['isFraud'] == 0]\n",
        "\n",
        "# Calcular el tamaño de cada grupo agrupando por 'addr1' para fraude y no fraude\n",
        "addr_fraude = df_fraude.groupby('addr1').size().reset_index(name='N° Registros_Fraude')\n",
        "addr_no_fraude = df_no_fraude.groupby('addr1').size().reset_index(name='N° Registros_No_Fraude')\n",
        "\n",
        "# Combinar los resultados en un DataFrame final\n",
        "addr_resultado = pd.merge(addr_fraude, addr_no_fraude, on='addr1', how='outer').fillna(0)\n",
        "\n",
        "# Calcular el porcentaje sobre el total de cada fila\n",
        "addr_resultado['Porcentaje_Fraude %'] = round((addr_resultado['N° Registros_Fraude'] / (addr_resultado['N° Registros_Fraude'] +addr_resultado['N° Registros_No_Fraude']  )) * 100, 2)\n",
        "addr_resultado['Porcentaje_No_Fraude %'] = round((addr_resultado['N° Registros_No_Fraude'] / (addr_resultado['N° Registros_Fraude'] +addr_resultado['N° Registros_No_Fraude']  )) * 100, 2)\n",
        "\n",
        "# Ordenar el DataFrame por número de registros de fraude de manera descendente y mostrar los primeros 5 grupos\n",
        "addr_resultado_porcentaje_fraude = addr_resultado.sort_values(by='Porcentaje_Fraude %', ascending=False).head(20)\n",
        "addr_resultado_porcentaje_fraude.head(10)\n"
      ],
      "metadata": {
        "id": "BG9hbI2vbcTa"
      },
      "execution_count": null,
      "outputs": []
    },
    {
      "cell_type": "code",
      "source": [
        "\n",
        "plt.figure(figsize=(18, 6))\n",
        "sns.barplot(x='addr1', y='N° Registros_Fraude', data=addr_resultado_porcentaje_fraude, color='orange', alpha=0.8, label='Fraude')\n",
        "sns.barplot(x='addr1', y='N° Registros_No_Fraude', data=addr_resultado_porcentaje_fraude, color='blue', alpha=0.4, label= 'No Fraude')\n",
        "plt.title('Top  Números de Registros por addr1 ordenado por mayor porcentaje de fraude', fontsize=16)\n",
        "plt.xlabel('addr1', fontsize=14)\n",
        "plt.ylabel('Número de Registros', fontsize=14)\n",
        "plt.xticks(rotation=45, ha='right')\n",
        "sns.despine()\n",
        "plt.show()\n"
      ],
      "metadata": {
        "id": "xSUw14ynbjSj"
      },
      "execution_count": null,
      "outputs": []
    },
    {
      "cell_type": "code",
      "source": [
        "addr_resultado_fraude=addr_resultado.sort_values(by=['N° Registros_Fraude',], ascending=False).head(20)\n",
        "addr_resultado_fraude.head(10)\n"
      ],
      "metadata": {
        "id": "s7MpNvFjg8DR"
      },
      "execution_count": null,
      "outputs": []
    },
    {
      "cell_type": "code",
      "source": [
        "\n",
        "plt.figure(figsize=(18, 6))\n",
        "sns.barplot(x='addr1', y='N° Registros_Fraude', data=addr_resultado_fraude, color='orange', alpha=0.8, label='Fraude')\n",
        "sns.barplot(x='addr1', y='N° Registros_No_Fraude', data=addr_resultado_fraude, color='blue', alpha=0.4, label= 'No Fraude')\n",
        "plt.title('Top  Números de Registros por addr1 ordenado por mayor numero de  fraude', fontsize=16)\n",
        "plt.xlabel('addr1', fontsize=14)\n",
        "plt.ylabel('Número de Registros', fontsize=14)\n",
        "plt.xticks(rotation=45, ha='right')\n",
        "plt.legend()\n",
        "sns.despine()\n",
        "plt.show()\n"
      ],
      "metadata": {
        "id": "BQU0OMfOhPTt"
      },
      "execution_count": null,
      "outputs": []
    },
    {
      "cell_type": "code",
      "source": [
        "\n",
        "plt.figure(figsize=(18, 6))\n",
        "sns.barplot(x='addr1', y='Porcentaje_Fraude %', data=addr_resultado, color='orange', alpha=0.8, label='Fraude')\n",
        "sns.barplot(x='addr1', y='Porcentaje_No_Fraude %', data=addr_resultado, color='blue', alpha=0.4, label= 'No Fraude')\n",
        "plt.title('Top  Números de Registros por addr1 ordenado por mayor numero de  fraude', fontsize=16)\n",
        "plt.xlabel('addr1', fontsize=14)\n",
        "plt.ylabel('Número de Registros', fontsize=14)\n",
        "plt.xticks(rotation=45, ha='right')\n",
        "plt.legend()\n",
        "sns.despine()\n",
        "plt.show()\n"
      ],
      "metadata": {
        "id": "N14e-jB6jP4X"
      },
      "execution_count": null,
      "outputs": []
    },
    {
      "cell_type": "markdown",
      "source": [
        "- Si ordenamos por porcentaje de fraude, encontramos regiones donde la proporción de operaciones fraudulentas es más alta. Sin embargo, esto puede deberse a que estas regiones tienen un número total de transacciones relativamente bajo. Por otro lado, al ordenar por mayor cantidad de fraude en términos absolutos, observamos que el porcentaje de transacciones fraudulentas en estas regiones de facturación no supera el 2.6%, a pesar de tener un mayor volumen de transacciones en comparación con otras regiones.\n",
        "\n",
        "Por lo tanto, esta columna no aporta mucho a la detección de fraudes, ya que no hay regiones preferenciales específicas para actividades fraudulentas"
      ],
      "metadata": {
        "id": "dsfny5-adsbA"
      }
    },
    {
      "cell_type": "markdown",
      "metadata": {
        "id": "G_qQFMpuqCDw"
      },
      "source": [
        "En la tabla de arriba muestra las 10 regiones con mayor transacciones"
      ]
    },
    {
      "cell_type": "markdown",
      "source": [
        "### Addr2"
      ],
      "metadata": {
        "id": "EQB4-hfbmFjt"
      }
    },
    {
      "cell_type": "code",
      "source": [
        "\n",
        "# Suponiendo que df_train tiene las columnas 'addr2' y 'isFraud'\n",
        "\n",
        "# Filtrar y copiar el DataFrame eliminando filas con valores nulos en 'addr2'\n",
        "df_filtered = df_train.dropna(subset=['addr2']).copy()\n",
        "df_filtered['addr2'] = df_filtered['addr2'].astype(int)  # Convertir 'addr2' a tipo entero\n",
        "\n",
        "# Separar por fraude y no fraude\n",
        "df_fraude = df_filtered[df_filtered['isFraud'] == 1]\n",
        "df_no_fraude = df_filtered[df_filtered['isFraud'] == 0]\n",
        "\n",
        "# Calcular el tamaño de cada grupo agrupando por 'addr2' para fraude y no fraude\n",
        "addr_fraude = df_fraude.groupby('addr2').size().reset_index(name='N° Registros_Fraude')\n",
        "addr_no_fraude = df_no_fraude.groupby('addr2').size().reset_index(name='N° Registros_No_Fraude')\n",
        "\n",
        "# Combinar los resultados en un DataFrame final\n",
        "addr_resultado = pd.merge(addr_fraude, addr_no_fraude, on='addr2', how='outer').fillna(0)\n",
        "\n",
        "# Calcular el porcentaje sobre el total de cada fila\n",
        "addr_resultado['Porcentaje_Fraude %'] = round((addr_resultado['N° Registros_Fraude'] / (addr_resultado['N° Registros_Fraude'] +addr_resultado['N° Registros_No_Fraude']  )) * 100, 2)\n",
        "addr_resultado['Porcentaje_No_Fraude %'] = round((addr_resultado['N° Registros_No_Fraude'] / (addr_resultado['N° Registros_Fraude'] +addr_resultado['N° Registros_No_Fraude']  )) * 100, 2)\n",
        "\n",
        "# Ordenar el DataFrame por número de registros de fraude de manera descendente y mostrar los primeros 5 grupos\n",
        "addr_resultado_porcentaje_fraude = addr_resultado.sort_values(by='Porcentaje_Fraude %', ascending=False).head(20)\n",
        "addr_resultado_porcentaje_fraude.head(10)\n"
      ],
      "metadata": {
        "id": "msVIBwXFmI19"
      },
      "execution_count": null,
      "outputs": []
    },
    {
      "cell_type": "code",
      "source": [
        "\n",
        "plt.figure(figsize=(18, 6))\n",
        "sns.barplot(x='addr2', y='N° Registros_Fraude', data=addr_resultado_porcentaje_fraude, color='orange', alpha=0.8, label='Fraude')\n",
        "sns.barplot(x='addr2', y='N° Registros_No_Fraude', data=addr_resultado_porcentaje_fraude, color='blue', alpha=0.4, label= 'No Fraude')\n",
        "plt.title('Top  Números de Registros por addr2 ordenado por mayor porcentaje de fraude', fontsize=16)\n",
        "plt.xlabel('addr2', fontsize=14)\n",
        "plt.ylabel('Número de Registros', fontsize=14)\n",
        "plt.xticks(rotation=45, ha='right')\n",
        "sns.despine()\n",
        "plt.show()\n"
      ],
      "metadata": {
        "id": "6VgvNrKMmXnx"
      },
      "execution_count": null,
      "outputs": []
    },
    {
      "cell_type": "code",
      "source": [
        "addr_resultado_fraude=addr_resultado.sort_values(by=['N° Registros_Fraude',], ascending=False).head(20)\n",
        "addr_resultado_fraude.head(10)"
      ],
      "metadata": {
        "id": "nGoGnzZMmvID"
      },
      "execution_count": null,
      "outputs": []
    },
    {
      "cell_type": "code",
      "source": [
        "\n",
        "plt.figure(figsize=(18, 6))\n",
        "sns.barplot(x='addr2', y='N° Registros_Fraude', data=addr_resultado_fraude, color='orange', alpha=0.8, label='Fraude')\n",
        "sns.barplot(x='addr2', y='N° Registros_No_Fraude', data=addr_resultado_fraude, color='blue', alpha=0.4, label= 'No Fraude')\n",
        "plt.title('Top  Números de Registros por addr2 ordenado por mayor numero de  fraude', fontsize=16)\n",
        "plt.xlabel('addr2', fontsize=14)\n",
        "plt.ylabel('Número de Registros', fontsize=14)\n",
        "plt.xticks(rotation=45, ha='right')\n",
        "plt.legend()\n",
        "sns.despine()\n",
        "plt.show()\n"
      ],
      "metadata": {
        "id": "__MfU81Fmo09"
      },
      "execution_count": null,
      "outputs": []
    },
    {
      "cell_type": "code",
      "source": [
        "\n",
        "plt.figure(figsize=(18, 6))\n",
        "sns.barplot(x='addr2', y='Porcentaje_Fraude %', data=addr_resultado, color='orange', alpha=0.8, label='Fraude')\n",
        "sns.barplot(x='addr2', y='Porcentaje_No_Fraude %', data=addr_resultado, color='blue', alpha=0.4, label= 'No Fraude')\n",
        "plt.title('Top  Números de Registros por addr2 ordenado por mayor numero de  fraude', fontsize=16)\n",
        "plt.xlabel('addr2', fontsize=14)\n",
        "plt.ylabel('Número de Registros', fontsize=14)\n",
        "plt.xticks(rotation=45, ha='right')\n",
        "plt.legend()\n",
        "sns.despine()\n",
        "plt.show()\n"
      ],
      "metadata": {
        "id": "9FzSc4Dym4EQ"
      },
      "execution_count": null,
      "outputs": []
    },
    {
      "cell_type": "markdown",
      "metadata": {
        "id": "-EvcTTOQqCDx"
      },
      "source": [
        "**Obervación:**\n",
        "- Observando los datos por el código de país de facturación (addr2), notamos que el país con el código 87 tiene el mayor número de fraudes registrados. Sin embargo, el porcentaje de transacciones fraudulentas en este país no supera el 2.4% del total de sus transacciones. Por otro lado, hay países con porcentajes de fraude muy elevados, pero tienen un número reducido de transacciones en comparación.\n",
        "\n",
        "\n"
      ]
    },
    {
      "cell_type": "markdown",
      "metadata": {
        "id": "VFG_TLHZqCDy"
      },
      "source": [
        "### Columna P_emaildomain\n",
        "\n",
        "**P_emaildomain**: dominio de correo electrónico del comprador."
      ]
    },
    {
      "cell_type": "code",
      "execution_count": null,
      "metadata": {
        "id": "WEwKqLzNqCDy"
      },
      "outputs": [],
      "source": [
        "df_train['P_emaildomain'].value_counts().head(10)"
      ]
    },
    {
      "cell_type": "code",
      "execution_count": null,
      "metadata": {
        "id": "wUPO5kfKqCDy"
      },
      "outputs": [],
      "source": [
        "top_5_values = df_train['P_emaildomain'].value_counts().head(5)\n",
        "sns.countplot(data=df_train, x='P_emaildomain', order=top_5_values.index,hue='isFraud')\n",
        "plt.xticks(rotation=45)\n",
        "plt.title('Top 5 Purchaser_emaildomain')\n",
        "plt.xlabel('P_emaildomain')\n",
        "plt.ylabel('Conteo')\n",
        "plt.tight_layout()\n",
        "#plt.savefig(base_dir+ 'emaildomaintop5')\n",
        "\n",
        "plt.show()"
      ]
    },
    {
      "cell_type": "code",
      "source": [
        "\n",
        "# Suponiendo que df_train tiene las columnas 'P_emaildomain' y 'isFraud'\n",
        "\n",
        "# Filtrar y copiar el DataFrame eliminando filas con valores nulos en 'P_emaildomain'\n",
        "df_filtered = df_train.dropna(subset=['P_emaildomain']).copy()\n",
        "#df_filtered['P_emaildomain'] = df_filtered['P_emaildomain'].astype(int)  # Convertir 'P_emaildomain' a tipo entero\n",
        "\n",
        "# Separar por fraude y no fraude\n",
        "df_fraude = df_filtered[df_filtered['isFraud'] == 1]\n",
        "df_no_fraude = df_filtered[df_filtered['isFraud'] == 0]\n",
        "\n",
        "# Calcular el tamaño de cada grupo agrupando por 'P_emaildomain' para fraude y no fraude\n",
        "addr_fraude = df_fraude.groupby('P_emaildomain').size().reset_index(name='N° Registros_Fraude')\n",
        "addr_no_fraude = df_no_fraude.groupby('P_emaildomain').size().reset_index(name='N° Registros_No_Fraude')\n",
        "\n",
        "# Combinar los resultados en un DataFrame final\n",
        "addr_resultado = pd.merge(addr_fraude, addr_no_fraude, on='P_emaildomain', how='outer').fillna(0)\n",
        "\n",
        "# Calcular el porcentaje sobre el total de cada fila\n",
        "addr_resultado['Porcentaje_Fraude %'] = round((addr_resultado['N° Registros_Fraude'] / (addr_resultado['N° Registros_Fraude'] +addr_resultado['N° Registros_No_Fraude']  )) * 100, 2)\n",
        "addr_resultado['Porcentaje_No_Fraude %'] = round((addr_resultado['N° Registros_No_Fraude'] / (addr_resultado['N° Registros_Fraude'] +addr_resultado['N° Registros_No_Fraude']  )) * 100, 2)\n",
        "\n",
        "# Ordenar el DataFrame por número de registros de fraude de manera descendente y mostrar los primeros 5 grupos\n",
        "addr_resultado_porcentaje_fraude = addr_resultado.sort_values(by='Porcentaje_Fraude %', ascending=False)\n",
        "addr_resultado_porcentaje_fraude.head(10)\n"
      ],
      "metadata": {
        "id": "6PQyI0zwqOHU"
      },
      "execution_count": null,
      "outputs": []
    },
    {
      "cell_type": "code",
      "source": [
        "\n",
        "plt.figure(figsize=(18, 6))\n",
        "sns.barplot(x='P_emaildomain', y='N° Registros_Fraude', data=addr_resultado_porcentaje_fraude, color='orange', alpha=0.8, label='Fraude')\n",
        "sns.barplot(x='P_emaildomain', y='N° Registros_No_Fraude', data=addr_resultado_porcentaje_fraude, color='blue', alpha=0.4, label= 'No Fraude')\n",
        "plt.title('Top  Números de Registros por P_emaildomain ordenado por mayor porcentaje de fraude', fontsize=16)\n",
        "plt.xlabel('P_emaildomain', fontsize=14)\n",
        "plt.ylabel('Número de Registros', fontsize=14)\n",
        "plt.xticks(rotation=45, ha='right')\n",
        "sns.despine()\n",
        "plt.show()"
      ],
      "metadata": {
        "id": "rfcS30Qoq_Mq"
      },
      "execution_count": null,
      "outputs": []
    },
    {
      "cell_type": "markdown",
      "source": [],
      "metadata": {
        "id": "j5MPPdbyqvtq"
      }
    },
    {
      "cell_type": "code",
      "source": [
        "addr_resultado_fraude=addr_resultado.sort_values(by=['N° Registros_Fraude',], ascending=False)\n",
        "addr_resultado_fraude.head(10)"
      ],
      "metadata": {
        "id": "FYix85qtrNhV"
      },
      "execution_count": null,
      "outputs": []
    },
    {
      "cell_type": "markdown",
      "source": [],
      "metadata": {
        "id": "Mh2ds44KybkZ"
      }
    },
    {
      "cell_type": "code",
      "source": [
        "\n",
        "plt.figure(figsize=(18, 6))\n",
        "sns.barplot(x='P_emaildomain', y='Porcentaje_Fraude %', data=addr_resultado, color='orange', alpha=0.8, label='Fraude')\n",
        "sns.barplot(x='P_emaildomain', y='Porcentaje_No_Fraude %', data=addr_resultado, color='blue', alpha=0.4, label= 'No Fraude')\n",
        "plt.title('Top  Números de Registros por P_emaildomain ordenado por mayor numero de  fraude', fontsize=16)\n",
        "plt.xlabel('P_emaildomain', fontsize=14)\n",
        "plt.ylabel('Número de Registros', fontsize=14)\n",
        "plt.xticks(rotation=45, ha='right')\n",
        "plt.legend()\n",
        "sns.despine()\n",
        "plt.show()"
      ],
      "metadata": {
        "id": "dm5xkHrosNmJ"
      },
      "execution_count": null,
      "outputs": []
    },
    {
      "cell_type": "markdown",
      "source": [
        "- Los dominios de correo electrónico con el mayor número de fraudes son Gmail, seguido de Hotmail y Yahoo. Sin embargo, es importante tener en cuenta que estos representan solo un pequeño porcentaje del total de transacciones. Además, hay dominios donde el porcentaje de fraudes es considerablemente mayor, pero con un número mucho menor de transacciones.\n",
        "-  Dominio de correo electrónico del comprador (purchaser) y del destinatario (recipient) respectivamente la mayor parte de la transacción lo hace con \"gmail\""
      ],
      "metadata": {
        "id": "cOuYmLdJyc2o"
      }
    },
    {
      "cell_type": "markdown",
      "source": [],
      "metadata": {
        "id": "YFAYws1jy1gH"
      }
    },
    {
      "cell_type": "code",
      "source": [
        "\n",
        "\n",
        "# Suponiendo que df_train tiene las columnas 'R_emaildomain' y 'isFraud'\n",
        "\n",
        "# Filtrar y copiar el DataFrame eliminando filas con valores nulos en 'R_emaildomain'\n",
        "df_filtered = df_train.dropna(subset=['R_emaildomain']).copy()\n",
        "#df_filtered['R_emaildomain'] = df_filtered['R_emaildomain'].astype(int)  # Convertir 'R_emaildomain' a tipo entero\n",
        "\n",
        "# Separar por fraude y no fraude\n",
        "df_fraude = df_filtered[df_filtered['isFraud'] == 1]\n",
        "df_no_fraude = df_filtered[df_filtered['isFraud'] == 0]\n",
        "\n",
        "# Calcular el tamaño de cada grupo agrupando por 'R_emaildomain' para fraude y no fraude\n",
        "addr_fraude = df_fraude.groupby('R_emaildomain').size().reset_index(name='N° Registros_Fraude')\n",
        "addr_no_fraude = df_no_fraude.groupby('R_emaildomain').size().reset_index(name='N° Registros_No_Fraude')\n",
        "\n",
        "# Combinar los resultados en un DataFrame final\n",
        "addr_resultado = pd.merge(addr_fraude, addr_no_fraude, on='R_emaildomain', how='outer').fillna(0)\n",
        "\n",
        "# Calcular el porcentaje sobre el total de cada fila\n",
        "addr_resultado['Porcentaje_Fraude %'] = round((addr_resultado['N° Registros_Fraude'] / (addr_resultado['N° Registros_Fraude'] +addr_resultado['N° Registros_No_Fraude']  )) * 100, 2)\n",
        "addr_resultado['Porcentaje_No_Fraude %'] = round((addr_resultado['N° Registros_No_Fraude'] / (addr_resultado['N° Registros_Fraude'] +addr_resultado['N° Registros_No_Fraude']  )) * 100, 2)\n",
        "\n",
        "# Ordenar el DataFrame por número de registros de fraude de manera descendente y mostrar los primeros 5 grupos\n",
        "addr_resultado_porcentaje_fraude = addr_resultado.sort_values(by='Porcentaje_Fraude %', ascending=False)\n",
        "addr_resultado_porcentaje_fraude.head(10)\n"
      ],
      "metadata": {
        "id": "TpVLgAgJy0-o"
      },
      "execution_count": null,
      "outputs": []
    },
    {
      "cell_type": "code",
      "source": [
        "addr_resultado_fraude=addr_resultado.sort_values(by=['N° Registros_Fraude',], ascending=False)\n",
        "addr_resultado_fraude.head(10)"
      ],
      "metadata": {
        "id": "vV4h0qOHzLSn"
      },
      "execution_count": null,
      "outputs": []
    },
    {
      "cell_type": "code",
      "source": [
        "\n",
        "plt.figure(figsize=(18, 6))\n",
        "sns.barplot(x='R_emaildomain', y='N° Registros_Fraude', data=addr_resultado_porcentaje_fraude, color='orange', alpha=0.8, label='Fraude')\n",
        "sns.barplot(x='R_emaildomain', y='N° Registros_No_Fraude', data=addr_resultado_porcentaje_fraude, color='blue', alpha=0.4, label= 'No Fraude')\n",
        "plt.title('Top  Números de Registros por R_emaildomain ordenado por mayor porcentaje de fraude', fontsize=16)\n",
        "plt.xlabel('R_emaildomain', fontsize=14)\n",
        "plt.ylabel('Número de Registros', fontsize=14)\n",
        "plt.xticks(rotation=45, ha='right')\n",
        "sns.despine()\n",
        "plt.show()"
      ],
      "metadata": {
        "id": "qasMdOwkzRNo"
      },
      "execution_count": null,
      "outputs": []
    },
    {
      "cell_type": "markdown",
      "source": [
        "- Los dominios de correo electrónico con el mayor número de fraudes son Gmail, seguido de Hotmail y Yahoo. Sin embargo, es importante tener en cuenta que estos representan solo un pequeño porcentaje del total de transacciones. Además, hay dominios donde el porcentaje de fraudes es considerablemente mayor, pero con un número mucho menor de transacciones."
      ],
      "metadata": {
        "id": "erQN4-eSznvV"
      }
    },
    {
      "cell_type": "markdown",
      "metadata": {
        "id": "hAJ_AbwJqCDz"
      },
      "source": [
        "## Car"
      ]
    },
    {
      "cell_type": "markdown",
      "metadata": {
        "id": "DPXnPkN6qCD0"
      },
      "source": [
        "\n",
        "**card1 - card6**: información de la tarjeta de pago, como tipo de tarjeta, categoría de tarjeta, banco emisor, país, etc.\n",
        "- \"Información de la tarjeta de pago, como tipo de tarjeta, categoría de tarjeta, banco emisor, país, etc.\""
      ]
    },
    {
      "cell_type": "code",
      "source": [
        "import matplotlib.pyplot as plt\n",
        "import seaborn as sns\n",
        "\n",
        "cards = ['card1', 'card2', 'card3', 'card4', 'card5', 'card6']\n",
        "\n",
        "# Crear subplots para cada variable de tarjeta\n",
        "fig, axs = plt.subplots(3, 2, figsize=(15, 15), sharey=False, tight_layout=True)\n",
        "\n",
        "# Iterar sobre las variables de tarjeta y los subplots correspondientes\n",
        "for i, card in enumerate(cards):\n",
        "    # Histograma de densidad para datos no fraudulentos\n",
        "    sns.histplot(data=df_train[df_train['isFraud'] == 0], x=card, bins=30,\n",
        "                 edgecolor=\"white\", linewidth=0.7, log_scale=False, ax=axs[i//2, i%2], color='tab:blue', label='No Fraude', kde=True, stat='density')\n",
        "\n",
        "    # Histograma de densidad para datos fraudulentos\n",
        "    sns.histplot(data=df_train[df_train['isFraud'] == 1], x=card, bins=30,\n",
        "                 edgecolor=\"white\", linewidth=0.7, log_scale=False, ax=axs[i//2, i%2], color='tab:orange', label='Fraude', kde=True, stat='density')\n",
        "\n",
        "    # Configuraciones adicionales para cada subplot\n",
        "    axs[i//2, i%2].set_xlabel(card)\n",
        "    axs[i//2, i%2].legend()\n",
        "\n",
        "# Ajustar el espacio entre subplots y mostrar la figura\n",
        "plt.tight_layout()\n",
        "plt.show()\n"
      ],
      "metadata": {
        "id": "JOYeulBcMSk0"
      },
      "execution_count": null,
      "outputs": []
    },
    {
      "cell_type": "code",
      "source": [
        "stat_card = df_train.groupby('isFraud')[cards].describe().T.round(2)\n",
        "stat_card"
      ],
      "metadata": {
        "id": "vGCLBJLINoh8"
      },
      "execution_count": null,
      "outputs": []
    },
    {
      "cell_type": "markdown",
      "source": [
        "- Las variables Card1 y Card2 son valores numéricos. En la gráfica de distribución, se observa que sus distribuciones normalizadas no muestran grandes diferencias entre los casos con fraude y sin fraude. Además, los valores estadísticos, como la media y la dispersión, son muy similares para ambos grupos.\n",
        "- Lo mismo ocurre con las variables categóricas Card3 y Card5, donde los valores más frecuentes coinciden. Sin embargo, en Card5, se observa que hay ciertos valores para los cuales la frecuencia es más alta en los casos de fraude en comparación con los no fraudulentos, lo que indica una diferencia en la distribución entre ambos grupos.\n",
        "- En Card4, las empresas emisoras de tarjetas muestran la misma distribución tanto en casos de fraude como en casos no fraudulentos.\n",
        "- Sin embargo, en Card6, que representa el tipo de pago (tarjeta o débito), se observan diferencias significativas en las distribuciones entre ambos grupos"
      ],
      "metadata": {
        "id": "cMrEM_zLO4L8"
      }
    },
    {
      "cell_type": "code",
      "source": [
        "plt.figure(figsize=(12, 8))\n",
        "sns.boxplot(data=df_train, x='card6', y='TransactionAmt',hue='isFraud')\n",
        "plt.xlabel('card6')\n",
        "plt.ylabel('TransactionAmt')\n",
        "plt.title('Boxplot de TransactionAmt por card6')\n",
        "plt.xticks(rotation=45, ha='right')\n",
        "plt.show()"
      ],
      "metadata": {
        "id": "CwOm-mQvRqx0"
      },
      "execution_count": null,
      "outputs": []
    },
    {
      "cell_type": "code",
      "source": [
        "# Eliminar filas con valores NaN en 'TransactionAmt'\n",
        "df_train_clean = df_train.dropna(subset=['TransactionAmt'])\n",
        "\n",
        "# Calcular estadísticas descriptivas\n",
        "stats_prod = df_train_clean.groupby(['card6', 'isFraud'])['TransactionAmt'].describe().round(2)\n",
        "\n",
        "# Mostrar el resultado\n",
        "stats_prod"
      ],
      "metadata": {
        "id": "vp8Lf_bZSkzT"
      },
      "execution_count": null,
      "outputs": []
    },
    {
      "cell_type": "markdown",
      "source": [
        "- En la categoría de crédito, se observa una diferencia del 10% en la mediana, mientras que los otros cuartiles son prácticamente similares.\n",
        "- Por otro lado, en la categoría de débito, la diferencia en la mediana es del 5%; el cuartil Q2 casi coincide, pero no así el cuartil Q3."
      ],
      "metadata": {
        "id": "fRjhNqUVTCb9"
      }
    },
    {
      "cell_type": "code",
      "source": [
        "plt.figure(figsize=(12, 8))\n",
        "sns.boxplot(data=df_train, x='card4', y='TransactionAmt',hue='isFraud')\n",
        "plt.xlabel('card4')\n",
        "plt.ylabel('TransactionAmt')\n",
        "plt.title('Boxplot de TransactionAmt por card4')\n",
        "plt.xticks(rotation=45, ha='right')\n",
        "plt.show()"
      ],
      "metadata": {
        "id": "BPyIRXZzSJXr"
      },
      "execution_count": null,
      "outputs": []
    },
    {
      "cell_type": "code",
      "source": [
        "# Eliminar filas con valores NaN en 'TransactionAmt'\n",
        "df_train_clean = df_train.dropna(subset=['TransactionAmt'])\n",
        "\n",
        "# Calcular estadísticas descriptivas\n",
        "stats_prod = df_train_clean.groupby(['card4', 'isFraud'])['TransactionAmt'].describe().round(2)\n",
        "\n",
        "# Mostrar el resultado\n",
        "\n",
        "stats_prod"
      ],
      "metadata": {
        "id": "NjGZGg7rS5Iy"
      },
      "execution_count": null,
      "outputs": []
    },
    {
      "cell_type": "markdown",
      "source": [
        "- Se observa una notable diferencia en las distribuciones entre las distintas empresas de tarjeta de crédito. Discover muestra la mayor disparidad entre fraude y no fraude; se pueden apreciar estas diferencias en los valores de sus cuartiles. Le sigue American Express en términos de divergencia entre las distribuciones de fraude y no fraude."
      ],
      "metadata": {
        "id": "IO---1_xUD86"
      }
    },
    {
      "cell_type": "markdown",
      "source": [
        "## M1-M9"
      ],
      "metadata": {
        "id": "w1w5yXqJVsN1"
      }
    },
    {
      "cell_type": "code",
      "source": [
        "M = ['M1', 'M2', 'M3', 'M4', 'M5', 'M6', 'M7', 'M8', 'M9']"
      ],
      "metadata": {
        "id": "J0EA4v7vUV1w"
      },
      "execution_count": null,
      "outputs": []
    },
    {
      "cell_type": "code",
      "source": [
        "\n",
        "\n",
        "M = ['M1', 'M2', 'M3', 'M4', 'M5', 'M6', 'M7', 'M8', 'M9']\n",
        "\n",
        "# Crear subplots para cada variable de tarjeta\n",
        "fig, axs = plt.subplots(3, 3, figsize=(15, 15), sharey=False, tight_layout=True)\n",
        "\n",
        "# Iterar sobre las variables de tarjeta y los subplots correspondientes\n",
        "for i, m in enumerate(M):\n",
        "    # Histograma de densidad para datos no fraudulentos\n",
        "    sns.histplot(data=df_train[df_train['isFraud'] == 0], x=m, bins=30,\n",
        "                 edgecolor=\"white\", linewidth=0.7, log_scale=False, ax=axs[i//3, i%3], color='tab:blue', label='No Fraude', stat='density')\n",
        "\n",
        "    # Histograma de densidad para datos fraudulentos\n",
        "    sns.histplot(data=df_train[df_train['isFraud'] == 1], x=m, bins=30,\n",
        "                 edgecolor=\"white\", linewidth=0.7, log_scale=False, ax=axs[i//3, i%3], color='tab:orange', label='Fraude', stat='density',alpha=0.3)\n",
        "\n",
        "    # Configuraciones adicionales para cada subplot\n",
        "    axs[i//3, i%3].set_xlabel(m)\n",
        "    axs[i//3, i%3].set_ylabel('Densidad')\n",
        "    axs[i//3, i%3].legend()\n",
        "\n",
        "# Ajustar el espacio entre subplots y mostrar la figura\n",
        "plt.tight_layout()\n",
        "plt.show()\n"
      ],
      "metadata": {
        "id": "EFkoJ2f0WNfG"
      },
      "execution_count": null,
      "outputs": []
    },
    {
      "cell_type": "code",
      "source": [
        "stats_percent = (df_train.groupby('isFraud')[M].count()).round(2)\n",
        "stats_percent"
      ],
      "metadata": {
        "id": "PCocoqHkZBDB"
      },
      "execution_count": null,
      "outputs": []
    },
    {
      "cell_type": "code",
      "source": [
        "# Crear una figura y subplots\n",
        "fig, axes = plt.subplots(nrows=3, ncols=3, figsize=(18, 12))\n",
        "\n",
        "# Ajustar espacio entre subplots\n",
        "plt.tight_layout(pad=4.0)\n",
        "\n",
        "# Iterar sobre las columnas y los ejes para crear los boxplots\n",
        "for ax, col in zip(axes.flat, M):\n",
        "    sns.boxplot(data=df_train, x=col, y='TransactionAmt', hue='isFraud', ax=ax)\n",
        "    ax.set_xlabel(col)\n",
        "    ax.set_ylabel('TransactionAmt')\n",
        "    ax.set_title(f'Boxplot de TransactionAmt por {col}')\n",
        "    ax.tick_params(axis='x', rotation=45)\n",
        "\n",
        "# Mostrar la figura\n",
        "plt.show()"
      ],
      "metadata": {
        "id": "i9m4v6faQ6gb"
      },
      "execution_count": null,
      "outputs": []
    },
    {
      "cell_type": "code",
      "source": [
        "import pandas as pd\n",
        "\n",
        "def calcular_estadisticas_con_diferencias_relativas(df, columnas, group_by_cols):\n",
        "    \"\"\"\n",
        "    Calcula estadísticas descriptivas para las columnas especificadas en un DataFrame, agrupadas por las columnas especificadas,\n",
        "    y añade una fila con las diferencias relativas en porcentaje entre fraude y no fraude.\n",
        "\n",
        "    Parameters:\n",
        "    df (pd.DataFrame): DataFrame que contiene los datos.\n",
        "    columnas (list): Lista de columnas para las cuales se calcularán las estadísticas.\n",
        "    group_by_cols (list): Lista de columnas por las cuales se agruparán los datos.\n",
        "\n",
        "    Returns:\n",
        "    dict: Un diccionario donde las claves son los nombres de las columnas y los valores son DataFrames con las estadísticas descriptivas.\n",
        "    \"\"\"\n",
        "    estadisticas = {}\n",
        "    for col in columnas:\n",
        "        # Crear una copia temporal del DataFrame y eliminar valores nulos\n",
        "        temp_df = df.dropna(subset=group_by_cols + [col])\n",
        "        stats = temp_df.groupby(group_by_cols + [col])['TransactionAmt'].describe().round(2)\n",
        "\n",
        "        # Calcular diferencias relativas entre fraude y no fraude\n",
        "        if 'isFraud' in group_by_cols:\n",
        "            fraude = stats.xs(1, level='isFraud')\n",
        "            no_fraude = stats.xs(0, level='isFraud')\n",
        "            diferencias_relativas = ((fraude - no_fraude) / no_fraude * 100).rename(index=lambda x: f'Diff_%{x}').round(1)\n",
        "            stats = pd.concat([stats, diferencias_relativas])\n",
        "\n",
        "        estadisticas[col] = stats\n",
        "    return estadisticas\n",
        "\n",
        "# Lista de columnas M\n",
        "M = ['M1', 'M2', 'M3', 'M4', 'M5', 'M6', 'M7', 'M8', 'M9']\n",
        "\n",
        "# Calcular estadísticas descriptivas para cada columna en M agrupadas por la columna correspondiente y 'isFraud'\n",
        "for col in M:\n",
        "    stats = calcular_estadisticas_con_diferencias_relativas(df_train_clean, [col], ['isFraud'])\n",
        "    print(f\"Estadísticas para {col}:\\n\")\n",
        "    print(stats[col])\n",
        "    print(\"\\n\")\n"
      ],
      "metadata": {
        "id": "6s8g_zkeRhTZ"
      },
      "execution_count": null,
      "outputs": []
    },
    {
      "cell_type": "markdown",
      "source": [
        "- se observa una notable diferencia entre las transacciones fraudulentas y no fraudulentas en todas las categorías de M. Las medidas de medias, medianas y cuartiles muestran variaciones significativas, lo cual la convierte en una excelente opción para el entrenamiento."
      ],
      "metadata": {
        "id": "kzzGcVu6V-q7"
      }
    },
    {
      "cell_type": "markdown",
      "source": [
        "-"
      ],
      "metadata": {
        "id": "ZISXT5nXNVBs"
      }
    },
    {
      "cell_type": "markdown",
      "metadata": {
        "id": "C9lRwFv5qCD1"
      },
      "source": [
        "### **C1-C14**\n",
        "\n",
        "**C1-C14**: conteo, como cuántas direcciones están asociadas con la tarjeta de pago, etc.\n",
        "- \"Conteos de variables C1-C15: ¿Serían como recuentos de números de teléfono, direcciones de correo electrónico, nombres asociados con el usuario? Tu suposición es buena, además de dispositivos, direcciones IP, dirección de facturación, etc. También son para el comprador y el destinatario, lo que duplica el número.\""
      ]
    },
    {
      "cell_type": "code",
      "execution_count": null,
      "metadata": {
        "id": "t2wIS3T1qCD1"
      },
      "outputs": [],
      "source": [
        "c_valores = ['C1', 'C2', 'C3', 'C4', 'C5', 'C6', 'C7', 'C8', 'C9', 'C10',\n",
        "       'C11', 'C12', 'C13', 'C14']"
      ]
    },
    {
      "cell_type": "code",
      "execution_count": null,
      "metadata": {
        "id": "Cc_sVv-qqCD1"
      },
      "outputs": [],
      "source": [
        "df_train[c_valores].describe()"
      ]
    },
    {
      "cell_type": "code",
      "execution_count": null,
      "metadata": {
        "id": "bbUdazM_qCD2"
      },
      "outputs": [],
      "source": [
        "\n",
        "\n",
        "# Crear subplots para cada rango de valor\n",
        "fig, axs = plt.subplots(7, 2, figsize=(20, 15), sharey=False, tight_layout=True)\n",
        "\n",
        "# Iterar sobre los subplots y los rangos\n",
        "for i, ax in enumerate(axs.flatten()):\n",
        "        sns.histplot(data=df_train, x=c_valores[i], bins=30,\n",
        "                     edgecolor=\"white\", linewidth=0.7, log_scale=True, ax=ax,hue='isFraud')\n",
        "\n",
        "# Ajustar el espacio entre subplots y mostrar la figura\n",
        "plt.tight_layout()\n",
        "plt.show()\n"
      ]
    },
    {
      "cell_type": "markdown",
      "source": [
        "### id"
      ],
      "metadata": {
        "id": "uD_qILJmdLJr"
      }
    },
    {
      "cell_type": "code",
      "source": [
        "ids = ['id_01', 'id_02', 'id_03', 'id_04', 'id_05', 'id_06', 'id_07', 'id_08', 'id_09', 'id_10', 'id_11', 'id_12', 'id_13', 'id_14', 'id_15', 'id_16', 'id_17', 'id_18', 'id_19', 'id_20', 'id_21', 'id_22', 'id_23', 'id_24', 'id_25', 'id_26', 'id_27', 'id_28', 'id_29', 'id_30', 'id_31', 'id_32', 'id_33', 'id_34', 'id_35', 'id_36', 'id_37', 'id_38',]"
      ],
      "metadata": {
        "id": "VwbjtGvzd5yJ"
      },
      "execution_count": 38,
      "outputs": []
    },
    {
      "cell_type": "code",
      "source": [
        "null_percentages = (df_train[ids].isnull().sum() / len(df_train[ids])) * 100\n",
        "print(round(null_percentages,2).sort_values(ascending=False))"
      ],
      "metadata": {
        "id": "UgtBQCIdesKl",
        "outputId": "dcf14a04-411e-4a51-d4bf-692fc562d4f8",
        "colab": {
          "base_uri": "https://localhost:8080/"
        }
      },
      "execution_count": 40,
      "outputs": [
        {
          "output_type": "stream",
          "name": "stdout",
          "text": [
            "id_24    99.20\n",
            "id_21    99.13\n",
            "id_07    99.13\n",
            "id_08    99.13\n",
            "id_25    99.13\n",
            "id_26    99.13\n",
            "id_23    99.12\n",
            "id_27    99.12\n",
            "id_22    99.12\n",
            "id_18    92.36\n",
            "id_03    88.77\n",
            "id_04    88.77\n",
            "id_33    87.59\n",
            "id_10    87.31\n",
            "id_09    87.31\n",
            "id_30    86.87\n",
            "id_32    86.86\n",
            "id_34    86.82\n",
            "id_14    86.45\n",
            "id_13    78.44\n",
            "id_16    78.10\n",
            "id_06    76.82\n",
            "id_05    76.82\n",
            "id_20    76.42\n",
            "id_19    76.41\n",
            "id_17    76.40\n",
            "id_31    76.24\n",
            "id_02    76.14\n",
            "id_35    76.13\n",
            "id_36    76.13\n",
            "id_37    76.13\n",
            "id_38    76.13\n",
            "id_29    76.13\n",
            "id_28    76.13\n",
            "id_15    76.13\n",
            "id_11    76.13\n",
            "id_12    75.58\n",
            "id_01    75.58\n",
            "dtype: float64\n"
          ]
        }
      ]
    },
    {
      "cell_type": "markdown",
      "source": [
        "- Las columnas de ID tienen un alto porcentaje de valores nulos, por lo que no serán de interés por ahora."
      ],
      "metadata": {
        "id": "ABmBmpYfe1b5"
      }
    },
    {
      "cell_type": "code",
      "source": [],
      "metadata": {
        "id": "mHmWvq5xd5ZZ"
      },
      "execution_count": null,
      "outputs": []
    },
    {
      "cell_type": "markdown",
      "source": [
        "### V"
      ],
      "metadata": {
        "id": "Az_me-aufG0D"
      }
    },
    {
      "cell_type": "code",
      "source": [
        "V = ['V1', 'V2', 'V3', 'V4', 'V5', 'V6', 'V7', 'V8', 'V9', 'V10', 'V11', 'V12', 'V13', 'V14', 'V15', 'V16', 'V17', 'V18', 'V19', 'V20', 'V21', 'V22', 'V23', 'V24', 'V25', 'V26', 'V27', 'V28', 'V29', 'V30', 'V31', 'V32', 'V33', 'V34', 'V35', 'V36', 'V37', 'V38', 'V39', 'V40', 'V41', 'V42', 'V43', 'V44', 'V45', 'V46', 'V47', 'V48', 'V49', 'V50', 'V51', 'V52', 'V53', 'V54', 'V55', 'V56', 'V57', 'V58', 'V59', 'V60', 'V61', 'V62', 'V63', 'V64', 'V65', 'V66', 'V67', 'V68', 'V69', 'V70', 'V71', 'V72', 'V73', 'V74', 'V75', 'V76', 'V77', 'V78', 'V79', 'V80', 'V81', 'V82', 'V83', 'V84', 'V85', 'V86', 'V87', 'V88', 'V89', 'V90', 'V91', 'V92', 'V93', 'V94', 'V95', 'V96', 'V97', 'V98', 'V99', 'V100', 'V101', 'V102', 'V103', 'V104', 'V105', 'V106', 'V107', 'V108', 'V109', 'V110', 'V111', 'V112', 'V113', 'V114', 'V115', 'V116', 'V117', 'V118', 'V119', 'V120', 'V121', 'V122', 'V123', 'V124', 'V125', 'V126', 'V127', 'V128', 'V129', 'V130', 'V131', 'V132', 'V133', 'V134', 'V135', 'V136', 'V137', 'V138', 'V139', 'V140', 'V141', 'V142', 'V143', 'V144', 'V145', 'V146', 'V147', 'V148', 'V149', 'V150', 'V151', 'V152', 'V153', 'V154', 'V155', 'V156', 'V157', 'V158', 'V159', 'V160', 'V161', 'V162', 'V163', 'V164', 'V165', 'V166', 'V167', 'V168', 'V169', 'V170', 'V171', 'V172', 'V173', 'V174', 'V175', 'V176', 'V177', 'V178', 'V179', 'V180', 'V181', 'V182', 'V183', 'V184', 'V185', 'V186', 'V187', 'V188', 'V189', 'V190', 'V191', 'V192', 'V193', 'V194', 'V195', 'V196', 'V197', 'V198', 'V199', 'V200', 'V201', 'V202', 'V203', 'V204', 'V205', 'V206', 'V207', 'V208', 'V209', 'V210', 'V211', 'V212', 'V213', 'V214', 'V215', 'V216', 'V217', 'V218', 'V219', 'V220', 'V221', 'V222', 'V223', 'V224', 'V225', 'V226', 'V227', 'V228', 'V229', 'V230', 'V231', 'V232', 'V233', 'V234', 'V235', 'V236', 'V237', 'V238', 'V239', 'V240', 'V241', 'V242', 'V243', 'V244', 'V245', 'V246', 'V247', 'V248', 'V249', 'V250', 'V251', 'V252', 'V253', 'V254', 'V255', 'V256', 'V257', 'V258', 'V259', 'V260', 'V261', 'V262', 'V263', 'V264', 'V265', 'V266', 'V267', 'V268', 'V269', 'V270', 'V271', 'V272', 'V273', 'V274', 'V275', 'V276', 'V277', 'V278', 'V279', 'V280', 'V281', 'V282', 'V283', 'V284', 'V285', 'V286', 'V287', 'V288', 'V289', 'V290', 'V291', 'V292', 'V293', 'V294', 'V295', 'V296', 'V297', 'V298', 'V299', 'V300', 'V301', 'V302', 'V303', 'V304', 'V305', 'V306', 'V307', 'V308', 'V309', 'V310', 'V311', 'V312', 'V313', 'V314', 'V315', 'V316', 'V317', 'V318', 'V319', 'V320', 'V321', 'V322', 'V323', 'V324', 'V325', 'V326', 'V327', 'V328', 'V329', 'V330', 'V331', 'V332', 'V333', 'V334', 'V335', 'V336', 'V337', 'V338', 'V339']"
      ],
      "metadata": {
        "id": "huYUMEi5fbJd"
      },
      "execution_count": 42,
      "outputs": []
    },
    {
      "cell_type": "code",
      "source": [
        "\n",
        "resultado = agrupar_columnas_por_valores_nulos(df_train[V])\n",
        "for range_, columns in resultado.items():\n",
        "    print(f'Rango de valores nulos: {range_}')\n",
        "    print(f'Columnas: {columns}')\n",
        "    print()"
      ],
      "metadata": {
        "id": "Ofc2c7i0gdPV",
        "outputId": "524b9a03-9c9a-4e3b-e2ac-35130251afd0",
        "colab": {
          "base_uri": "https://localhost:8080/"
        }
      },
      "execution_count": 52,
      "outputs": [
        {
          "output_type": "stream",
          "name": "stdout",
          "text": [
            "Rango de valores nulos: 0-10%\n",
            "Columnas: ['V95', 'V96', 'V97', 'V98', 'V99', 'V100', 'V101', 'V102', 'V103', 'V104', 'V105', 'V106', 'V107', 'V108', 'V109', 'V110', 'V111', 'V112', 'V113', 'V114', 'V115', 'V116', 'V117', 'V118', 'V119', 'V120', 'V121', 'V122', 'V123', 'V124', 'V125', 'V126', 'V127', 'V128', 'V129', 'V130', 'V131', 'V132', 'V133', 'V134', 'V135', 'V136', 'V137', 'V279', 'V280', 'V281', 'V282', 'V283', 'V284', 'V285', 'V286', 'V287', 'V288', 'V289', 'V290', 'V291', 'V292', 'V293', 'V294', 'V295', 'V296', 'V297', 'V298', 'V299', 'V300', 'V301', 'V302', 'V303', 'V304', 'V305', 'V306', 'V307', 'V308', 'V309', 'V310', 'V311', 'V312', 'V313', 'V314', 'V315', 'V316', 'V317', 'V318', 'V319', 'V320', 'V321']\n",
            "\n",
            "Rango de valores nulos: 10-20%\n",
            "Columnas: ['V12', 'V13', 'V14', 'V15', 'V16', 'V17', 'V18', 'V19', 'V20', 'V21', 'V22', 'V23', 'V24', 'V25', 'V26', 'V27', 'V28', 'V29', 'V30', 'V31', 'V32', 'V33', 'V34', 'V53', 'V54', 'V55', 'V56', 'V57', 'V58', 'V59', 'V60', 'V61', 'V62', 'V63', 'V64', 'V65', 'V66', 'V67', 'V68', 'V69', 'V70', 'V71', 'V72', 'V73', 'V74', 'V75', 'V76', 'V77', 'V78', 'V79', 'V80', 'V81', 'V82', 'V83', 'V84', 'V85', 'V86', 'V87', 'V88', 'V89', 'V90', 'V91', 'V92', 'V93', 'V94']\n",
            "\n",
            "Rango de valores nulos: 20-30%\n",
            "Columnas: ['V35', 'V36', 'V37', 'V38', 'V39', 'V40', 'V41', 'V42', 'V43', 'V44', 'V45', 'V46', 'V47', 'V48', 'V49', 'V50', 'V51', 'V52']\n",
            "\n",
            "Rango de valores nulos: 40-50%\n",
            "Columnas: ['V1', 'V2', 'V3', 'V4', 'V5', 'V6', 'V7', 'V8', 'V9', 'V10', 'V11']\n",
            "\n",
            "Rango de valores nulos: 70-80%\n",
            "Columnas: ['V167', 'V168', 'V169', 'V170', 'V171', 'V172', 'V173', 'V174', 'V175', 'V176', 'V177', 'V178', 'V179', 'V180', 'V181', 'V182', 'V183', 'V184', 'V185', 'V186', 'V187', 'V188', 'V189', 'V190', 'V191', 'V192', 'V193', 'V194', 'V195', 'V196', 'V197', 'V198', 'V199', 'V200', 'V201', 'V202', 'V203', 'V204', 'V205', 'V206', 'V207', 'V208', 'V209', 'V210', 'V211', 'V212', 'V213', 'V214', 'V215', 'V216', 'V217', 'V218', 'V219', 'V220', 'V221', 'V222', 'V223', 'V224', 'V225', 'V226', 'V227', 'V228', 'V229', 'V230', 'V231', 'V232', 'V233', 'V234', 'V235', 'V236', 'V237', 'V238', 'V239', 'V240', 'V241', 'V242', 'V243', 'V244', 'V245', 'V246', 'V247', 'V248', 'V249', 'V250', 'V251', 'V252', 'V253', 'V254', 'V255', 'V256', 'V257', 'V258', 'V259', 'V260', 'V261', 'V262', 'V263', 'V264', 'V265', 'V266', 'V267', 'V268', 'V269', 'V270', 'V271', 'V272', 'V273', 'V274', 'V275', 'V276', 'V277', 'V278']\n",
            "\n",
            "Rango de valores nulos: 80-90%\n",
            "Columnas: ['V138', 'V139', 'V140', 'V141', 'V142', 'V143', 'V144', 'V145', 'V146', 'V147', 'V148', 'V149', 'V150', 'V151', 'V152', 'V153', 'V154', 'V155', 'V156', 'V157', 'V158', 'V159', 'V160', 'V161', 'V162', 'V163', 'V164', 'V165', 'V166', 'V322', 'V323', 'V324', 'V325', 'V326', 'V327', 'V328', 'V329', 'V330', 'V331', 'V332', 'V333', 'V334', 'V335', 'V336', 'V337', 'V338', 'V339']\n",
            "\n"
          ]
        }
      ]
    },
    {
      "cell_type": "markdown",
      "metadata": {
        "id": "G3v7mnoqqCD3"
      },
      "source": [
        "### Análisis Bivariado  a"
      ]
    },
    {
      "cell_type": "markdown",
      "metadata": {
        "id": "42CoTreFqCD3"
      },
      "source": [
        "### Características Numeŕicas"
      ]
    },
    {
      "cell_type": "code",
      "execution_count": null,
      "metadata": {
        "id": "mJ5We0veqCD3"
      },
      "outputs": [],
      "source": [
        "df_train.columns"
      ]
    },
    {
      "cell_type": "code",
      "execution_count": null,
      "metadata": {
        "id": "NLB2RJYMqCD4"
      },
      "outputs": [],
      "source": [
        "# palette = 'Set2'  # Puedes cambiar 'Set2' por otras paletas como 'Set1', 'Set3', 'Dark2', etc.\n",
        "\n",
        "# # Generar los boxplots con la paleta de colores genérica\n",
        "# for column in df_train.select_dtypes(include=['number']).columns:\n",
        "#     if column != 'isFraud':\n",
        "#         plt.figure(figsize=(10, 6))\n",
        "#         sns.boxplot(x='isFraud', y=column, data=df_train, hue='isFraud', palette=palette, legend=False)\n",
        "#         plt.title(f'Relación entre {column} y target')\n",
        "#         plt.show()"
      ]
    },
    {
      "cell_type": "markdown",
      "metadata": {
        "id": "uK7HkXfFqCD4"
      },
      "source": [
        "\n",
        "**Observaciones:**\n",
        "Las características numéricas se analizaron en relación con la variable objetivo \"isFraud\". Se observó lo siguiente:\n",
        "\n",
        "- TransactionDT: Tanto las transacciones fraudulentas como las no fraudulentas presentan distribuciones similares.\n",
        "- TransactionAmt: Se observa una mayor diferencia debido a la presencia de valores atípicos y diferentes distribuciones entre los casos con fraude y sin fraude.\n",
        "- Addr1:Las direcciones por región son similares tanto para los casos con fraude como para los casos sin fraude.\n",
        "- Add2: Las direcciones por país son similares tanto para los casos con fraude como para los casos sin fraude.\n",
        "- Card1: Las distribución con fraude y no fraude son similares\n",
        "- Card2 y Card5: Hay diferencia entre ellas significativas"
      ]
    },
    {
      "cell_type": "code",
      "execution_count": null,
      "metadata": {
        "id": "6Tun4UpWqCD4"
      },
      "outputs": [],
      "source": [
        "df_stat = df_train.groupby('isFraud').describe(include='number').T.round(2)\n",
        "df_stat['diferencia_absoluta'] = df_stat['No'] - df_stat['Sí']\n",
        "df_stat['diferencia_relativa %'] = round(abs((df_stat['diferencia_absoluta'] / df_stat.sum(axis=1)) * 100),2)\n",
        "\n",
        "df_stat.sort_values(by='diferencia_relativa %',ascending=False)"
      ]
    },
    {
      "cell_type": "code",
      "execution_count": null,
      "metadata": {
        "id": "N34Vt3dQqCD5"
      },
      "outputs": [],
      "source": [
        "df_stat.loc[df_stat.index.get_level_values(1) == 'mean'].sort_values(by='diferencia_relativa %',ascending=False)"
      ]
    },
    {
      "cell_type": "markdown",
      "metadata": {
        "id": "i0Z5TYftqCD5"
      },
      "source": [
        "** Observación**\n",
        "- Se observa que las diferencias relativas en los valores medios de las características numéricas son menores al 1%, excepto en \"TransactionAmt\" que es el del 21.69%, lo cual podría deberse a la presencia de valores atípicos y card2 que es del 2.88%,\n",
        "Esto podŕia indicar una dificultad en el entrenamiento con las características numéricas, ya que sus distribuciones no son muy difrentes\n"
      ]
    },
    {
      "cell_type": "markdown",
      "metadata": {
        "id": "ahV_YDJlqCD5"
      },
      "source": [
        "### Características Categóricas"
      ]
    },
    {
      "cell_type": "code",
      "execution_count": null,
      "metadata": {
        "id": "MPG3Ps9EqCD6"
      },
      "outputs": [],
      "source": [
        "count_table = pd.crosstab(index=df_train['ProductCD'], columns=df_train['isFraud'])\n",
        "count_table = count_table.sort_values(by='Sí',ascending=False)\n",
        "# Configurar el estilo y tamaño del gráfico\n",
        "plt.figure(figsize=(10, 6))\n",
        "\n",
        "# Crear el countplot utilizando seaborn\n",
        "sns.countplot(data=df_train, x='ProductCD', hue='isFraud', palette='Set2')\n",
        "\n",
        "# Ajustar el formato de las etiquetas del eje x para mejorar la legibilidad\n",
        "plt.xticks(rotation=0)\n",
        "\n",
        "# Añadir título y etiquetas de los ejes\n",
        "plt.title('Countplot de ProductCD desglosado por isFraud')\n",
        "plt.xlabel('ProductCD')\n",
        "plt.ylabel('Count')\n",
        "\n",
        "# Mostrar el gráfico con leyenda\n",
        "plt.legend(title='isFraud')\n",
        "plt.tight_layout()\n",
        "plt.show()\n",
        "\n",
        "# Mostrar la tabla de conteo desglosada por ProductCD y isFraud\n",
        "print(count_table)"
      ]
    },
    {
      "cell_type": "code",
      "execution_count": null,
      "metadata": {
        "id": "qahiET9MqCD6"
      },
      "outputs": [],
      "source": [
        "\n",
        "top_5_domains = df_train['P_emaildomain'].value_counts().head(5).index\n",
        "df_top_5 = df_train[df_train['P_emaildomain'].isin(top_5_domains)]\n",
        "sns.countplot(data=df_top_5, x='P_emaildomain', hue='isFraud')\n",
        "plt.xticks(rotation=45, ha='right')\n",
        "plt.title('Countplot de los 5 primeros P_emaildomain separado por isFraud')\n",
        "plt.xlabel('P_emaildomain')\n",
        "plt.ylabel('Count')\n",
        "plt.legend(title='isFraud')\n",
        "plt.tight_layout()\n",
        "plt.show()\n"
      ]
    },
    {
      "cell_type": "code",
      "execution_count": null,
      "metadata": {
        "id": "b1rgcA7VqCD6"
      },
      "outputs": [],
      "source": [
        "count_table = pd.crosstab(index=df_train['P_emaildomain'], columns=df_train['isFraud'])\n",
        "count_table = count_table.sort_values(by='Sí',ascending=False).head(5)\n",
        "count_table"
      ]
    },
    {
      "cell_type": "code",
      "execution_count": null,
      "metadata": {
        "id": "lRa5gz5pqCD7"
      },
      "outputs": [],
      "source": [
        "\n",
        "# Crear tabla de contingencia (crosstab) desglosando por P_emaildomain y isFraud\n",
        "count_table = pd.crosstab(index=df_train['P_emaildomain'], columns=df_train['isFraud'])\n",
        "\n",
        "# Ordenar la tabla por la cantidad de fraudes (isFraud == 1)\n",
        "count_table = count_table.sort_values(by=1, ascending=False).head(5)\n",
        "\n",
        "# Calcular el porcentaje en función del total de cada columna\n",
        "count_table_percentage = count_table.apply(lambda x: x / x.sum() * 100, axis=0).round(2)\n",
        "\n",
        "# Mostrar la tabla de contingencia y su porcentaje\n",
        "print(\"Tabla de Contingencia :\")\n",
        "print(count_table)\n",
        "print(\"\\nPorcentaje en función del total de cada columna:\")\n",
        "print(count_table_percentage)"
      ]
    },
    {
      "cell_type": "code",
      "execution_count": null,
      "metadata": {
        "id": "2n05uKdHqCD7"
      },
      "outputs": [],
      "source": [
        "\n",
        "# Crear tabla de contingencia (crosstab) desglosando por ProductCD y isFraud\n",
        "count_table = pd.crosstab(index=df_train['ProductCD'], columns=df_train['isFraud'])\n",
        "\n",
        "# Ordenar la tabla por la cantidad de fraudes (isFraud == 1)\n",
        "count_table = count_table.sort_values(by='Sí', ascending=False)\n",
        "\n",
        "# Calcular el porcentaje en función del total de cada columna\n",
        "count_table_percentage = count_table.apply(lambda x: x / x.sum() * 100, axis=0).round(2)\n",
        "\n",
        "# Mostrar la tabla de contingencia y su porcentaje\n",
        "print(\"Tabla de Contingencia :\")\n",
        "print(count_table)\n",
        "print(\"\\nPorcentaje en función del total de cada columna:\")\n",
        "print(count_table_percentage)"
      ]
    },
    {
      "cell_type": "markdown",
      "metadata": {
        "id": "7RKHFTUGqCD8"
      },
      "source": [
        "### Cards Categóricas"
      ]
    },
    {
      "cell_type": "code",
      "execution_count": null,
      "metadata": {
        "id": "rb4gJMSXqCD8"
      },
      "outputs": [],
      "source": [
        "df_train[cards].select_dtypes('object')"
      ]
    },
    {
      "cell_type": "code",
      "execution_count": null,
      "metadata": {
        "id": "FkP_L6_UqCD8"
      },
      "outputs": [],
      "source": [
        "\n",
        "sns.countplot(data=df_train, x='card6', hue='isFraud')\n",
        "plt.xticks(rotation=45, ha='right')\n",
        "plt.title('Countplot de Card6 Categoría de la tarjeta' )\n",
        "plt.xlabel('Card6 ')\n",
        "plt.ylabel('Count')\n",
        "plt.legend(title='isFraud')\n",
        "plt.tight_layout()\n",
        "plt.show()\n"
      ]
    },
    {
      "cell_type": "code",
      "execution_count": null,
      "metadata": {
        "id": "gHXsvNtMqCD9"
      },
      "outputs": [],
      "source": [
        "\n",
        "\n",
        "sns.countplot(data=df_train, x='card4', hue='isFraud')\n",
        "plt.xticks(rotation=45, ha='right')\n",
        "plt.title('Countplot de Card4 Empresa emisora tarjeta' )\n",
        "plt.xlabel('Card4 ')\n",
        "plt.ylabel('Count')\n",
        "plt.legend(title='isFraud')\n",
        "plt.tight_layout()\n",
        "plt.show()\n"
      ]
    },
    {
      "cell_type": "code",
      "execution_count": null,
      "metadata": {
        "id": "2eltT7WmqCD9"
      },
      "outputs": [],
      "source": [
        "\n",
        "\n",
        "sns.countplot(data=df_train, x='card4', hue='card6')\n",
        "plt.xticks(rotation=45, ha='right')\n",
        "plt.title('Countplot de Card4 Empresa emisora tarjeta' )\n",
        "plt.xlabel('Card4 ')\n",
        "plt.ylabel('Count')\n",
        "plt.legend(title='Categoría tarjeta')\n",
        "plt.tight_layout()\n",
        "plt.show()\n"
      ]
    },
    {
      "cell_type": "code",
      "execution_count": null,
      "metadata": {
        "id": "XHGWNVFQqCD-"
      },
      "outputs": [],
      "source": [
        "\n",
        "# Crear tabla de contingencia (crosstab) desglosando por ProductCD y isFraud\n",
        "count_table = pd.crosstab(index=df_train['card4'], columns=df_train['isFraud'])\n",
        "\n",
        "# Ordenar la tabla por la cantidad de fraudes (isFraud == 1)\n",
        "count_table = count_table.sort_values(by='Sí', ascending=False)\n",
        "\n",
        "# Calcular el porcentaje en función del total de cada columna\n",
        "count_table_percentage = count_table.apply(lambda x: x / x.sum() * 100, axis=0).round(2)\n",
        "\n",
        "# Mostrar la tabla de contingencia y su porcentaje\n",
        "print(\"Tabla de Contingencia :\")\n",
        "print(count_table)\n",
        "print(\"\\nPorcentaje en función del total de cada columna:\")\n",
        "print(count_table_percentage)"
      ]
    },
    {
      "cell_type": "markdown",
      "metadata": {
        "id": "ENne0cAsqCD-"
      },
      "source": [
        "- La mayoría de los fraude es con 67% con la empresa Visa, seguida por la mastecard con un 29%, seguidas las otras empresas"
      ]
    },
    {
      "cell_type": "code",
      "execution_count": null,
      "metadata": {
        "id": "Uz8RJzw9qCD-"
      },
      "outputs": [],
      "source": [
        "\n",
        "# Crear tabla de contingencia (crosstab) desglosando por ProductCD y isFraud\n",
        "count_table = pd.crosstab(index=df_train['card6'], columns=df_train['isFraud'])\n",
        "\n",
        "# Ordenar la tabla por la cantidad de fraudes (isFraud == 1)\n",
        "count_table = count_table.sort_values(by='Sí', ascending=False)\n",
        "\n",
        "# Calcular el porcentaje en función del total de cada columna\n",
        "count_table_percentage = count_table.apply(lambda x: x / x.sum() * 100, axis=0).round(2)\n",
        "\n",
        "# Mostrar la tabla de contingencia y su porcentaje\n",
        "print(\"Tabla de Contingencia :\")\n",
        "print(count_table)\n",
        "print(\"\\nPorcentaje en función del total de cada columna:\")\n",
        "print(count_table_percentage)"
      ]
    },
    {
      "cell_type": "markdown",
      "metadata": {
        "id": "ST5MoL6aqCD_"
      },
      "source": [
        "- Los valores de fraude con debito es de 57.6% y con credito de 42%, la diferencia es de un 15%, podría ser significativo."
      ]
    },
    {
      "cell_type": "markdown",
      "metadata": {
        "id": "IPeW4-3pqCD_"
      },
      "source": [
        "**Observación**\n",
        "- ProductCD: El producto con el mayor porcentaje de fraude es \"W\", representando el 66.8 % del total de productos con fraude. Le sigue el producto \"H\" con un 15.19 %, luego \"R\" con un 14.7 %, y en menor medida el producto \"C\" con solo un 3.31 %.\n",
        "- El correo con mayor incidencia de fraude es el de Gmail, alcanzando un 57.96 % del total. Le sigue Yahoo con un 25.33 %, mientras que los demás proveedores de correo tienen una incidencia menor. Es probable que el alto porcentaje de fraudes en cuentas de Gmail se deba a su amplia base de usuario."
      ]
    },
    {
      "cell_type": "markdown",
      "metadata": {
        "id": "_Tjb8b-zqCD_"
      },
      "source": [
        "### Correlción entre las variables numéricas"
      ]
    },
    {
      "cell_type": "code",
      "execution_count": null,
      "metadata": {
        "id": "OQGVBm-HqCD_"
      },
      "outputs": [],
      "source": [
        "df_train['isFraud'] = df_train['isFraud'].replace({'No': 0, 'Sí': 1})"
      ]
    },
    {
      "cell_type": "code",
      "execution_count": null,
      "metadata": {
        "id": "XFgvwNimqCEA"
      },
      "outputs": [],
      "source": [
        "correlation_matrix = df_train.select_dtypes(exclude=['object']).corr()\n",
        "\n",
        "# Filtrar para obtener solo las correlaciones con la columna 'isfraud'\n",
        "isfraud_correlation = correlation_matrix[['isFraud']].sort_values(by='isFraud', ascending=False)\n",
        "\n",
        "# Visualización de las correlaciones con 'isfraud'\n",
        "plt.figure(figsize=(10, 8))\n",
        "sns.heatmap(isfraud_correlation, annot=True, cmap='coolwarm', fmt=\".2f\", cbar=False)\n",
        "plt.title('Correlaciones con isFraud')\n",
        "plt.show()"
      ]
    },
    {
      "cell_type": "markdown",
      "metadata": {
        "id": "JW-8IDQRqCEA"
      },
      "source": [
        "**Observación**\n",
        "- Se pude gráfica de correlación entre las variables numéricas se conclute que en general las variables no estan correlacionadas"
      ]
    },
    {
      "cell_type": "markdown",
      "metadata": {
        "id": "SGe5FmmYqCEB"
      },
      "source": [
        "Generamos un archivo csv con Dataframe de los datos de entrenamiento, el que se usara para la segunda parte del proyecto, \"Limpieza y preprocesamiento de los datos\""
      ]
    },
    {
      "cell_type": "code",
      "execution_count": null,
      "metadata": {
        "id": "YDtuubZ5qCEB"
      },
      "outputs": [],
      "source": [
        "dir_data_interim = '../data/interim/'\n",
        "ruta_archivo_completa = os.path.join(dir_data_interim, 'train')\n",
        "\n",
        "df_train.to_csv(ruta_archivo_completa, index=False, encoding='utf-8')"
      ]
    },
    {
      "cell_type": "markdown",
      "metadata": {
        "id": "UEXBXZwzqCEB"
      },
      "source": [
        "### Conclusiones\n",
        "\n",
        "Durante el análisis exploratorio de datos, se realizaron varias observaciones significativas sobre el dataset:\n",
        "\n",
        "- El dataset original contiene más de medio millón de registros, por lo que se aplicó un método de muestreo estratificado para obtener una muestra representativa y manejable.\n",
        "- Se seleccionaron las características más relevantes para el objetivo de detección de fraude en este primer análisis.\n",
        "- Se identificaron columnas con valores nulos, se evaluó su cantidad y porcentaje, así como la correlación entre ellas. Se decidió eliminar aquellas columnas con un alto porcentaje de valores nulos para simplificar el análisis.\n",
        "- Se encontraron y eliminaron valores duplicados, que eran escasos en comparación con el tamaño total del dataset.\n",
        "- Del análisis univariado:\n",
        "  - La columna objetivo \"isFraud\" muestra un desbalance con un 97.6% de registros no fraudulentos, lo cual debe considerarse al entrenar cualquier modelo.\n",
        "  - La columna \"TransactionAmt\", que representa los montos de transacción, presenta distribuciones distintas según los rangos de valores y algunos valores atípicos, sugiriendo la segmentación para el entrenamiento del modelo.\n",
        "  - La columna \"TransactionDT\" muestra una distribución uniforme en los datos.\n",
        "  - La columna \"ProductCD\", que indica el producto de la transacción, muestra que casi el 82.71% de las transacciones corresponden al producto \"W\", seguido por \"R\" con 8.75%, \"H\" con 7.76%, y \"C\" con 0.78%.\n",
        "  - La columna \"addr1\", que representa la dirección por región de los compradores, muestra que el 9.48% de las transacciones provienen de la región \"299\", seguida por \"204\", \"325\", \"264\" y otras regiones con menor porcentaje.\n",
        "  - La columna \"addr2\", que representa la dirección por país, indica que el país con más transacciones tiene el código \"84\", representando el 99% del total de transacciones en el dataset.\n",
        "  - La columna \"P_emaildomain\", que representa los proveedores de correo electrónico de los compradores, muestra que Gmail tiene la mayor incidencia de fraude con un 57.96% del total, seguido por Yahoo con un 25.33%. Otros proveedores tienen una incidencia menor de fraude.\n",
        "\n",
        "- Del análisis bivariado:\n",
        "  - TransactionDT: Tanto las transacciones fraudulentas como las no fraudulentas presentan distribuciones similares.\n",
        "  - TransactionAmt: Se observa una mayor diferencia debido a la presencia de valores atípicos y diferentes distribuciones entre los casos con fraude y sin fraude.\n",
        "  - Addr1:Las direcciones por región son similares tanto para los casos con fraude como para los casos sin fraude.\n",
        "  - Add2: Las direcciones por país son similares tanto para los casos con fraude como para los casos sin fraude.\n",
        "  - Se observa que las diferencias relativas entre si es fraude o no en los valores medios de las características numéricas son menores al 1%, excepto en \"TransactionAmt\", lo cual podría deberse a la presencia de valores atípicos.\n",
        "Esto podŕia indicar una dificultad en el entrenamiento con las características numéricas, ya que sus distribuciones no son muy difrentes\n",
        "  - ProductCD: El producto con el mayor porcentaje de fraude es \"W\", representando el 66.8 % del total de productos con fraude. Le sigue el producto \"H\" con un 15.19 %, luego \"R\" con un 14.7 %, y en menor medida el producto \"C\" con solo un 3.31 %.\n",
        "  - El correo con mayor incidencia de fraude es el de Gmail, alcanzando un 57.96 % del total. Le sigue Yahoo con un 25.33 %, mientras que los demás proveedores de correo tienen una incidencia menor. Es probable que el alto porcentaje de fraudes en cuentas de Gmail se deba a su amplia base de usuario.\n",
        "\n",
        "  \n",
        "\n",
        "Estas conclusiones proporcionan una base sólida para entender la distribución de los datos y guiarán el preprocesamiento adicional y la construcción de modelos en futuros análisis.\n"
      ]
    }
  ],
  "metadata": {
    "kernelspec": {
      "display_name": "Python 3",
      "name": "python3"
    },
    "language_info": {
      "codemirror_mode": {
        "name": "ipython",
        "version": 3
      },
      "file_extension": ".py",
      "mimetype": "text/x-python",
      "name": "python",
      "nbconvert_exporter": "python",
      "pygments_lexer": "ipython3",
      "version": "3.11.7"
    },
    "colab": {
      "provenance": [],
      "toc_visible": true,
      "gpuType": "T4"
    },
    "accelerator": "GPU"
  },
  "nbformat": 4,
  "nbformat_minor": 0
}
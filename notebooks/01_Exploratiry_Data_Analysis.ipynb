{
 "cells": [
  {
   "cell_type": "markdown",
   "metadata": {},
   "source": [
    "## 01_Exploratory_Data_Analysis.ipynb\n",
    "**Objetivo**: Realizar un análisis exploratorio de los datos (EDA).\n",
    "**Contenido**:\n",
    "- Descripción del dataset (dimensiones, tipos de datos, valores nulos).\n",
    "- Análisis estadístico básico.\n",
    "- Visualizaciones para entender la distribución de las variables.\n",
    "- Análisis de correlación entre las variables."
   ]
  },
  {
   "cell_type": "code",
   "execution_count": null,
   "metadata": {},
   "outputs": [],
   "source": []
  }
 ],
 "metadata": {
  "kernelspec": {
   "display_name": "base",
   "language": "python",
   "name": "python3"
  },
  "language_info": {
   "codemirror_mode": {
    "name": "ipython",
    "version": 3
   },
   "file_extension": ".py",
   "mimetype": "text/x-python",
   "name": "python",
   "nbconvert_exporter": "python",
   "pygments_lexer": "ipython3",
   "version": "3.11.7"
  }
 },
 "nbformat": 4,
 "nbformat_minor": 2
}

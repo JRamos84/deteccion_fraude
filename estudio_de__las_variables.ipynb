{
  "nbformat": 4,
  "nbformat_minor": 0,
  "metadata": {
    "colab": {
      "provenance": [],
      "authorship_tag": "ABX9TyO79Hvf5ACL/9HFezmn85BY",
      "include_colab_link": true
    },
    "kernelspec": {
      "name": "python3",
      "display_name": "Python 3"
    },
    "language_info": {
      "name": "python"
    }
  },
  "cells": [
    {
      "cell_type": "markdown",
      "metadata": {
        "id": "view-in-github",
        "colab_type": "text"
      },
      "source": [
        "<a href=\"https://colab.research.google.com/github/JRamos84/deteccion_fraude/blob/addcolnulo/estudio_de__las_variables.ipynb\" target=\"_parent\"><img src=\"https://colab.research.google.com/assets/colab-badge.svg\" alt=\"Open In Colab\"/></a>"
      ]
    },
    {
      "cell_type": "code",
      "execution_count": 1,
      "metadata": {
        "id": "6wahQAmUKWm2"
      },
      "outputs": [],
      "source": [
        "## Importar librerrias\n",
        "import matplotlib.pyplot as plt\n",
        "import seaborn as sns\n",
        "import numpy as np\n",
        "import pandas as pd\n",
        "import matplotlib.pyplot as plt\n",
        "import seaborn as sns\n",
        "import missingno as msno\n",
        "import os"
      ]
    },
    {
      "cell_type": "code",
      "source": [
        "## Importamos las librerias a usar\n",
        "from google.colab import drive\n",
        "drive.mount('/content/drive')\n",
        "data_dir = '/content/drive/MyDrive/cursos-analisis-datos/data-science/proyecto/propuestas/propuesta1/ieee-fraud-detection'"
      ],
      "metadata": {
        "colab": {
          "base_uri": "https://localhost:8080/"
        },
        "id": "QiPqeAtLKl44",
        "outputId": "0e72b037-a3ed-4242-b2cb-c7ce2303a40d"
      },
      "execution_count": 2,
      "outputs": [
        {
          "output_type": "stream",
          "name": "stdout",
          "text": [
            "Mounted at /content/drive\n"
          ]
        }
      ]
    },
    {
      "cell_type": "markdown",
      "source": [],
      "metadata": {
        "id": "11yZtO0aKyJ4"
      }
    },
    {
      "cell_type": "code",
      "source": [
        "seed = 42\n",
        "df_transaction_train = pd.read_csv(data_dir + '/train_transaction.csv')\n",
        "df_identity_train = pd.read_csv(data_dir + '/train_identity.csv')\n",
        "dataset = pd.merge(df_transaction_train, df_identity_train, on='TransactionID', how='left').sample(frac=0.1, random_state=seed)\n",
        "dataset.info()"
      ],
      "metadata": {
        "colab": {
          "base_uri": "https://localhost:8080/"
        },
        "id": "WVjwhP35KuJ0",
        "outputId": "d404699d-04ea-44f4-d8ed-db164beacd65"
      },
      "execution_count": 5,
      "outputs": [
        {
          "output_type": "stream",
          "name": "stdout",
          "text": [
            "<class 'pandas.core.frame.DataFrame'>\n",
            "Index: 59054 entries, 470624 to 579244\n",
            "Columns: 434 entries, TransactionID to DeviceInfo\n",
            "dtypes: float64(399), int64(4), object(31)\n",
            "memory usage: 196.0+ MB\n"
          ]
        }
      ]
    },
    {
      "cell_type": "markdown",
      "source": [
        "### Cuantas variables numéricas y categóricas hay?"
      ],
      "metadata": {
        "id": "UlWC0sXjLnfy"
      }
    },
    {
      "cell_type": "code",
      "source": [
        "\n",
        "\n",
        "# Suponiendo que ya tienes cargado tu dataset en 'dataset'\n",
        "\n",
        "# Identificar tipos de datos\n",
        "data_types = dataset.drop('isFraud',axis=1).dtypes\n",
        "\n",
        "# Filtrar y contar variables numéricas y categóricas\n",
        "num_vars = data_types[data_types != 'object']  # Variables numéricas\n",
        "cat_vars = data_types[data_types == 'object']  # Variables categóricas\n",
        "\n",
        "# Obtener nombres de las variables\n",
        "num_vars_names = num_vars.index.tolist()\n",
        "cat_vars_names = cat_vars.index.tolist()\n",
        "\n",
        "# Mostrar resultados\n",
        "print(f\"Número de variables numéricas: {num_vars.shape[0]}\")\n",
        "print(f\"Nombres de variables numéricas: {num_vars_names}\")\n",
        "print()\n",
        "print(f\"Número de variables categóricas: {cat_vars.shape[0]}\")\n",
        "print(f\"Nombres de variables categóricas: {cat_vars_names}\")\n"
      ],
      "metadata": {
        "colab": {
          "base_uri": "https://localhost:8080/"
        },
        "id": "9t7bzco1LZ8W",
        "outputId": "8dd8f703-bded-4de1-fe89-fa7f699c61de"
      },
      "execution_count": 6,
      "outputs": [
        {
          "output_type": "stream",
          "name": "stdout",
          "text": [
            "Número de variables numéricas: 402\n",
            "Nombres de variables numéricas: ['TransactionID', 'TransactionDT', 'TransactionAmt', 'card1', 'card2', 'card3', 'card5', 'addr1', 'addr2', 'dist1', 'dist2', 'C1', 'C2', 'C3', 'C4', 'C5', 'C6', 'C7', 'C8', 'C9', 'C10', 'C11', 'C12', 'C13', 'C14', 'D1', 'D2', 'D3', 'D4', 'D5', 'D6', 'D7', 'D8', 'D9', 'D10', 'D11', 'D12', 'D13', 'D14', 'D15', 'V1', 'V2', 'V3', 'V4', 'V5', 'V6', 'V7', 'V8', 'V9', 'V10', 'V11', 'V12', 'V13', 'V14', 'V15', 'V16', 'V17', 'V18', 'V19', 'V20', 'V21', 'V22', 'V23', 'V24', 'V25', 'V26', 'V27', 'V28', 'V29', 'V30', 'V31', 'V32', 'V33', 'V34', 'V35', 'V36', 'V37', 'V38', 'V39', 'V40', 'V41', 'V42', 'V43', 'V44', 'V45', 'V46', 'V47', 'V48', 'V49', 'V50', 'V51', 'V52', 'V53', 'V54', 'V55', 'V56', 'V57', 'V58', 'V59', 'V60', 'V61', 'V62', 'V63', 'V64', 'V65', 'V66', 'V67', 'V68', 'V69', 'V70', 'V71', 'V72', 'V73', 'V74', 'V75', 'V76', 'V77', 'V78', 'V79', 'V80', 'V81', 'V82', 'V83', 'V84', 'V85', 'V86', 'V87', 'V88', 'V89', 'V90', 'V91', 'V92', 'V93', 'V94', 'V95', 'V96', 'V97', 'V98', 'V99', 'V100', 'V101', 'V102', 'V103', 'V104', 'V105', 'V106', 'V107', 'V108', 'V109', 'V110', 'V111', 'V112', 'V113', 'V114', 'V115', 'V116', 'V117', 'V118', 'V119', 'V120', 'V121', 'V122', 'V123', 'V124', 'V125', 'V126', 'V127', 'V128', 'V129', 'V130', 'V131', 'V132', 'V133', 'V134', 'V135', 'V136', 'V137', 'V138', 'V139', 'V140', 'V141', 'V142', 'V143', 'V144', 'V145', 'V146', 'V147', 'V148', 'V149', 'V150', 'V151', 'V152', 'V153', 'V154', 'V155', 'V156', 'V157', 'V158', 'V159', 'V160', 'V161', 'V162', 'V163', 'V164', 'V165', 'V166', 'V167', 'V168', 'V169', 'V170', 'V171', 'V172', 'V173', 'V174', 'V175', 'V176', 'V177', 'V178', 'V179', 'V180', 'V181', 'V182', 'V183', 'V184', 'V185', 'V186', 'V187', 'V188', 'V189', 'V190', 'V191', 'V192', 'V193', 'V194', 'V195', 'V196', 'V197', 'V198', 'V199', 'V200', 'V201', 'V202', 'V203', 'V204', 'V205', 'V206', 'V207', 'V208', 'V209', 'V210', 'V211', 'V212', 'V213', 'V214', 'V215', 'V216', 'V217', 'V218', 'V219', 'V220', 'V221', 'V222', 'V223', 'V224', 'V225', 'V226', 'V227', 'V228', 'V229', 'V230', 'V231', 'V232', 'V233', 'V234', 'V235', 'V236', 'V237', 'V238', 'V239', 'V240', 'V241', 'V242', 'V243', 'V244', 'V245', 'V246', 'V247', 'V248', 'V249', 'V250', 'V251', 'V252', 'V253', 'V254', 'V255', 'V256', 'V257', 'V258', 'V259', 'V260', 'V261', 'V262', 'V263', 'V264', 'V265', 'V266', 'V267', 'V268', 'V269', 'V270', 'V271', 'V272', 'V273', 'V274', 'V275', 'V276', 'V277', 'V278', 'V279', 'V280', 'V281', 'V282', 'V283', 'V284', 'V285', 'V286', 'V287', 'V288', 'V289', 'V290', 'V291', 'V292', 'V293', 'V294', 'V295', 'V296', 'V297', 'V298', 'V299', 'V300', 'V301', 'V302', 'V303', 'V304', 'V305', 'V306', 'V307', 'V308', 'V309', 'V310', 'V311', 'V312', 'V313', 'V314', 'V315', 'V316', 'V317', 'V318', 'V319', 'V320', 'V321', 'V322', 'V323', 'V324', 'V325', 'V326', 'V327', 'V328', 'V329', 'V330', 'V331', 'V332', 'V333', 'V334', 'V335', 'V336', 'V337', 'V338', 'V339', 'id_01', 'id_02', 'id_03', 'id_04', 'id_05', 'id_06', 'id_07', 'id_08', 'id_09', 'id_10', 'id_11', 'id_13', 'id_14', 'id_17', 'id_18', 'id_19', 'id_20', 'id_21', 'id_22', 'id_24', 'id_25', 'id_26', 'id_32']\n",
            "\n",
            "Número de variables categóricas: 31\n",
            "Nombres de variables categóricas: ['ProductCD', 'card4', 'card6', 'P_emaildomain', 'R_emaildomain', 'M1', 'M2', 'M3', 'M4', 'M5', 'M6', 'M7', 'M8', 'M9', 'id_12', 'id_15', 'id_16', 'id_23', 'id_27', 'id_28', 'id_29', 'id_30', 'id_31', 'id_33', 'id_34', 'id_35', 'id_36', 'id_37', 'id_38', 'DeviceType', 'DeviceInfo']\n"
          ]
        }
      ]
    },
    {
      "cell_type": "code",
      "source": [
        "for columna in cat_vars_names :\n",
        "    print(f\"Columna: {columna}, el número de variables es: {dataset[columna].nunique()}\")"
      ],
      "metadata": {
        "colab": {
          "base_uri": "https://localhost:8080/"
        },
        "id": "6iIaXpfxLmVh",
        "outputId": "d14dda6d-25db-4f1f-9087-0091bb1ebc34"
      },
      "execution_count": 8,
      "outputs": [
        {
          "output_type": "stream",
          "name": "stdout",
          "text": [
            "Columna: ProductCD, el número de variables es: 5\n",
            "Columna: card4, el número de variables es: 4\n",
            "Columna: card6, el número de variables es: 4\n",
            "Columna: P_emaildomain, el número de variables es: 59\n",
            "Columna: R_emaildomain, el número de variables es: 59\n",
            "Columna: M1, el número de variables es: 2\n",
            "Columna: M2, el número de variables es: 2\n",
            "Columna: M3, el número de variables es: 2\n",
            "Columna: M4, el número de variables es: 3\n",
            "Columna: M5, el número de variables es: 2\n",
            "Columna: M6, el número de variables es: 2\n",
            "Columna: M7, el número de variables es: 2\n",
            "Columna: M8, el número de variables es: 2\n",
            "Columna: M9, el número de variables es: 2\n",
            "Columna: id_12, el número de variables es: 2\n",
            "Columna: id_15, el número de variables es: 3\n",
            "Columna: id_16, el número de variables es: 2\n",
            "Columna: id_23, el número de variables es: 3\n",
            "Columna: id_27, el número de variables es: 2\n",
            "Columna: id_28, el número de variables es: 2\n",
            "Columna: id_29, el número de variables es: 2\n",
            "Columna: id_30, el número de variables es: 72\n",
            "Columna: id_31, el número de variables es: 108\n",
            "Columna: id_33, el número de variables es: 103\n",
            "Columna: id_34, el número de variables es: 3\n",
            "Columna: id_35, el número de variables es: 2\n",
            "Columna: id_36, el número de variables es: 2\n",
            "Columna: id_37, el número de variables es: 2\n",
            "Columna: id_38, el número de variables es: 2\n",
            "Columna: DeviceType, el número de variables es: 2\n",
            "Columna: DeviceInfo, el número de variables es: 802\n"
          ]
        }
      ]
    },
    {
      "cell_type": "markdown",
      "source": [
        "### Porcentajes de valores nulos"
      ],
      "metadata": {
        "id": "ZscEjZUCL1D0"
      }
    },
    {
      "cell_type": "code",
      "source": [
        "null_percentages = (dataset.isnull().sum() / len(dataset)) * 100\n",
        "print(round(null_percentages,2).sort_values(ascending=False))"
      ],
      "metadata": {
        "colab": {
          "base_uri": "https://localhost:8080/"
        },
        "id": "z42HI6KXL0mc",
        "outputId": "052a89db-68e6-49e2-c1d3-50f4577702a5"
      },
      "execution_count": 14,
      "outputs": [
        {
          "output_type": "stream",
          "name": "stdout",
          "text": [
            "id_24            99.23\n",
            "id_25            99.16\n",
            "id_26            99.16\n",
            "id_21            99.16\n",
            "id_22            99.16\n",
            "                 ...  \n",
            "V311              0.00\n",
            "V310              0.00\n",
            "V309              0.00\n",
            "V308              0.00\n",
            "TransactionID     0.00\n",
            "Length: 434, dtype: float64\n"
          ]
        }
      ]
    },
    {
      "cell_type": "code",
      "source": [
        "# Calcula el porcentaje de valores nulos para cada columna\n",
        "null_percentages = (dataset.isnull().sum() / len(dataset)) * 100\n",
        "\n",
        "# Define los rangos para los valores nulos\n",
        "ranges = [\n",
        "    (0, 10),\n",
        "    (10, 20),\n",
        "    (20, 30),\n",
        "    (30, 40),\n",
        "    (40, 50),\n",
        "    (50, 60),\n",
        "    (60, 70),\n",
        "    (70, 80),\n",
        "    (80, 90),\n",
        "    (90, 100)\n",
        "]\n",
        "\n",
        "# Agrupa las columnas en los rangos definidos\n",
        "grouped_columns = {f'{r[0]}-{r[1]}%': [] for r in ranges}\n",
        "\n",
        "for column, percentage in null_percentages.items():\n",
        "    for r in ranges:\n",
        "        if r[0] <= percentage < r[1]:\n",
        "            grouped_columns[f'{r[0]}-{r[1]}%'].append(column)\n",
        "\n",
        "# Imprime los resultados\n",
        "for range_, columns in grouped_columns.items():\n",
        "    if columns:\n",
        "        print(f'Rango de valores nulos: {range_}')\n",
        "        print(f'Columnas: {columns}')\n",
        "        print()"
      ],
      "metadata": {
        "colab": {
          "base_uri": "https://localhost:8080/"
        },
        "id": "PzddkJHTM4-p",
        "outputId": "537cd99b-28b9-489e-d26b-31cae13dfb25"
      },
      "execution_count": 15,
      "outputs": [
        {
          "output_type": "stream",
          "name": "stdout",
          "text": [
            "Rango de valores nulos: 0-10%\n",
            "Columnas: ['TransactionID', 'isFraud', 'TransactionDT', 'TransactionAmt', 'ProductCD', 'card1', 'card2', 'card3', 'card4', 'card5', 'card6', 'C1', 'C2', 'C3', 'C4', 'C5', 'C6', 'C7', 'C8', 'C9', 'C10', 'C11', 'C12', 'C13', 'C14', 'D1', 'V95', 'V96', 'V97', 'V98', 'V99', 'V100', 'V101', 'V102', 'V103', 'V104', 'V105', 'V106', 'V107', 'V108', 'V109', 'V110', 'V111', 'V112', 'V113', 'V114', 'V115', 'V116', 'V117', 'V118', 'V119', 'V120', 'V121', 'V122', 'V123', 'V124', 'V125', 'V126', 'V127', 'V128', 'V129', 'V130', 'V131', 'V132', 'V133', 'V134', 'V135', 'V136', 'V137', 'V279', 'V280', 'V281', 'V282', 'V283', 'V284', 'V285', 'V286', 'V287', 'V288', 'V289', 'V290', 'V291', 'V292', 'V293', 'V294', 'V295', 'V296', 'V297', 'V298', 'V299', 'V300', 'V301', 'V302', 'V303', 'V304', 'V305', 'V306', 'V307', 'V308', 'V309', 'V310', 'V311', 'V312', 'V313', 'V314', 'V315', 'V316', 'V317', 'V318', 'V319', 'V320', 'V321']\n",
            "\n",
            "Rango de valores nulos: 10-20%\n",
            "Columnas: ['addr1', 'addr2', 'P_emaildomain', 'D10', 'D15', 'V12', 'V13', 'V14', 'V15', 'V16', 'V17', 'V18', 'V19', 'V20', 'V21', 'V22', 'V23', 'V24', 'V25', 'V26', 'V27', 'V28', 'V29', 'V30', 'V31', 'V32', 'V33', 'V34', 'V53', 'V54', 'V55', 'V56', 'V57', 'V58', 'V59', 'V60', 'V61', 'V62', 'V63', 'V64', 'V65', 'V66', 'V67', 'V68', 'V69', 'V70', 'V71', 'V72', 'V73', 'V74', 'V75', 'V76', 'V77', 'V78', 'V79', 'V80', 'V81', 'V82', 'V83', 'V84', 'V85', 'V86', 'V87', 'V88', 'V89', 'V90', 'V91', 'V92', 'V93', 'V94']\n",
            "\n",
            "Rango de valores nulos: 20-30%\n",
            "Columnas: ['D4', 'M6', 'V35', 'V36', 'V37', 'V38', 'V39', 'V40', 'V41', 'V42', 'V43', 'V44', 'V45', 'V46', 'V47', 'V48', 'V49', 'V50', 'V51', 'V52']\n",
            "\n",
            "Rango de valores nulos: 40-50%\n",
            "Columnas: ['D2', 'D3', 'D11', 'M1', 'M2', 'M3', 'M4', 'V1', 'V2', 'V3', 'V4', 'V5', 'V6', 'V7', 'V8', 'V9', 'V10', 'V11']\n",
            "\n",
            "Rango de valores nulos: 50-60%\n",
            "Columnas: ['dist1', 'D5', 'M5', 'M7', 'M8', 'M9']\n",
            "\n",
            "Rango de valores nulos: 70-80%\n",
            "Columnas: ['R_emaildomain', 'V167', 'V168', 'V169', 'V170', 'V171', 'V172', 'V173', 'V174', 'V175', 'V176', 'V177', 'V178', 'V179', 'V180', 'V181', 'V182', 'V183', 'V184', 'V185', 'V186', 'V187', 'V188', 'V189', 'V190', 'V191', 'V192', 'V193', 'V194', 'V195', 'V196', 'V197', 'V198', 'V199', 'V200', 'V201', 'V202', 'V203', 'V204', 'V205', 'V206', 'V207', 'V208', 'V209', 'V210', 'V211', 'V212', 'V213', 'V214', 'V215', 'V216', 'V217', 'V218', 'V219', 'V220', 'V221', 'V222', 'V223', 'V224', 'V225', 'V226', 'V227', 'V228', 'V229', 'V230', 'V231', 'V232', 'V233', 'V234', 'V235', 'V236', 'V237', 'V238', 'V239', 'V240', 'V241', 'V242', 'V243', 'V244', 'V245', 'V246', 'V247', 'V248', 'V249', 'V250', 'V251', 'V252', 'V253', 'V254', 'V255', 'V256', 'V257', 'V258', 'V259', 'V260', 'V261', 'V262', 'V263', 'V264', 'V265', 'V266', 'V267', 'V268', 'V269', 'V270', 'V271', 'V272', 'V273', 'V274', 'V275', 'V276', 'V277', 'V278', 'id_01', 'id_02', 'id_05', 'id_06', 'id_11', 'id_12', 'id_13', 'id_15', 'id_16', 'id_17', 'id_19', 'id_20', 'id_28', 'id_29', 'id_31', 'id_35', 'id_36', 'id_37', 'id_38', 'DeviceType']\n",
            "\n",
            "Rango de valores nulos: 80-90%\n",
            "Columnas: ['D6', 'D8', 'D9', 'D12', 'D13', 'D14', 'V138', 'V139', 'V140', 'V141', 'V142', 'V143', 'V144', 'V145', 'V146', 'V147', 'V148', 'V149', 'V150', 'V151', 'V152', 'V153', 'V154', 'V155', 'V156', 'V157', 'V158', 'V159', 'V160', 'V161', 'V162', 'V163', 'V164', 'V165', 'V166', 'V322', 'V323', 'V324', 'V325', 'V326', 'V327', 'V328', 'V329', 'V330', 'V331', 'V332', 'V333', 'V334', 'V335', 'V336', 'V337', 'V338', 'V339', 'id_03', 'id_04', 'id_09', 'id_10', 'id_14', 'id_30', 'id_32', 'id_33', 'id_34', 'DeviceInfo']\n",
            "\n",
            "Rango de valores nulos: 90-100%\n",
            "Columnas: ['dist2', 'D7', 'id_07', 'id_08', 'id_18', 'id_21', 'id_22', 'id_23', 'id_24', 'id_25', 'id_26', 'id_27']\n",
            "\n"
          ]
        }
      ]
    },
    {
      "cell_type": "code",
      "source": [],
      "metadata": {
        "id": "P_twaQMgMlIk"
      },
      "execution_count": null,
      "outputs": []
    }
  ]
}